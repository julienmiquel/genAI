{
 "cells": [
  {
   "cell_type": "markdown",
   "id": "579aaa05-bef2-414a-8da0-b4824dbcb552",
   "metadata": {},
   "source": [
    "\n",
    "# **Gen** ret<strong><font color=\"red\">AI</font></strong>l\n",
    "\n",
    "Customer search:\n",
    "* I search flower for **weading.**\n",
    "* I search flower for **mother day.**\n",
    "* I search flower for **valentine day.**\n",
    "\n",
    "Company provide:\n",
    "* I found the same product <strong><font color=\"red\">contextualized</font></strong> to my search"
   ]
  },
  {
   "cell_type": "code",
   "execution_count": 1,
   "id": "301178ef-fc45-4f3e-8142-f956c84efb09",
   "metadata": {
    "collapsed": true,
    "jupyter": {
     "outputs_hidden": true
    },
    "tags": []
   },
   "outputs": [
    {
     "name": "stdout",
     "output_type": "stream",
     "text": [
      "\u001b[33mWARNING: Ignoring invalid distribution -dit-py-plugins (/opt/conda/lib/python3.7/site-packages)\u001b[0m\u001b[33m\n",
      "\u001b[0m\u001b[33mWARNING: Ignoring invalid distribution -rotobuf (/opt/conda/lib/python3.7/site-packages)\u001b[0m\u001b[33m\n",
      "\u001b[0mRequirement already satisfied: gradio in /home/jupyter/.local/lib/python3.7/site-packages (3.32.0)\n",
      "Requirement already satisfied: aiofiles in /opt/conda/lib/python3.7/site-packages (from gradio) (23.1.0)\n",
      "Requirement already satisfied: aiohttp in /opt/conda/lib/python3.7/site-packages (from gradio) (3.8.3)\n",
      "Requirement already satisfied: altair>=4.2.0 in /home/jupyter/.local/lib/python3.7/site-packages (from gradio) (4.2.2)\n",
      "Requirement already satisfied: fastapi in /opt/conda/lib/python3.7/site-packages (from gradio) (0.95.1)\n",
      "Requirement already satisfied: ffmpy in /opt/conda/lib/python3.7/site-packages (from gradio) (0.3.0)\n",
      "Requirement already satisfied: gradio-client>=0.2.4 in /opt/conda/lib/python3.7/site-packages (from gradio) (0.2.5)\n",
      "Requirement already satisfied: httpx in /home/jupyter/.local/lib/python3.7/site-packages (from gradio) (0.24.0)\n",
      "Requirement already satisfied: huggingface-hub>=0.13.0 in /home/jupyter/.local/lib/python3.7/site-packages (from gradio) (0.13.4)\n",
      "Requirement already satisfied: jinja2 in /opt/conda/lib/python3.7/site-packages (from gradio) (3.1.2)\n",
      "Requirement already satisfied: markdown-it-py[linkify]>=2.0.0 in /opt/conda/lib/python3.7/site-packages (from gradio) (2.2.0)\n",
      "Requirement already satisfied: markupsafe in /opt/conda/lib/python3.7/site-packages (from gradio) (2.0.1)\n",
      "Requirement already satisfied: matplotlib in /opt/conda/lib/python3.7/site-packages (from gradio) (3.5.3)\n",
      "Requirement already satisfied: mdit-py-plugins<=0.3.3 in /opt/conda/lib/python3.7/site-packages (from gradio) (0.3.3)\n",
      "Requirement already satisfied: numpy in /opt/conda/lib/python3.7/site-packages (from gradio) (1.21.6)\n",
      "Requirement already satisfied: orjson in /opt/conda/lib/python3.7/site-packages (from gradio) (3.8.11)\n",
      "Requirement already satisfied: pandas in /opt/conda/lib/python3.7/site-packages (from gradio) (1.3.5)\n",
      "Requirement already satisfied: pillow in /opt/conda/lib/python3.7/site-packages (from gradio) (9.5.0)\n",
      "Requirement already satisfied: pydantic in /opt/conda/lib/python3.7/site-packages (from gradio) (1.10.7)\n",
      "Requirement already satisfied: pydub in /opt/conda/lib/python3.7/site-packages (from gradio) (0.25.1)\n",
      "Requirement already satisfied: pygments>=2.12.0 in /opt/conda/lib/python3.7/site-packages (from gradio) (2.15.1)\n",
      "Requirement already satisfied: python-multipart in /opt/conda/lib/python3.7/site-packages (from gradio) (0.0.6)\n",
      "Requirement already satisfied: pyyaml in /opt/conda/lib/python3.7/site-packages (from gradio) (6.0)\n",
      "Requirement already satisfied: requests in /opt/conda/lib/python3.7/site-packages (from gradio) (2.28.2)\n",
      "Requirement already satisfied: semantic-version in /opt/conda/lib/python3.7/site-packages (from gradio) (2.10.0)\n",
      "Requirement already satisfied: typing-extensions in /opt/conda/lib/python3.7/site-packages (from gradio) (4.5.0)\n",
      "Requirement already satisfied: uvicorn>=0.14.0 in /opt/conda/lib/python3.7/site-packages (from gradio) (0.22.0)\n",
      "Requirement already satisfied: websockets>=10.0 in /home/jupyter/.local/lib/python3.7/site-packages (from gradio) (11.0.1)\n",
      "Requirement already satisfied: entrypoints in /opt/conda/lib/python3.7/site-packages (from altair>=4.2.0->gradio) (0.4)\n",
      "Requirement already satisfied: jsonschema>=3.0 in /opt/conda/lib/python3.7/site-packages (from altair>=4.2.0->gradio) (4.17.3)\n",
      "Requirement already satisfied: toolz in /opt/conda/lib/python3.7/site-packages (from altair>=4.2.0->gradio) (0.12.0)\n",
      "Requirement already satisfied: fsspec in /opt/conda/lib/python3.7/site-packages (from gradio-client>=0.2.4->gradio) (2023.1.0)\n",
      "Requirement already satisfied: packaging in /home/jupyter/.local/lib/python3.7/site-packages (from gradio-client>=0.2.4->gradio) (21.3)\n",
      "Requirement already satisfied: filelock in /opt/conda/lib/python3.7/site-packages (from huggingface-hub>=0.13.0->gradio) (3.12.0)\n",
      "Requirement already satisfied: tqdm>=4.42.1 in /opt/conda/lib/python3.7/site-packages (from huggingface-hub>=0.13.0->gradio) (4.64.1)\n",
      "Requirement already satisfied: importlib-metadata in /opt/conda/lib/python3.7/site-packages (from huggingface-hub>=0.13.0->gradio) (4.11.4)\n",
      "Requirement already satisfied: mdurl~=0.1 in /opt/conda/lib/python3.7/site-packages (from markdown-it-py[linkify]>=2.0.0->gradio) (0.1.2)\n",
      "Requirement already satisfied: linkify-it-py<3,>=1 in /home/jupyter/.local/lib/python3.7/site-packages (from markdown-it-py[linkify]>=2.0.0->gradio) (2.0.0)\n",
      "Requirement already satisfied: python-dateutil>=2.7.3 in /opt/conda/lib/python3.7/site-packages (from pandas->gradio) (2.8.2)\n",
      "Requirement already satisfied: pytz>=2017.3 in /opt/conda/lib/python3.7/site-packages (from pandas->gradio) (2023.3)\n",
      "Requirement already satisfied: click>=7.0 in /opt/conda/lib/python3.7/site-packages (from uvicorn>=0.14.0->gradio) (8.1.3)\n",
      "Requirement already satisfied: h11>=0.8 in /opt/conda/lib/python3.7/site-packages (from uvicorn>=0.14.0->gradio) (0.14.0)\n",
      "Requirement already satisfied: attrs>=17.3.0 in /opt/conda/lib/python3.7/site-packages (from aiohttp->gradio) (22.2.0)\n",
      "Requirement already satisfied: charset-normalizer<3.0,>=2.0 in /opt/conda/lib/python3.7/site-packages (from aiohttp->gradio) (2.1.1)\n",
      "Requirement already satisfied: multidict<7.0,>=4.5 in /opt/conda/lib/python3.7/site-packages (from aiohttp->gradio) (6.0.2)\n",
      "Requirement already satisfied: async-timeout<5.0,>=4.0.0a3 in /opt/conda/lib/python3.7/site-packages (from aiohttp->gradio) (4.0.2)\n",
      "Requirement already satisfied: yarl<2.0,>=1.0 in /opt/conda/lib/python3.7/site-packages (from aiohttp->gradio) (1.7.2)\n",
      "Requirement already satisfied: frozenlist>=1.1.1 in /opt/conda/lib/python3.7/site-packages (from aiohttp->gradio) (1.3.1)\n",
      "Requirement already satisfied: aiosignal>=1.1.2 in /opt/conda/lib/python3.7/site-packages (from aiohttp->gradio) (1.3.1)\n",
      "Requirement already satisfied: asynctest==0.13.0 in /opt/conda/lib/python3.7/site-packages (from aiohttp->gradio) (0.13.0)\n",
      "Requirement already satisfied: starlette<0.27.0,>=0.26.1 in /opt/conda/lib/python3.7/site-packages (from fastapi->gradio) (0.26.1)\n",
      "Requirement already satisfied: certifi in /opt/conda/lib/python3.7/site-packages (from httpx->gradio) (2022.12.7)\n",
      "Requirement already satisfied: httpcore<0.18.0,>=0.15.0 in /home/jupyter/.local/lib/python3.7/site-packages (from httpx->gradio) (0.17.0)\n",
      "Requirement already satisfied: idna in /opt/conda/lib/python3.7/site-packages (from httpx->gradio) (3.4)\n",
      "Requirement already satisfied: sniffio in /opt/conda/lib/python3.7/site-packages (from httpx->gradio) (1.3.0)\n",
      "Requirement already satisfied: cycler>=0.10 in /opt/conda/lib/python3.7/site-packages (from matplotlib->gradio) (0.11.0)\n",
      "Requirement already satisfied: fonttools>=4.22.0 in /opt/conda/lib/python3.7/site-packages (from matplotlib->gradio) (4.38.0)\n",
      "Requirement already satisfied: kiwisolver>=1.0.1 in /opt/conda/lib/python3.7/site-packages (from matplotlib->gradio) (1.4.4)\n",
      "Requirement already satisfied: pyparsing>=2.2.1 in /opt/conda/lib/python3.7/site-packages (from matplotlib->gradio) (3.0.9)\n",
      "Requirement already satisfied: urllib3<1.27,>=1.21.1 in /opt/conda/lib/python3.7/site-packages (from requests->gradio) (1.26.15)\n",
      "Requirement already satisfied: anyio<5.0,>=3.0 in /opt/conda/lib/python3.7/site-packages (from httpcore<0.18.0,>=0.15.0->httpx->gradio) (3.6.2)\n",
      "Requirement already satisfied: importlib-resources>=1.4.0 in /opt/conda/lib/python3.7/site-packages (from jsonschema>=3.0->altair>=4.2.0->gradio) (5.12.0)\n",
      "Requirement already satisfied: pkgutil-resolve-name>=1.3.10 in /opt/conda/lib/python3.7/site-packages (from jsonschema>=3.0->altair>=4.2.0->gradio) (1.3.10)\n",
      "Requirement already satisfied: pyrsistent!=0.17.0,!=0.17.1,!=0.17.2,>=0.14.0 in /opt/conda/lib/python3.7/site-packages (from jsonschema>=3.0->altair>=4.2.0->gradio) (0.18.1)\n",
      "Requirement already satisfied: uc-micro-py in /opt/conda/lib/python3.7/site-packages (from linkify-it-py<3,>=1->markdown-it-py[linkify]>=2.0.0->gradio) (1.0.2)\n",
      "Requirement already satisfied: six>=1.5 in /opt/conda/lib/python3.7/site-packages (from python-dateutil>=2.7.3->pandas->gradio) (1.16.0)\n",
      "Requirement already satisfied: zipp>=0.5 in /opt/conda/lib/python3.7/site-packages (from importlib-metadata->huggingface-hub>=0.13.0->gradio) (3.15.0)\n",
      "\u001b[33mWARNING: Ignoring invalid distribution -dit-py-plugins (/opt/conda/lib/python3.7/site-packages)\u001b[0m\u001b[33m\n",
      "\u001b[0m\u001b[33mWARNING: Ignoring invalid distribution -rotobuf (/opt/conda/lib/python3.7/site-packages)\u001b[0m\u001b[33m\n",
      "\u001b[0mNote: you may need to restart the kernel to use updated packages.\n"
     ]
    }
   ],
   "source": [
    "%pip install --user --upgrade gradio"
   ]
  },
  {
   "cell_type": "markdown",
   "id": "c88f0a08",
   "metadata": {},
   "source": [
    "# Init project"
   ]
  },
  {
   "cell_type": "code",
   "execution_count": 5,
   "id": "28756a0e",
   "metadata": {},
   "outputs": [],
   "source": [
    "# init the google cloud project id\n",
    "\n",
    "def init_gcloud_(project_id = \"ucs-fishfood-8\"):\n",
    "    \"\"\"\n",
    "    Initialize the google cloud project id.\n",
    "    \"\"\"\n",
    "    # [START gae_python37_app_init_gcloud]\n",
    "    !gcloud config set project $project_id\n",
    "\n",
    "def init_project_genappbuilder():\n",
    "    \"\"\"\n",
    "    Initialize the google cloud project id.\n",
    "    \"\"\"\n",
    "    init_gcloud_(project_id = \"ucs-fishfood-8\")\n",
    "\n",
    "\n",
    "def init_project_images():\n",
    "    \"\"\"\n",
    "    Initialize the google cloud project id.\n",
    "    \"\"\"\n",
    "    init_gcloud_(project_id = \"cloud-llm-preview4\")\n",
    "\n",
    "\n",
    "def init_project_workstations():\n",
    "    \"\"\"\n",
    "    Initialize the google cloud project id.\n",
    "    \"\"\"\n",
    "    init_gcloud_(project_id = \"cloud-workstations-demo-2\")\n",
    "\n",
    "def init_project_ml_api():\n",
    "    \"\"\"\n",
    "    Initialize the google cloud project id.\n",
    "    \"\"\"\n",
    "    init_gcloud_(project_id = \"google.com:ml-baguette-demos\")\n",
    "\n",
    "    "
   ]
  },
  {
   "cell_type": "raw",
   "id": "16371351-7b01-45fc-97ac-68c90303fc6f",
   "metadata": {},
   "source": [
    "#write function to curl to get the data from the API\n",
    "\n",
    "import requests\n",
    "import json \n",
    "\n",
    "def genAppBuilder_old(search):\n",
    "    init_project_genappbuilder()\n",
    "    data =json.dumps( { \"query\": search, \"page_size\": \"5\", \"offset\": 0 } )\n",
    "\n",
    "    url =\"https://discoveryengine.googleapis.com/v1alpha/projects/210552312048/locations/global/collections/default_collection/dataStores/interflora_website/servingConfigs/default_search:search\" \n",
    "    #print( data)\n",
    "\n",
    "    bearer = !(gcloud auth print-access-token)\n",
    "    print(bearer[0])\n",
    "    d = \"'{}'\".format(data)\n",
    "    print(d)\n",
    "\n",
    "    headers = {\n",
    "        'Authorization': \"Bearer \" + bearer[0],\n",
    "        'Content-Type': 'application/json'\n",
    "    }\n",
    "    print(headers)\n",
    "\n",
    "    response = requests.post(url, headers=headers, data=d)\n",
    "\n",
    "    print (response)\n",
    "\n",
    "    return response\n",
    "    data = response.json()\n",
    "    return data\n",
    "\n"
   ]
  },
  {
   "cell_type": "markdown",
   "id": "b521a34b",
   "metadata": {},
   "source": []
  },
  {
   "cell_type": "code",
   "execution_count": null,
   "id": "b569f6f0",
   "metadata": {},
   "outputs": [],
   "source": []
  },
  {
   "cell_type": "markdown",
   "id": "8665d051",
   "metadata": {},
   "source": [
    "# Gen App builder code to search product on website"
   ]
  },
  {
   "cell_type": "code",
   "execution_count": 6,
   "id": "01e6dd21",
   "metadata": {},
   "outputs": [
    {
     "name": "stdout",
     "output_type": "stream",
     "text": [
      "\u001b[1;33mWARNING:\u001b[0m You do not appear to have access to project [ucs-fishfood-8] or it does not exist.\n",
      "Are you sure you wish to set property [core/project] to ucs-fishfood-8?\n",
      "\n",
      "Do you want to continue (Y/n)?  ^C\n",
      "\n",
      "\n",
      "Command killed by keyboard interrupt\n",
      "\n",
      "An error occured calling the API.\n",
      "1. Check if response was not blocked based on policy violation, check if the UI behaves the same way...\n",
      "2. Try a different prompt to see if that was the problem.\n",
      "\n",
      "{\n",
      "  \"error\": {\n",
      "    \"code\": 403,\n",
      "    \"message\": \"Permission 'discoveryengine.servingConfigs.search' denied on resource '//discoveryengine.googleapis.com/projects/210552312048/locations/global/collections/default_collection/dataStores/interflora_website/servingConfigs/default_search' (or it may not exist).\",\n",
      "    \"status\": \"PERMISSION_DENIED\",\n",
      "    \"details\": [\n",
      "      {\n",
      "        \"@type\": \"type.googleapis.com/google.rpc.ErrorInfo\",\n",
      "        \"reason\": \"IAM_PERMISSION_DENIED\",\n",
      "        \"domain\": \"discoveryengine.googleapis.com\",\n",
      "        \"metadata\": {\n",
      "          \"resource\": \"projects/210552312048/locations/global/collections/default_collection/dataStores/interflora_website/servingConfigs/default_search\",\n",
      "          \"permission\": \"discoveryengine.servingConfigs.search\"\n",
      "        }\n",
      "      }\n",
      "    ]\n",
      "  }\n",
      "}\n",
      "\n",
      "Title:  \n",
      "Link:  \n",
      "Description:  \n",
      "Snippet:  \n"
     ]
    }
   ],
   "source": [
    "import requests\n",
    "import json\n",
    "import time\n",
    "\n",
    "def genAppBuilder(query ):\n",
    "    init_project_genappbuilder()\n",
    "\n",
    "    gcloud_token = !gcloud auth print-access-token\n",
    "    gcloud_tokeninfo = requests.get('https://www.googleapis.com/oauth2/v3/tokeninfo?access_token=' + gcloud_token[0]).json()\n",
    "\n",
    "    ACCESS_TOKEN = gcloud_token[0]\n",
    "    headers = {\n",
    "        'Authorization': f'Bearer {ACCESS_TOKEN}',\n",
    "        'Content-Type': 'application/json; charset=UTF-8'\n",
    "    }\n",
    "    \n",
    "    data = {\"query\": query, \"page_size\": \"5\", \"offset\": 0 }\n",
    "    \n",
    "    #print(data)\n",
    "    url = \"https://discoveryengine.googleapis.com/v1alpha/projects/210552312048/locations/global/collections/default_collection/dataStores/interflora_website/servingConfigs/default_search:search\" \n",
    "    response = requests.post(url, data=json.dumps(data), headers=headers)\n",
    "    \n",
    "    #print(response)\n",
    "    json_response = json.loads(response.text)\n",
    "    #print(json_response)\n",
    "    \n",
    "    title, link, snippet, description = \"\", \"\", \"\", \"\"\n",
    "    try:\n",
    "      predictions = json_response['results']\n",
    "      \n",
    "      link = predictions[0][\"document\"][\"derivedStructData\"][\"link\"]\n",
    "      title = predictions[0][\"document\"][\"derivedStructData\"][\"title\"]\n",
    "      snippet = predictions[0][\"document\"][\"derivedStructData\"][\"snippets\"][0]['snippet']\n",
    "      description = predictions[0][\"document\"][\"derivedStructData\"]['pagemap']['metatags'][0][\"twitter:description\"]\n",
    "\n",
    "\n",
    "    except:\n",
    "      print(\"An error occured calling the API.\")\n",
    "      print(\"1. Check if response was not blocked based on policy violation, check if the UI behaves the same way...\")\n",
    "      print(\"2. Try a different prompt to see if that was the problem.\\n\")\n",
    "      print(response.text)\n",
    "      # print(dir(response))\n",
    "\n",
    "    return title, link, snippet, description\n",
    "    \n",
    "\n",
    "\n",
    "title, link, snippet, description = genAppBuilder(\"fleur de mariage\")\n",
    "print(\"Title: \", title)\n",
    "print(\"Link: \", link)\n",
    "print(\"Description: \", description)\n",
    "print(\"Snippet: \", snippet)\n",
    "\n"
   ]
  },
  {
   "cell_type": "raw",
   "id": "d3c6ff65-8dfd-4b9c-bb80-a6ce9689a21f",
   "metadata": {},
   "source": [
    "def genAppBuilder_curl(query = \"fleur pour un mariage\"):\n",
    "\n",
    "\n",
    "    data = '{ \"query\": \"{query}\", \"page_size\": \"5\", \"offset\": 0 }'\n",
    "\n",
    "    results = !curl -X POST -H \"Authorization: Bearer $(gcloud auth print-access-token)\" \\\n",
    "    -H \"Content-Type: application/json\" \\\n",
    "    \"https://discoveryengine.googleapis.com/v1alpha/projects/210552312048/locations/global/collections/default_collection/dataStores/interflora_website/servingConfigs/default_search:search\" \\\n",
    "    -d '{data}'\n",
    "\n",
    "    return results\n",
    "\n"
   ]
  },
  {
   "cell_type": "code",
   "execution_count": null,
   "id": "bc7f7983",
   "metadata": {},
   "outputs": [],
   "source": []
  },
  {
   "cell_type": "markdown",
   "id": "9ea0435b-9268-4d72-b0c6-43fa3a138112",
   "metadata": {},
   "source": [
    "# gradio interface used by the demo"
   ]
  },
  {
   "cell_type": "code",
   "execution_count": 2,
   "id": "3d73e012",
   "metadata": {},
   "outputs": [
    {
     "name": "stdout",
     "output_type": "stream",
     "text": [
      "Running on local URL:  http://127.0.0.1:7864\n",
      "Running on public URL: https://300de4f7485346588a.gradio.live\n",
      "\n",
      "This share link expires in 72 hours. For free permanent hosting and GPU upgrades (NEW!), check out Spaces: https://huggingface.co/spaces\n"
     ]
    },
    {
     "data": {
      "text/html": [
       "<div><iframe src=\"https://300de4f7485346588a.gradio.live\" width=\"100%\" height=\"500\" allow=\"autoplay; camera; microphone; clipboard-read; clipboard-write;\" frameborder=\"0\" allowfullscreen></iframe></div>"
      ],
      "text/plain": [
       "<IPython.core.display.HTML object>"
      ]
     },
     "metadata": {},
     "output_type": "display_data"
    },
    {
     "name": "stderr",
     "output_type": "stream",
     "text": [
      "Traceback (most recent call last):\n",
      "  File \"/home/jupyter/.local/lib/python3.7/site-packages/gradio/routes.py\", line 429, in run_predict\n",
      "    event_data=event_data,\n",
      "  File \"/home/jupyter/.local/lib/python3.7/site-packages/gradio/blocks.py\", line 1324, in process_api\n",
      "    fn_index, inputs, iterator, request, event_id, event_data\n",
      "  File \"/home/jupyter/.local/lib/python3.7/site-packages/gradio/blocks.py\", line 1052, in call_function\n",
      "    fn, *processed_input, limiter=self.limiter\n",
      "  File \"/opt/conda/lib/python3.7/site-packages/anyio/to_thread.py\", line 32, in run_sync\n",
      "    func, *args, cancellable=cancellable, limiter=limiter\n",
      "  File \"/opt/conda/lib/python3.7/site-packages/anyio/_backends/_asyncio.py\", line 937, in run_sync_in_worker_thread\n",
      "    return await future\n",
      "  File \"/opt/conda/lib/python3.7/site-packages/anyio/_backends/_asyncio.py\", line 867, in run\n",
      "    result = context.run(func, *args)\n",
      "  File \"/var/tmp/ipykernel_30026/3387079412.py\", line 4, in process\n",
      "    return genAppBuilder(query)\n",
      "NameError: name 'genAppBuilder' is not defined\n"
     ]
    },
    {
     "name": "stdout",
     "output_type": "stream",
     "text": [
      "Keyboard interruption in main thread... closing server.\n",
      "Killing tunnel 127.0.0.1:7864 <> https://300de4f7485346588a.gradio.live\n"
     ]
    },
    {
     "data": {
      "text/plain": []
     },
     "execution_count": 2,
     "metadata": {},
     "output_type": "execute_result"
    }
   ],
   "source": [
    "import gradio as gr\n",
    "\n",
    "def process(query):\n",
    "    return genAppBuilder(query)\n",
    "\n",
    "import gradio as gr\n",
    "\n",
    "theme = gr.themes.Soft()\n",
    "\n",
    "with gr.Blocks(theme=theme) as demo:  \n",
    "    with gr.Row():\n",
    "        with gr.Column():\n",
    "            query = gr.Textbox(label=\"query\")\n",
    "            greet_btn = gr.Button(\"search\")\n",
    "        with gr.Column():    \n",
    "            title = gr.Textbox(label=\"Title\")\n",
    "            link = gr.Textbox(label=\"Link\")\n",
    "            snippet = gr.Textbox(label=\"Snippet\")\n",
    "            description = gr.Textbox(label=\"Description\")\n",
    "\n",
    "\n",
    "\n",
    "    greet_btn.click(fn=process, inputs=query, outputs=[title, link, snippet, description])\n",
    "\n",
    "demo.launch(debug=True, share=True)\n"
   ]
  },
  {
   "cell_type": "code",
   "execution_count": null,
   "id": "222d7f4d",
   "metadata": {},
   "outputs": [],
   "source": []
  },
  {
   "cell_type": "markdown",
   "id": "4837996c",
   "metadata": {},
   "source": []
  },
  {
   "cell_type": "markdown",
   "id": "e18b6058-f39d-47c4-a194-a95d1ca1cc5f",
   "metadata": {},
   "source": [
    "# example d'utilisation de l'api"
   ]
  },
  {
   "cell_type": "code",
   "execution_count": null,
   "id": "02b6774f-09c8-4d62-9c85-6d5dcabb6b9f",
   "metadata": {},
   "outputs": [],
   "source": [
    "from gradio_client import Client\n",
    "\n",
    "client_genappbuilder = Client(\"https://df5429029f7447730a.gradio.live\")\n",
    "\n",
    "client_genappbuilder.view_api()\n",
    "\n",
    "client_genappbuilder.predict(\"fleur\",  fn_index=0)\n",
    "\n"
   ]
  },
  {
   "cell_type": "code",
   "execution_count": null,
   "id": "12153244-b661-4289-b6c9-f08e013ba65b",
   "metadata": {},
   "outputs": [],
   "source": []
  }
 ],
 "metadata": {
  "environment": {
   "kernel": "python3",
   "name": "tf2-gpu.2-11.m108",
   "type": "gcloud",
   "uri": "gcr.io/deeplearning-platform-release/tf2-gpu.2-11:m108"
  },
  "kernelspec": {
   "display_name": "Python 3 (ipykernel)",
   "language": "python",
   "name": "python3"
  },
  "language_info": {
   "codemirror_mode": {
    "name": "ipython",
    "version": 3
   },
   "file_extension": ".py",
   "mimetype": "text/x-python",
   "name": "python",
   "nbconvert_exporter": "python",
   "pygments_lexer": "ipython3",
   "version": "3.7.12"
  }
 },
 "nbformat": 4,
 "nbformat_minor": 5
}
