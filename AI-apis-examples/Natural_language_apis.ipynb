{
 "cells": [
  {
   "cell_type": "code",
   "execution_count": 1,
   "metadata": {
    "colab": {
     "base_uri": "https://localhost:8080/"
    },
    "id": "1WajvwFgYs57",
    "outputId": "f7cd7921-6356-4c44-df4a-dfbf2f90c975"
   },
   "outputs": [
    {
     "name": "stdout",
     "output_type": "stream",
     "text": [
      "Updated property [core/project].\n"
     ]
    }
   ],
   "source": [
    "PROJECT_ID = \"your-project-id\"  # @param {type:\"string\"}\n",
    "\n",
    "!gcloud config set project $PROJECT_ID\n"
   ]
  },
  {
   "cell_type": "code",
   "execution_count": 2,
   "metadata": {
    "id": "Cew67AKTZLwB"
   },
   "outputs": [],
   "source": [
    "!gcloud services enable language.googleapis.com"
   ]
  },
  {
   "cell_type": "code",
   "execution_count": null,
   "metadata": {
    "colab": {
     "base_uri": "https://localhost:8080/",
     "height": 1000
    },
    "id": "izQa2vHQTdPV",
    "outputId": "bc0d6309-66b1-45e0-9a23-4f0eb509168d"
   },
   "outputs": [],
   "source": [
    "!pip install ipython pandas tabulate google-cloud-language==2.11.0 google-cloud-aiplatform[preview]\n"
   ]
  },
  {
   "cell_type": "code",
   "execution_count": null,
   "metadata": {
    "id": "1lPp6iq5Xb0n"
   },
   "outputs": [],
   "source": [
    "#from google.colab import auth as google_auth\n",
    "#google_auth.authenticate_user()"
   ]
  },
  {
   "cell_type": "code",
   "execution_count": null,
   "metadata": {
    "id": "sLfZyvzDXgIt"
   },
   "outputs": [],
   "source": [
    "import vertexai\n",
    "\n",
    "vertexai.init(project=PROJECT_ID, location=\"us-central1\")"
   ]
  },
  {
   "cell_type": "code",
   "execution_count": 7,
   "metadata": {
    "id": "iwh4oWE0TcUB"
   },
   "outputs": [],
   "source": [
    "from google.cloud import language_v1  as language\n",
    "\n",
    "def moderate_text(text: str) -> language.ModerateTextResponse:\n",
    "\n",
    "    client = language.LanguageServiceClient()\n",
    "    document = language.Document(\n",
    "        content=text,\n",
    "        type_=language.Document.Type.PLAIN_TEXT,\n",
    "    )\n",
    "\n",
    "    return client.moderate_text(document=document)\n",
    "\n",
    "def show_text_moderation(text: str, response: language.ModerateTextResponse):\n",
    "    import pandas as pd\n",
    "\n",
    "    def confidence(category: language.ClassificationCategory) -> float:\n",
    "        return category.confidence\n",
    "\n",
    "    columns = [\"category\", \"confidence\"]\n",
    "    categories = sorted(response.moderation_categories, key=confidence, reverse=True)\n",
    "    data = ((category.name, category.confidence) for category in categories)\n",
    "    df = pd.DataFrame(columns=columns, data=data)\n",
    "\n",
    "    print(f\"Text analyzed:\\n{text}\")\n",
    "    print(df.to_markdown(index=False, tablefmt=\"presto\", floatfmt=\".0%\"))"
   ]
  },
  {
   "cell_type": "code",
   "execution_count": 8,
   "metadata": {},
   "outputs": [
    {
     "name": "stdout",
     "output_type": "stream",
     "text": [
      "Text analyzed:\n",
      "I have to read Ulysses by James Joyce.\n",
      "I'm a little over halfway through and I hate it.\n",
      "What a pile of garbage!\n",
      "\n",
      " category              |   confidence\n",
      "-----------------------+--------------\n",
      " Toxic                 |          67%\n",
      " Insult                |          58%\n",
      " Profanity             |          53%\n",
      " Violent               |          48%\n",
      " Illicit Drugs         |          29%\n",
      " Religion & Belief     |          27%\n",
      " Politics              |          22%\n",
      " Death, Harm & Tragedy |          21%\n",
      " Finance               |          18%\n",
      " Derogatory            |          14%\n",
      " Firearms & Weapons    |          11%\n",
      " Health                |          10%\n",
      " Legal                 |          10%\n",
      " War & Conflict        |           7%\n",
      " Public Safety         |           5%\n",
      " Sexual                |           4%\n"
     ]
    }
   ],
   "source": [
    "# Input\n",
    "text = \"\"\"I have to read Ulysses by James Joyce.\n",
    "I'm a little over halfway through and I hate it.\n",
    "What a pile of garbage!\n",
    "\"\"\"\n",
    "\n",
    "# Send a request to the API\n",
    "response = moderate_text(text)\n",
    "\n",
    "# Show the results\n",
    "show_text_moderation(text, response)"
   ]
  },
  {
   "cell_type": "code",
   "execution_count": null,
   "metadata": {
    "colab": {
     "base_uri": "https://localhost:8080/",
     "height": 332
    },
    "id": "74VOJ7QeTs2w",
    "outputId": "504e36e2-dd61-4610-b26e-72fb554e4546"
   },
   "outputs": [],
   "source": []
  },
  {
   "cell_type": "code",
   "execution_count": null,
   "metadata": {
    "id": "0biB06VOV0jc"
   },
   "outputs": [],
   "source": []
  }
 ],
 "metadata": {
  "colab": {
   "provenance": []
  },
  "environment": {
   "kernel": "python3",
   "name": "common-cpu.m109",
   "type": "gcloud",
   "uri": "gcr.io/deeplearning-platform-release/base-cpu:m109"
  },
  "kernelspec": {
   "display_name": "Python 3",
   "language": "python",
   "name": "python3"
  },
  "language_info": {
   "codemirror_mode": {
    "name": "ipython",
    "version": 3
   },
   "file_extension": ".py",
   "mimetype": "text/x-python",
   "name": "python",
   "nbconvert_exporter": "python",
   "pygments_lexer": "ipython3",
   "version": "3.10.11"
  }
 },
 "nbformat": 4,
 "nbformat_minor": 4
}
