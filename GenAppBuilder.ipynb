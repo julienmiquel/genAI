{
 "cells": [
  {
   "cell_type": "markdown",
   "id": "579aaa05-bef2-414a-8da0-b4824dbcb552",
   "metadata": {},
   "source": [
    "\n",
    "# **Gen** ret<strong><font color=\"red\">AI</font></strong>l\n",
    "\n",
    "Customer search:\n",
    "* I search flower for **weading.**\n",
    "* I search flower for **mother day.**\n",
    "* I search flower for **valentine day.**\n",
    "\n",
    "Company provide:\n",
    "* I found the same product <strong><font color=\"red\">contextualized</font></strong> to my search"
   ]
  },
  {
   "cell_type": "code",
   "execution_count": 1,
   "id": "301178ef-fc45-4f3e-8142-f956c84efb09",
   "metadata": {
    "collapsed": true,
    "jupyter": {
     "outputs_hidden": true
    },
    "tags": []
   },
   "outputs": [
    {
     "name": "stdout",
     "output_type": "stream",
     "text": [
      "\u001b[33mWARNING: Ignoring invalid distribution -dit-py-plugins (/opt/conda/lib/python3.7/site-packages)\u001b[0m\u001b[33m\n",
      "\u001b[0m\u001b[33mWARNING: Ignoring invalid distribution -rotobuf (/opt/conda/lib/python3.7/site-packages)\u001b[0m\u001b[33m\n",
      "\u001b[0mRequirement already satisfied: gradio in /home/jupyter/.local/lib/python3.7/site-packages (3.32.0)\n",
      "Requirement already satisfied: aiofiles in /opt/conda/lib/python3.7/site-packages (from gradio) (23.1.0)\n",
      "Requirement already satisfied: aiohttp in /opt/conda/lib/python3.7/site-packages (from gradio) (3.8.3)\n",
      "Requirement already satisfied: altair>=4.2.0 in /home/jupyter/.local/lib/python3.7/site-packages (from gradio) (4.2.2)\n",
      "Requirement already satisfied: fastapi in /opt/conda/lib/python3.7/site-packages (from gradio) (0.95.1)\n",
      "Requirement already satisfied: ffmpy in /opt/conda/lib/python3.7/site-packages (from gradio) (0.3.0)\n",
      "Requirement already satisfied: gradio-client>=0.2.4 in /opt/conda/lib/python3.7/site-packages (from gradio) (0.2.5)\n",
      "Requirement already satisfied: httpx in /home/jupyter/.local/lib/python3.7/site-packages (from gradio) (0.24.0)\n",
      "Requirement already satisfied: huggingface-hub>=0.13.0 in /home/jupyter/.local/lib/python3.7/site-packages (from gradio) (0.13.4)\n",
      "Requirement already satisfied: jinja2 in /opt/conda/lib/python3.7/site-packages (from gradio) (3.1.2)\n",
      "Requirement already satisfied: markdown-it-py[linkify]>=2.0.0 in /opt/conda/lib/python3.7/site-packages (from gradio) (2.2.0)\n",
      "Requirement already satisfied: markupsafe in /opt/conda/lib/python3.7/site-packages (from gradio) (2.0.1)\n",
      "Requirement already satisfied: matplotlib in /opt/conda/lib/python3.7/site-packages (from gradio) (3.5.3)\n",
      "Requirement already satisfied: mdit-py-plugins<=0.3.3 in /opt/conda/lib/python3.7/site-packages (from gradio) (0.3.3)\n",
      "Requirement already satisfied: numpy in /opt/conda/lib/python3.7/site-packages (from gradio) (1.21.6)\n",
      "Requirement already satisfied: orjson in /opt/conda/lib/python3.7/site-packages (from gradio) (3.8.11)\n",
      "Requirement already satisfied: pandas in /opt/conda/lib/python3.7/site-packages (from gradio) (1.3.5)\n",
      "Requirement already satisfied: pillow in /opt/conda/lib/python3.7/site-packages (from gradio) (9.5.0)\n",
      "Requirement already satisfied: pydantic in /opt/conda/lib/python3.7/site-packages (from gradio) (1.10.7)\n",
      "Requirement already satisfied: pydub in /opt/conda/lib/python3.7/site-packages (from gradio) (0.25.1)\n",
      "Requirement already satisfied: pygments>=2.12.0 in /opt/conda/lib/python3.7/site-packages (from gradio) (2.15.1)\n",
      "Requirement already satisfied: python-multipart in /opt/conda/lib/python3.7/site-packages (from gradio) (0.0.6)\n",
      "Requirement already satisfied: pyyaml in /opt/conda/lib/python3.7/site-packages (from gradio) (6.0)\n",
      "Requirement already satisfied: requests in /opt/conda/lib/python3.7/site-packages (from gradio) (2.28.2)\n",
      "Requirement already satisfied: semantic-version in /opt/conda/lib/python3.7/site-packages (from gradio) (2.10.0)\n",
      "Requirement already satisfied: typing-extensions in /opt/conda/lib/python3.7/site-packages (from gradio) (4.5.0)\n",
      "Requirement already satisfied: uvicorn>=0.14.0 in /opt/conda/lib/python3.7/site-packages (from gradio) (0.22.0)\n",
      "Requirement already satisfied: websockets>=10.0 in /home/jupyter/.local/lib/python3.7/site-packages (from gradio) (11.0.1)\n",
      "Requirement already satisfied: entrypoints in /opt/conda/lib/python3.7/site-packages (from altair>=4.2.0->gradio) (0.4)\n",
      "Requirement already satisfied: jsonschema>=3.0 in /opt/conda/lib/python3.7/site-packages (from altair>=4.2.0->gradio) (4.17.3)\n",
      "Requirement already satisfied: toolz in /opt/conda/lib/python3.7/site-packages (from altair>=4.2.0->gradio) (0.12.0)\n",
      "Requirement already satisfied: fsspec in /opt/conda/lib/python3.7/site-packages (from gradio-client>=0.2.4->gradio) (2023.1.0)\n",
      "Requirement already satisfied: packaging in /home/jupyter/.local/lib/python3.7/site-packages (from gradio-client>=0.2.4->gradio) (21.3)\n",
      "Requirement already satisfied: filelock in /opt/conda/lib/python3.7/site-packages (from huggingface-hub>=0.13.0->gradio) (3.12.0)\n",
      "Requirement already satisfied: tqdm>=4.42.1 in /opt/conda/lib/python3.7/site-packages (from huggingface-hub>=0.13.0->gradio) (4.64.1)\n",
      "Requirement already satisfied: importlib-metadata in /opt/conda/lib/python3.7/site-packages (from huggingface-hub>=0.13.0->gradio) (4.11.4)\n",
      "Requirement already satisfied: mdurl~=0.1 in /opt/conda/lib/python3.7/site-packages (from markdown-it-py[linkify]>=2.0.0->gradio) (0.1.2)\n",
      "Requirement already satisfied: linkify-it-py<3,>=1 in /home/jupyter/.local/lib/python3.7/site-packages (from markdown-it-py[linkify]>=2.0.0->gradio) (2.0.0)\n",
      "Requirement already satisfied: python-dateutil>=2.7.3 in /opt/conda/lib/python3.7/site-packages (from pandas->gradio) (2.8.2)\n",
      "Requirement already satisfied: pytz>=2017.3 in /opt/conda/lib/python3.7/site-packages (from pandas->gradio) (2023.3)\n",
      "Requirement already satisfied: click>=7.0 in /opt/conda/lib/python3.7/site-packages (from uvicorn>=0.14.0->gradio) (8.1.3)\n",
      "Requirement already satisfied: h11>=0.8 in /opt/conda/lib/python3.7/site-packages (from uvicorn>=0.14.0->gradio) (0.14.0)\n",
      "Requirement already satisfied: attrs>=17.3.0 in /opt/conda/lib/python3.7/site-packages (from aiohttp->gradio) (22.2.0)\n",
      "Requirement already satisfied: charset-normalizer<3.0,>=2.0 in /opt/conda/lib/python3.7/site-packages (from aiohttp->gradio) (2.1.1)\n",
      "Requirement already satisfied: multidict<7.0,>=4.5 in /opt/conda/lib/python3.7/site-packages (from aiohttp->gradio) (6.0.2)\n",
      "Requirement already satisfied: async-timeout<5.0,>=4.0.0a3 in /opt/conda/lib/python3.7/site-packages (from aiohttp->gradio) (4.0.2)\n",
      "Requirement already satisfied: yarl<2.0,>=1.0 in /opt/conda/lib/python3.7/site-packages (from aiohttp->gradio) (1.7.2)\n",
      "Requirement already satisfied: frozenlist>=1.1.1 in /opt/conda/lib/python3.7/site-packages (from aiohttp->gradio) (1.3.1)\n",
      "Requirement already satisfied: aiosignal>=1.1.2 in /opt/conda/lib/python3.7/site-packages (from aiohttp->gradio) (1.3.1)\n",
      "Requirement already satisfied: asynctest==0.13.0 in /opt/conda/lib/python3.7/site-packages (from aiohttp->gradio) (0.13.0)\n",
      "Requirement already satisfied: starlette<0.27.0,>=0.26.1 in /opt/conda/lib/python3.7/site-packages (from fastapi->gradio) (0.26.1)\n",
      "Requirement already satisfied: certifi in /opt/conda/lib/python3.7/site-packages (from httpx->gradio) (2022.12.7)\n",
      "Requirement already satisfied: httpcore<0.18.0,>=0.15.0 in /home/jupyter/.local/lib/python3.7/site-packages (from httpx->gradio) (0.17.0)\n",
      "Requirement already satisfied: idna in /opt/conda/lib/python3.7/site-packages (from httpx->gradio) (3.4)\n",
      "Requirement already satisfied: sniffio in /opt/conda/lib/python3.7/site-packages (from httpx->gradio) (1.3.0)\n",
      "Requirement already satisfied: cycler>=0.10 in /opt/conda/lib/python3.7/site-packages (from matplotlib->gradio) (0.11.0)\n",
      "Requirement already satisfied: fonttools>=4.22.0 in /opt/conda/lib/python3.7/site-packages (from matplotlib->gradio) (4.38.0)\n",
      "Requirement already satisfied: kiwisolver>=1.0.1 in /opt/conda/lib/python3.7/site-packages (from matplotlib->gradio) (1.4.4)\n",
      "Requirement already satisfied: pyparsing>=2.2.1 in /opt/conda/lib/python3.7/site-packages (from matplotlib->gradio) (3.0.9)\n",
      "Requirement already satisfied: urllib3<1.27,>=1.21.1 in /opt/conda/lib/python3.7/site-packages (from requests->gradio) (1.26.15)\n",
      "Requirement already satisfied: anyio<5.0,>=3.0 in /opt/conda/lib/python3.7/site-packages (from httpcore<0.18.0,>=0.15.0->httpx->gradio) (3.6.2)\n",
      "Requirement already satisfied: importlib-resources>=1.4.0 in /opt/conda/lib/python3.7/site-packages (from jsonschema>=3.0->altair>=4.2.0->gradio) (5.12.0)\n",
      "Requirement already satisfied: pkgutil-resolve-name>=1.3.10 in /opt/conda/lib/python3.7/site-packages (from jsonschema>=3.0->altair>=4.2.0->gradio) (1.3.10)\n",
      "Requirement already satisfied: pyrsistent!=0.17.0,!=0.17.1,!=0.17.2,>=0.14.0 in /opt/conda/lib/python3.7/site-packages (from jsonschema>=3.0->altair>=4.2.0->gradio) (0.18.1)\n",
      "Requirement already satisfied: uc-micro-py in /opt/conda/lib/python3.7/site-packages (from linkify-it-py<3,>=1->markdown-it-py[linkify]>=2.0.0->gradio) (1.0.2)\n",
      "Requirement already satisfied: six>=1.5 in /opt/conda/lib/python3.7/site-packages (from python-dateutil>=2.7.3->pandas->gradio) (1.16.0)\n",
      "Requirement already satisfied: zipp>=0.5 in /opt/conda/lib/python3.7/site-packages (from importlib-metadata->huggingface-hub>=0.13.0->gradio) (3.15.0)\n",
      "\u001b[33mWARNING: Ignoring invalid distribution -dit-py-plugins (/opt/conda/lib/python3.7/site-packages)\u001b[0m\u001b[33m\n",
      "\u001b[0m\u001b[33mWARNING: Ignoring invalid distribution -rotobuf (/opt/conda/lib/python3.7/site-packages)\u001b[0m\u001b[33m\n",
      "\u001b[0mNote: you may need to restart the kernel to use updated packages.\n"
     ]
    }
   ],
   "source": [
    "%pip install --user --upgrade gradio"
   ]
  },
  {
   "cell_type": "markdown",
   "id": "c88f0a08",
   "metadata": {},
   "source": [
    "# Init project"
   ]
  },
  {
   "cell_type": "code",
   "execution_count": 1,
   "id": "28756a0e",
   "metadata": {},
   "outputs": [],
   "source": [
    "# init the google cloud project id\n",
    "\n",
    "def init_gcloud_(project_id = \"ucs-fishfood-8\"):\n",
    "    \"\"\"\n",
    "    Initialize the google cloud project id.\n",
    "    \"\"\"\n",
    "    # [START gae_python37_app_init_gcloud]\n",
    "    !gcloud config set project $project_id\n",
    "\n",
    "def init_project_genappbuilder():\n",
    "    \"\"\"\n",
    "    Initialize the google cloud project id.\n",
    "    \"\"\"\n",
    "    init_gcloud_(project_id = \"ucs-fishfood-8\")\n",
    "\n",
    "\n",
    "def init_project_images():\n",
    "    \"\"\"\n",
    "    Initialize the google cloud project id.\n",
    "    \"\"\"\n",
    "    init_gcloud_(project_id = \"cloud-llm-preview4\")\n",
    "\n",
    "\n",
    "def init_project_workstations():\n",
    "    \"\"\"\n",
    "    Initialize the google cloud project id.\n",
    "    \"\"\"\n",
    "    init_gcloud_(project_id = \"cloud-workstations-demo-2\")\n",
    "\n",
    "def init_project_ml_api():\n",
    "    \"\"\"\n",
    "    Initialize the google cloud project id.\n",
    "    \"\"\"\n",
    "    init_gcloud_(project_id = \"google.com:ml-baguette-demos\")\n",
    "\n",
    "    "
   ]
  },
  {
   "cell_type": "raw",
   "id": "16371351-7b01-45fc-97ac-68c90303fc6f",
   "metadata": {},
   "source": [
    "#write function to curl to get the data from the API\n",
    "\n",
    "import requests\n",
    "import json \n",
    "\n",
    "def genAppBuilder_old(search):\n",
    "    init_project_genappbuilder()\n",
    "    data =json.dumps( { \"query\": search, \"page_size\": \"5\", \"offset\": 0 } )\n",
    "\n",
    "    url =\"https://discoveryengine.googleapis.com/v1alpha/projects/210552312048/locations/global/collections/default_collection/dataStores/interflora_website/servingConfigs/default_search:search\" \n",
    "    #print( data)\n",
    "\n",
    "    bearer = !(gcloud auth print-access-token)\n",
    "    print(bearer[0])\n",
    "    d = \"'{}'\".format(data)\n",
    "    print(d)\n",
    "\n",
    "    headers = {\n",
    "        'Authorization': \"Bearer \" + bearer[0],\n",
    "        'Content-Type': 'application/json'\n",
    "    }\n",
    "    print(headers)\n",
    "\n",
    "    response = requests.post(url, headers=headers, data=d)\n",
    "\n",
    "    print (response)\n",
    "\n",
    "    return response\n",
    "    data = response.json()\n",
    "    return data\n",
    "\n"
   ]
  },
  {
   "cell_type": "markdown",
   "id": "b521a34b",
   "metadata": {},
   "source": []
  },
  {
   "cell_type": "code",
   "execution_count": null,
   "id": "b569f6f0",
   "metadata": {},
   "outputs": [],
   "source": []
  },
  {
   "cell_type": "markdown",
   "id": "8665d051",
   "metadata": {},
   "source": [
    "# Gen App builder code to search product on website"
   ]
  },
  {
   "cell_type": "code",
   "execution_count": 2,
   "id": "01e6dd21",
   "metadata": {},
   "outputs": [
    {
     "name": "stdout",
     "output_type": "stream",
     "text": [
      "Updated property [core/project].\n",
      "{'results': [{'id': '0', 'document': {'name': 'projects/210552312048/locations/global/collections/default_collection/dataStores/interflora_website/branches/0/documents/0', 'id': '0', 'derivedStructData': {'snippets': [{'snippet': 'Découvrez nos bouquets de fleurs dès 22,95€. Livraison dans toute la France dès 6,95€, en 4H à Paris. Livraison 7J/7, dimanche et les jours fériés.', 'htmlSnippet': 'Découvrez nos bouquets <b>de fleurs</b> dès 22,95€. Livraison dans toute la France dès 6,95€, en 4H à Paris. Livraison 7J/7, dimanche et les jours fériés.'}], 'pagemap': {'metatags': [{'twitter:title': 'Interflora : livraison de fleurs à domicile en 4H', 'twitter:card': 'summary_large_image', 'twitter:site': '@Interflora', 'twitter:creator': '@Interflora', 'twitter:account_id': '16924183', 'twitter:description': 'Découvrez nos bouquets de fleurs dès 22,95€. Livraison dans toute la France dès 6,95€, en 4H à Paris. Livraison 7J/7, dimanche et les jours fériés', 'apple-mobile-web-app-status-bar-style': 'black-translucent', 'mobile-web-app-capable': 'yes', 'apple-mobile-web-app-capable': 'yes', 'theme-color': '#303938', 'viewport': 'width=device-width, initial-scale=1', 'twitter:url': 'https://mobile.interflora.fr/', 'og:type': 'website', 'title': 'Interflora : livraison de fleurs à domicile en 4H', 'og:image': 'https://blog.interflora.fr/wp-content/uploads/2017/02/saint.png', 'twitter:image': 'https://blog.interflora.fr/wp-content/uploads/2017/02/saint.png'}], 'cse_image': [{'src': 'https://medias.interflora.fr/fstrz/r/s/c/medias.interflora.fr/medias/Bandeau-principal-MothersDay2023-Octopus-02.jpg?context=bWFzdGVyfHJvb3R8MjIwMjIwfGltYWdlL2pwZWd8aGIwL2gzZC85NTc5NzE5OTgzMTM0LmpwZ3wxMDg1YjM1Y2E0NDkzMDk1NWRhMTg0ODViNWU5YzBlYTk2OTk2ZDI3OTE5ODc2MjNiY2M3NDMyYmZjNTdjMGJl'}], 'cse_thumbnail': [{'src': 'https://encrypted-tbn2.gstatic.com/images?q=tbn:ANd9GcRGtTnwnvb2u4QTYZy731SOqeNkhKyV2I2mAR7Ga_Pj5Ec7U8bdWAjWc_Ks', 'height': '168', 'width': '300'}]}, 'htmlTitle': 'Interflora : livraison <b>de fleurs</b> à domicile en 4H', 'displayLink': 'www.interflora.fr', 'link': 'https://www.interflora.fr/', 'htmlFormattedUrl': 'https://www.interflora.fr/', 'title': 'Interflora : livraison de fleurs à domicile en 4H', 'formattedUrl': 'https://www.interflora.fr/'}}}, {'id': '1', 'document': {'name': 'projects/210552312048/locations/global/collections/default_collection/dataStores/interflora_website/branches/0/documents/1', 'id': '1', 'derivedStructData': {'displayLink': 'www.interflora.fr', 'formattedUrl': 'https://www.interflora.fr/livraison-de-fleurs-nos-idees-messages', 'htmlFormattedUrl': 'https://www.interflora.fr/livraison-<b>de</b>-<b>fleurs</b>-nos-idees-messages', 'htmlTitle': 'Livraison <b>de fleurs</b> : nos idées messages', 'link': 'https://www.interflora.fr/livraison-de-fleurs-nos-idees-messages', 'title': 'Livraison de fleurs : nos idées messages', 'pagemap': {'cse_thumbnail': [{'src': 'https://encrypted-tbn3.gstatic.com/images?q=tbn:ANd9GcQCMg0H7TzOMQRrc0F6_8P2bPVYJ4mPUqOEeqPGCsezpye_iMAaKkHxc4RL', 'width': '205', 'height': '246'}], 'cse_image': [{'src': 'https://medias.interflora.fr/fstrz/r/s/c/medias.interflora.fr/images/art11_1.jpg'}], 'metatags': [{'title': 'Livraison de fleurs : nos idées messages', 'apple-mobile-web-app-status-bar-style': 'black-translucent', 'og:type': 'website', 'twitter:url': 'https://mobile.interflora.fr/livraison-de-fleurs-nos-idees-messages', 'twitter:account_id': '16924183', 'mobile-web-app-capable': 'yes', 'twitter:description': \"Une liste de conseils et d'idées pour  accompagner vos fleurs d'un message qui saura toucher son destinataire.\", 'twitter:card': 'summary_large_image', 'theme-color': '#303938', 'og:image': 'https://blog.interflora.fr/wp-content/uploads/2017/02/saint.png', 'twitter:image': 'https://blog.interflora.fr/wp-content/uploads/2017/02/saint.png', 'viewport': 'width=device-width, initial-scale=1', 'twitter:creator': '@Interflora', 'twitter:site': '@Interflora', 'twitter:title': 'Livraison de fleurs : nos idées messages', 'apple-mobile-web-app-capable': 'yes'}]}, 'snippets': [{'htmlSnippet': 'Une liste <b>de</b> conseils et d&#39;idées <b>pour</b> accompagner vos <b>fleurs</b> d&#39;un message qui saura ... Idées messages <b>de</b> remerciements; Idées messages <b>pour</b> un <b>mariage</b>&nbsp;...', 'snippet': \"Une liste de conseils et d'idées pour accompagner vos fleurs d'un message qui saura ... Idées messages de remerciements; Idées messages pour un mariage\\xa0...\"}]}}}, {'id': '2', 'document': {'name': 'projects/210552312048/locations/global/collections/default_collection/dataStores/interflora_website/branches/0/documents/2', 'id': '2', 'derivedStructData': {'title': 'Comment conserver des fleurs coupées : trucs et astuces', 'link': 'https://www.interflora.fr/comment-conserver-des-fleurs-coupees-trucs-et-astuces', 'htmlTitle': 'Comment conserver des <b>fleurs</b> coupées : trucs et astuces', 'htmlFormattedUrl': 'https://www.interflora.fr/comment-conserver-des-<b>fleurs</b>-coupees-trucs-et- astuces', 'displayLink': 'www.interflora.fr', 'pagemap': {'metatags': [{'og:type': 'website', 'apple-mobile-web-app-status-bar-style': 'black-translucent', 'apple-mobile-web-app-capable': 'yes', 'twitter:image': 'https://blog.interflora.fr/wp-content/uploads/2017/02/saint.png', 'twitter:account_id': '16924183', 'twitter:card': 'summary_large_image', 'twitter:title': 'Comment conserver des fleurs coupées : trucs et astuces', 'twitter:site': '@Interflora', 'og:image': 'https://blog.interflora.fr/wp-content/uploads/2017/02/saint.png', 'twitter:description': \"Vous souhaitez apprendre à conserver des fleurs coupées ? C'est très simple, Interflora vous donne tous les trucs, astuces et conseils pour faire sécher des fleurs et les conserver dans de bonnes conditions\", 'viewport': 'width=device-width, initial-scale=1', 'twitter:url': 'https://mobile.interflora.fr/comment-conserver-des-fleurs-coupees-trucs-et-astuces', 'title': 'Comment conserver des fleurs coupées : trucs et astuces', 'twitter:creator': '@Interflora', 'theme-color': '#303938', 'mobile-web-app-capable': 'yes'}], 'cse_image': [{'src': 'https://blog.interflora.fr/wp-content/uploads/2017/02/saint.png'}]}, 'formattedUrl': 'https://www.interflora.fr/comment-conserver-des-fleurs-coupees-trucs-et- astuces', 'snippets': [{'snippet': \"Qu'y a-t-il de plus agréable qu'un magnifique bouquet de fleurs… et de plus ... de l'événement : naissance, enterrement de vie de jeune fille, mariage, etc.\", 'htmlSnippet': 'Qu&#39;y a-t-il <b>de</b> plus agréable qu&#39;un magnifique bouquet <b>de fleurs</b>… et <b>de</b> plus ... <b>de</b> l&#39;événement : naissance, enterrement <b>de</b> vie <b>de</b> jeune fille, <b>mariage</b>, etc.'}]}}}, {'id': '3', 'document': {'name': 'projects/210552312048/locations/global/collections/default_collection/dataStores/interflora_website/branches/0/documents/3', 'id': '3', 'derivedStructData': {'displayLink': 'www.interflora.fr', 'snippets': [{'htmlSnippet': 'Les fleurs nobles, comme le lys, font partie intégrante de nos bouquets <b>fleurs pour</b> un <b>mariage</b>. - Des fleurs à l&#39;image des futurs époux. Avant la livraison de&nbsp;...', 'snippet': \"Les fleurs nobles, comme le lys, font partie intégrante de nos bouquets fleurs pour un mariage. - Des fleurs à l'image des futurs époux. Avant la livraison de\\xa0...\"}], 'formattedUrl': 'https://www.interflora.fr/c/fleurs-mariage', 'htmlTitle': '<b>Fleurs Mariage</b> - Bouquet mariée et cadeau <b>mariage</b>', 'title': 'Fleurs Mariage - Bouquet mariée et cadeau mariage', 'pagemap': {'cse_thumbnail': [{'width': '225', 'src': 'https://encrypted-tbn0.gstatic.com/images?q=tbn:ANd9GcRfjSURiKtF2ywRM3701qZhxCpggtPN7AQ4xsNtiHq-45Mok8xpY4BwHuU', 'height': '225'}], 'metatags': [{'title': 'Fleurs Mariage - Bouquet mariée et cadeau mariage', 'viewport': 'width=device-width, initial-scale=1', 'og:type': 'website', 'twitter:url': 'https://mobile.interflora.fr/c/fleurs-mariage', 'twitter:image': 'https://blog.interflora.fr/wp-content/uploads/2017/02/saint.png', 'apple-mobile-web-app-capable': 'yes', 'twitter:description': 'Bouquet de mariée et cadeau mariage | Rapidité : Remise en main propre en - de 4h | Qualité garantie : Bouquet réalisé par un artisan fleuriste', 'twitter:creator': '@Interflora', 'og:image': 'https://blog.interflora.fr/wp-content/uploads/2017/02/saint.png', 'mobile-web-app-capable': 'yes', 'twitter:site': '@Interflora', 'twitter:card': 'summary_large_image', 'apple-mobile-web-app-status-bar-style': 'black-translucent', 'twitter:title': 'Fleurs Mariage - Bouquet mariée et cadeau mariage', 'theme-color': '#303938', 'twitter:account_id': '16924183'}], 'cse_image': [{'src': 'https://medias.interflora.fr/fstrz/r/s/c/medias.interflora.fr/medias/2BOIN-THUMBMAY-PRIMARY-0-1.jpg?context=bWFzdGVyfGltYWdlc3wxNzk1ODZ8aW1hZ2UvanBlZ3xpbWFnZXMvaDE3L2g5MC85NDQxNzM0OTE4MTc0LmpwZ3wxZDhhZGE1M2QzMmVmNDJmNWJkMDdhYmZlYzZhMjlkZDE5MmJkMzVhYzQ0ZWUxYzllYWM4NDk5OTNjMjQyNmE1'}]}, 'link': 'https://www.interflora.fr/c/fleurs-mariage', 'htmlFormattedUrl': 'https://www.interflora.fr/c/<b>fleurs</b>-<b>mariage</b>'}}}, {'id': '4', 'document': {'name': 'projects/210552312048/locations/global/collections/default_collection/dataStores/interflora_website/branches/0/documents/4', 'id': '4', 'derivedStructData': {'snippets': [{'htmlSnippet': 'Félicitez vos proches <b>pour</b> un <b>mariage</b>, une naissance en examen en leur envoyant un bouquet <b>de fleurs</b> ! Bouquet réalisé par un artisan fleuriste,&nbsp;...', 'snippet': 'Félicitez vos proches pour un mariage, une naissance en examen en leur envoyant un bouquet de fleurs ! Bouquet réalisé par un artisan fleuriste,\\xa0...'}], 'displayLink': 'www.interflora.fr', 'title': 'Fleurs félicitations - Envoi bouquet de félicitations', 'htmlFormattedUrl': 'https://www.interflora.fr/c/<b>fleurs</b>-felicitations', 'formattedUrl': 'https://www.interflora.fr/c/fleurs-felicitations', 'link': 'https://www.interflora.fr/c/fleurs-felicitations', 'htmlTitle': '<b>Fleurs</b> félicitations - Envoi bouquet <b>de</b> félicitations', 'pagemap': {'metatags': [{'apple-mobile-web-app-capable': 'yes', 'twitter:description': 'Félicitez vos proches pour un mariage, une naissance en examen en leur envoyant un bouquet de fleurs ! Bouquet réalisé par un artisan fleuriste, livré en 4h.', 'og:image': 'https://blog.interflora.fr/wp-content/uploads/2017/02/saint.png', 'theme-color': '#303938', 'twitter:account_id': '16924183', 'mobile-web-app-capable': 'yes', 'og:type': 'website', 'twitter:image': 'https://blog.interflora.fr/wp-content/uploads/2017/02/saint.png', 'viewport': 'width=device-width, initial-scale=1', 'twitter:creator': '@Interflora', 'twitter:title': 'Fleurs félicitations - Envoi bouquet de félicitations', 'twitter:site': '@Interflora', 'apple-mobile-web-app-status-bar-style': 'black-translucent', 'twitter:url': 'https://mobile.interflora.fr/c/fleurs-felicitations', 'twitter:card': 'summary_large_image', 'title': 'Fleurs félicitations - Envoi bouquet de félicitations'}], 'cse_thumbnail': [{'width': '225', 'src': 'https://encrypted-tbn3.gstatic.com/images?q=tbn:ANd9GcRDrVfD6eaLzpnC7DVmfW5pVd7JI-7C4csPDO64zAn37g', 'height': '225'}], 'cse_image': [{}]}}}}], 'totalSize': 47700, 'attributionToken': 'UvBRCgsI04vfowYQ872ccxIkNjQ3NzI4ZGQtMDAwMC0yNzA5LWFkMTQtMTRjMTRlZWM3Y2JjIgdHRU5FUklDKhSOvp0VpovvF8LwnhXUsp0VxcvzFw', 'nextPageToken': 'wYiN2NjVWZ0EzY0ETL0EDZh1SOwcjMtADMwATLjRGOyczN0YDJaIwhgb-sQYwouT_0IwgE1EgC', 'guidedSearchResult': {}, 'summary': {}}\n",
      "Title:  Interflora : livraison de fleurs à domicile en 4H\n",
      "Link:  https://www.interflora.fr/\n",
      "Description:  Découvrez nos bouquets de fleurs dès 22,95€. Livraison dans toute la France dès 6,95€, en 4H à Paris. Livraison 7J/7, dimanche et les jours fériés\n",
      "Snippet:  Découvrez nos bouquets de fleurs dès 22,95€. Livraison dans toute la France dès 6,95€, en 4H à Paris. Livraison 7J/7, dimanche et les jours fériés.\n",
      "Image:  https://medias.interflora.fr/fstrz/r/s/c/medias.interflora.fr/medias/Bandeau-principal-MothersDay2023-Octopus-02.jpg?context=bWFzdGVyfHJvb3R8MjIwMjIwfGltYWdlL2pwZWd8aGIwL2gzZC85NTc5NzE5OTgzMTM0LmpwZ3wxMDg1YjM1Y2E0NDkzMDk1NWRhMTg0ODViNWU5YzBlYTk2OTk2ZDI3OTE5ODc2MjNiY2M3NDMyYmZjNTdjMGJl\n"
     ]
    }
   ],
   "source": [
    "import requests\n",
    "import json\n",
    "import time\n",
    "\n",
    "init_project_genappbuilder()\n",
    "\n",
    "def genAppBuilder(query ):\n",
    "    \n",
    "\n",
    "    gcloud_token = !gcloud auth print-access-token\n",
    "    gcloud_tokeninfo = requests.get('https://www.googleapis.com/oauth2/v3/tokeninfo?access_token=' + gcloud_token[0]).json()\n",
    "\n",
    "    ACCESS_TOKEN = gcloud_token[0]\n",
    "    headers = {\n",
    "        'Authorization': f'Bearer {ACCESS_TOKEN}',\n",
    "        'Content-Type': 'application/json; charset=UTF-8'\n",
    "    }\n",
    "    \n",
    "    data = {\"query\": query, \"page_size\": \"5\", \"offset\": 0 }\n",
    "    \n",
    "    #print(data)\n",
    "    url = \"https://discoveryengine.googleapis.com/v1alpha/projects/210552312048/locations/global/collections/default_collection/dataStores/interflora_website/servingConfigs/default_search:search\" \n",
    "    response = requests.post(url, data=json.dumps(data), headers=headers)\n",
    "    \n",
    "    #print(response)\n",
    "    json_response = json.loads(response.text)\n",
    "    print(json_response)\n",
    "    \n",
    "    title, link, snippet, description = \"\", \"\", \"\", \"\"\n",
    "    try:\n",
    "      predictions = json_response['results']\n",
    "            \n",
    "      link = predictions[0][\"document\"][\"derivedStructData\"][\"link\"]\n",
    "      title = predictions[0][\"document\"][\"derivedStructData\"][\"title\"]\n",
    "      snippet = predictions[0][\"document\"][\"derivedStructData\"][\"snippets\"][0]['snippet']\n",
    "      description = predictions[0][\"document\"][\"derivedStructData\"]['pagemap']['metatags'][0][\"twitter:description\"]\n",
    "      image = predictions[0][\"document\"][\"derivedStructData\"]['pagemap']['cse_image'][0][\"src\"]\n",
    "\n",
    "\n",
    "\n",
    "    except:\n",
    "      print(\"An error occured calling the API.\")\n",
    "      print(\"1. Check if response was not blocked based on policy violation, check if the UI behaves the same way...\")\n",
    "      print(\"2. Try a different prompt to see if that was the problem.\\n\")\n",
    "      print(response.text)\n",
    "      # print(dir(response))\n",
    "\n",
    "    return title, link, snippet, description, image\n",
    "    \n",
    "\n",
    "\n",
    "title, link, snippet, description, image = genAppBuilder(\"fleur de mariage\")\n",
    "print(\"Title: \", title)\n",
    "print(\"Link: \", link)\n",
    "print(\"Description: \", description)\n",
    "print(\"Snippet: \", snippet)\n",
    "print(\"Image: \", image)\n",
    "\n",
    "\n",
    "\n",
    "\n",
    "\n"
   ]
  },
  {
   "cell_type": "raw",
   "id": "d3c6ff65-8dfd-4b9c-bb80-a6ce9689a21f",
   "metadata": {},
   "source": [
    "def genAppBuilder_curl(query = \"fleur pour un mariage\"):\n",
    "\n",
    "\n",
    "    data = '{ \"query\": \"{query}\", \"page_size\": \"5\", \"offset\": 0 }'\n",
    "\n",
    "    results = !curl -X POST -H \"Authorization: Bearer $(gcloud auth print-access-token)\" \\\n",
    "    -H \"Content-Type: application/json\" \\\n",
    "    \"https://discoveryengine.googleapis.com/v1alpha/projects/210552312048/locations/global/collections/default_collection/dataStores/interflora_website/servingConfigs/default_search:search\" \\\n",
    "    -d '{data}'\n",
    "\n",
    "    return results\n",
    "\n"
   ]
  },
  {
   "cell_type": "code",
   "execution_count": null,
   "id": "bc7f7983",
   "metadata": {},
   "outputs": [],
   "source": []
  },
  {
   "cell_type": "markdown",
   "id": "9ea0435b-9268-4d72-b0c6-43fa3a138112",
   "metadata": {},
   "source": [
    "# gradio interface used by the demo"
   ]
  },
  {
   "cell_type": "code",
   "execution_count": 3,
   "id": "3d73e012",
   "metadata": {},
   "outputs": [
    {
     "name": "stdout",
     "output_type": "stream",
     "text": [
      "Running on local URL:  http://127.0.0.1:7860\n",
      "Running on public URL: https://8d1409dc40694f6a38.gradio.live\n",
      "\n",
      "This share link expires in 72 hours. For free permanent hosting and GPU upgrades (NEW!), check out Spaces: https://huggingface.co/spaces\n"
     ]
    },
    {
     "data": {
      "text/html": [
       "<div><iframe src=\"https://8d1409dc40694f6a38.gradio.live\" width=\"100%\" height=\"500\" allow=\"autoplay; camera; microphone; clipboard-read; clipboard-write;\" frameborder=\"0\" allowfullscreen></iframe></div>"
      ],
      "text/plain": [
       "<IPython.core.display.HTML object>"
      ]
     },
     "metadata": {},
     "output_type": "display_data"
    },
    {
     "name": "stdout",
     "output_type": "stream",
     "text": [
      "{'results': [{'id': '0', 'document': {'name': 'projects/210552312048/locations/global/collections/default_collection/dataStores/interflora_website/branches/0/documents/0', 'id': '0', 'derivedStructData': {'htmlFormattedUrl': 'https://www.interflora.fr/', 'title': 'Interflora : livraison de fleurs à domicile en 4H', 'formattedUrl': 'https://www.interflora.fr/', 'snippets': [{'htmlSnippet': 'Découvrez nos bouquets de <b>fleurs</b> dès 22,95€. Livraison dans toute la France dès 6,95€, en 4H à Paris. Livraison 7J/7, dimanche et les jours fériés.', 'snippet': 'Découvrez nos bouquets de fleurs dès 22,95€. Livraison dans toute la France dès 6,95€, en 4H à Paris. Livraison 7J/7, dimanche et les jours fériés.'}], 'displayLink': 'www.interflora.fr', 'link': 'https://www.interflora.fr/', 'pagemap': {'metatags': [{'theme-color': '#303938', 'twitter:card': 'summary_large_image', 'twitter:creator': '@Interflora', 'og:type': 'website', 'twitter:image': 'https://blog.interflora.fr/wp-content/uploads/2017/02/saint.png', 'twitter:site': '@Interflora', 'twitter:account_id': '16924183', 'og:image': 'https://blog.interflora.fr/wp-content/uploads/2017/02/saint.png', 'apple-mobile-web-app-status-bar-style': 'black-translucent', 'mobile-web-app-capable': 'yes', 'apple-mobile-web-app-capable': 'yes', 'twitter:url': 'https://mobile.interflora.fr/', 'title': 'Interflora : livraison de fleurs à domicile en 4H', 'viewport': 'width=device-width, initial-scale=1', 'twitter:description': 'Découvrez nos bouquets de fleurs dès 22,95€. Livraison dans toute la France dès 6,95€, en 4H à Paris. Livraison 7J/7, dimanche et les jours fériés', 'twitter:title': 'Interflora : livraison de fleurs à domicile en 4H'}], 'cse_thumbnail': [{'height': '168', 'width': '300', 'src': 'https://encrypted-tbn2.gstatic.com/images?q=tbn:ANd9GcRGtTnwnvb2u4QTYZy731SOqeNkhKyV2I2mAR7Ga_Pj5Ec7U8bdWAjWc_Ks'}], 'cse_image': [{'src': 'https://medias.interflora.fr/fstrz/r/s/c/medias.interflora.fr/medias/Bandeau-principal-MothersDay2023-Octopus-02.jpg?context=bWFzdGVyfHJvb3R8MjIwMjIwfGltYWdlL2pwZWd8aGIwL2gzZC85NTc5NzE5OTgzMTM0LmpwZ3wxMDg1YjM1Y2E0NDkzMDk1NWRhMTg0ODViNWU5YzBlYTk2OTk2ZDI3OTE5ODc2MjNiY2M3NDMyYmZjNTdjMGJl'}]}, 'htmlTitle': 'Interflora : livraison de <b>fleurs</b> à domicile en 4H'}}}, {'id': '1', 'document': {'name': 'projects/210552312048/locations/global/collections/default_collection/dataStores/interflora_website/branches/0/documents/1', 'id': '1', 'derivedStructData': {'link': 'https://www.interflora.fr/c/fleurs-deuil', 'snippets': [{'htmlSnippet': 'Livraison de <b>fleurs</b> pour deuil, enterrement | Livraison sur tombe ou sur lieu de cérémonie en - de 4h | Qualité garantie : Bouquet réalisé par un artisan&nbsp;...', 'snippet': 'Livraison de fleurs pour deuil, enterrement | Livraison sur tombe ou sur lieu de cérémonie en - de 4h | Qualité garantie : Bouquet réalisé par un artisan\\xa0...'}], 'displayLink': 'www.interflora.fr', 'title': 'Fleurs Deuil - Livraison fleurs décès, deuil, enterrement', 'pagemap': {'cse_image': [{'src': 'https://medias.interflora.fr/fstrz/r/s/c/medias.interflora.fr/medias/6INT-THUMBMAY-PRIMARY-0-1.png?context=bWFzdGVyfGltYWdlc3wzNDk1MDN8aW1hZ2UvcG5nfGltYWdlcy9oZTYvaDU5Lzk0Njg0MjQ4ODAxNTgucG5nfGFkOGQwMTc5NjQzNmZjNDM0MmFhY2Q4MjBmZWI3YzI3N2UwNTg4OGNjNGI4OTZhM2JjZmI5MDNmNTBmYmFjMDM'}], 'metatags': [{'mobile-web-app-capable': 'yes', 'twitter:account_id': '16924183', 'title': 'Fleurs Deuil - Livraison fleurs décès, deuil, enterrement', 'apple-mobile-web-app-status-bar-style': 'black-translucent', 'twitter:title': 'Fleurs Deuil - Livraison fleurs décès, deuil, enterrement', 'twitter:image': 'https://blog.interflora.fr/wp-content/uploads/2017/02/saint.png', 'twitter:creator': '@Interflora', 'og:type': 'website', 'og:image': 'https://blog.interflora.fr/wp-content/uploads/2017/02/saint.png', 'twitter:site': '@Interflora', 'twitter:url': 'https://mobile.interflora.fr/c/fleurs-deuil', 'twitter:description': 'Livraison de fleurs pour deuil, enterrement | Livraison sur tombe ou sur lieu de cérémonie en - de 4h | Qualité garantie : Bouquet réalisé par un artisan fleuriste', 'viewport': 'width=device-width, initial-scale=1', 'theme-color': '#303938', 'twitter:card': 'summary_large_image', 'apple-mobile-web-app-capable': 'yes'}], 'cse_thumbnail': [{'height': '225', 'src': 'https://encrypted-tbn2.gstatic.com/images?q=tbn:ANd9GcTu2HU40q6jDGzA9OW6Aom43rB0palqXQgKg8dx88zSjSvE4znROjrqHL9j', 'width': '225'}]}, 'htmlTitle': '<b>Fleurs</b> Deuil - Livraison <b>fleurs</b> décès, deuil, enterrement', 'htmlFormattedUrl': 'https://www.interflora.fr/c/<b>fleurs</b>-deuil', 'formattedUrl': 'https://www.interflora.fr/c/fleurs-deuil'}}}, {'id': '2', 'document': {'name': 'projects/210552312048/locations/global/collections/default_collection/dataStores/interflora_website/branches/0/documents/2', 'id': '2', 'derivedStructData': {'displayLink': 'www.interflora.fr', 'snippets': [{'htmlSnippet': 'Livraison de <b>fleurs</b> pour la Fête des mères le 4 juin 2023 ! Envoyez un superbe bouquet de <b>fleurs</b> à votre maman dans toute la France.', 'snippet': 'Livraison de fleurs pour la Fête des mères le 4 juin 2023 ! Envoyez un superbe bouquet de fleurs à votre maman dans toute la France.'}], 'htmlFormattedUrl': 'https://www.interflora.fr/c/<b>fleurs</b>-fete-des-meres', 'link': 'https://www.interflora.fr/c/fleurs-fete-des-meres', 'htmlTitle': '<b>Fleurs</b> Fête des Mères 2023, livraison par un fleuriste | Interflora', 'formattedUrl': 'https://www.interflora.fr/c/fleurs-fete-des-meres', 'pagemap': {'cse_image': [{'src': 'https://medias.interflora.fr/fstrz/r/s/c/medias.interflora.fr/medias/FDMB2-THUMBMAY-PRIMARY-0-1.jpg?context=bWFzdGVyfGltYWdlc3wxMTM2NzZ8aW1hZ2UvanBlZ3xpbWFnZXMvaDdhL2hjZC85NTg1NjU3MTUxNTE4LmpwZ3wyZmU0OGViNjIyMWE2YzhlZGRhYzUzOTFmMDc2YWYxYmM3ZjMzZTIzODc4NjgyOWIxZmNlZmRmYWZjY2ViOGNi'}], 'metatags': [{'twitter:description': 'Livraison de fleurs pour la Fête des mères le 4 juin 2023 ! Envoyez un superbe bouquet de fleurs à votre maman dans toute la France. Livraison tout le week-end par un fleuriste', 'og:image': 'https://blog.interflora.fr/wp-content/uploads/2017/02/saint.png', 'og:type': 'website', 'twitter:creator': '@Interflora', 'twitter:account_id': '16924183', 'twitter:title': 'Fleurs Fête des Mères 2023, livraison par un fleuriste | Interflora', 'theme-color': '#303938', 'twitter:site': '@Interflora', 'apple-mobile-web-app-status-bar-style': 'black-translucent', 'mobile-web-app-capable': 'yes', 'twitter:url': 'https://mobile.interflora.fr/c/fleurs-fete-des-meres', 'viewport': 'width=device-width, initial-scale=1', 'twitter:card': 'summary_large_image', 'title': 'Fleurs Fête des Mères 2023, livraison par un fleuriste | Interflora', 'apple-mobile-web-app-capable': 'yes', 'twitter:image': 'https://blog.interflora.fr/wp-content/uploads/2017/02/saint.png'}], 'cse_thumbnail': [{'height': '225', 'width': '225', 'src': 'https://encrypted-tbn2.gstatic.com/images?q=tbn:ANd9GcQJoQHngwuvIPgEMwoG3OWhXGSDH7zqXB-CyJTuKGPvU9igH-jv66wMnxQ'}]}, 'title': 'Fleurs Fête des Mères 2023, livraison par un fleuriste | Interflora'}}}, {'id': '3', 'document': {'name': 'projects/210552312048/locations/global/collections/default_collection/dataStores/interflora_website/branches/0/documents/3', 'id': '3', 'derivedStructData': {'link': 'https://www.interflora.fr/livraison-de-fleurs-comment-conserver-son-bouquet', 'pagemap': {'cse_thumbnail': [{'height': '256', 'width': '197', 'src': 'https://encrypted-tbn1.gstatic.com/images?q=tbn:ANd9GcSw6PujMlKYLJHD7sWsRuKh1Jzh7tbDBiC6L6l9SQxmMZjEhSFWRaxX2Ko'}], 'metatags': [{'og:image': 'https://blog.interflora.fr/wp-content/uploads/2017/02/saint.png', 'apple-mobile-web-app-status-bar-style': 'black-translucent', 'twitter:account_id': '16924183', 'viewport': 'width=device-width, initial-scale=1', 'theme-color': '#303938', 'title': 'Comment conserver son bouquet de fleurs ?', 'twitter:url': 'https://mobile.interflora.fr/livraison-de-fleurs-comment-conserver-son-bouquet', 'twitter:description': 'Profiter de votre bouquet le plus longtemps possible. Comment conserver au mieux un bouquet de fleurs coupées ? Suivez nos conseils !', 'twitter:creator': '@Interflora', 'twitter:card': 'summary_large_image', 'twitter:title': 'Comment conserver son bouquet de fleurs ?', 'og:type': 'website', 'twitter:image': 'https://blog.interflora.fr/wp-content/uploads/2017/02/saint.png', 'apple-mobile-web-app-capable': 'yes', 'mobile-web-app-capable': 'yes', 'twitter:site': '@Interflora'}], 'cse_image': [{'src': 'https://medias.interflora.fr/fstrz/r/s/c/medias.interflora.fr/images/art12_1.jpg'}]}, 'formattedUrl': 'https://www.interflora.fr/livraison-de-fleurs-comment-conserver-son-bouquet', 'htmlFormattedUrl': 'https://www.interflora.fr/livraison-de-<b>fleurs</b>-comment-conserver-son-bouquet', 'displayLink': 'www.interflora.fr', 'snippets': [{'snippet': 'Les fleurs sont belles, mais ne sont pas éternelles. Afin de profiter de votre bouquet le plus longtemps possible, après une livraison de fleurs,\\xa0...', 'htmlSnippet': 'Les <b>fleurs</b> sont belles, mais ne sont pas éternelles. Afin de profiter de votre bouquet le plus longtemps possible, après une livraison de <b>fleurs</b>,&nbsp;...'}], 'title': 'Comment conserver son bouquet de fleurs ?', 'htmlTitle': 'Comment conserver son bouquet de <b>fleurs</b> ?'}}}, {'id': '4', 'document': {'name': 'projects/210552312048/locations/global/collections/default_collection/dataStores/interflora_website/branches/0/documents/4', 'id': '4', 'derivedStructData': {'displayLink': 'www.interflora.fr', 'pagemap': {'cse_thumbnail': [{'height': '140', 'src': 'https://encrypted-tbn3.gstatic.com/images?q=tbn:ANd9GcQs4Lhy7P0botttFbjzG-uniMTNmKJCe6gAwFbK_ZOpLpcMbeP-l58jWt67', 'width': '360'}], 'metatags': [{'twitter:card': 'summary_large_image', 'twitter:title': \"L'abonnement Floral par Interflora\", 'twitter:creator': '@Interflora', 'apple-mobile-web-app-status-bar-style': 'black-translucent', 'twitter:site': '@Interflora', 'apple-mobile-web-app-capable': 'yes', 'viewport': 'width=device-width, initial-scale=1', 'og:image': 'https://blog.interflora.fr/wp-content/uploads/2017/02/saint.png', 'title': \"L'abonnement Floral par Interflora\", 'twitter:account_id': '16924183', 'mobile-web-app-capable': 'yes', 'og:type': 'website', 'twitter:image': 'https://blog.interflora.fr/wp-content/uploads/2017/02/saint.png', 'twitter:description': 'INTERFLORA. Faire livrer un superbe bouquet de fleurs rapidement par un des artisans fleuristes INTERFLORA. Bouquet dés 24,90€ remis en main propre sous 4H', 'twitter:url': 'https://mobile.interflora.fr/abonnement', 'theme-color': '#303938'}], 'cse_image': [{'src': 'https://medias.interflora.fr/fstrz/r/s/c/medias.interflora.fr/images/Video-Abonnement.jpg'}]}, 'snippets': [{'htmlSnippet': 'INTERFLORA. Faire livrer un superbe bouquet de <b>fleurs</b> rapidement par un des artisans fleuristes INTERFLORA. Bouquet dés 24,90€ remis en main propre sous 4H.', 'snippet': 'INTERFLORA. Faire livrer un superbe bouquet de fleurs rapidement par un des artisans fleuristes INTERFLORA. Bouquet dés 24,90€ remis en main propre sous 4H.'}], 'link': 'https://www.interflora.fr/abonnement', 'htmlFormattedUrl': 'https://www.interflora.fr/abonnement', 'title': \"L'abonnement Floral par Interflora\", 'formattedUrl': 'https://www.interflora.fr/abonnement', 'htmlTitle': 'L&#39;abonnement Floral par Interflora'}}}], 'totalSize': 66600, 'attributionToken': 'U_BSCgwIgozfowYQoKLWgwISJDY0NzcyYTE2LTAwMDAtMjNjMy04YjljLTU4MjQyOWIwMWJkMCIHR0VORVJJQyoUwqT_F46-nRWmi-8X1LKdFcLwnhU', 'nextPageToken': 'AMkJWMwIWOyQjM4UTLjljY40yMjNjMtADMwATL1ETYyczN0YDJaMQ2bjYoQYwouXvgIwgE1EgC', 'guidedSearchResult': {}, 'summary': {}}\n",
      "{'results': [{'id': '0', 'document': {'name': 'projects/210552312048/locations/global/collections/default_collection/dataStores/interflora_website/branches/0/documents/0', 'id': '0', 'derivedStructData': {'link': 'https://www.interflora.fr/p/plante-bonsai-pinus-tree/0/FR', 'displayLink': 'www.interflora.fr', 'snippets': [{'htmlSnippet': 'Bonsaï Pinus <b>Tree</b>. Livraison par un transporteur. C&#39;est vous qui choisissez. Avec cache pot. 39,95€. Diamètre du pot: 16cm. Hauteur de la plante: entre 35cm&nbsp;...', 'snippet': \"Bonsaï Pinus Tree. Livraison par un transporteur. C'est vous qui choisissez. Avec cache pot. 39,95€. Diamètre du pot: 16cm. Hauteur de la plante: entre 35cm\\xa0...\"}], 'formattedUrl': 'https://www.interflora.fr/p/plante-bonsai-pinus-tree/0/FR', 'title': \"Bonsaï Pinus Tree | Interflora | Livraison plantes vertes d'extérieur\", 'htmlFormattedUrl': 'https://www.interflora.fr/p/plante-bonsai-pinus-<b>tree</b>/0/FR', 'htmlTitle': 'Bonsaï Pinus <b>Tree</b> | Interflora | Livraison plantes vertes d&#39;extérieur', 'pagemap': {'metatags': [{'viewport': 'width=device-width, initial-scale=1', 'twitter:site': '@Interflora', 'twitter:description': \"Bonsaï Pinus Tree | Livraison plantes vertes d'extérieur | Plantes vertes | Livraison en moins de 24h\", 'twitter:card': 'summary_large_image', 'mobile-web-app-capable': 'yes', 'apple-mobile-web-app-status-bar-style': 'black-translucent', 'twitter:account_id': '16924183', 'twitter:creator': '@Interflora', 'theme-color': '#303938', 'og:type': 'website', 'og:image': 'https://blog.interflora.fr/wp-content/uploads/2017/02/saint.png', 'twitter:title': \"Bonsaï Pinus Tree | Interflora | Livraison plantes vertes d'extérieur\", 'twitter:url': 'https://mobile.interflora.fr/p/plante-bonsai-pinus-tree/0/FR', 'apple-mobile-web-app-capable': 'yes', 'title': \"Bonsaï Pinus Tree | Interflora | Livraison plantes vertes d'extérieur\", 'twitter:image': 'https://blog.interflora.fr/wp-content/uploads/2017/02/saint.png'}], 'cse_thumbnail': [{'height': '224', 'width': '224', 'src': 'https://encrypted-tbn1.gstatic.com/images?q=tbn:ANd9GcSJLnRFJ3jRwEInMSkMu74CnVEp7Xm1Ec4w4LIb_pqhjmEOMe0M84EXPeuO'}], 'cse_image': [{'src': 'https://medias.interflora.fr/fstrz/r/s/c/medias.interflora.fr/medias/slider-reassurance-2.png?context=bWFzdGVyfGltYWdlc3wxNDI1NDF8aW1hZ2UvcG5nfGltYWdlcy9oMmUvaGEzLzk1NTQxMTA4NzM2MzAucG5nfDg2YzA5Yjk0YTc5N2FkNTJkZWMyZmM1OGU4Mzc1YzIzYWYwMmZhY2ZjZThlMTQ3NjIzYWVjYTE0ODBhZDg2ZjU'}]}}}}, {'id': '1', 'document': {'name': 'projects/210552312048/locations/global/collections/default_collection/dataStores/interflora_website/branches/0/documents/1', 'id': '1', 'derivedStructData': {'link': 'https://www.interflora.fr/fete-des-peres-interflora-lego', 'title': 'LEGO - Interflora', 'pagemap': {'metatags': [{'twitter:account_id': '16924183', 'twitter:url': 'https://mobile.interflora.fr/fete-des-peres-interflora-lego', 'twitter:creator': '@Interflora', 'og:type': 'website', 'twitter:title': 'Interflora & LEGO', 'viewport': 'width=device-width, initial-scale=1', 'theme-color': '#303938', 'title': 'Interflora & LEGO', 'twitter:card': 'summary_large_image', 'apple-mobile-web-app-status-bar-style': 'black-translucent', 'mobile-web-app-capable': 'yes', 'og:image': 'https://blog.interflora.fr/wp-content/uploads/2017/02/saint.png', 'twitter:description': 'INTERFLORA. Faire livrer un superbe bouquet de fleurs rapidement par un des artisans fleuristes INTERFLORA. Bouquet dés 24,90€ remis en main propre sous 4H', 'apple-mobile-web-app-capable': 'yes', 'twitter:site': '@Interflora', 'twitter:image': 'https://blog.interflora.fr/wp-content/uploads/2017/02/saint.png'}], 'cse_image': [{'src': 'https://medias.interflora.fr/fstrz/r/s/c/medias.interflora.fr/medias/Lego-FDP2022_PrincipalImg.jpg?context=bWFzdGVyfHJvb3R8MTI3NTA4fGltYWdlL2pwZWd8aGNlL2hmZi85NTI1MzIwODEwNTI2LmpwZ3xkNDUzOTc0NWIwNjZlZjBlMzdkNjUyOTgwMDEzYzk0MzAxOGQwYmEzMzRiN2M2ZmIyYzdjODY4NzdjYTQ4YzA5'}], 'cse_thumbnail': [{'height': '193', 'width': '261', 'src': 'https://encrypted-tbn3.gstatic.com/images?q=tbn:ANd9GcREfZUkaoz8y7WzCBMetuh2YkOBzyiTqeQjBfeXqkPup388mrStiATcQ6Yk'}]}, 'htmlFormattedUrl': 'https://www.interflora.fr/fete-des-peres-interflora-lego', 'formattedUrl': 'https://www.interflora.fr/fete-des-peres-interflora-lego', 'displayLink': 'www.interflora.fr', 'htmlTitle': 'LEGO - Interflora', 'snippets': [{'snippet': \"Pour la Fête des Pères, développez votre créativité avec le Bonsaï Tree LEGO®. Votre papa a toujours rêvé d'être un grand jardinier mais ne sait pas tailler\\xa0...\", 'htmlSnippet': 'Pour la Fête des Pères, développez votre créativité avec le Bonsaï <b>Tree</b> LEGO®. Votre papa a toujours rêvé d&#39;être un grand jardinier mais ne sait pas tailler&nbsp;...'}]}}}, {'id': '2', 'document': {'name': 'projects/210552312048/locations/global/collections/default_collection/dataStores/interflora_website/branches/0/documents/2', 'id': '2', 'derivedStructData': {'snippets': [{'snippet': 'Bonsaï Pinus Tree. dès 39,95€. Livraison dès le 7 juin. Bougainvillier. dès 39,95€. Livraison dès le 7 juin. Hortensia. dès 29,95€. Livraison dès le 7 juin.', 'htmlSnippet': 'Bonsaï Pinus <b>Tree</b>. dès 39,95€. Livraison dès le 7 juin. Bougainvillier. dès 39,95€. Livraison dès le 7 juin. Hortensia. dès 29,95€. Livraison dès le 7 juin.'}], 'pagemap': {'metatags': [{'og:type': 'website', 'twitter:image': 'https://blog.interflora.fr/wp-content/uploads/2017/02/saint.png', 'og:image': 'https://blog.interflora.fr/wp-content/uploads/2017/02/saint.png', 'viewport': 'width=device-width, initial-scale=1', 'twitter:account_id': '16924183', 'twitter:card': 'summary_large_image', 'twitter:description': 'INTERFLORA. Faire livrer un superbe bouquet de fleurs rapidement par un des artisans fleuristes INTERFLORA. Bouquet dés 24,90€ remis en main propre sous 4H', 'mobile-web-app-capable': 'yes', 'apple-mobile-web-app-status-bar-style': 'black-translucent', 'twitter:title': 'Interflora – leader de la livraison de fleurs en ligne', 'twitter:url': 'https://mobile.interflora.fr/c/plantes/meilleures-ventes-plantes', 'twitter:creator': '@Interflora', 'twitter:site': '@Interflora', 'title': 'Interflora – leader de la livraison de fleurs en ligne', 'theme-color': '#303938', 'apple-mobile-web-app-capable': 'yes'}], 'cse_thumbnail': [{'src': 'https://encrypted-tbn2.gstatic.com/images?q=tbn:ANd9GcRdtPecugpMdA4Dksyctp3wDtq6MZ0M-Jplib3V4cfwiKGlW8dyqWRH46c', 'width': '225', 'height': '225'}], 'cse_image': [{'src': 'https://medias.interflora.fr/fstrz/r/s/c/medias.interflora.fr/medias/B5CAMAJ-THUMBMAY-PRIMARY-0-1.jpg?context=bWFzdGVyfGltYWdlc3wxMzQ0MDd8aW1hZ2UvanBlZ3xpbWFnZXMvaDU2L2g5MC85NTM4ODM0OTIzNTUwLmpwZ3w4ZWE1YjZkN2NmOTM2NDY2MWQ1MjJjMzE4NmI0MjlmNmMyZTBmYjljZDgwYzM2Yjk2ZmU4YWQxNTU0OTA5NDE2'}]}, 'htmlTitle': 'leader de la livraison de fleurs en ligne - Interflora', 'displayLink': 'www.interflora.fr', 'link': 'https://www.interflora.fr/c/plantes/meilleures-ventes-plantes', 'htmlFormattedUrl': 'https://www.interflora.fr/c/plantes/meilleures-ventes-plantes', 'formattedUrl': 'https://www.interflora.fr/c/plantes/meilleures-ventes-plantes', 'title': 'leader de la livraison de fleurs en ligne - Interflora'}}}, {'id': '3', 'document': {'name': 'projects/210552312048/locations/global/collections/default_collection/dataStores/interflora_website/branches/0/documents/3', 'id': '3', 'derivedStructData': {'pagemap': {'cse_image': [{'src': 'https://medias.interflora.fr/fstrz/r/s/c/medias.interflora.fr/medias/slider-reassurance-3.png?context=bWFzdGVyfGltYWdlc3w2NTI2M3xpbWFnZS9wbmd8aW1hZ2VzL2g0OC9oODQvOTU1NDExMDkzOTE2Ni5wbmd8YzViOTA4Yzc2NzZmYzI4NjY5OWVlMGZlNjYwZWRkMjZjYTRkODMxOTBmNzk5NTI4ZThkMzU3NWViZDU3ZWY0Zg'}], 'cse_thumbnail': [{'src': 'https://encrypted-tbn3.gstatic.com/images?q=tbn:ANd9GcRmJT5pTTB82gO0PoiX4GEOWPBuIs9qcRm8qGFmUbF-WQB6vj5iT1k1G7E', 'height': '224', 'width': '224'}], 'metatags': [{'twitter:url': 'https://mobile.interflora.fr/c/plantes/bonsai', 'viewport': 'width=device-width, initial-scale=1', 'apple-mobile-web-app-capable': 'yes', 'twitter:image': 'https://blog.interflora.fr/wp-content/uploads/2017/02/saint.png', 'twitter:card': 'summary_large_image', 'twitter:description': 'Bonsai : livraison bonsai et achat en ligne - INTERFLORA : découvrez notre large sélection de plantes vertes, ficus, et orchidées dés 24€, chez vous en 48H', 'twitter:account_id': '16924183', 'twitter:title': 'Bonsai : livraison bonsai et achat en ligne - INTERFLORA', 'og:type': 'website', 'og:image': 'https://blog.interflora.fr/wp-content/uploads/2017/02/saint.png', 'apple-mobile-web-app-status-bar-style': 'black-translucent', 'title': 'Bonsai : livraison bonsai et achat en ligne - INTERFLORA', 'mobile-web-app-capable': 'yes', 'twitter:creator': '@Interflora', 'twitter:site': '@Interflora', 'theme-color': '#303938'}]}, 'displayLink': 'www.interflora.fr', 'link': 'https://www.interflora.fr/c/plantes/bonsai', 'htmlFormattedUrl': 'https://www.interflora.fr/c/plantes/bonsai', 'snippets': [{'snippet': \"Les Bonsaïs · Bonsai Carmona. dès 29,95€ · Bonsai et son champagne. dès 59,95€ · Bonsaï Pinus Tree. dès 39,95€ · Ficus Ginseng. dès 32,95€ · Papot's - Nos cache-pots\\xa0...\", 'htmlSnippet': 'Les Bonsaïs &middot; Bonsai Carmona. dès 29,95€ &middot; Bonsai et son champagne. dès 59,95€ &middot; Bonsaï Pinus <b>Tree</b>. dès 39,95€ &middot; Ficus Ginseng. dès 32,95€ &middot; Papot&#39;s - Nos cache-pots&nbsp;...'}], 'htmlTitle': 'Bonsai : livraison bonsai et achat en ligne - INTERFLORA', 'formattedUrl': 'https://www.interflora.fr/c/plantes/bonsai', 'title': 'Bonsai : livraison bonsai et achat en ligne - INTERFLORA'}}}, {'id': '4', 'document': {'name': 'projects/210552312048/locations/global/collections/default_collection/dataStores/interflora_website/branches/0/documents/4', 'id': '4', 'derivedStructData': {'htmlFormattedUrl': 'https://www.interflora.fr/c/plantes/plante-verte', 'displayLink': 'www.interflora.fr', 'formattedUrl': 'https://www.interflora.fr/c/plantes/plante-verte', 'title': 'Plante verte : achat en ligne et livraison - INTERFLORA', 'pagemap': {'cse_image': [{'src': 'https://medias.interflora.fr/fstrz/r/s/c/medias.interflora.fr/medias/B5BON-THUMBMAY-PRIMARY-0-1.png?context=bWFzdGVyfGltYWdlc3w0NTc4MDh8aW1hZ2UvcG5nfGltYWdlcy9oZjUvaGMxLzk0OTY0OTQ1MDYwMTQucG5nfDg2OGVkNDQxOWFjM2U0NjY2MTYxZWQ3NmUxYTA2YmNjMmFkZmRmMzRjNTcyNWYzYmNjY2IyNjQ1YzBlOTNlODQ'}], 'metatags': [{'twitter:creator': '@Interflora', 'mobile-web-app-capable': 'yes', 'title': 'Plante verte : achat en ligne et livraison - INTERFLORA', 'twitter:account_id': '16924183', 'twitter:title': 'Plante verte : achat en ligne et livraison - INTERFLORA', 'twitter:description': 'Plante verte : achat en ligne et livraison - INTERFLORA : découvrez notre large sélection de plantes vertes, ficus, et orchidées dés 24€, chez vous en 48H', 'theme-color': '#303938', 'apple-mobile-web-app-capable': 'yes', 'apple-mobile-web-app-status-bar-style': 'black-translucent', 'twitter:image': 'https://blog.interflora.fr/wp-content/uploads/2017/02/saint.png', 'twitter:site': '@Interflora', 'og:image': 'https://blog.interflora.fr/wp-content/uploads/2017/02/saint.png', 'twitter:url': 'https://mobile.interflora.fr/c/plantes/plante-verte', 'og:type': 'website', 'viewport': 'width=device-width, initial-scale=1', 'twitter:card': 'summary_large_image'}], 'cse_thumbnail': [{'width': '225', 'height': '225', 'src': 'https://encrypted-tbn3.gstatic.com/images?q=tbn:ANd9GcRciiDqxWDOeu5v3lxB_bkR45TXsgm_rqgxFrWRdULhWSuTHf8AjDNFgcpF'}]}, 'snippets': [{'htmlSnippet': 'Les Plantes Vertes &middot; Bonsai Carmona. dès 29,95€ &middot; Calathea Majestica White Star. dès 27,95€ &middot; Calathea Medaillon &middot; Bonsaï Pinus <b>Tree</b> &middot; Calathea Orbifolia &middot; Ficus&nbsp;...', 'snippet': 'Les Plantes Vertes · Bonsai Carmona. dès 29,95€ · Calathea Majestica White Star. dès 27,95€ · Calathea Medaillon · Bonsaï Pinus Tree · Calathea Orbifolia · Ficus\\xa0...'}], 'htmlTitle': 'Plante verte : achat en ligne et livraison - INTERFLORA', 'link': 'https://www.interflora.fr/c/plantes/plante-verte'}}}], 'totalSize': 520, 'attributionToken': 'UvBRCgsI643fowYQnrvBfBIkNjQ3NzI3ZmUtMDAwMC0yYzMwLTkyNmItMTRjMTRlZWI0M2U4IgdHRU5FUklDKhSOvp0V1LKdFcLwnhWmi-8XxcvzFw', 'nextPageToken': 'AOlNDNiVWZ0EzY0ETLiZjM50CMzMmMtADMwATLkZ2NyczN0YDJaIgyMW-6QYwoub_6IwgE1EgC', 'guidedSearchResult': {}, 'summary': {}}\n",
      "{'results': [{'id': '0', 'document': {'name': 'projects/210552312048/locations/global/collections/default_collection/dataStores/interflora_website/branches/0/documents/0', 'id': '0', 'derivedStructData': {'link': 'https://www.interflora.fr/fleuristes/Charente-16/L-ARBRE-ROUZEDE-16290001', 'title': \"Fleuriste L'ARBRE (ROUZEDE) – Livraison de fleurs L'ARBRE ...\", 'htmlTitle': 'Fleuriste L&#39;<b>ARBRE</b> (ROUZEDE) – Livraison de fleurs L&#39;<b>ARBRE</b> ...', 'displayLink': 'www.interflora.fr', 'snippets': [{'snippet': \"Les fleuristes Interflora assurent la livraison de fleurs à L'arbre (rouzede). Bouquet de fleurs livré en mains propres, 7j/7, par un fleuriste à L'arbre\\xa0...\", 'htmlSnippet': 'Les fleuristes Interflora assurent la livraison de fleurs à L&#39;<b>arbre</b> (rouzede). Bouquet de fleurs livré en mains propres, 7j/7, par un fleuriste à L&#39;<b>arbre</b>&nbsp;...'}], 'htmlFormattedUrl': 'https://www.interflora.fr/fleuristes/...16/L-<b>ARBRE</b>-ROUZEDE-16290001', 'formattedUrl': 'https://www.interflora.fr/fleuristes/...16/L-ARBRE-ROUZEDE-16290001', 'pagemap': {'metatags': [{'twitter:url': 'https://mobile.interflora.fr/fleuristes/Charente-16/L-ARBRE-ROUZEDE-16290001', 'mobile-web-app-capable': 'yes', 'twitter:description': 'INTERFLORA. Faire livrer un superbe bouquet de fleurs rapidement par un des artisans fleuristes INTERFLORA. Bouquet dés 24,90€ remis en main propre sous 4H', 'og:type': 'website', 'twitter:site': '@Interflora', 'viewport': 'width=device-width, initial-scale=1', 'twitter:title': \"Fleuriste L'ARBRE (ROUZEDE) – Livraison de fleurs L'ARBRE (ROUZEDE) (16) - Interflora\", 'title': \"Fleuriste L'ARBRE (ROUZEDE) – Livraison de fleurs L'ARBRE (ROUZEDE) (16) - Interflora\", 'twitter:account_id': '16924183', 'apple-mobile-web-app-capable': 'yes', 'apple-mobile-web-app-status-bar-style': 'black-translucent', 'twitter:creator': '@Interflora', 'theme-color': '#303938', 'twitter:image': 'https://blog.interflora.fr/wp-content/uploads/2017/02/saint.png', 'twitter:card': 'summary_large_image', 'og:image': 'https://blog.interflora.fr/wp-content/uploads/2017/02/saint.png'}], 'cse_image': [{'src': 'https://medias.interflora.fr/fstrz/r/s/c/medias.interflora.fr/medias/6G02W-THUMBMAY-PRIMARY-0-1.png?context=bWFzdGVyfGltYWdlc3wyNjExNzh8aW1hZ2UvcG5nfGltYWdlcy9oMzcvaGJlLzk0NDE5MTU4NjMwNzAucG5nfDU2NzgzODk4MmEzZmE5MThmYjk2MjdmMjdjZDBkYjMwYmY0MTkyZDQ2ZDcyMmE4MDg5ZGM0NGE5NjA1NTM4MjA'}], 'cse_thumbnail': [{'src': 'https://encrypted-tbn1.gstatic.com/images?q=tbn:ANd9GcRu9Il2Ma6gg2tlbESW0TXkl_1BNLIDMNE8qMY7ELORmrmATGiBeHK4iTEy', 'height': '225', 'width': '225'}]}}}}, {'id': '1', 'document': {'name': 'projects/210552312048/locations/global/collections/default_collection/dataStores/interflora_website/branches/0/documents/1', 'id': '1', 'derivedStructData': {'link': 'https://www.interflora.fr/fleuristes/Nord-59/ARBRE-DE-GUISE-MAZINGHIEN-59395001', 'snippets': [{'snippet': 'Les fleuristes Interflora assurent la livraison de fleurs à Arbre de guise (mazinghien). Bouquet de fleurs livré en mains propres, 7j/7, par un fleuriste à\\xa0...', 'htmlSnippet': 'Les fleuristes Interflora assurent la livraison de fleurs à <b>Arbre</b> de guise (mazinghien). Bouquet de fleurs livré en mains propres, 7j/7, par un fleuriste à&nbsp;...'}], 'htmlFormattedUrl': 'https://www.interflora.fr/.../<b>ARBRE</b>-DE-GUISE-MAZINGHIEN-59395001', 'pagemap': {'cse_image': [{'src': 'https://medias.interflora.fr/fstrz/r/s/c/medias.interflora.fr/medias/B7HERB-THUMBMAY-PRIMARY-0-1.jpg?context=bWFzdGVyfGltYWdlc3w4NjgxOHxpbWFnZS9qcGVnfGltYWdlcy9oOWYvaGY3Lzk1NDk2NTY5NDg3NjYuanBnfDJkMmUyNTUzZTFjMmMwMzFiNzFiZmZlOTM2ZTU5ODQ0ZjU2NzRmNmQwZjZmOWI0ZmFjZTIyNTU3YzUwNzUzY2U'}], 'cse_thumbnail': [{'src': 'https://encrypted-tbn2.gstatic.com/images?q=tbn:ANd9GcRMEG7181X_YiiwNirb3D4eqL7vTI_-Mx1nEigac832DXbd1CRvmoXWdftc', 'height': '225', 'width': '225'}], 'metatags': [{'twitter:card': 'summary_large_image', 'theme-color': '#303938', 'viewport': 'width=device-width, initial-scale=1', 'apple-mobile-web-app-capable': 'yes', 'twitter:url': 'https://mobile.interflora.fr/fleuristes/Nord-59/ARBRE-DE-GUISE-MAZINGHIEN-59395001', 'twitter:creator': '@Interflora', 'twitter:site': '@Interflora', 'og:image': 'https://blog.interflora.fr/wp-content/uploads/2017/02/saint.png', 'twitter:account_id': '16924183', 'mobile-web-app-capable': 'yes', 'twitter:title': 'Fleuriste ARBRE DE GUISE (MAZINGHIEN) – Livraison de fleurs ARBRE DE GUISE (MAZINGHIEN) (59) - Interflora', 'twitter:description': 'INTERFLORA. Faire livrer un superbe bouquet de fleurs rapidement par un des artisans fleuristes INTERFLORA. Bouquet dés 24,90€ remis en main propre sous 4H', 'apple-mobile-web-app-status-bar-style': 'black-translucent', 'twitter:image': 'https://blog.interflora.fr/wp-content/uploads/2017/02/saint.png', 'title': 'Fleuriste ARBRE DE GUISE (MAZINGHIEN) – Livraison de fleurs ARBRE DE GUISE (MAZINGHIEN) (59) - Interflora', 'og:type': 'website'}]}, 'formattedUrl': 'https://www.interflora.fr/.../ARBRE-DE-GUISE-MAZINGHIEN-59395001', 'displayLink': 'www.interflora.fr', 'htmlTitle': 'Fleuriste <b>ARBRE</b> DE GUISE (MAZINGHIEN) – Livraison de fleurs ...', 'title': 'Fleuriste ARBRE DE GUISE (MAZINGHIEN) – Livraison de fleurs ...'}}}, {'id': '2', 'document': {'name': 'projects/210552312048/locations/global/collections/default_collection/dataStores/interflora_website/branches/0/documents/2', 'id': '2', 'derivedStructData': {'htmlTitle': 'Fleuriste L&#39;<b>ARBRE</b> (MAZEROLLES) – Livraison de fleurs L&#39;<b>ARBRE</b> ...', 'snippets': [{'htmlSnippet': 'Les fleuristes Interflora assurent la livraison de fleurs à L&#39;<b>arbre</b> (mazerolles). Bouquet de fleurs livré en mains propres, 7j/7, par un fleuriste à L&#39;<b>arbre</b>&nbsp;...', 'snippet': \"Les fleuristes Interflora assurent la livraison de fleurs à L'arbre (mazerolles). Bouquet de fleurs livré en mains propres, 7j/7, par un fleuriste à L'arbre\\xa0...\"}], 'formattedUrl': 'https://www.interflora.fr/fleuristes/.../L-ARBRE-MAZEROLLES-16213001', 'title': \"Fleuriste L'ARBRE (MAZEROLLES) – Livraison de fleurs L'ARBRE ...\", 'htmlFormattedUrl': 'https://www.interflora.fr/fleuristes/.../L-<b>ARBRE</b>-MAZEROLLES-16213001', 'link': 'https://www.interflora.fr/fleuristes/Charente-16/L-ARBRE-MAZEROLLES-16213001', 'pagemap': {'cse_image': [{'src': 'https://medias.interflora.fr/fstrz/r/s/c/medias.interflora.fr/medias/FDMB2-THUMBMAY-PRIMARY-0-1.jpg?context=bWFzdGVyfGltYWdlc3wxMTM2NzZ8aW1hZ2UvanBlZ3xpbWFnZXMvaDdhL2hjZC85NTg1NjU3MTUxNTE4LmpwZ3wyZmU0OGViNjIyMWE2YzhlZGRhYzUzOTFmMDc2YWYxYmM3ZjMzZTIzODc4NjgyOWIxZmNlZmRmYWZjY2ViOGNi'}], 'metatags': [{'og:type': 'website', 'mobile-web-app-capable': 'yes', 'twitter:url': 'https://mobile.interflora.fr/fleuristes/Charente-16/L-ARBRE-MAZEROLLES-16213001', 'twitter:card': 'summary_large_image', 'apple-mobile-web-app-capable': 'yes', 'twitter:creator': '@Interflora', 'twitter:title': \"Fleuriste L'ARBRE (MAZEROLLES) – Livraison de fleurs L'ARBRE (MAZEROLLES) (16) - Interflora\", 'twitter:site': '@Interflora', 'og:image': 'https://blog.interflora.fr/wp-content/uploads/2017/02/saint.png', 'title': \"Fleuriste L'ARBRE (MAZEROLLES) – Livraison de fleurs L'ARBRE (MAZEROLLES) (16) - Interflora\", 'twitter:account_id': '16924183', 'twitter:description': 'INTERFLORA. Faire livrer un superbe bouquet de fleurs rapidement par un des artisans fleuristes INTERFLORA. Bouquet dés 24,90€ remis en main propre sous 4H', 'theme-color': '#303938', 'twitter:image': 'https://blog.interflora.fr/wp-content/uploads/2017/02/saint.png', 'viewport': 'width=device-width, initial-scale=1', 'apple-mobile-web-app-status-bar-style': 'black-translucent'}], 'cse_thumbnail': [{'width': '225', 'height': '225', 'src': 'https://encrypted-tbn2.gstatic.com/images?q=tbn:ANd9GcQJoQHngwuvIPgEMwoG3OWhXGSDH7zqXB-CyJTuKGPvU9igH-jv66wMnxQ'}]}, 'displayLink': 'www.interflora.fr'}}}, {'id': '3', 'document': {'name': 'projects/210552312048/locations/global/collections/default_collection/dataStores/interflora_website/branches/0/documents/3', 'id': '3', 'derivedStructData': {'link': 'https://www.interflora.fr/fleuristes/Dordogne-24/LE-BEL-ARBRE-BOURROU-24061001', 'formattedUrl': 'https://www.interflora.fr/fleuristes/.../LE-BEL-ARBRE-BOURROU-24061001', 'snippets': [{'snippet': 'Les fleuristes Interflora assurent la livraison de fleurs à Le bel arbre (bourrou). Bouquet de fleurs livré en mains propres, 7j/7, par un fleuriste à Le\\xa0...', 'htmlSnippet': 'Les fleuristes Interflora assurent la livraison de fleurs à Le bel <b>arbre</b> (bourrou). Bouquet de fleurs livré en mains propres, 7j/7, par un fleuriste à Le&nbsp;...'}], 'htmlTitle': 'Fleuriste LE BEL <b>ARBRE</b> (BOURROU) – Livraison de fleurs LE BEL ...', 'displayLink': 'www.interflora.fr', 'title': 'Fleuriste LE BEL ARBRE (BOURROU) – Livraison de fleurs LE BEL ...', 'pagemap': {'metatags': [{'title': 'Fleuriste LE BEL ARBRE (BOURROU) – Livraison de fleurs LE BEL ARBRE (BOURROU) (24) - Interflora', 'viewport': 'width=device-width, initial-scale=1', 'twitter:account_id': '16924183', 'mobile-web-app-capable': 'yes', 'twitter:site': '@Interflora', 'twitter:card': 'summary_large_image', 'theme-color': '#303938', 'twitter:title': 'Fleuriste LE BEL ARBRE (BOURROU) – Livraison de fleurs LE BEL ARBRE (BOURROU) (24) - Interflora', 'og:image': 'https://blog.interflora.fr/wp-content/uploads/2017/02/saint.png', 'apple-mobile-web-app-capable': 'yes', 'twitter:description': 'INTERFLORA. Faire livrer un superbe bouquet de fleurs rapidement par un des artisans fleuristes INTERFLORA. Bouquet dés 24,90€ remis en main propre sous 4H', 'twitter:creator': '@Interflora', 'twitter:url': 'https://mobile.interflora.fr/fleuristes/Dordogne-24/LE-BEL-ARBRE-BOURROU-24061001', 'twitter:image': 'https://blog.interflora.fr/wp-content/uploads/2017/02/saint.png', 'og:type': 'website', 'apple-mobile-web-app-status-bar-style': 'black-translucent'}], 'cse_thumbnail': [{'width': '224', 'src': 'https://encrypted-tbn1.gstatic.com/images?q=tbn:ANd9GcSJLnRFJ3jRwEInMSkMu74CnVEp7Xm1Ec4w4LIb_pqhjmEOMe0M84EXPeuO', 'height': '224'}], 'cse_image': [{'src': 'https://medias.interflora.fr/fstrz/r/s/c/medias.interflora.fr/medias/slider-reassurance-2.png?context=bWFzdGVyfGltYWdlc3wxNDI1NDF8aW1hZ2UvcG5nfGltYWdlcy9oMmUvaGEzLzk1NTQxMTA4NzM2MzAucG5nfDg2YzA5Yjk0YTc5N2FkNTJkZWMyZmM1OGU4Mzc1YzIzYWYwMmZhY2ZjZThlMTQ3NjIzYWVjYTE0ODBhZDg2ZjU'}]}, 'htmlFormattedUrl': 'https://www.interflora.fr/fleuristes/.../LE-BEL-<b>ARBRE</b>-BOURROU-24061001'}}}, {'id': '4', 'document': {'name': 'projects/210552312048/locations/global/collections/default_collection/dataStores/interflora_website/branches/0/documents/4', 'id': '4', 'derivedStructData': {'pagemap': {'metatags': [{'og:image': 'https://blog.interflora.fr/wp-content/uploads/2017/02/saint.png', 'twitter:account_id': '16924183', 'twitter:creator': '@Interflora', 'viewport': 'width=device-width, initial-scale=1', 'title': 'Fleuriste BEL ARBRE (SAINT GENIES) – Livraison de fleurs BEL ARBRE (SAINT GENIES) (24) - Interflora', 'theme-color': '#303938', 'twitter:card': 'summary_large_image', 'twitter:url': 'https://mobile.interflora.fr/fleuristes/Dordogne-24/BEL-ARBRE-SAINT-GENIES-24412001', 'twitter:title': 'Fleuriste BEL ARBRE (SAINT GENIES) – Livraison de fleurs BEL ARBRE (SAINT GENIES) (24) - Interflora', 'og:type': 'website', 'twitter:site': '@Interflora', 'mobile-web-app-capable': 'yes', 'twitter:description': 'INTERFLORA. Faire livrer un superbe bouquet de fleurs rapidement par un des artisans fleuristes INTERFLORA. Bouquet dés 24,90€ remis en main propre sous 4H', 'apple-mobile-web-app-capable': 'yes', 'twitter:image': 'https://blog.interflora.fr/wp-content/uploads/2017/02/saint.png', 'apple-mobile-web-app-status-bar-style': 'black-translucent'}], 'cse_thumbnail': [{'src': 'https://encrypted-tbn0.gstatic.com/images?q=tbn:ANd9GcQ7a5-wUFe5r8HCGa8IK5sJvS5KK5moi6S_lF6arSQWLDlFfoVDcDZSDqw', 'width': '225', 'height': '225'}], 'cse_image': [{'src': 'https://medias.interflora.fr/fstrz/r/s/c/medias.interflora.fr/medias/2TUFRA-THUMBMAY-PRIMARY-0-1.jpg?context=bWFzdGVyfGltYWdlc3wxMzM4MDJ8aW1hZ2UvanBlZ3xpbWFnZXMvaGU2L2hjMC85NTMwNjIzNzU0MjcwLmpwZ3w3OGU3MGU2NjZiZDE1NjU3MWVlZjZhMDYyMWY0M2FhZTZkZmY1Y2E5MzRmMzkxOWY2MzU3ZjY3ZjJiNGIxMTk1'}]}, 'snippets': [{'htmlSnippet': 'Bouquet de fleurs livré en mains propres, 7j/7, par un fleuriste à Bel <b>arbre</b> (saint genies). Interflora Dordogne vous guide vers le meilleur choix de bouquet de&nbsp;...', 'snippet': 'Bouquet de fleurs livré en mains propres, 7j/7, par un fleuriste à Bel arbre (saint genies). Interflora Dordogne vous guide vers le meilleur choix de bouquet de\\xa0...'}], 'title': 'Fleuriste BEL ARBRE (SAINT GENIES) – Livraison de fleurs BEL ...', 'htmlTitle': 'Fleuriste BEL <b>ARBRE</b> (SAINT GENIES) – Livraison de fleurs BEL ...', 'displayLink': 'www.interflora.fr', 'formattedUrl': 'https://www.interflora.fr/...24/BEL-ARBRE-SAINT-GENIES-24412001', 'htmlFormattedUrl': 'https://www.interflora.fr/...24/BEL-<b>ARBRE</b>-SAINT-GENIES-24412001', 'link': 'https://www.interflora.fr/fleuristes/Dordogne-24/BEL-ARBRE-SAINT-GENIES-24412001'}}}], 'totalSize': 284, 'attributionToken': 'UvBRCgsIuI7fowYQnpf_IhIkNjQ3NzJhMWEtMDAwMC0yM2MzLThiOWMtNTgyNDI5YjAxYmQwIgdHRU5FUklDKhTFy_MXpovvF46-nRXUsp0VwvCeFQ', 'nextPageToken': 'AMkJWMwIWOyQjM4UTLjljY40yMjNjMtADMwATL5ETYyczN0YDJaEAz1iLxQYwoufPuIwgE1EgC', 'guidedSearchResult': {}, 'summary': {}}\n",
      "{'results': [{'id': '0', 'document': {'name': 'projects/210552312048/locations/global/collections/default_collection/dataStores/interflora_website/branches/0/documents/0', 'id': '0', 'derivedStructData': {'formattedUrl': 'https://www.interflora.fr/p/brassee-roses-rouges-10-offertes/2/FR', 'htmlTitle': 'Brassées de <b>roses</b> rouges Max Havelaar | Interflora | Livraison <b>roses</b>', 'htmlFormattedUrl': 'https://www.interflora.fr/p/brassee-<b>roses</b>-rouges-10-offertes/2/FR', 'pagemap': {'cse_image': [{'src': 'https://medias.interflora.fr/fstrz/r/s/c/medias.interflora.fr/medias/FR04B-GALLERY-0-5.jpg?context=bWFzdGVyfGltYWdlc3w5ODQxM3xpbWFnZS9qcGVnfGltYWdlcy9oYWIvaGFlLzk1NTI3NjM0MjA3MDIuanBnfDA5ZWY5NTQ3ODhiMzRhMGJiNDRlNGM2MGIyNjQ0YTMxOGQ1YWJhZDM3ZDM1NDI5NDE1YjBmOGJhZDY4NGI5MWU'}], 'cse_thumbnail': [{'width': '225', 'height': '225', 'src': 'https://encrypted-tbn1.gstatic.com/images?q=tbn:ANd9GcR3blQvm4JR2a_LPymrcE6qY7aQpbxvxbuBwhzGZGysACwcCE7cXWPU-rsI'}], 'metatags': [{'theme-color': '#303938', 'twitter:url': 'https://mobile.interflora.fr/p/brassee-roses-rouges-10-offertes/2/FR', 'twitter:card': 'summary_large_image', 'og:image': 'https://blog.interflora.fr/wp-content/uploads/2017/02/saint.png', 'viewport': 'width=device-width, initial-scale=1', 'apple-mobile-web-app-status-bar-style': 'black-translucent', 'twitter:description': 'INTERFLORA vous propose ce magnifique bouquet de roses rouges disponible par 40, 50 ou 60 roses. Cette magnifique brassée de roses est assemblée par votre artisan fleuriste et livrée en express dans toute la france. Disponible en roses blanches, rouges', 'twitter:creator': '@Interflora', 'twitter:image': 'https://blog.interflora.fr/wp-content/uploads/2017/02/saint.png', 'title': 'Brassées de roses rouges Max Havelaar | Interflora | Livraison roses', 'twitter:site': '@Interflora', 'mobile-web-app-capable': 'yes', 'twitter:account_id': '16924183', 'apple-mobile-web-app-capable': 'yes', 'twitter:title': 'Brassées de roses rouges Max Havelaar | Interflora | Livraison roses', 'og:type': 'website'}]}, 'title': 'Brassées de roses rouges Max Havelaar | Interflora | Livraison roses', 'snippets': [{'snippet': 'INTERFLORA vous propose ce magnifique bouquet de roses rouges disponible par 40, 50 ou 60 roses. Cette magnifique brassée de roses est assemblée par votre\\xa0...', 'htmlSnippet': 'INTERFLORA vous propose ce magnifique bouquet de <b>roses</b> rouges disponible par 40, 50 ou 60 <b>roses</b>. Cette magnifique brassée de <b>roses</b> est assemblée par votre&nbsp;...'}], 'displayLink': 'www.interflora.fr', 'link': 'https://www.interflora.fr/p/brassee-roses-rouges-10-offertes/2/FR'}}}, {'id': '1', 'document': {'name': 'projects/210552312048/locations/global/collections/default_collection/dataStores/interflora_website/branches/0/documents/1', 'id': '1', 'derivedStructData': {'link': 'https://www.interflora.fr/', 'htmlTitle': 'Interflora : livraison de fleurs à domicile en 4H', 'snippets': [{'snippet': 'Grâce à notre réseau de 5 200 fleuristes répartis dans toute la France, chaque bouquet de roses ou de saison est unique. Que vous choisissiez parmi nos\\xa0...', 'htmlSnippet': 'Grâce à notre réseau de 5 200 fleuristes répartis dans toute la France, chaque bouquet de <b>roses</b> ou de saison est unique. Que vous choisissiez parmi nos&nbsp;...'}], 'htmlFormattedUrl': 'https://www.interflora.fr/', 'title': 'Interflora : livraison de fleurs à domicile en 4H', 'displayLink': 'www.interflora.fr', 'pagemap': {'cse_image': [{'src': 'https://medias.interflora.fr/fstrz/r/s/c/medias.interflora.fr/medias/Bandeau-principal-MothersDay2023-Octopus-02.jpg?context=bWFzdGVyfHJvb3R8MjIwMjIwfGltYWdlL2pwZWd8aGIwL2gzZC85NTc5NzE5OTgzMTM0LmpwZ3wxMDg1YjM1Y2E0NDkzMDk1NWRhMTg0ODViNWU5YzBlYTk2OTk2ZDI3OTE5ODc2MjNiY2M3NDMyYmZjNTdjMGJl'}], 'metatags': [{'twitter:image': 'https://blog.interflora.fr/wp-content/uploads/2017/02/saint.png', 'twitter:creator': '@Interflora', 'title': 'Interflora : livraison de fleurs à domicile en 4H', 'twitter:account_id': '16924183', 'twitter:url': 'https://mobile.interflora.fr/', 'twitter:site': '@Interflora', 'og:image': 'https://blog.interflora.fr/wp-content/uploads/2017/02/saint.png', 'twitter:description': 'Découvrez nos bouquets de fleurs dès 22,95€. Livraison dans toute la France dès 6,95€, en 4H à Paris. Livraison 7J/7, dimanche et les jours fériés', 'twitter:title': 'Interflora : livraison de fleurs à domicile en 4H', 'mobile-web-app-capable': 'yes', 'apple-mobile-web-app-status-bar-style': 'black-translucent', 'viewport': 'width=device-width, initial-scale=1', 'theme-color': '#303938', 'og:type': 'website', 'twitter:card': 'summary_large_image', 'apple-mobile-web-app-capable': 'yes'}], 'cse_thumbnail': [{'height': '168', 'src': 'https://encrypted-tbn2.gstatic.com/images?q=tbn:ANd9GcRGtTnwnvb2u4QTYZy731SOqeNkhKyV2I2mAR7Ga_Pj5Ec7U8bdWAjWc_Ks', 'width': '300'}]}, 'formattedUrl': 'https://www.interflora.fr/'}}}, {'id': '2', 'document': {'name': 'projects/210552312048/locations/global/collections/default_collection/dataStores/interflora_website/branches/0/documents/2', 'id': '2', 'derivedStructData': {'title': 'Roses : bouquets de rose et livraison de roses - Interflora', 'snippets': [{'snippet': 'Une collection de bouquet de roses unique dédiée à la \"reine des fleurs\". Depuis l\\'Antiquité, la rose rouge n\\'a de cesse de susciter l\\'émerveillement, au point\\xa0...', 'htmlSnippet': 'Une collection de bouquet de <b>roses</b> unique dédiée à la &quot;reine des fleurs&quot;. Depuis l&#39;Antiquité, la <b>rose</b> rouge n&#39;a de cesse de susciter l&#39;émerveillement, au point&nbsp;...'}], 'htmlFormattedUrl': 'https://www.interflora.fr/c/<b>roses</b>', 'pagemap': {'cse_image': [{'src': 'https://medias.interflora.fr/fstrz/r/s/c/medias.interflora.fr/medias/FR04B-THUMBMAY-PRIMARY-0-1.jpg?context=bWFzdGVyfGltYWdlc3w5OTcwNXxpbWFnZS9qcGVnfGltYWdlcy9oMDQvaGQ0Lzk1NDA5OTU1NDcxNjYuanBnfDJlMWQ2N2ZkODc5YTc3MTIzNTFlZjdlZDVlMDdhN2VhYWQ2MmNkOTI1NzlhMzM3ZGFjZDFiMzlhMzYxODMwMDE'}], 'cse_thumbnail': [{'width': '225', 'height': '225', 'src': 'https://encrypted-tbn3.gstatic.com/images?q=tbn:ANd9GcQ_qaFhj-ACHM2ZLpPEb3Sie-uHXk-Eo8bj1_MPCSTSPzvrg8Mb26ChHXC1'}], 'metatags': [{'viewport': 'width=device-width, initial-scale=1', 'twitter:title': 'Roses : bouquets de rose et livraison de roses - Interflora', 'twitter:image': 'https://blog.interflora.fr/wp-content/uploads/2017/02/saint.png', 'apple-mobile-web-app-status-bar-style': 'black-translucent', 'theme-color': '#303938', 'mobile-web-app-capable': 'yes', 'og:type': 'website', 'twitter:description': 'Découvrez notre collection de bouquets de roses. Envoyez des roses à vos proches avec Interflora, des bouquets livrés en 4h, réalisés par un artisan fleuriste.', 'twitter:card': 'summary_large_image', 'twitter:account_id': '16924183', 'apple-mobile-web-app-capable': 'yes', 'twitter:site': '@Interflora', 'og:image': 'https://blog.interflora.fr/wp-content/uploads/2017/02/saint.png', 'title': 'Roses : bouquets de rose et livraison de roses - Interflora', 'twitter:creator': '@Interflora', 'twitter:url': 'https://mobile.interflora.fr/c/roses'}]}, 'displayLink': 'www.interflora.fr', 'formattedUrl': 'https://www.interflora.fr/c/roses', 'link': 'https://www.interflora.fr/c/roses', 'htmlTitle': '<b>Roses</b> : bouquets de <b>rose</b> et livraison de <b>roses</b> - Interflora'}}}, {'id': '3', 'document': {'name': 'projects/210552312048/locations/global/collections/default_collection/dataStores/interflora_website/branches/0/documents/3', 'id': '3', 'derivedStructData': {'pagemap': {'cse_image': [{'src': 'https://medias.interflora.fr/fstrz/r/s/c/medias.interflora.fr/medias/W2BOROMO-GALLERY-0-1.jpg?context=bWFzdGVyfGltYWdlc3wxMzc1NTB8aW1hZ2UvanBlZ3xpbWFnZXMvaGMwL2hjNy85NTg3NzU3OTQwNzY2LmpwZ3xkZmZiNmNkNDg3NDVlMTkyODM1NzlkNWMwOTY2OGE4NmNjOWQ2NGY1YTQ5Mjg5NDljN2MyOTI0NDZkYjEwNGVh'}], 'metatags': [{'twitter:account_id': '16924183', 'apple-mobile-web-app-status-bar-style': 'black-translucent', 'twitter:title': 'Bois de rose et son vase offert | Bouquet de fleurs | Rapidité : Remise en main propre en - de 4h | Qualité garantie : bouquet réalisé par un artisan fleuriste', 'viewport': 'width=device-width, initial-scale=1', 'og:image': 'https://blog.interflora.fr/wp-content/uploads/2017/02/saint.png', 'twitter:creator': '@Interflora', 'theme-color': '#303938', 'mobile-web-app-capable': 'yes', 'twitter:card': 'summary_large_image', 'apple-mobile-web-app-capable': 'yes', 'twitter:url': 'https://mobile.interflora.fr/p/bois-de-rose-et-son-vase-offert/2/FR', 'twitter:site': '@Interflora', 'og:type': 'website', 'twitter:image': 'https://blog.interflora.fr/wp-content/uploads/2017/02/saint.png', 'title': 'Bois de rose et son vase offert | Bouquet de fleurs | Rapidité : Remise en main propre en - de 4h | Qualité garantie : bouquet réalisé par un artisan fleuriste', 'twitter:description': 'Bois de rose et son vase offert | Bouquet de fleurs | Rapidité : Remise en main propre en - de 4h | Qualité garantie : bouquet réalisé par un artisan fleuriste'}], 'cse_thumbnail': [{'width': '225', 'src': 'https://encrypted-tbn0.gstatic.com/images?q=tbn:ANd9GcRKSWtPrNAsV4IxnN_qAVU7um8EDvkWrA9gXC8NhfBsVc_5G33MFLAj6Oc', 'height': '225'}]}, 'link': 'https://www.interflora.fr/p/bois-de-rose-et-son-vase-offert/2/FR', 'htmlTitle': 'Bois de <b>rose</b> et son vase offert | Bouquet de fleurs | Rapidité ...', 'formattedUrl': 'https://www.interflora.fr/p/bois-de-rose-et-son-vase-offert/2/FR', 'title': 'Bois de rose et son vase offert | Bouquet de fleurs | Rapidité ...', 'displayLink': 'www.interflora.fr', 'snippets': [{'snippet': 'Délivrez vos plus beaux messages avec notre bouquet Bois de rose, une création florale en camaïeu rose composée de roses, lisianthus, germinis et autres\\xa0...', 'htmlSnippet': 'Délivrez vos plus beaux messages avec notre bouquet Bois de <b>rose</b>, une création florale en camaïeu <b>rose</b> composée de <b>roses</b>, lisianthus, germinis et autres&nbsp;...'}], 'htmlFormattedUrl': 'https://www.interflora.fr/p/bois-de-<b>rose</b>-et-son-vase-offert/2/FR'}}}, {'id': '4', 'document': {'name': 'projects/210552312048/locations/global/collections/default_collection/dataStores/interflora_website/branches/0/documents/4', 'id': '4', 'derivedStructData': {'title': 'Brassée de roses multicolores Max Havelaar | Interflora | Livraison ...', 'link': 'https://www.interflora.fr/p/brassee-roses-multicolores-10-offertes/2/FR', 'htmlFormattedUrl': 'https://www.interflora.fr/p/brassee-<b>roses</b>-multicolores-10-offertes/2/FR', 'snippets': [{'snippet': 'Fleurs principales : Roses. Couleurs principales : Rouge, rose, orange et jaune. Entretien. Pour conserver encore plus longtemps vos fleurs, quelques astuces\\xa0...', 'htmlSnippet': 'Fleurs principales : <b>Roses</b>. Couleurs principales : Rouge, <b>rose</b>, orange et jaune. Entretien. Pour conserver encore plus longtemps vos fleurs, quelques astuces&nbsp;...'}], 'displayLink': 'www.interflora.fr', 'formattedUrl': 'https://www.interflora.fr/p/brassee-roses-multicolores-10-offertes/2/FR', 'htmlTitle': 'Brassée de <b>roses</b> multicolores Max Havelaar | Interflora | Livraison ...', 'pagemap': {'cse_thumbnail': [{'width': '225', 'height': '225', 'src': 'https://encrypted-tbn0.gstatic.com/images?q=tbn:ANd9GcRW4v2IHAdBspTDCj6JAUVrZFaCgKVJ7CnEMqrVQhnG3AQAKObrjFZ9aIOV'}], 'metatags': [{'twitter:account_id': '16924183', 'viewport': 'width=device-width, initial-scale=1', 'twitter:creator': '@Interflora', 'twitter:url': 'https://mobile.interflora.fr/p/brassee-roses-multicolores-10-offertes/2/FR', 'og:image': 'https://blog.interflora.fr/wp-content/uploads/2017/02/saint.png', 'twitter:title': 'Brassée de roses multicolores Max Havelaar | Interflora | Livraison roses', 'twitter:description': 'Brassée de roses multicolores Max Havelaar | Interflora | Livraison bouquet de roses | Livraison en moins de 24h', 'apple-mobile-web-app-status-bar-style': 'black-translucent', 'apple-mobile-web-app-capable': 'yes', 'twitter:site': '@Interflora', 'twitter:image': 'https://blog.interflora.fr/wp-content/uploads/2017/02/saint.png', 'mobile-web-app-capable': 'yes', 'theme-color': '#303938', 'twitter:card': 'summary_large_image', 'title': 'Brassée de roses multicolores Max Havelaar | Interflora | Livraison roses', 'og:type': 'website'}], 'cse_image': [{'src': 'https://medias.interflora.fr/fstrz/r/s/c/medias.interflora.fr/medias/FM04B-GALLERY-0-5.jpg?context=bWFzdGVyfGltYWdlc3w5MjE4N3xpbWFnZS9qcGVnfGltYWdlcy9oYjIvaDNiLzk1NTI3NjMwMjc0ODYuanBnfGI3MDU1MDY0MTkzODAwYzJlOWFlZGYxZTM4NDQ4NDMxNTVhNTRhNTJlYTBlZTNkNzQ0ODg5YjM0Njg4Nzk0Yjk'}]}}}}], 'totalSize': 46200, 'attributionToken': 'UvBRCgsIwY_fowYQkdjcBhIkNjQ3NzI4ZGUtMDAwMC0yNjA2LWExN2ItZDRmNTQ3ZjNmZTI0IgdHRU5FUklDKhTUsp0VpovvF8LwnhWOvp0Vx8vzFw', 'nextPageToken': 'ANyUmZzY2N0UjZ0QWLidTMh1iNwYjMtADMwATLkRGOyczN0YDJaIQkAyK0QYwoujfwIwgE1EgC', 'guidedSearchResult': {}, 'summary': {}}\n"
     ]
    }
   ],
   "source": [
    "import gradio as gr\n",
    "\n",
    "def process(query):\n",
    "    return genAppBuilder(query)\n",
    "\n",
    "import gradio as gr\n",
    "\n",
    "\n",
    "\n",
    "with gr.Blocks(theme=gr.themes.Soft()) as demo:  \n",
    "    with gr.Row():\n",
    "        with gr.Column():\n",
    "            query = gr.Textbox(label=\"query\")\n",
    "            greet_btn = gr.Button(\"search\")\n",
    "        with gr.Column():    \n",
    "            title = gr.Textbox(label=\"Title\")\n",
    "            link = gr.Textbox(label=\"Link\")\n",
    "            snippet = gr.Textbox(label=\"Snippet\")\n",
    "            description = gr.Textbox(label=\"Description\")\n",
    "            image = gr.Textbox(label=\"Image\")\n",
    "\n",
    "\n",
    "\n",
    "    greet_btn.click(fn=process, inputs=query, outputs=[title, link, snippet, description, image])\n",
    "\n",
    "demo.launch(debug=True, share=True)\n"
   ]
  },
  {
   "cell_type": "code",
   "execution_count": null,
   "id": "222d7f4d",
   "metadata": {},
   "outputs": [],
   "source": []
  },
  {
   "cell_type": "markdown",
   "id": "4837996c",
   "metadata": {},
   "source": []
  },
  {
   "cell_type": "markdown",
   "id": "e18b6058-f39d-47c4-a194-a95d1ca1cc5f",
   "metadata": {},
   "source": [
    "# example d'utilisation de l'api"
   ]
  },
  {
   "cell_type": "code",
   "execution_count": null,
   "id": "02b6774f-09c8-4d62-9c85-6d5dcabb6b9f",
   "metadata": {},
   "outputs": [],
   "source": [
    "from gradio_client import Client\n",
    "\n",
    "client_genappbuilder = Client(\"https://df5429029f7447730a.gradio.live\")\n",
    "\n",
    "client_genappbuilder.view_api()\n",
    "\n",
    "client_genappbuilder.predict(\"fleur\",  fn_index=0)\n",
    "\n"
   ]
  },
  {
   "cell_type": "code",
   "execution_count": null,
   "id": "12153244-b661-4289-b6c9-f08e013ba65b",
   "metadata": {},
   "outputs": [],
   "source": []
  }
 ],
 "metadata": {
  "environment": {
   "kernel": "python3",
   "name": "tf2-gpu.2-11.m108",
   "type": "gcloud",
   "uri": "gcr.io/deeplearning-platform-release/tf2-gpu.2-11:m108"
  },
  "kernelspec": {
   "display_name": "Python 3 (ipykernel)",
   "language": "python",
   "name": "python3"
  },
  "language_info": {
   "codemirror_mode": {
    "name": "ipython",
    "version": 3
   },
   "file_extension": ".py",
   "mimetype": "text/x-python",
   "name": "python",
   "nbconvert_exporter": "python",
   "pygments_lexer": "ipython3",
   "version": "3.10.7"
  }
 },
 "nbformat": 4,
 "nbformat_minor": 5
}
