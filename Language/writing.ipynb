{
 "cells": [
  {
   "cell_type": "markdown",
   "metadata": {},
   "source": [
    "# Install librairies and setup"
   ]
  },
  {
   "cell_type": "code",
   "execution_count": null,
   "metadata": {},
   "outputs": [],
   "source": [
    "!pip install \"shapely<2.0.0\" \n",
    "!pip install google-cloud-aiplatform --upgrade"
   ]
  },
  {
   "cell_type": "code",
   "execution_count": 7,
   "metadata": {},
   "outputs": [],
   "source": [
    "import vertexai\n",
    "from google.cloud import bigquery\n",
    "\n",
    "PROJECT_ID = \"ml-demo-384110\"  # @param {type:\"string\"}\n",
    "vertexai.init(project=PROJECT_ID, location=\"us-central1\")\n",
    "\n",
    "%load_ext google.cloud.bigquery"
   ]
  },
  {
   "cell_type": "markdown",
   "metadata": {},
   "source": [
    "# Aide à l'ecriture de site web\n",
    "\n",
    "- Générer du texte depuis un prompt. Exemple: \"Génère-moi un paragraphe décrivant la pratique du yoga.\"\n",
    "\n",
    "- Générer des tags SEO depuis le contenu d'un site. (Le contenu texte brut est disponible pour envoie via API)\n",
    "\n",
    "- Générer une description SEO depuis le contenu d'un site. (Le contenu texte brut est disponible pour envoie via API)"
   ]
  },
  {
   "cell_type": "code",
   "execution_count": null,
   "metadata": {},
   "outputs": [],
   "source": []
  },
  {
   "cell_type": "markdown",
   "metadata": {},
   "source": [
    "Générer du texte depuis un prompt. \n",
    "- Exemple: \"Génère-moi un paragraphe décrivant la pratique du yoga.\"\n"
   ]
  },
  {
   "cell_type": "code",
   "execution_count": 5,
   "metadata": {},
   "outputs": [
    {
     "name": "stdout",
     "output_type": "stream",
     "text": [
      "Response from Model: Le yoga est une pratique ancienne qui combine des exercices physiques, de la méditation et de la respiration. Il existe de nombreuses formes de yoga, mais elles partagent toutes un objectif commun : aider les gens à se connecter à leur corps et à leur esprit.\n",
      "\n",
      "Les postures de yoga (asanas) sont conçues pour étirer et renforcer les muscles, améliorer la souplesse et la circulation sanguine, et réduire le stress. La méditation et la respiration (pranayama) aident à calmer l'esprit et à améliorer la concentration.\n",
      "\n",
      "Le yoga peut être pratiqué par tout le monde, quels que soient son âge ou son niveau de forme physique. Il est important de trouver une classe qui est adaptée à vos besoins et à vos capacités.\n",
      "\n",
      "Le yoga peut apporter de nombreux bienfaits pour la santé, notamment :\n",
      "\n",
      "* Une meilleure santé cardiaque et pulmonaire\n",
      "* Une réduction du stress et de l'anxiété\n",
      "* Une amélioration de la posture et de la souplesse\n",
      "* Une meilleure qualité du sommeil\n",
      "* Une augmentation de l'énergie\n",
      "* Une meilleure concentration\n",
      "* Une plus grande harmonie entre le corps et l'esprit\n",
      "\n",
      "Si vous êtes intéressé par le yoga, il existe de nombreuses ressources disponibles pour vous aider à démarrer. Vous pouvez trouver des classes de yoga dans la plupart des villes, et il existe également de nombreux livres, DVD et sites Web sur le sujet.\n",
      "\n",
      "Voici quelques sources d'information sur le yoga :\n",
      "\n",
      "* American Yoga Association : https://www.yogaalliance.org\n",
      "* Yoga Journal : https://www.yogajournal.com\n",
      "* The Chopra Center : https://www.chopra.com/yoga\n",
      "* The National Institute of Yoga : https://www.yoga.gov\n",
      "\n",
      "Je vous souhaite une bonne pratique du yoga !\n"
     ]
    }
   ],
   "source": [
    "\n",
    "import vertexai\n",
    "from vertexai.language_models import TextGenerationModel\n",
    "\n",
    "vertexai.init(project=PROJECT_ID, location=\"us-central1\")\n",
    "parameters = {\n",
    "    \"max_output_tokens\": 1024,\n",
    "    \"temperature\": 0.8,\n",
    "    \"top_p\": 0.8,\n",
    "    \"top_k\": 40\n",
    "}\n",
    "model = TextGenerationModel.from_pretrained(\"text-bison@001\")\n",
    "response = model.predict(\n",
    "    \"\"\"Génère-moi un paragraphe décrivant la pratique du yoga\n",
    "donne moi les sources.\"\"\",\n",
    "    **parameters\n",
    ")\n",
    "print(f\"Response from Model: {response.text}\")\n"
   ]
  },
  {
   "cell_type": "code",
   "execution_count": 6,
   "metadata": {},
   "outputs": [],
   "source": []
  },
  {
   "cell_type": "markdown",
   "metadata": {},
   "source": [
    "# Avec Bigquery ML"
   ]
  },
  {
   "cell_type": "code",
   "execution_count": null,
   "metadata": {},
   "outputs": [],
   "source": [
    "%%bigquery\n",
    "\n",
    "\n",
    "create or replace table `immo_us_enriched.image_cloudvision_description_bench_1`  as  (\n",
    "\n",
    "select \n",
    "ml_results.ml_generate_text_llm_result as description,\n",
    "ml_generate_text_rai_result['blocked'] AS blocked,\n",
    "ml_generate_text_rai_result['categories'] AS blocked_categories,\n",
    "ml_generate_text_status,\n",
    "\n",
    "FROM ML.GENERATE_TEXT(\n",
    "MODEL `immo_us_enriched.bqml-llm_model`,\n",
    "(\n",
    "SELECT prompt from\n",
    ") AS prompt\n",
    "FROM `immo_us_enriched.image_cloudvision_labels_1k` \n",
    "),\n",
    "STRUCT(0.6 AS temperature,\n",
    "1000 AS max_output_tokens,\n",
    "1.0 AS top_p,\n",
    "40 AS top_k, \n",
    "TRUE AS flatten_json_output)\n",
    ") as ml_results\n",
    ")\n",
    ";"
   ]
  },
  {
   "cell_type": "code",
   "execution_count": null,
   "metadata": {},
   "outputs": [],
   "source": []
  },
  {
   "cell_type": "code",
   "execution_count": null,
   "metadata": {},
   "outputs": [],
   "source": [
    "%%bigquery\n",
    "\n",
    "create table `ml-demo-384110.bqml_tutorial_us.writing` as (\n",
    "  select \"\"\"Génère-moi un paragraphe décrivant la pratique du yoga\n",
    "donne moi les sources.\"\"\" as prompt \n",
    "union\n",
    "  select \"\"\"Génère-moi un paragraphe décrivant la pratique du yoga\n",
    "donne moi les sources.\"\"\" as prompt \n",
    "\n",
    "\n",
    ")"
   ]
  },
  {
   "cell_type": "code",
   "execution_count": null,
   "metadata": {},
   "outputs": [],
   "source": []
  }
 ],
 "metadata": {
  "kernelspec": {
   "display_name": "Python 3",
   "language": "python",
   "name": "python3"
  },
  "language_info": {
   "codemirror_mode": {
    "name": "ipython",
    "version": 3
   },
   "file_extension": ".py",
   "mimetype": "text/x-python",
   "name": "python",
   "nbconvert_exporter": "python",
   "pygments_lexer": "ipython3",
   "version": "3.10.8"
  },
  "orig_nbformat": 4
 },
 "nbformat": 4,
 "nbformat_minor": 2
}
