{
 "cells": [
  {
   "cell_type": "code",
   "execution_count": 7,
   "id": "d40c12d6-099b-43c4-b47f-b98deb5a399d",
   "metadata": {},
   "outputs": [
    {
     "name": "stdout",
     "output_type": "stream",
     "text": [
      "ml-demo-384110\n",
      "1008225662928\n"
     ]
    }
   ],
   "source": [
    "# @title Parameters\n",
    "LOCATION = \"us-central1\" #@param {type:\"string\"}\n",
    "#PROJECT_NUMBER = \n",
    "#PROJECT_ID = \"\" #@param {type:\"string\"}\n",
    "\n",
    "PROJECT_ID = !gcloud projects list --filter=\"$(gcloud config get-value project)\" --format=\"value(PROJECT_ID)\"\n",
    "\n",
    "if len(PROJECT_ID) > 1:\n",
    "    PROJECT_ID = PROJECT_ID[1]\n",
    "else:\n",
    "    PROJECT_ID = PROJECT_ID[0]\n",
    "print(PROJECT_ID)\n",
    "\n",
    "PROJECT_NUMBER = !gcloud projects list --filter=\"$(gcloud config get-value project)\" --format=\"value(PROJECT_NUMBER)\"\n",
    "if len(PROJECT_NUMBER) > 1:\n",
    "    PROJECT_NUMBER = PROJECT_NUMBER[1]\n",
    "else:\n",
    "    PROJECT_NUMBER = PROJECT_NUMBER[0]\n",
    "\n",
    "print(PROJECT_NUMBER)\n",
    "\n",
    "TOKEN_ENDPOINT_URI = 'https://www.googleapis.com/oauth2/v3/tokeninfo?access_token='\n",
    "\n",
    "IMAGEGEN_MODEL = \"imagegeneration@002\" #models available: imagegeneration@001 and imagegeneration@002\n",
    "ENDPOINT_URL = f'projects/{PROJECT_NUMBER}/locations/{LOCATION}/publishers/google/models/{IMAGEGEN_MODEL}'\n",
    "\n",
    "IMAGE_TEXT_MODEL = \"imagetext\"\n",
    "IMAGEN_ENDPOINT_URL = f'projects/{PROJECT_NUMBER}/locations/{LOCATION}/publishers/google/models/{IMAGE_TEXT_MODEL}'\n",
    "\n",
    "RATE_LIMIT = 10 #default quota 10 Online prediction requests per base model per minute per region per base_model\n",
    "\n",
    "vertexai_text_bison =\"text-bison@001\"\n",
    "\n",
    "\n",
    "import vertexai\n",
    "vertexai.init(project=PROJECT_ID, location=REGION)"
   ]
  },
  {
   "cell_type": "code",
   "execution_count": 8,
   "id": "9926b1e0-21b9-4920-987a-a4e444c345f4",
   "metadata": {},
   "outputs": [],
   "source": [
    "import logging\n",
    "logger = logging.getLogger(\"root\")\n",
    "logger.setLevel(logging.DEBUG)\n"
   ]
  },
  {
   "cell_type": "code",
   "execution_count": 22,
   "id": "7ca09e85-2103-440e-a489-f456f475fd2b",
   "metadata": {},
   "outputs": [
    {
     "data": {
      "text/markdown": [
       "*some markdown* $\\phi$"
      ],
      "text/plain": [
       "<IPython.core.display.Markdown object>"
      ]
     },
     "metadata": {},
     "output_type": "display_data"
    }
   ],
   "source": [
    "from IPython.display import display, Markdown, Latex\n",
    "display(Markdown('*some markdown* $\\phi$'))\n"
   ]
  },
  {
   "cell_type": "markdown",
   "id": "3bd88a23-b32c-4b41-8a51-61b2a39321e9",
   "metadata": {},
   "source": [
    "## Generate property description based on input text"
   ]
  },
  {
   "cell_type": "code",
   "execution_count": 10,
   "id": "afcfede8-2adf-4c78-be7b-c6c627a0b0cc",
   "metadata": {},
   "outputs": [],
   "source": [
    "import pandas as pd\n",
    "\n",
    "from vertexai.preview.language_models import TextGenerationModel\n",
    "\n",
    "generation_model = TextGenerationModel.from_pretrained(vertexai_text_bison)\n",
    "\n",
    "def llm(prompt,         max_output_tokens=1024,\n",
    "        temperature=0,\n",
    "        top_p=0.1,\n",
    "        top_k=1,        \n",
    "):\n",
    "    result = generation_model.predict(\n",
    "        prompt=prompt,\n",
    "        max_output_tokens=max_output_tokens,\n",
    "        temperature=temperature,\n",
    "        top_p=top_p,\n",
    "        top_k=top_k,        \n",
    "    )\n",
    "    return result"
   ]
  },
  {
   "cell_type": "code",
   "execution_count": 26,
   "id": "0f65c82f-9202-4aca-92ef-fa43ef0147cc",
   "metadata": {},
   "outputs": [
    {
     "data": {
      "text/plain": [
       "** Description ** \n",
       "Welcome to this beautiful 4 bedroom 3 bath home in the heart of Austin! This home has been completely remodeled with new flooring, paint, and fixtures. The kitchen has been updated with granite countertops and stainless steel appliances. The master bedroom has a large walk-in closet and an en suite bathroom. The backyard is private and has a patio and a covered porch. This home is located close to schools, shopping, and restaurants.\n",
       "** Localisation ** \n",
       "This home is located in the heart of Austin, Texas. The neighborhood is quiet and family-friendly. The home is close to schools, shopping, and restaurants."
      ]
     },
     "metadata": {},
     "output_type": "display_data"
    }
   ],
   "source": [
    "q = \"Facts: 2000 square feet, Austin, TX, 4 bed, 3 bath, $1,200,000, 78702\"\n",
    "\n",
    "example= \"\"\"Facts: 3065 square feet, Austin, TX, 4 bed, 4 bath, 1,250,000, 78750\n",
    "** Description ** \n",
    "Completely remodeled and added over 1000sf and a modern spa and pool. \n",
    "2 screened porches, engineering wood flooring, all new windows and the \\\"gem\\\" of the house is the large kitchen island.\n",
    "All expanded areas were added with foam insulation, new HVAC -2020. 3 bedrooms on the main floor with 1 having a private full bathroom.  \n",
    "The primary bedroom is located on the lower pool level with a sitting area and fireplace down the hall to the master.  \n",
    "Beautiful primary bathroom and large closet.  \n",
    "** Localisation ** \n",
    "This home sits on over 1/3 acre and all outside wood decking is made with synthetic long-lasting wood.  \n",
    "This home''s design is well thought out with convenience and a touch of modern elegance!  Great Schools!\n",
    "         \"\"\"\n",
    "\n",
    "prompt = \"Context: You are a real estate agent that needs to write a property description based on facts about the property. \"+ example + \" Q:\"+ q +\" A: \"\n",
    "\n",
    "display(llm(\n",
    "    prompt=prompt,\n",
    "    max_output_tokens=1000,\n",
    "    temperature=0.5,\n",
    "    top_p=0.9,\n",
    "    top_k=40)\n",
    ")\n"
   ]
  },
  {
   "cell_type": "markdown",
   "id": "4ad35b9f-2c4e-4267-949e-42804dd91b1d",
   "metadata": {},
   "source": [
    "**Description**\n",
    "Completely remodeled and added over 1000sf and a modern spa and pool. \n",
    "2 screened porches, engineering wood flooring, all new windows and the \\\"gem\\\" of the house is the large kitchen island.\n",
    "All expanded areas were added with foam insulation, new HVAC -2020. 3 bedrooms on the main floor with 1 having a private full bathroom.  \n",
    "The primary bedroom is located on the lower pool level with a sitting area and fireplace down the hall to the master.  \n",
    "Beautiful primary bathroom and large closet.  \n",
    "** Localisation ** \n",
    "This home sits on over 1/3 acre and all outside wood decking is made with synthetic long-lasting wood.  \n",
    "This home''s design is well thought out with convenience and a touch of modern elegance!  Great Schools!"
   ]
  },
  {
   "cell_type": "markdown",
   "id": "5fc27860-1ef2-4985-af1d-aea03c1a09b5",
   "metadata": {},
   "source": [
    "## Generate property description based on enriched data (googlemap)"
   ]
  },
  {
   "cell_type": "code",
   "execution_count": 9,
   "id": "97c23c67-73c3-480b-8076-05d1e1e70e2d",
   "metadata": {
    "tags": []
   },
   "outputs": [],
   "source": [
    "from google.cloud import secretmanager\n",
    "import google_crc32c\n",
    "\n",
    "\n",
    "def access_secret_version(\n",
    "    project_id: str, secret_id: str, version_id: str\n",
    ") -> str:\n",
    "    \"\"\"\n",
    "    Access the payload for the given secret version if one exists. The version\n",
    "    can be a version number as a string (e.g. \"5\") or an alias (e.g. \"latest\").\n",
    "    \"\"\"\n",
    "    VERBOSE = False\n",
    "    \n",
    "    # Import the Secret Manager client library.\n",
    "    from google.cloud import secretmanager\n",
    "\n",
    "    # Create the Secret Manager client.\n",
    "    client = secretmanager.SecretManagerServiceClient()\n",
    "\n",
    "    # Build the resource name of the secret version.\n",
    "    name = f\"projects/{project_id}/secrets/{secret_id}/versions/{version_id}\"\n",
    "\n",
    "    # Access the secret version.\n",
    "    response = client.access_secret_version(request={\"name\": name})\n",
    "\n",
    "    # Verify payload checksum.\n",
    "    crc32c = google_crc32c.Checksum()\n",
    "    crc32c.update(response.payload.data)\n",
    "    if response.payload.data_crc32c != int(crc32c.hexdigest(), 16):\n",
    "        print(\"Data corruption detected.\")\n",
    "        return response\n",
    "\n",
    "    # Print the secret payload.\n",
    "    #\n",
    "    # WARNING: Do not print the secret in a production environment - this\n",
    "    # snippet is showing how to access the secret material.\n",
    "    payload = response.payload.data.decode(\"UTF-8\")\n",
    "    if VERBOSE == True:\n",
    "        print(f\"Plaintext: {payload}\")\n",
    "    \n",
    "    return payload\n",
    "\n",
    "import os\n",
    "CSE_ID = access_secret_version(PROJECT_NUMBER, \"CSE_ID\", \"latest\")\n",
    "GOOGLE_API_KEY = access_secret_version(PROJECT_NUMBER, \"GOOGLE_API_KEY\", \"latest\")\n",
    "os.environ[\"GOOGLE_API_KEY\"]= GOOGLE_API_KEY\n",
    "os.environ[\"GPLACES_API_KEY\"] = GOOGLE_API_KEY\n",
    "os.environ[\"GOOGLE_CSE_ID\"] = CSE_ID\n",
    "\n"
   ]
  },
  {
   "cell_type": "code",
   "execution_count": null,
   "id": "a4c5967b-c2f4-438a-b516-9e64bf696243",
   "metadata": {},
   "outputs": [],
   "source": [
    "\n",
    "\"\"\"\n",
    "Maison Saint Laurent De La Mer 7 pièces. Opportunité !\n",
    "Venez découvrir cette belle maison en plein bourg de Saint-Laurent-De-La-Mer avec vue sur mer.\n",
    "Au rez-de-chaussée vous trouverez une entrée desservant un double garage, cuisine équipée & aménagée, salle d'eau, WC, ainsi que deux chambres.\n",
    "Le premier étage vous offrira un palier distribuant un séjour avec coin cuisine entièrement équipé & aménagé, salle de bains avec WC ainsi que deux chambres dont une avec salle d'eau attenante.\n",
    "Au dernier étage, un palier offrant deux chambres, placards & combles.\n",
    "Les atouts de ce bien : le jardin clôturé & arboré ainsi que son accès plage en 5 minutes à pieds. \n",
    "\"\"\"\n",
    "\n"
   ]
  },
  {
   "cell_type": "code",
   "execution_count": null,
   "id": "40546806-1acd-42c6-8cad-edfe631db651",
   "metadata": {},
   "outputs": [],
   "source": []
  },
  {
   "cell_type": "code",
   "execution_count": 33,
   "id": "c2c75b5c-ca77-42c1-ba1f-febd809fbfce",
   "metadata": {},
   "outputs": [],
   "source": [
    "from langchain.agents import initialize_agent, load_tools\n",
    "from langchain.agents import AgentType\n",
    "import os\n",
    "from datetime import datetime\n",
    "\n",
    "from langchain.llms import VertexAI\n",
    "from langchain.callbacks import StdOutCallbackHandler"
   ]
  },
  {
   "cell_type": "code",
   "execution_count": 34,
   "id": "02f57877-eec8-48b3-b950-f25e947affaa",
   "metadata": {},
   "outputs": [],
   "source": [
    "from langchain.tools import GooglePlacesTool\n",
    "\n",
    "places = GooglePlacesTool()"
   ]
  },
  {
   "cell_type": "code",
   "execution_count": 40,
   "id": "58d131c2-39d1-4836-b13f-bc26cd93fdf3",
   "metadata": {},
   "outputs": [
    {
     "name": "stdout",
     "output_type": "stream",
     "text": [
      "\n",
      "Observation: \u001b[33;1m\u001b[1;3mPage: Mothership Space Net Penthouse\n",
      "Summary: The Mothership Space Net Penthouse is an aerial hammock in Moab, Utah, hand-woven from 14,000 feet of cordage and rigged by the Desert Rats, a group of more than 50 people spearheaded by slackliner Andy Lewis, during Thanksgiving 2014.The net is suspended over 400 feet above the ground, in a pentagon shape covering approximately 2000 square feet, with five lines going out to the surrounding cliffs. It took Lewis several years to acquire all of the proper materials to build it.  Highliners walk across the five different legs of the net (which are as long as 80 meters or 262 feet), and BASE jumpers leap from the human-sized hole in the middle of the net.  The pentagonal web is over 200 feet away from the nearest cliff.\n",
      "\n",
      "Page: Michael G. Moye\n",
      "Summary: Michael George Moye (born August 11, 1954) is an American photographer and a former television writer and producer. In his television career he has written for shows such as The Jeffersons, Diff'rent Strokes, Good Times, and 227, and produced It's Your Move and The Jeffersons. His best-known work is likely the 1987 series Married... with Children, created with Ron Leavitt for the then-fledgling Fox network.\n",
      "\n",
      "\n",
      "\n",
      "Page: Finnvox Studios\n",
      "Summary: Finnvox Studios is a recording studio located in Pitäjänmäki, Helsinki, Finland. It was founded by Erkki Ertesuo, Kurt Juuranto and Lejos Inc. in 1965 and is the longest running studio recording facility in Finland. The original multi-track recording equipment and continuous technical updates of the studio machines and acoustics soon made Finnvox the most sought after studio in the country. Finnish artists that recorded at Finnvox in the 1970s include Rauli Somerjoki, M. A. Numminen and their bands, Wigwam, Agit-prop and many others. Up until the 1990s, Finnvox also operated a vinyl record mastering and pressing facility, which was later converted to new studio rooms and a mixing and recording room for film and TV productions. Currently, Finnvox occupy 2000 square feet and has nine studio rooms, five of which are used for recording and mixing, three for mastering and editing and one for film and TV productions.Many metal bands have used Finnvox Studios for recording, mixing or mastering their albums including Sonata Arctica, Nightwish, Finntroll, Stratovarius, HIM, Moonsorrow, Holy Knights, Ram-Zet, Throes of Dawn, Grenouer, Apocalyptica and many more. The mastering abilities of technician Mika Jussila in particular are much requested in the metal community, with more than 1300 metal albums mastered at Finnvox since 1990.\u001b[0m\n",
      "Thought:\n",
      "Observation: \u001b[33;1m\u001b[1;3mPage: Austin, Texas\n",
      "Summary: Austin is the capital city of the U.S. state of Texas, as well as the seat and most populous city of Travis County, with portions extending into Hays and Williamson counties. Incorporated on December 27, 1839, it is the 10th-most-populous city in the United States, the fourth-most-populous city in Texas, and the second-most-populous state capital city. It has been one of the fastest growing large cities in the United States since 2010.  Downtown Austin and Downtown San Antonio are approximately 80 miles (129 km) apart, and both fall along the Interstate 35 corridor. Austin is the southernmost state capital in the contiguous United States and is considered a Beta-level global city as categorized by the Globalization and World Cities Research Network.As of 2021, Austin had an estimated population of 964,177, up from 961,855 at the 2020 census. The city is the cultural and economic center of the Austin–Round Rock metropolitan statistical area, which had an estimated population of 2,421,115 as of July 1, 2022.  Located in Central Texas within the greater Texas Hill Country, it is home to numerous lakes, rivers, and waterways, including Lady Bird Lake and Lake Travis on the Colorado River, Barton Springs, McKinney Falls, and Lake Walter E. Long.\n",
      "Residents of Austin are known as Austinites. They include a diverse mix of government employees, college students, musicians, high-tech workers, and blue-collar workers. The city's official slogan promotes Austin as \"The Live Music Capital of the World\", a reference to the city's many musicians and live music venues, as well as the long-running PBS TV concert series Austin City Limits. The city also adopted \"Silicon Hills\" as a nickname in the 1990s due to a rapid influx of technology and development companies. In recent years, some Austinites have adopted the unofficial slogan \"Keep Austin Weird\", which refers to the desire to protect small, unique, and local businesses from being overrun by large corporations. Since the late 19th century, Austin has also been known as the \"City of the Violet Crown\", because of the colorful glow of light across the hills just after sunset.In 1987, Austin originated and remains the site for South by Southwest (stylized as SXSW and colloquially referred to as South By), an annual conglomeration of parallel film, interactive media, and music festivals and conferences that take place in mid-March.\n",
      "Emerging from a strong economic focus on government and education, since the 1990s, Austin has become a center for technology and business. The technology roots in Austin can be traced back to the 1960s when Tracor (now BAE Systems), a major defense electronics contractor, began operation in the city in 1962. IBM followed in 1967, opening a facility to produce its Selectric typewriters. Texas Instruments setup in Austin two years later, Motorola (now NXP Semiconductors) started semiconductor chip manufacturing in 1974. BAE Systems, IBM, and NXP Semiconductors still have campuses and manufacturing operations in Austin as of 2022. A number of Fortune 500 companies have headquarters or regional offices in Austin, including 3M, Advanced Micro Devices (AMD), Amazon, Apple, Facebook (Meta), Google, IBM, Intel, NXP Semiconductors, Oracle, Tesla, Texas Instruments, and Whole Foods Market. Dell's worldwide headquarters is located in the nearby suburb of Round Rock. With regard to education, Austin is the home of the University of Texas at Austin, which is one of the largest universities in the U.S., with over 50,000 students. In 2021, Austin became home to the Austin FC, the first (and currently only) major professional sports team in the city.\n",
      "\n",
      "Page: Downtown Austin\n",
      "Summary: Downtown Austin is the central business district of Austin, Texas, United States. The area of the district is bound by Lamar Boulevard to the west, Martin Luther King Jr. Boulevard to the north, Interstate 35 to the east, and Lady Bird Lake to the south.Downtown Austin is whe\u001b[0m\n",
      "Thought:\n",
      "Observation: \u001b[33;1m\u001b[1;3mPage: Austin Studios\n",
      "Summary: Austin Studios is a 20-acre (81,000 m2) film and video production facility with 10,000 square feet (1,000 m2) of production office space and over 100,000 square feet (10,000 m2) of production space established in 2000. The space includes five production stages converted from airplane hangars, two production office buildings, and numerous onsite vendors including Chapman/Leonard, Mobile Production Services, and  Miscellaneous Rentals, among others.\n",
      "Austin Studios is also home to the Austin Film Society main office.\n",
      "Various studio films shot at Austin Studios include: Miss Congeniality, The New Guy, The Rookie, The Life of David Gale, 25th Hour, The Texas Chainsaw Massacre: The Beginning, Secondhand Lions, Star Trek, Spy Kids 3-D: Game Over, Man of the House, Friday Night Lights, The Adventures of Shark Boy and Lava Girl, The Wendell Baker Story, Idiocracy, A Scanner Darkly, Infamous, The Hitcher, The Return, Stop-Loss, Grind House, Machete Kills, and Alita: Battle Angel. Various TV shows, commercials and music videos have also been shot at the studios. The Flaming Lips video \"Psychic Wall\" from The SpongeBob SquarePants Movie was shot in one of the stages and shows a behind-the-scenes look at the hangars. Austin Studios is also the former home to the Thunderdome, headquarters and skating facility of the TXRD Lonestar Rollergirls, as seen in the A&E reality series Rollergirls.\n",
      "In November 2012, the city of Austin voted in favor of Proposition 4, which allotted a $5 million bond to improving Austin Studios. Planned renovations include soundproofing the stages, climate control, and improving the digital infrastructure of the facilities.\n",
      "Every year Austin Studios hosts Summer Camps, such as Sci-Fi, Horror and Stop Motion Animation.\n",
      "In April 2014, Rooster Teeth Productions moved offices to Stage 5 and Bungalow A at Austin Studios.\n",
      "\n",
      "Page: Austin, Texas\n",
      "Summary: Austin is the capital city of the U.S. state of Texas, as well as the seat and most populous city of Travis County, with portions extending into Hays and Williamson counties. Incorporated on December 27, 1839, it is the 10th-most-populous city in the United States, the fourth-most-populous city in Texas, and the second-most-populous state capital city. It has been one of the fastest growing large cities in the United States since 2010.  Downtown Austin and Downtown San Antonio are approximately 80 miles (129 km) apart, and both fall along the Interstate 35 corridor. Austin is the southernmost state capital in the contiguous United States and is considered a Beta-level global city as categorized by the Globalization and World Cities Research Network.As of 2021, Austin had an estimated population of 964,177, up from 961,855 at the 2020 census. The city is the cultural and economic center of the Austin–Round Rock metropolitan statistical area, which had an estimated population of 2,421,115 as of July 1, 2022.  Located in Central Texas within the greater Texas Hill Country, it is home to numerous lakes, rivers, and waterways, including Lady Bird Lake and Lake Travis on the Colorado River, Barton Springs, McKinney Falls, and Lake Walter E. Long.\n",
      "Residents of Austin are known as Austinites. They include a diverse mix of government employees, college students, musicians, high-tech workers, and blue-collar workers. The city's official slogan promotes Austin as \"The Live Music Capital of the World\", a reference to the city's many musicians and live music venues, as well as the long-running PBS TV concert series Austin City Limits. The city also adopted \"Silicon Hills\" as a nickname in the 1990s due to a rapid influx of technology and development companies. In recent years, some Austinites have adopted the unofficial slogan \"Keep Austin Weird\", which refers to the desire to protect small, unique, and local businesses from being overrun by large corporations. Since the late 19th century, Austin has also been known as the \"City of the Violet Crown\", because o\u001b[0m\n",
      "Thought:\n",
      "Observation: \u001b[33;1m\u001b[1;3mPage: Mothership Space Net Penthouse\n",
      "Summary: The Mothership Space Net Penthouse is an aerial hammock in Moab, Utah, hand-woven from 14,000 feet of cordage and rigged by the Desert Rats, a group of more than 50 people spearheaded by slackliner Andy Lewis, during Thanksgiving 2014.The net is suspended over 400 feet above the ground, in a pentagon shape covering approximately 2000 square feet, with five lines going out to the surrounding cliffs. It took Lewis several years to acquire all of the proper materials to build it.  Highliners walk across the five different legs of the net (which are as long as 80 meters or 262 feet), and BASE jumpers leap from the human-sized hole in the middle of the net.  The pentagonal web is over 200 feet away from the nearest cliff.\n",
      "\n",
      "Page: Michael G. Moye\n",
      "Summary: Michael George Moye (born August 11, 1954) is an American photographer and a former television writer and producer. In his television career he has written for shows such as The Jeffersons, Diff'rent Strokes, Good Times, and 227, and produced It's Your Move and The Jeffersons. His best-known work is likely the 1987 series Married... with Children, created with Ron Leavitt for the then-fledgling Fox network.\n",
      "\n",
      "\n",
      "\n",
      "Page: Finnvox Studios\n",
      "Summary: Finnvox Studios is a recording studio located in Pitäjänmäki, Helsinki, Finland. It was founded by Erkki Ertesuo, Kurt Juuranto and Lejos Inc. in 1965 and is the longest running studio recording facility in Finland. The original multi-track recording equipment and continuous technical updates of the studio machines and acoustics soon made Finnvox the most sought after studio in the country. Finnish artists that recorded at Finnvox in the 1970s include Rauli Somerjoki, M. A. Numminen and their bands, Wigwam, Agit-prop and many others. Up until the 1990s, Finnvox also operated a vinyl record mastering and pressing facility, which was later converted to new studio rooms and a mixing and recording room for film and TV productions. Currently, Finnvox occupy 2000 square feet and has nine studio rooms, five of which are used for recording and mixing, three for mastering and editing and one for film and TV productions.Many metal bands have used Finnvox Studios for recording, mixing or mastering their albums including Sonata Arctica, Nightwish, Finntroll, Stratovarius, HIM, Moonsorrow, Holy Knights, Ram-Zet, Throes of Dawn, Grenouer, Apocalyptica and many more. The mastering abilities of technician Mika Jussila in particular are much requested in the metal community, with more than 1300 metal albums mastered at Finnvox since 1990.\u001b[0m\n",
      "Thought:\n",
      "Observation: \u001b[33;1m\u001b[1;3mPage: Austin, Texas\n",
      "Summary: Austin is the capital city of the U.S. state of Texas, as well as the seat and most populous city of Travis County, with portions extending into Hays and Williamson counties. Incorporated on December 27, 1839, it is the 10th-most-populous city in the United States, the fourth-most-populous city in Texas, and the second-most-populous state capital city. It has been one of the fastest growing large cities in the United States since 2010.  Downtown Austin and Downtown San Antonio are approximately 80 miles (129 km) apart, and both fall along the Interstate 35 corridor. Austin is the southernmost state capital in the contiguous United States and is considered a Beta-level global city as categorized by the Globalization and World Cities Research Network.As of 2021, Austin had an estimated population of 964,177, up from 961,855 at the 2020 census. The city is the cultural and economic center of the Austin–Round Rock metropolitan statistical area, which had an estimated population of 2,421,115 as of July 1, 2022.  Located in Central Texas within the greater Texas Hill Country, it is home to numerous lakes, rivers, and waterways, including Lady Bird Lake and Lake Travis on the Colorado River, Barton Springs, McKinney Falls, and Lake Walter E. Long.\n",
      "Residents of Austin are known as Austinites. They include a diverse mix of government employees, college students, musicians, high-tech workers, and blue-collar workers. The city's official slogan promotes Austin as \"The Live Music Capital of the World\", a reference to the city's many musicians and live music venues, as well as the long-running PBS TV concert series Austin City Limits. The city also adopted \"Silicon Hills\" as a nickname in the 1990s due to a rapid influx of technology and development companies. In recent years, some Austinites have adopted the unofficial slogan \"Keep Austin Weird\", which refers to the desire to protect small, unique, and local businesses from being overrun by large corporations. Since the late 19th century, Austin has also been known as the \"City of the Violet Crown\", because of the colorful glow of light across the hills just after sunset.In 1987, Austin originated and remains the site for South by Southwest (stylized as SXSW and colloquially referred to as South By), an annual conglomeration of parallel film, interactive media, and music festivals and conferences that take place in mid-March.\n",
      "Emerging from a strong economic focus on government and education, since the 1990s, Austin has become a center for technology and business. The technology roots in Austin can be traced back to the 1960s when Tracor (now BAE Systems), a major defense electronics contractor, began operation in the city in 1962. IBM followed in 1967, opening a facility to produce its Selectric typewriters. Texas Instruments setup in Austin two years later, Motorola (now NXP Semiconductors) started semiconductor chip manufacturing in 1974. BAE Systems, IBM, and NXP Semiconductors still have campuses and manufacturing operations in Austin as of 2022. A number of Fortune 500 companies have headquarters or regional offices in Austin, including 3M, Advanced Micro Devices (AMD), Amazon, Apple, Facebook (Meta), Google, IBM, Intel, NXP Semiconductors, Oracle, Tesla, Texas Instruments, and Whole Foods Market. Dell's worldwide headquarters is located in the nearby suburb of Round Rock. With regard to education, Austin is the home of the University of Texas at Austin, which is one of the largest universities in the U.S., with over 50,000 students. In 2021, Austin became home to the Austin FC, the first (and currently only) major professional sports team in the city.\n",
      "\n",
      "Page: Downtown Austin\n",
      "Summary: Downtown Austin is the central business district of Austin, Texas, United States. The area of the district is bound by Lamar Boulevard to the west, Martin Luther King Jr. Boulevard to the north, Interstate 35 to the east, and Lady Bird Lake to the south.Downtown Austin is whe\u001b[0m\n",
      "Thought:\n",
      "Observation: \u001b[33;1m\u001b[1;3mPage: Austin Studios\n",
      "Summary: Austin Studios is a 20-acre (81,000 m2) film and video production facility with 10,000 square feet (1,000 m2) of production office space and over 100,000 square feet (10,000 m2) of production space established in 2000. The space includes five production stages converted from airplane hangars, two production office buildings, and numerous onsite vendors including Chapman/Leonard, Mobile Production Services, and  Miscellaneous Rentals, among others.\n",
      "Austin Studios is also home to the Austin Film Society main office.\n",
      "Various studio films shot at Austin Studios include: Miss Congeniality, The New Guy, The Rookie, The Life of David Gale, 25th Hour, The Texas Chainsaw Massacre: The Beginning, Secondhand Lions, Star Trek, Spy Kids 3-D: Game Over, Man of the House, Friday Night Lights, The Adventures of Shark Boy and Lava Girl, The Wendell Baker Story, Idiocracy, A Scanner Darkly, Infamous, The Hitcher, The Return, Stop-Loss, Grind House, Machete Kills, and Alita: Battle Angel. Various TV shows, commercials and music videos have also been shot at the studios. The Flaming Lips video \"Psychic Wall\" from The SpongeBob SquarePants Movie was shot in one of the stages and shows a behind-the-scenes look at the hangars. Austin Studios is also the former home to the Thunderdome, headquarters and skating facility of the TXRD Lonestar Rollergirls, as seen in the A&E reality series Rollergirls.\n",
      "In November 2012, the city of Austin voted in favor of Proposition 4, which allotted a $5 million bond to improving Austin Studios. Planned renovations include soundproofing the stages, climate control, and improving the digital infrastructure of the facilities.\n",
      "Every year Austin Studios hosts Summer Camps, such as Sci-Fi, Horror and Stop Motion Animation.\n",
      "In April 2014, Rooster Teeth Productions moved offices to Stage 5 and Bungalow A at Austin Studios.\n",
      "\n",
      "Page: Austin, Texas\n",
      "Summary: Austin is the capital city of the U.S. state of Texas, as well as the seat and most populous city of Travis County, with portions extending into Hays and Williamson counties. Incorporated on December 27, 1839, it is the 10th-most-populous city in the United States, the fourth-most-populous city in Texas, and the second-most-populous state capital city. It has been one of the fastest growing large cities in the United States since 2010.  Downtown Austin and Downtown San Antonio are approximately 80 miles (129 km) apart, and both fall along the Interstate 35 corridor. Austin is the southernmost state capital in the contiguous United States and is considered a Beta-level global city as categorized by the Globalization and World Cities Research Network.As of 2021, Austin had an estimated population of 964,177, up from 961,855 at the 2020 census. The city is the cultural and economic center of the Austin–Round Rock metropolitan statistical area, which had an estimated population of 2,421,115 as of July 1, 2022.  Located in Central Texas within the greater Texas Hill Country, it is home to numerous lakes, rivers, and waterways, including Lady Bird Lake and Lake Travis on the Colorado River, Barton Springs, McKinney Falls, and Lake Walter E. Long.\n",
      "Residents of Austin are known as Austinites. They include a diverse mix of government employees, college students, musicians, high-tech workers, and blue-collar workers. The city's official slogan promotes Austin as \"The Live Music Capital of the World\", a reference to the city's many musicians and live music venues, as well as the long-running PBS TV concert series Austin City Limits. The city also adopted \"Silicon Hills\" as a nickname in the 1990s due to a rapid influx of technology and development companies. In recent years, some Austinites have adopted the unofficial slogan \"Keep Austin Weird\", which refers to the desire to protect small, unique, and local businesses from being overrun by large corporations. Since the late 19th century, Austin has also been known as the \"City of the Violet Crown\", because o\u001b[0m\n",
      "Thought:"
     ]
    },
    {
     "data": {
      "text/plain": [
       "'Agent stopped due to iteration limit or time limit.'"
      ]
     },
     "execution_count": 40,
     "metadata": {},
     "output_type": "execute_result"
    }
   ],
   "source": [
    "\n",
    "callbacks = [StdOutCallbackHandler()]\n",
    "llm = VertexAI( callbacks=callbacks)\n",
    "\n",
    "tools_search = load_tools([\"google-search\"], llm=llm, callbacks=callbacks)\n",
    "tools_wikipedia = load_tools([\"wikipedia\"], llm=llm, callbacks=callbacks)\n",
    "\n",
    "tools_std = load_tools([\"google-search\",  \"wikipedia\"], llm=llm, callbacks=callbacks)\n",
    "\n",
    "\n",
    "\n",
    "tools = [places]+tools_wikipedia\n",
    "\n",
    "agent = initialize_agent(\n",
    "    tools,\n",
    "    llm,\n",
    "    agent=AgentType.ZERO_SHOT_REACT_DESCRIPTION,\n",
    ")\n",
    "property_location = \"Saint Malo France\"\n",
    "prompt =\"Context: You are a real estate agent that needs to write a property description based on facts about the property. \"+ example + \" LOCATION: \"+ property_location + \" Q:\" + q +\" A: \"\n",
    "\n",
    "agent.run(\n",
    "prompt\n",
    ")\n"
   ]
  },
  {
   "cell_type": "code",
   "execution_count": 43,
   "id": "1479be68-cc2d-4da1-beb2-65fd9b2366f1",
   "metadata": {},
   "outputs": [],
   "source": [
    "property_location = \"Saint Laurent De La Mer France\"\n",
    "q = \"\"\"House Saint Laurent De La Mer 7 rooms. Opportunity !\n",
    "Come and discover this beautiful house in the village of Saint-Laurent-De-La-Mer with sea view.\n",
    "On the ground floor you will find an entrance leading to a double garage, fitted & equipped kitchen, shower room, WC, as well as two bedrooms.\n",
    "The first floor will offer you a landing distributing a living room with fully equipped & fitted kitchen area, bathroom with WC as well as two bedrooms, one of which has an adjoining shower room.\n",
    "On the top floor, a landing offering two bedrooms, cupboards & attic space.\n",
    "The assets of this property: the fenced & tree-lined garden as well as its beach access in 5 minutes on foot. \"\"\""
   ]
  },
  {
   "cell_type": "code",
   "execution_count": null,
   "id": "f6b40eba-1562-487d-bb12-683f30613728",
   "metadata": {},
   "outputs": [],
   "source": [
    "property_location = \"Saint Malo France\"\n",
    "prompt =\"Context: You are a real estate agent that needs to write a property description based on facts about the property. \" + example  \\\n",
    "+ \" LOCATION: \"+ property_location + \" Q:\" + q +\" A: \"\n",
    "\n",
    "agent.run(\n",
    "prompt\n",
    ")\n"
   ]
  },
  {
   "cell_type": "code",
   "execution_count": null,
   "id": "23cc0747-7094-4ba5-9674-0d6c2067a11c",
   "metadata": {},
   "outputs": [],
   "source": []
  },
  {
   "cell_type": "code",
   "execution_count": null,
   "id": "150b8020-86ca-4aad-9c62-3112dec54102",
   "metadata": {},
   "outputs": [],
   "source": []
  },
  {
   "cell_type": "code",
   "execution_count": null,
   "id": "5653ff67-5694-40de-9962-a31b0430fc6f",
   "metadata": {},
   "outputs": [],
   "source": []
  }
 ],
 "metadata": {
  "environment": {
   "kernel": "python3",
   "name": "common-cpu.m109",
   "type": "gcloud",
   "uri": "gcr.io/deeplearning-platform-release/base-cpu:m109"
  },
  "kernelspec": {
   "display_name": "Python 3",
   "language": "python",
   "name": "python3"
  },
  "language_info": {
   "codemirror_mode": {
    "name": "ipython",
    "version": 3
   },
   "file_extension": ".py",
   "mimetype": "text/x-python",
   "name": "python",
   "nbconvert_exporter": "python",
   "pygments_lexer": "ipython3",
   "version": "3.10.11"
  }
 },
 "nbformat": 4,
 "nbformat_minor": 5
}
