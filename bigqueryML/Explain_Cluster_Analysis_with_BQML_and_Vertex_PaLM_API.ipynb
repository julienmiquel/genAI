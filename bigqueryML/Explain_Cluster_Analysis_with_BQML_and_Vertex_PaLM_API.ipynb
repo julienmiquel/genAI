{
 "cells": [
  {
   "cell_type": "code",
   "execution_count": null,
   "metadata": {
    "id": "rlporafx8Odu"
   },
   "outputs": [],
   "source": [
    "# Copyright 2023 Google LLC\n",
    "#\n",
    "# Licensed under the Apache License, Version 2.0 (the \"License\");\n",
    "# you may not use this file except in compliance with the License.\n",
    "# You may obtain a copy of the License at\n",
    "#\n",
    "#     https://www.apache.org/licenses/LICENSE-2.0\n",
    "#\n",
    "# Unless required by applicable law or agreed to in writing, software\n",
    "# distributed under the License is distributed on an \"AS IS\" BASIS,\n",
    "# WITHOUT WARRANTIES OR CONDITIONS OF ANY KIND, either express or implied.\n",
    "# See the License for the specific language governing permissions and\n",
    "# limitations under the License."
   ]
  },
  {
   "cell_type": "markdown",
   "metadata": {
    "id": "Sxq-V_jV4gEk"
   },
   "source": [
    "# Using the Vertex AI PaLM API to explain BQML Clustering\n",
    "\n",
    "This example demostrates how to use the Vertex AI PaLM API to explain BQML clustering. For more information see the doc"
   ]
  },
  {
   "cell_type": "markdown",
   "metadata": {
    "id": "l-XqgTL3M5vf"
   },
   "source": [
    "Let's log in with Google, load the Vertex AI libraries and restart the runtime"
   ]
  },
  {
   "cell_type": "code",
   "execution_count": null,
   "metadata": {
    "id": "TupKlnCGGt2O"
   },
   "outputs": [],
   "source": []
  },
  {
   "cell_type": "code",
   "execution_count": null,
   "metadata": {
    "id": "PfTEYGczLj2n"
   },
   "outputs": [],
   "source": [
    "#!pip install git+https://github.com/googleapis/python-aiplatform.git \"shapely<2.0.0\" \"protobuf==3.19.6\"\n",
    "%pip install google-cloud-aiplatform --upgrade --user"
   ]
  },
  {
   "cell_type": "markdown",
   "metadata": {
    "id": "bGpPBpw0DT2h"
   },
   "source": [
    "---\n",
    "\n",
    "#### ⚠️ Do not forget to click the \"RESTART RUNTIME\" button above.\n",
    "\n",
    "---"
   ]
  },
  {
   "cell_type": "markdown",
   "metadata": {
    "id": "sHoUOuxf5GOR"
   },
   "source": [
    "Let's define some variables that will be used throughout this notebook.\n",
    "\n",
    "These are the GCP Project ID `project_id`, the Model name `model_name` which is any name you prefer, and finally the Dataset name `dataset_name`.\n",
    "The dataset needs to exist in the same Project as `project_id` and you'll need appropriate access to create and delete."
   ]
  },
  {
   "cell_type": "code",
   "execution_count": 2,
   "metadata": {
    "id": "fU3_zsLsZ89c"
   },
   "outputs": [],
   "source": [
    "import pandas as pd\n",
    "from typing import Union\n",
    "import sys\n",
    "from google.cloud import bigquery\n"
   ]
  },
  {
   "cell_type": "code",
   "execution_count": 25,
   "metadata": {},
   "outputs": [],
   "source": [
    "# @param {type:\"string\"}\n",
    "PROJECT_ID = !gcloud config get-value project\n"
   ]
  },
  {
   "cell_type": "code",
   "execution_count": 8,
   "metadata": {
    "id": "_3Rfhx874F2J"
   },
   "outputs": [],
   "source": [
    "#@title Setup Project Variables { run: \"auto\", display-mode: \"form\" }\n",
    "REGION = \"us-central1\"  # @param {type:\"string\"}\n",
    "\n",
    "project_id = PROJECT_ID\n",
    "dataset_name = \"jm_us\" #@param {type:\"string\"}\n",
    "model_name = \"ecommerce_customer_segment_cluster5\" #@param {type:\"string\"}\n",
    "eval_name = model_name + \"_eval\"\n",
    "LOCATION = \"us-central1\"  # @param {type:\"string\"}\n",
    "client = bigquery.Client(project=project_id)"
   ]
  },
  {
   "cell_type": "markdown",
   "metadata": {
    "id": "WnXQQOAc4t22"
   },
   "source": [
    "## Create a K-means model to cluster ecommerce data\n",
    "\n",
    "First let's look at our data quickly before we create the model. This query can be run in BigQuery on its own. Try it out!"
   ]
  },
  {
   "cell_type": "code",
   "execution_count": 9,
   "metadata": {
    "colab": {
     "base_uri": "https://localhost:8080/",
     "height": 206
    },
    "id": "V6-JiJZBGmO7",
    "outputId": "1bf06d6e-3b70-4b87-aadc-9a21ad02074b"
   },
   "outputs": [
    {
     "data": {
      "text/html": [
       "<div>\n",
       "<style scoped>\n",
       "    .dataframe tbody tr th:only-of-type {\n",
       "        vertical-align: middle;\n",
       "    }\n",
       "\n",
       "    .dataframe tbody tr th {\n",
       "        vertical-align: top;\n",
       "    }\n",
       "\n",
       "    .dataframe thead th {\n",
       "        text-align: right;\n",
       "    }\n",
       "</style>\n",
       "<table border=\"1\" class=\"dataframe\">\n",
       "  <thead>\n",
       "    <tr style=\"text-align: right;\">\n",
       "      <th></th>\n",
       "      <th>user_id</th>\n",
       "      <th>order_id</th>\n",
       "      <th>sale_price</th>\n",
       "      <th>order_created_date</th>\n",
       "    </tr>\n",
       "  </thead>\n",
       "  <tbody>\n",
       "    <tr>\n",
       "      <th>0</th>\n",
       "      <td>24972</td>\n",
       "      <td>30861</td>\n",
       "      <td>2.5</td>\n",
       "      <td>2021-05-19 13:02:47+00:00</td>\n",
       "    </tr>\n",
       "    <tr>\n",
       "      <th>1</th>\n",
       "      <td>72138</td>\n",
       "      <td>89851</td>\n",
       "      <td>2.5</td>\n",
       "      <td>2020-09-07 15:07:16+00:00</td>\n",
       "    </tr>\n",
       "    <tr>\n",
       "      <th>2</th>\n",
       "      <td>17913</td>\n",
       "      <td>22090</td>\n",
       "      <td>2.5</td>\n",
       "      <td>2022-12-16 16:19:12+00:00</td>\n",
       "    </tr>\n",
       "    <tr>\n",
       "      <th>3</th>\n",
       "      <td>57884</td>\n",
       "      <td>72030</td>\n",
       "      <td>3.0</td>\n",
       "      <td>2022-05-22 03:43:43+00:00</td>\n",
       "    </tr>\n",
       "    <tr>\n",
       "      <th>4</th>\n",
       "      <td>69467</td>\n",
       "      <td>86584</td>\n",
       "      <td>3.0</td>\n",
       "      <td>2022-02-08 21:27:26+00:00</td>\n",
       "    </tr>\n",
       "  </tbody>\n",
       "</table>\n",
       "</div>"
      ],
      "text/plain": [
       "   user_id  order_id  sale_price        order_created_date\n",
       "0    24972     30861         2.5 2021-05-19 13:02:47+00:00\n",
       "1    72138     89851         2.5 2020-09-07 15:07:16+00:00\n",
       "2    17913     22090         2.5 2022-12-16 16:19:12+00:00\n",
       "3    57884     72030         3.0 2022-05-22 03:43:43+00:00\n",
       "4    69467     86584         3.0 2022-02-08 21:27:26+00:00"
      ]
     },
     "execution_count": 9,
     "metadata": {},
     "output_type": "execute_result"
    }
   ],
   "source": [
    "query = \"\"\"\n",
    "SELECT\n",
    "  user_id,\n",
    "  order_id,\n",
    "  sale_price,\n",
    "  created_at as order_created_date\n",
    "FROM `bigquery-public-data.thelook_ecommerce.order_items`\n",
    "WHERE created_at BETWEEN CAST('2020-01-01 00:00:00' AS TIMESTAMP)\n",
    "AND CAST('2023-01-01 00:00:00' AS TIMESTAMP)\n",
    "\"\"\"\n",
    "df = client.query(query).to_dataframe()\n",
    "df.head()\n"
   ]
  },
  {
   "cell_type": "markdown",
   "metadata": {
    "id": "jQKfCgZ9FZH5"
   },
   "source": [
    "## `CREATE MODEL` using `KMEANS`\n",
    "\n",
    "Create a query then start the model creation job, using a python loop to wait for the job to complete. Please note, if you've created the model already, there's no need to rerun this step to create the clustering using model on the data."
   ]
  },
  {
   "cell_type": "code",
   "execution_count": 10,
   "metadata": {
    "id": "KiB2gPEvFkkd"
   },
   "outputs": [],
   "source": [
    "query = \"\"\"\n",
    "CREATE OR REPLACE MODEL `{0}.{1}`\n",
    "OPTIONS (\n",
    "  MODEL_TYPE = \"KMEANS\",\n",
    "  NUM_CLUSTERS = 5,\n",
    "  KMEANS_INIT_METHOD = \"KMEANS++\",\n",
    "  STANDARDIZE_FEATURES = TRUE )\n",
    "AS (\n",
    "SELECT * EXCEPT (user_id)\n",
    "FROM (\n",
    "  SELECT user_id,\n",
    "    DATE_DIFF(CURRENT_DATE(), CAST(MAX(order_created_date) as DATE), day) AS days_since_order, -- RECENCY\n",
    "    COUNT(order_id) AS count_orders, -- FREQUENCY\n",
    "    AVG(sale_price) AS avg_spend -- MONETARY\n",
    "  FROM (\n",
    "    SELECT user_id,\n",
    "      order_id,\n",
    "      sale_price,\n",
    "      created_at as order_created_date\n",
    "    FROM `bigquery-public-data.thelook_ecommerce.order_items`\n",
    "    WHERE created_at BETWEEN CAST('2020-01-01 00:00:00' AS TIMESTAMP)\n",
    "    AND CAST('2023-01-01 00:00:00' AS TIMESTAMP)\n",
    "  )\n",
    "  GROUP BY user_id, order_id\n",
    " )\n",
    ")\n",
    "\"\"\".format(dataset_name, model_name)\n"
   ]
  },
  {
   "cell_type": "code",
   "execution_count": 11,
   "metadata": {
    "id": "_9lZPWXtNwbN"
   },
   "outputs": [],
   "source": [
    "# Wrapper to use BigQuery client to run query/job, return job ID or result as DF\n",
    "def run_bq_query(sql: str) -> Union[str, pd.DataFrame]:\n",
    "    \"\"\"\n",
    "    Input: SQL query, as a string, to execute in BigQuery\n",
    "    Returns the query results as a pandas DataFrame, or error, if any\n",
    "    \"\"\"\n",
    "\n",
    "    # Try dry run before executing query to catch any errors\n",
    "    job_config = bigquery.QueryJobConfig(dry_run=True, use_query_cache=False)\n",
    "    client.query(sql, job_config=job_config)\n",
    "\n",
    "    # If dry run succeeds without errors, proceed to run query\n",
    "    job_config = bigquery.QueryJobConfig()\n",
    "    client_result = client.query(sql, job_config=job_config)\n",
    "\n",
    "    job_id = client_result.job_id\n",
    "\n",
    "    # Wait for query/job to finish running. then get & return data frame\n",
    "    df = client_result.result().to_arrow().to_pandas()\n",
    "    print(f\"Finished job_id: {job_id}\")\n",
    "    return df"
   ]
  },
  {
   "cell_type": "code",
   "execution_count": 12,
   "metadata": {
    "colab": {
     "base_uri": "https://localhost:8080/",
     "height": 223
    },
    "id": "0RqNFZdVKDW6",
    "outputId": "bd29bbc7-adae-4678-85e0-b3a468f4a87a"
   },
   "outputs": [
    {
     "name": "stdout",
     "output_type": "stream",
     "text": [
      "\n",
      "CREATE OR REPLACE MODEL `jm_us.ecommerce_customer_segment_cluster5`\n",
      "OPTIONS (\n",
      "  MODEL_TYPE = \"KMEANS\",\n",
      "  NUM_CLUSTERS = 5,\n",
      "  KMEANS_INIT_METHOD = \"KMEANS++\",\n",
      "  STANDARDIZE_FEATURES = TRUE )\n",
      "AS (\n",
      "SELECT * EXCEPT (user_id)\n",
      "FROM (\n",
      "  SELECT user_id,\n",
      "    DATE_DIFF(CURRENT_DATE(), CAST(MAX(order_created_date) as DATE), day) AS days_since_order, -- RECENCY\n",
      "    COUNT(order_id) AS count_orders, -- FREQUENCY\n",
      "    AVG(sale_price) AS avg_spend -- MONETARY\n",
      "  FROM (\n",
      "    SELECT user_id,\n",
      "      order_id,\n",
      "      sale_price,\n",
      "      created_at as order_created_date\n",
      "    FROM `bigquery-public-data.thelook_ecommerce.order_items`\n",
      "    WHERE created_at BETWEEN CAST('2020-01-01 00:00:00' AS TIMESTAMP)\n",
      "    AND CAST('2023-01-01 00:00:00' AS TIMESTAMP)\n",
      "  )\n",
      "  GROUP BY user_id, order_id\n",
      " )\n",
      ")\n",
      "\n",
      "Finished job_id: 719796aa-3625-42fb-b2f1-5301aa664f9b\n"
     ]
    },
    {
     "data": {
      "text/html": [
       "<div>\n",
       "<style scoped>\n",
       "    .dataframe tbody tr th:only-of-type {\n",
       "        vertical-align: middle;\n",
       "    }\n",
       "\n",
       "    .dataframe tbody tr th {\n",
       "        vertical-align: top;\n",
       "    }\n",
       "\n",
       "    .dataframe thead th {\n",
       "        text-align: right;\n",
       "    }\n",
       "</style>\n",
       "<table border=\"1\" class=\"dataframe\">\n",
       "  <thead>\n",
       "    <tr style=\"text-align: right;\">\n",
       "      <th></th>\n",
       "    </tr>\n",
       "  </thead>\n",
       "  <tbody>\n",
       "  </tbody>\n",
       "</table>\n",
       "</div>"
      ],
      "text/plain": [
       "Empty DataFrame\n",
       "Columns: []\n",
       "Index: []"
      ]
     },
     "execution_count": 12,
     "metadata": {},
     "output_type": "execute_result"
    }
   ],
   "source": [
    "print(query)\n",
    "\n",
    "# this should take under 5 minutes to create the model\n",
    "run_bq_query(query)"
   ]
  },
  {
   "cell_type": "markdown",
   "metadata": {
    "id": "mYN7F_f3PeE5"
   },
   "source": [
    "Let's take a look at the model's clustering performance, using these metrics - [Davies Bouldin Index](https://en.wikipedia.org/wiki/Davies%E2%80%93Bouldin_index) and Mean Squared Distance"
   ]
  },
  {
   "cell_type": "code",
   "execution_count": 13,
   "metadata": {
    "colab": {
     "base_uri": "https://localhost:8080/",
     "height": 98
    },
    "id": "wDy9-26SFnuS",
    "outputId": "5b9f169c-0165-4439-847e-11a94ea4b290"
   },
   "outputs": [
    {
     "name": "stdout",
     "output_type": "stream",
     "text": [
      "Finished job_id: f137a216-4529-4297-aba4-8843157accd8\n"
     ]
    },
    {
     "data": {
      "text/html": [
       "<div>\n",
       "<style scoped>\n",
       "    .dataframe tbody tr th:only-of-type {\n",
       "        vertical-align: middle;\n",
       "    }\n",
       "\n",
       "    .dataframe tbody tr th {\n",
       "        vertical-align: top;\n",
       "    }\n",
       "\n",
       "    .dataframe thead th {\n",
       "        text-align: right;\n",
       "    }\n",
       "</style>\n",
       "<table border=\"1\" class=\"dataframe\">\n",
       "  <thead>\n",
       "    <tr style=\"text-align: right;\">\n",
       "      <th></th>\n",
       "      <th>davies_bouldin_index</th>\n",
       "      <th>mean_squared_distance</th>\n",
       "    </tr>\n",
       "  </thead>\n",
       "  <tbody>\n",
       "    <tr>\n",
       "      <th>0</th>\n",
       "      <td>1.503612</td>\n",
       "      <td>1.468655</td>\n",
       "    </tr>\n",
       "  </tbody>\n",
       "</table>\n",
       "</div>"
      ],
      "text/plain": [
       "   davies_bouldin_index  mean_squared_distance\n",
       "0              1.503612               1.468655"
      ]
     },
     "execution_count": 13,
     "metadata": {},
     "output_type": "execute_result"
    }
   ],
   "source": [
    "query = \"\"\"\n",
    "SELECT *\n",
    "FROM ML.EVALUATE(MODEL `{0}.{1}`)\n",
    "\"\"\".format(dataset_name, model_name)\n",
    "run_bq_query(query)\n"
   ]
  },
  {
   "cell_type": "markdown",
   "metadata": {
    "id": "t1RNh1NqPpJ2"
   },
   "source": [
    "Now let's get the cluster (centroid) information"
   ]
  },
  {
   "cell_type": "code",
   "execution_count": 14,
   "metadata": {
    "colab": {
     "base_uri": "https://localhost:8080/",
     "height": 224
    },
    "id": "H2czyn5zPvhJ",
    "outputId": "60ac49c9-e2ec-4cdb-d846-17cdb3a9342e"
   },
   "outputs": [
    {
     "name": "stdout",
     "output_type": "stream",
     "text": [
      "Finished job_id: d77f52a1-4246-4695-ac7e-c60f05ebafac\n"
     ]
    },
    {
     "data": {
      "text/html": [
       "<div>\n",
       "<style scoped>\n",
       "    .dataframe tbody tr th:only-of-type {\n",
       "        vertical-align: middle;\n",
       "    }\n",
       "\n",
       "    .dataframe tbody tr th {\n",
       "        vertical-align: top;\n",
       "    }\n",
       "\n",
       "    .dataframe thead th {\n",
       "        text-align: right;\n",
       "    }\n",
       "</style>\n",
       "<table border=\"1\" class=\"dataframe\">\n",
       "  <thead>\n",
       "    <tr style=\"text-align: right;\">\n",
       "      <th></th>\n",
       "      <th>centroid</th>\n",
       "      <th>average_spend</th>\n",
       "      <th>count_of_orders</th>\n",
       "      <th>days_since_order</th>\n",
       "    </tr>\n",
       "  </thead>\n",
       "  <tbody>\n",
       "    <tr>\n",
       "      <th>0</th>\n",
       "      <td>cluster 1</td>\n",
       "      <td>41.69</td>\n",
       "      <td>1.44</td>\n",
       "      <td>629.42</td>\n",
       "    </tr>\n",
       "    <tr>\n",
       "      <th>1</th>\n",
       "      <td>cluster 2</td>\n",
       "      <td>597.38</td>\n",
       "      <td>1.15</td>\n",
       "      <td>563.59</td>\n",
       "    </tr>\n",
       "    <tr>\n",
       "      <th>2</th>\n",
       "      <td>cluster 3</td>\n",
       "      <td>43.00</td>\n",
       "      <td>1.54</td>\n",
       "      <td>294.58</td>\n",
       "    </tr>\n",
       "    <tr>\n",
       "      <th>3</th>\n",
       "      <td>cluster 4</td>\n",
       "      <td>163.18</td>\n",
       "      <td>1.20</td>\n",
       "      <td>457.94</td>\n",
       "    </tr>\n",
       "    <tr>\n",
       "      <th>4</th>\n",
       "      <td>cluster 5</td>\n",
       "      <td>52.85</td>\n",
       "      <td>1.40</td>\n",
       "      <td>1012.31</td>\n",
       "    </tr>\n",
       "  </tbody>\n",
       "</table>\n",
       "</div>"
      ],
      "text/plain": [
       "    centroid  average_spend  count_of_orders  days_since_order\n",
       "0  cluster 1          41.69             1.44            629.42\n",
       "1  cluster 2         597.38             1.15            563.59\n",
       "2  cluster 3          43.00             1.54            294.58\n",
       "3  cluster 4         163.18             1.20            457.94\n",
       "4  cluster 5          52.85             1.40           1012.31"
      ]
     },
     "execution_count": 14,
     "metadata": {},
     "output_type": "execute_result"
    }
   ],
   "source": [
    "query = \"\"\"\n",
    "SELECT\n",
    "  CONCAT('cluster ', CAST(centroid_id as STRING)) as centroid,\n",
    "  avg_spend as average_spend,\n",
    "  count_orders as count_of_orders,\n",
    "  days_since_order\n",
    "FROM (\n",
    "  SELECT centroid_id, feature, ROUND(numerical_value, 2) as value\n",
    "  FROM ML.CENTROIDS(MODEL `{0}.{1}`)\n",
    ")\n",
    "PIVOT (\n",
    "  SUM(value)\n",
    "  FOR feature IN ('avg_spend',  'count_orders', 'days_since_order')\n",
    ")\n",
    "ORDER BY centroid_id\n",
    "\"\"\".format(dataset_name, model_name)\n",
    "run_bq_query(query)"
   ]
  },
  {
   "cell_type": "markdown",
   "metadata": {
    "id": "Xhha_o_qPwJY"
   },
   "source": [
    "Whew! That's a lot of metrics and cluster info. How about we explain this to our colleagues using the magic of LLMs."
   ]
  },
  {
   "cell_type": "code",
   "execution_count": 15,
   "metadata": {
    "colab": {
     "base_uri": "https://localhost:8080/"
    },
    "id": "AWzyZUFdRQll",
    "outputId": "d9a00a0c-40c4-41f7-a138-449c5c46619a"
   },
   "outputs": [
    {
     "name": "stdout",
     "output_type": "stream",
     "text": [
      "cluster 1, average spend $41.69, count of orders per person 1.44, days since last order 629.42\n",
      "cluster 2, average spend $597.38, count of orders per person 1.15, days since last order 563.59\n",
      "cluster 3, average spend $43.0, count of orders per person 1.54, days since last order 294.58\n",
      "cluster 4, average spend $163.18, count of orders per person 1.2, days since last order 457.94\n",
      "cluster 5, average spend $52.85, count of orders per person 1.4, days since last order 1012.31\n"
     ]
    }
   ],
   "source": [
    "df = client.query(query).to_dataframe()\n",
    "df.to_string(header=False, index=False)\n",
    "\n",
    "cluster_info = []\n",
    "for i, row in df.iterrows():\n",
    "  cluster_info.append(\"{0}, average spend ${2}, count of orders per person {1}, days since last order {3}\"\n",
    "    .format(row[\"centroid\"], row[\"count_of_orders\"], row[\"average_spend\"], row[\"days_since_order\"]) )\n",
    "\n",
    "print(str.join(\"\\n\", cluster_info))"
   ]
  },
  {
   "cell_type": "markdown",
   "metadata": {
    "id": "7Na0_rVVLhOk"
   },
   "source": [
    "## Explain with Vertex AI PaLM API\n",
    "\n",
    "Install the python library and restart the runtime"
   ]
  },
  {
   "cell_type": "code",
   "execution_count": 16,
   "metadata": {
    "id": "4swYEG_iMmNU"
   },
   "outputs": [],
   "source": [
    "from google.cloud import aiplatform\n",
    "#from google.cloud.aiplatform.private_preview.language_models import TextGenerationModel, ChatModel\n",
    "from vertexai.language_models._language_models import TextGenerationModel, ChatModel\n",
    "\n",
    "aiplatform.init(project=project_id, location=LOCATION)"
   ]
  },
  {
   "cell_type": "markdown",
   "metadata": {
    "id": "tdoRB7RjLso6"
   },
   "source": [
    "Generate a text prediction"
   ]
  },
  {
   "cell_type": "code",
   "execution_count": 17,
   "metadata": {
    "colab": {
     "base_uri": "https://localhost:8080/"
    },
    "id": "MYwQNH0ELu9y",
    "outputId": "38f056b7-eadd-4015-90d2-832235fa8f49"
   },
   "outputs": [
    {
     "name": "stdout",
     "output_type": "stream",
     "text": [
      "**Cluster 1**\n",
      "\n",
      "* Title: The Loyal Customers\n",
      "* Persona: These customers are loyal and spend a moderate amount of money on our products. They typically order once every few months.\n",
      "* Next Marketing Step: We should focus on keeping these customers happy by offering them special deals and promotions. We could also send them personalized emails with product recommendations.\n",
      "\n",
      "**Cluster 2**\n",
      "\n",
      "* Title: The Big Spenders\n",
      "* Persona: These customers spend a lot of money on our products and order frequently. They are typically looking for the latest and greatest products.\n",
      "* Next Marketing Step: We should focus on marketing our new products to these customers. We could also offer them exclusive access to new products or services.\n",
      "\n",
      "**Cluster 3**\n",
      "\n",
      "* Title: The Occasional Buyers\n",
      "* Persona: These customers buy from us only occasionally, but they typically spend a moderate amount of money. They are typically looking for products that are specific to their needs.\n",
      "* Next Marketing Step: We should focus on making it easy for these customers to find the products they are looking for. We could also offer them personalized recommendations based on their past purchases.\n",
      "\n",
      "**Cluster 4**\n",
      "\n",
      "* Title: The Price Sensitive Customers\n",
      "* Persona: These customers are looking for the best possible deals on our products. They typically order infrequently and only buy when there is a sale.\n",
      "* Next Marketing Step: We should focus on offering these customers the best possible prices. We could also offer them coupons and other discounts.\n",
      "\n",
      "**Cluster 5**\n",
      "\n",
      "* Title: The Forgotten Customers\n",
      "* Persona: These customers have not ordered from us in a long time. They may have forgotten about us or they may have found a new supplier.\n",
      "* Next Marketing Step: We should focus on re-engaging these customers. We could send them personalized emails with product recommendations or we could offer them a special deal to come back to our store.\n"
     ]
    }
   ],
   "source": [
    "#from google.cloud.aiplatform.private_preview.language_models import TextGenerationModel\n",
    "from vertexai.language_models._language_models import TextGenerationModel\n",
    "\n",
    "model = TextGenerationModel.from_pretrained(\"text-bison@001\")\n",
    "\n",
    "clusters = str.join(\"\\n\", cluster_info)\n",
    "\n",
    "prompt = f\"\"\"\n",
    "You're a creative brand strategist, given the following clusters, come up with creative brand persona, a catchy title, and next marketing action, explained step by step.\n",
    "\n",
    "Clusters:\n",
    "{clusters}\n",
    "\n",
    "For each Cluster:\n",
    "* Title:\n",
    "* Persona:\n",
    "* Next Marketing Step:\n",
    "\"\"\"\n",
    "\n",
    "print(model.predict(\n",
    "    prompt,\n",
    "    max_output_tokens=1024,\n",
    "    temperature=0.55,\n",
    "    top_p=0.8,\n",
    "    top_k=40,\n",
    "))"
   ]
  },
  {
   "cell_type": "markdown",
   "metadata": {
    "id": "jqC5uUguaunY"
   },
   "source": [
    "Voila! We've now used k-means clustering to create groups of spenders and explain their profiles."
   ]
  },
  {
   "cell_type": "markdown",
   "metadata": {
    "id": "5HEVHGmmRyGW"
   },
   "source": [
    "Sometimes, though, you want a little bit [extra](https://cloud.google.com/blog/transform/prompt-debunking-five-generative-ai-misconceptions)."
   ]
  },
  {
   "cell_type": "code",
   "execution_count": 19,
   "metadata": {
    "colab": {
     "base_uri": "https://localhost:8080/"
    },
    "id": "3HgwtN1tR3xQ",
    "outputId": "7354950f-b7cd-4e1a-cc35-500bc4104ba3"
   },
   "outputs": [
    {
     "name": "stdout",
     "output_type": "stream",
     "text": [
      "**Cluster 1: The Swifties**\n",
      "\n",
      "Taylor Swift fans are known for their loyalty and devotion, and this cluster is no exception. They are typically young women who are passionate about music and fashion. They are also very social and love to share their love of Taylor Swift with their friends and family. The Swifties are typically high-spenders, and they are likely to buy Taylor Swift's merchandise, concert tickets, and albums. Their favorite Taylor Swift song is likely to be \"Shake It Off,\" which is about being confident and not letting anyone bring you down.\n",
      "\n",
      "**E-mail headline:** Taylor Swift fans, we have something special for you!\n",
      "\n",
      "**Cluster 2: The Royals**\n",
      "\n",
      "This cluster is made up of affluent, middle-aged women who are looking for high-quality products. They are typically well-educated and successful in their careers. They are also very stylish and are always looking for the latest trends. The Royals are typically low-volume shoppers, but they spend a lot of money when they do shop. Their favorite Taylor Swift song is likely to be \"Blank Space,\" which is about a woman who is not afraid to play the game of love.\n",
      "\n",
      "**E-mail headline:** The Royals, get ready for a special shopping experience!\n",
      "\n",
      "**Cluster 3: The College Girls**\n",
      "\n",
      "This cluster is made up of young women who are in college or just starting their careers. They are typically social and outgoing, and they love to shop. They are also very budget-conscious, and they are always looking for the best deals. The College Girls are typically low-spenders, but they make up for it in volume. Their favorite Taylor Swift song is likely to be \"22,\" which is about the carefree days of being young and in love.\n",
      "\n",
      "**E-mail headline:** College Girls, get ready for the best shopping deals of your life!\n",
      "\n",
      "**Cluster 4: The Families**\n",
      "\n",
      "This cluster is made up of families with young children. They are typically looking for affordable, quality products that will last. They are also very busy, and they need products that are easy to use. The Families are typically mid-spenders, and they make up for it in volume. Their favorite Taylor Swift song is likely to be \"Love Story,\" which is about a young couple who fall in love in a small town.\n",
      "\n",
      "**E-mail headline:** Families, we have everything you need for a happy home!\n",
      "\n",
      "**Cluster 5: The Collectors**\n",
      "\n",
      "This cluster is made up of Taylor Swift fans who are obsessed with collecting her merchandise. They are typically very passionate about Taylor Swift, and they love to own everything she has ever released. The Collectors are typically high-spenders, and they are willing to pay top dollar for Taylor Swift's products. Their favorite Taylor Swift song is likely to be \"You Belong With Me,\" which is about a girl who is in love with her best friend.\n",
      "\n",
      "**E-mail headline:** Taylor Swift collectors, get ready for the ultimate shopping experience!\n"
     ]
    }
   ],
   "source": [
    "from vertexai.language_models._language_models import TextGenerationModel\n",
    "\n",
    "model = TextGenerationModel.from_pretrained(\"text-bison@001\")\n",
    "\n",
    "cluster_info = str.join('\\n', cluster_info)\n",
    "\n",
    "prompt = f\"\"\"\n",
    "Pretend you're a creative strategist, analyse the following clusters and come up with \\\n",
    "creative brand persona for each that includes the detail of which Taylor Swift song is \\\n",
    "likely to be their favorite, a summary of how this relates to their purchasing behavior, \\\n",
    "and a witty e-mail headline for marketing campaign targeted to their group.\n",
    "\n",
    "Clusters:\n",
    "{cluster_info}\n",
    "\"\"\"\n",
    "\n",
    "print(model.predict(\n",
    "    prompt,\n",
    "    max_output_tokens=1024,\n",
    "    temperature=0.45,\n",
    "    top_p=0.8, top_k=40,\n",
    "))"
   ]
  },
  {
   "cell_type": "code",
   "execution_count": null,
   "metadata": {},
   "outputs": [],
   "source": []
  },
  {
   "cell_type": "code",
   "execution_count": null,
   "metadata": {},
   "outputs": [],
   "source": []
  }
 ],
 "metadata": {
  "colab": {
   "provenance": []
  },
  "environment": {
   "kernel": "python3",
   "name": "tf2-gpu.2-11.m108",
   "type": "gcloud",
   "uri": "gcr.io/deeplearning-platform-release/tf2-gpu.2-11:m108"
  },
  "kernelspec": {
   "display_name": "Python 3 (ipykernel)",
   "language": "python",
   "name": "python3"
  },
  "language_info": {
   "codemirror_mode": {
    "name": "ipython",
    "version": 3
   },
   "file_extension": ".py",
   "mimetype": "text/x-python",
   "name": "python",
   "nbconvert_exporter": "python",
   "pygments_lexer": "ipython3",
   "version": "3.7.12"
  }
 },
 "nbformat": 4,
 "nbformat_minor": 4
}
