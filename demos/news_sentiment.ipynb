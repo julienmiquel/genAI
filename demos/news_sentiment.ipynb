{
 "cells": [
  {
   "cell_type": "markdown",
   "id": "1721312e-6fde-4407-b980-3ef3223d1223",
   "metadata": {},
   "source": [
    "# News sentiment\n"
   ]
  },
  {
   "cell_type": "code",
   "execution_count": 6,
   "id": "f07f71f0-9c91-4a57-9760-9f85805fc3f2",
   "metadata": {},
   "outputs": [
    {
     "name": "stdout",
     "output_type": "stream",
     "text": [
      "\u001b[33mWARNING: Ignoring invalid distribution -oogle-auth (/opt/conda/lib/python3.10/site-packages)\u001b[0m\u001b[33m\n",
      "\u001b[0m\u001b[33mWARNING: Ignoring invalid distribution -oogleapis-common-protos (/opt/conda/lib/python3.10/site-packages)\u001b[0m\u001b[33m\n",
      "\u001b[0mCollecting GoogleNews\n",
      "  Downloading GoogleNews-1.6.8-py3-none-any.whl (8.1 kB)\n",
      "Requirement already satisfied: beautifulsoup4 in /opt/conda/lib/python3.10/site-packages (from GoogleNews) (4.12.2)\n",
      "Collecting dateparser (from GoogleNews)\n",
      "  Downloading dateparser-1.1.8-py2.py3-none-any.whl (293 kB)\n",
      "\u001b[2K     \u001b[90m━━━━━━━━━━━━━━━━━━━━━━━━━━━━━━━━━━━━━━\u001b[0m \u001b[32m293.8/293.8 kB\u001b[0m \u001b[31m13.4 MB/s\u001b[0m eta \u001b[36m0:00:00\u001b[0m\n",
      "\u001b[?25hRequirement already satisfied: python-dateutil in /opt/conda/lib/python3.10/site-packages (from GoogleNews) (2.8.2)\n",
      "Requirement already satisfied: soupsieve>1.2 in /opt/conda/lib/python3.10/site-packages (from beautifulsoup4->GoogleNews) (2.3.2.post1)\n",
      "Requirement already satisfied: pytz in /opt/conda/lib/python3.10/site-packages (from dateparser->GoogleNews) (2023.3)\n",
      "Requirement already satisfied: regex!=2019.02.19,!=2021.8.27 in /home/jupyter/.local/lib/python3.10/site-packages (from dateparser->GoogleNews) (2023.6.3)\n",
      "Requirement already satisfied: tzlocal in /home/jupyter/.local/lib/python3.10/site-packages (from dateparser->GoogleNews) (5.0.1)\n",
      "Requirement already satisfied: six>=1.5 in /home/jupyter/.local/lib/python3.10/site-packages (from python-dateutil->GoogleNews) (1.16.0)\n",
      "\u001b[33mWARNING: Error parsing requirements for nest-asyncio: [Errno 2] No such file or directory: '/opt/conda/lib/python3.10/site-packages/nest_asyncio-1.5.6.dist-info/METADATA'\u001b[0m\u001b[33m\n",
      "\u001b[0m\u001b[33mWARNING: Ignoring invalid distribution -oogle-auth (/opt/conda/lib/python3.10/site-packages)\u001b[0m\u001b[33m\n",
      "\u001b[0m\u001b[33mWARNING: Ignoring invalid distribution -oogleapis-common-protos (/opt/conda/lib/python3.10/site-packages)\u001b[0m\u001b[33m\n",
      "\u001b[0mInstalling collected packages: dateparser, GoogleNews\n",
      "Successfully installed GoogleNews-1.6.8 dateparser-1.1.8\n"
     ]
    }
   ],
   "source": [
    "!pip install GoogleNews\n",
    "\n"
   ]
  },
  {
   "cell_type": "code",
   "execution_count": 1,
   "id": "a9b78d7b-3d62-4234-ab15-e8720afaaa9f",
   "metadata": {},
   "outputs": [],
   "source": [
    "import vertexai\n",
    "\n",
    "PROJECT_ID = \"ml-demo-384110\"  # @param {type:\"string\"}\n",
    "REGION = \"us-central1\"\n",
    "\n",
    "vertexai_text_bison =\"text-bison@001\"\n",
    "\n",
    "vertexai.init(project=PROJECT_ID, location=REGION)"
   ]
  },
  {
   "cell_type": "code",
   "execution_count": 2,
   "id": "d4a596c1-0d71-4904-976f-05c8b140beac",
   "metadata": {},
   "outputs": [],
   "source": [
    "import logging\n",
    "logger = logging.getLogger(\"root\")\n",
    "logger.setLevel(logging.DEBUG)\n"
   ]
  },
  {
   "cell_type": "code",
   "execution_count": 3,
   "id": "8a1e3044-afb7-440c-9152-977572718978",
   "metadata": {},
   "outputs": [],
   "source": [
    "import pandas as pd\n",
    "\n",
    "from vertexai.preview.language_models import TextGenerationModel\n"
   ]
  },
  {
   "cell_type": "code",
   "execution_count": 9,
   "id": "5aade770-556c-4803-a09f-3ae91e2ff2c4",
   "metadata": {},
   "outputs": [],
   "source": [
    "generation_model = TextGenerationModel.from_pretrained(vertexai_text_bison)\n",
    "\n",
    "def llm(prompt,         max_output_tokens=1024,\n",
    "        temperature=0,\n",
    "        top_p=0.1,\n",
    "        top_k=1,        \n",
    "):\n",
    "    result = generation_model.predict(\n",
    "        prompt=prompt,\n",
    "        max_output_tokens=max_output_tokens,\n",
    "        temperature=temperature,\n",
    "        top_p=top_p,\n",
    "        top_k=top_k,        \n",
    "    )\n",
    "    return result"
   ]
  },
  {
   "cell_type": "markdown",
   "id": "09a22019-42db-4f62-a38c-0fc8567fed3b",
   "metadata": {},
   "source": [
    "### URL and prompt"
   ]
  },
  {
   "cell_type": "code",
   "execution_count": 26,
   "id": "7638c029-dec8-44c8-bd6a-7e807b291f72",
   "metadata": {},
   "outputs": [],
   "source": [
    "from GoogleNews import GoogleNews\n",
    "\n",
    "def load_text(file_path=None):\n",
    "    with open(file_path) as f:\n",
    "        content = f.readlines()\n",
    "    return content\n",
    "\n",
    "def predict(text, name):\n",
    "    prompt = f\"\"\"Is the sentiment positive or negative towards {name} based on the article: {text}\"\"\"\n",
    "#    prompt = f\"\"\"Get a float number between 1 and -1 describe the sentiment positive (1) or negative (-1) towards {name} based on the article: {text}\"\"\"    \n",
    "    resp = llm(prompt, max_output_tokens=1024)\n",
    "    return resp #[\"predictions\"]#[0][\"content\"]\n",
    "\n",
    "def query_news(name):\n",
    "    news_agent = GoogleNews(lang='en')\n",
    "    news_agent.enableException(True)\n",
    "    news_agent.get_news(name)\n",
    "    if len(news_agent.results()) == 0:\n",
    "        print(\"no recent news about this person\")\n",
    "        exit()\n",
    "    nums_to_return = min(5, len(news_agent.results()))\n",
    "    return news_agent.results()[:nums_to_return]\n"
   ]
  },
  {
   "cell_type": "code",
   "execution_count": 28,
   "id": "8072613d-5bed-4d83-ab72-1071a28a866f",
   "metadata": {},
   "outputs": [
    {
     "name": "stdout",
     "output_type": "stream",
     "text": [
      "the most recent five news about Macron from google news based on news titles\n",
      "positive vs The article is about Macron's visit to the United States. It is a neutral article. for article 'President Macron reaffirms French ownership of New Caledonia'\n",
      "positive vs The article is about Macron's visit to the United States. It is a neutral article. for article 'Emmanuel Macron insists New Caledonia belongs to France out of choice'\n",
      "positive vs The article is about Macron's visit to the United States. It is a neutral article. for article 'Macron urges 'sincere' talks over New Caledonia independence dispute'\n",
      "positive vs The article is about Macron's visit to the United States. It is a neutral article. for article 'Emmanuel Macron warns of 'Chinese naval bases' in New Caledonia, as Antony Blinken calls out 'problematic' Beijing in Tonga'\n",
      "negative vs The article is about Macron's visit to the United States. It is a neutral article. for article 'Macron says France needs return to authority ‘at every level’ after unrest'\n"
     ]
    }
   ],
   "source": [
    "name = \"Macron\"\n",
    "articles = query_news(name)\n",
    "print(f\"the most recent five news about {name} from google news based on news titles\")\n",
    "for article in articles:\n",
    "    title = article.get(\"title\")\n",
    "    body = article.get(\"body\")\n",
    "    sentiment = predict(title, name)\n",
    "    sentiment_body = predict(body, name)\n",
    "    print(f\"{sentiment} vs {sentiment_body} for article '{title}'\")"
   ]
  },
  {
   "cell_type": "code",
   "execution_count": null,
   "id": "ca6aa94e-bd88-417d-a1d2-997e6c88fd59",
   "metadata": {},
   "outputs": [],
   "source": []
  },
  {
   "cell_type": "code",
   "execution_count": null,
   "id": "4a229f8a-9d51-4130-b133-14e5838f548c",
   "metadata": {},
   "outputs": [],
   "source": []
  },
  {
   "cell_type": "code",
   "execution_count": 31,
   "id": "b0ea4142-657f-44f6-a99f-f10cafba4b21",
   "metadata": {},
   "outputs": [
    {
     "data": {
      "text/plain": [
       "{'title': 'President Macron reaffirms French ownership of New Caledonia',\n",
       " 'desc': None,\n",
       " 'date': '3 hours ago',\n",
       " 'datetime': datetime.datetime(2023, 7, 26, 17, 35, 24, 34467),\n",
       " 'link': 'news.google.com/./articles/CBMiZmh0dHBzOi8vd3d3LmV1cm9uZXdzLmNvbS92aWRlby8yMDIzLzA3LzI2L3ByZXNpZGVudC1tYWNyb24tcmVhZmZpcm1zLWZyZW5jaC1vd25lcnNoaXAtb2YtbmV3LWNhbGVkb25pYdIBAA?hl=en-US&gl=US&ceid=US%3Aen',\n",
       " 'img': 'https://lh3.googleusercontent.com/dDXRCHYvgF00H8KgCzNNfOyKnYuPV2iuTz2kQ6KtXFQDIqgex3VcECy9Qpn0uoYg7_6mCgAFgA=s0-h14-rp',\n",
       " 'media': 'Euronews',\n",
       " 'site': None}"
      ]
     },
     "execution_count": 31,
     "metadata": {},
     "output_type": "execute_result"
    }
   ],
   "source": [
    "article"
   ]
  },
  {
   "cell_type": "code",
   "execution_count": null,
   "id": "2eed7cb6-1c26-4b94-a554-55e5351a6352",
   "metadata": {},
   "outputs": [],
   "source": []
  },
  {
   "cell_type": "markdown",
   "id": "bf8a93bb-85e1-416e-970a-c405f50841e9",
   "metadata": {},
   "source": [
    "### basic approach"
   ]
  },
  {
   "cell_type": "code",
   "execution_count": null,
   "id": "1c50d158-153a-4c9a-9002-1f865edd92ee",
   "metadata": {},
   "outputs": [],
   "source": [
    "# Utility functions for Embeddings API with rate limiting\n",
    "def rate_limit(max_per_minute):\n",
    "    period = 60 / max_per_minute\n",
    "    print(\"Waiting\")\n",
    "    while True:\n",
    "        before = time.time()\n",
    "        yield\n",
    "        after = time.time()\n",
    "        elapsed = after - before\n",
    "        sleep_time = max(0, period - elapsed)\n",
    "        if sleep_time > 0:\n",
    "            print(\".\", end=\"\")\n",
    "            time.sleep(sleep_time)\n",
    "\n",
    "\n",
    "class CustomVertexAIEmbeddings(VertexAIEmbeddings, BaseModel):\n",
    "    requests_per_minute: int\n",
    "    num_instances_per_batch: int\n",
    "\n",
    "    # Overriding embed_documents method\n",
    "    def embed_documents(self, texts: List[str]):\n",
    "        limiter = rate_limit(self.requests_per_minute)\n",
    "        results = []\n",
    "        docs = list(texts)\n",
    "\n",
    "        while docs:\n",
    "            # Working in batches because the API accepts maximum 5\n",
    "            # documents per request to get embeddings\n",
    "            head, docs = (\n",
    "                docs[: self.num_instances_per_batch],\n",
    "                docs[self.num_instances_per_batch :],\n",
    "            )\n",
    "            chunk = self.client.get_embeddings(head)\n",
    "            results.extend(chunk)\n",
    "            next(limiter)\n",
    "\n",
    "        return [r.values for r in results]\n",
    "\n",
    "callbacks = [StdOutCallbackHandler()]\n",
    "    \n",
    "# LLM model\n",
    "vertexai_llm = VertexAI(\n",
    "    model_name=vertexai_text_bison,\n",
    "    max_output_tokens=1024,\n",
    "    temperature=0.2,\n",
    "    top_p=0.8,\n",
    "    top_k=40,\n",
    "    verbose=True,\n",
    "    callbacks=callbacks\n",
    ")\n",
    "\n",
    "# Chat\n",
    "chat = ChatVertexAI()\n",
    "\n",
    "# Embedding\n",
    "EMBEDDING_QPM = 100\n",
    "EMBEDDING_NUM_BATCH = 5\n",
    "embeddings = CustomVertexAIEmbeddings(\n",
    "    requests_per_minute=EMBEDDING_QPM,\n",
    "    num_instances_per_batch=EMBEDDING_NUM_BATCH,\n",
    ")\n",
    "\n",
    "\n",
    "\n",
    "    "
   ]
  },
  {
   "cell_type": "code",
   "execution_count": null,
   "id": "d301772f-513a-4e85-b7aa-32dbd435cec6",
   "metadata": {},
   "outputs": [],
   "source": [
    "\n",
    " \n",
    "# function to get unique values\n",
    "def unique(list1):\n",
    "    x = np.array(list1)\n",
    "    return np.unique(x)\n",
    "\n",
    "def load_url(url):\n",
    "\n",
    "    from bs4 import BeautifulSoup\n",
    "    import urllib.request\n",
    "    from urllib.error import URLError, HTTPError    \n",
    "    parser = 'html.parser'  # or 'lxml' (preferred) or 'html5lib', if installed\n",
    "    headers={'User-Agent': 'Mozilla/5.0 (Windows NT 10.0; Win64; x64) AppleWebKit/537.36 (KHTML, like Gecko) Chrome/102.0.0.0 Safari/537.36'}\n",
    "\n",
    "    try:        \n",
    "        req = urllib.request.Request(url, headers=headers) \n",
    "        resp = urllib.request.urlopen( req )        \n",
    "    except HTTPError as e:\n",
    "        # do something\n",
    "        print('Error code: ', e.code)   \n",
    "        return None, []\n",
    "    except URLError as e:\n",
    "        # do something\n",
    "        print('Reason: ', e.reason)\n",
    "        return None, []\n",
    "    else:\n",
    "        encoding = resp.info().get_param('charset')\n",
    "        #print(encoding)\n",
    "        soup = BeautifulSoup(resp, parser, from_encoding=encoding)\n",
    "#        print(soup.get_text())\n",
    "\n",
    "        try:\n",
    "            urls = []\n",
    "            for link in soup.find_all('a', href=True):\n",
    "                href = link['href']\n",
    "                if href.startswith(\"/\" ) and len(href) > 1:\n",
    "                    #print(href)\n",
    "                    urls.append(str(url) + str(href))\n",
    "            return soup, unique(urls)\n",
    "        except:\n",
    "            print(f\"error parsing {url}\")\n",
    "            return soup, []\n",
    "\n",
    "    \n",
    "def prepare_page(url):\n",
    "    soup , urls =load_url(url)\n",
    "    if soup != None:\n",
    "        docs = load_text(soup.get_text())\n",
    "        if docs !=None:\n",
    "            for doc in docs:\n",
    "                doc.metadata[\"url\"] = url\n",
    "                doc.metadata[\"source\"] = url\n",
    "        return docs\n",
    "    print(\"prepare_page Not found\")\n",
    "    return None\n",
    "\n",
    "def prepare_pages(url, recursive = True):\n",
    "        \n",
    "    soup , urls =load_url(url)\n",
    "    if soup != None:\n",
    "    \n",
    "        docs = load_text(soup.get_text())\n",
    "        for doc in docs:\n",
    "            doc.metadata[\"url\"] = url\n",
    "            doc.metadata[\"source\"] = url\n",
    "        if recursive == True :\n",
    "            print(urls)\n",
    "            for u in urls:\n",
    "                docs_url = prepare_page(u)\n",
    "                if docs_url !=None:\n",
    "                    docs.extend(docs_url)\n",
    "        return docs\n",
    "    else:\n",
    "        return None\n",
    "\n"
   ]
  },
  {
   "cell_type": "code",
   "execution_count": null,
   "id": "68033a35-1deb-4873-b8c6-b60d0d3d072e",
   "metadata": {},
   "outputs": [],
   "source": []
  },
  {
   "cell_type": "code",
   "execution_count": null,
   "id": "13563905-5d79-4206-9658-0a219c42eff1",
   "metadata": {
    "tags": []
   },
   "outputs": [],
   "source": [
    "def load_text(html_text : str):\n",
    "    from langchain.document_loaders import UnstructuredFileLoader\n",
    "\n",
    "    from langchain.document_loaders import UnstructuredFileIOLoader\n",
    "\n",
    "    \n",
    "    from io import BytesIO\n",
    "\n",
    "    loader = UnstructuredFileIOLoader(\n",
    "        BytesIO(bytes(html_text,encoding='utf-8')), mode=\"elements\", strategy=\"fast\"\n",
    "    )\n",
    "    docs = loader.load()\n",
    "    return docs\n"
   ]
  },
  {
   "cell_type": "code",
   "execution_count": null,
   "id": "06baaf67-d50a-4597-8609-e2005460e2da",
   "metadata": {},
   "outputs": [],
   "source": [
    "url_dic = {}"
   ]
  },
  {
   "cell_type": "code",
   "execution_count": null,
   "id": "997eba28-7fed-45ec-8e5b-01d476eee548",
   "metadata": {},
   "outputs": [],
   "source": [
    "\n",
    "def chat_with_page(query, url, template) -> str:\n",
    "    \n",
    "    if url in url_dic:\n",
    "        print(f\"Exists: {url}\")\n",
    "        retriever = url_dic[url]\n",
    "    else:\n",
    "        print(\"Does not exist\")\n",
    "   \n",
    "        \n",
    "        documents = prepare_pages(url, False)\n",
    "        if documents == None:\n",
    "            print(\"Load document fail\")\n",
    "            return {'answer':{'error' : 404  }}\n",
    "        else:\n",
    "            # Get your splitter ready\n",
    "            text_splitter = RecursiveCharacterTextSplitter(chunk_size=1500, chunk_overlap=50)\n",
    "\n",
    "            # Split your docs into texts\n",
    "            texts = text_splitter.split_documents(documents)\n",
    "\n",
    "            print(f\"You have {len(texts)} documents\")\n",
    "\n",
    "            # Embed your texts\n",
    "            db = FAISS.from_documents(texts, embeddings)\n",
    "\n",
    "            # Init your retriever. Asking for just 1 document back\n",
    "            retriever = db.as_retriever()\n",
    "            url_dic[url] = retriever\n",
    "\n",
    "    # Create chain to answer questions\n",
    "    from langchain.chains import RetrievalQA\n",
    "    from langchain import PromptTemplate\n",
    "    from langchain.prompts import PromptTemplate\n",
    "    from langchain.chains import LLMChain\n",
    "    from langchain.agents import Tool\n",
    "    \n",
    "    prompt = PromptTemplate(\n",
    "        input_variables=[\"url\"],\n",
    "        template=template\n",
    "    )\n",
    "\n",
    "    print(80*\"*\")\n",
    "\n",
    "    chain = RetrievalQAWithSourcesChain.from_chain_type(vertexai_llm, \n",
    "                                                        chain_type=\"stuff\" , #tools= [llm_tool],\n",
    "                                                        retriever=retriever, \n",
    "                                                        return_source_documents=True, verbose=True )\n",
    "\n",
    "    result = chain(prompt.format(url=url))\n",
    "\n",
    "    print(80*\"*\")\n",
    "    print(result)\n",
    "    print(80*\"*\")    \n",
    "    return result\n",
    "\n",
    "\n",
    "    #llm_chain = LLMChain(llm=llm, prompt=prompt)\n",
    "\n",
    "    # initialize the LLM tool\n",
    "    llm_tool = Tool(\n",
    "        name='Language Model',\n",
    "        func=llm_chain.run,\n",
    "        description='use this tool for general purpose queries and logic'\n",
    "    )\n",
    "    \n",
    "    # Notice \"location\" below, that is a placeholder for another value later\n",
    "\n",
    "\n",
    "\n"
   ]
  },
  {
   "cell_type": "code",
   "execution_count": null,
   "id": "2bdf5d0a-067c-446e-88ad-95f09a5225b7",
   "metadata": {},
   "outputs": [],
   "source": [
    "prompt= \"\"\" Summarize content {url}. \"\"\""
   ]
  },
  {
   "cell_type": "code",
   "execution_count": null,
   "id": "8c2fb7e2-e65f-4870-95b1-c81b20d56c30",
   "metadata": {},
   "outputs": [
    {
     "name": "stdout",
     "output_type": "stream",
     "text": [
      "Exists: https://hardrunning.hubside.es\n",
      "********************************************************************************\n",
      "\n",
      "\n",
      "\u001b[1m> Entering new  chain...\u001b[0m\n",
      "\n",
      "\u001b[1m> Finished chain.\u001b[0m\n",
      "********************************************************************************\n",
      "{'question': ' Summarize content https://hardrunning.hubside.es. ', 'answer': \"HardRunning is a running event in Malaga that will help you push your limits and achieve a great goal. You can sign up for the half marathon, an unforgettable experience that you can do with friends or by yourself. In either case, you won't regret it.\\n\", 'sources': 'https://hardrunning.hubside.es', 'source_documents': [Document(page_content='HardRunningInicioEl clubArtículosEventosUnirseBIENVENIDOS A HARD RUNNINGLa experiencia vivida en Málaga que hará que superes tus límites y cumplas un gran objetivoInscríbete en nuestra media maratón, una experiencia inolvidable que podrás realizar en compañía o luchando contra ti mismo. En cualquiera de los casos, no te arrepentirás.Anímate a cumplir un sueñoMe he inscrito porque quiero tener un objetivo de esta magnitud en mi vida y demostrarme a mí misma hasta donde puedo llegar y que nada puede pararmeÁnimo Próximos eventosCaritativoSunday RunningUna carrera caritativa organizada para recoger fondos para la asociación Sunday RunningMás informaciónRetoReto HardRunningCompletar todas las plazas disponibles y volver a organizar un evento de esta magnitud al año siguiente.Más informaciónTrail runningEl HardRunning TrainingLa empresa  organiza una sesión de running en plena naturaleza varios días previos a la media maratón para cualquiera que le guste asistir. Haz clic a continuación para conocer los detallesMás informaciónloading...Calle Miguel de Mérida, Málaga.+34 691 023 226¿Nos apuntamos ya? ¡Puedes hacerlo!Todos los campos son obligatoriosApellidos\\u2009*Apellidos\\xa0*Correo electrónico\\u2009*Correo electrónico\\xa0*Asunto\\u2009*Asunto\\xa0*Mensaje\\u2009*Mensaje\\xa0*Enviar©2019 Hubside', metadata={'filetype': 'text/plain', 'page_number': 1, 'category': 'NarrativeText', 'url': 'https://hardrunning.hubside.es', 'source': 'https://hardrunning.hubside.es'})]}\n",
      "********************************************************************************\n",
      "\n",
      "LLM answer: HardRunning is a running event in Malaga that will help you push your limits and achieve a great goal. You can sign up for the half marathon, an unforgettable experience that you can do with friends or by yourself. In either case, you won't regret it.\n",
      "\n",
      "LLM sources: https://hardrunning.hubside.es\n"
     ]
    }
   ],
   "source": [
    "url = \"https://hardrunning.hubside.es\"\n",
    "\n",
    "result = chat_with_page(prompt, url, prompt)\n",
    "print(\"\")\n",
    "print(\"LLM answer: \" + result[\"answer\"])\n",
    "print(\"LLM sources: \" + result[\"sources\"])"
   ]
  },
  {
   "cell_type": "code",
   "execution_count": null,
   "id": "d3d58179-a012-4522-945e-7d110f2b6e69",
   "metadata": {},
   "outputs": [],
   "source": []
  },
  {
   "cell_type": "code",
   "execution_count": null,
   "id": "8b237098-d46d-429e-9af7-e64fc54d07c2",
   "metadata": {},
   "outputs": [
    {
     "name": "stdout",
     "output_type": "stream",
     "text": [
      "Does not exist\n",
      "Reason:  [SSL: CERTIFICATE_VERIFY_FAILED] certificate verify failed (_ssl.c:1007)\n",
      "Load document fail\n",
      "\n",
      "{'error': 404}\n"
     ]
    }
   ],
   "source": [
    "url = \"https://tintin_le_film.hubside.es\"\n",
    "\n",
    "result = chat_with_page(prompt, url, prompt)\n",
    "print(\"\")\n",
    "print(result[\"answer\"])\n"
   ]
  },
  {
   "cell_type": "markdown",
   "id": "a9a85775-6db3-4c4b-87f2-8fb5a78d67c0",
   "metadata": {},
   "source": [
    "# 2) Aide au formulaire SEO éditeur: \n",
    "- Meta description, title, alt image\n",
    "- Déjà testé Vision API\n",
    "- Génération \n"
   ]
  },
  {
   "cell_type": "code",
   "execution_count": null,
   "id": "fca36b77-c4a0-4f14-aa66-c6c825295543",
   "metadata": {},
   "outputs": [],
   "source": [
    "url = \"https://valerie-filuncrochet.com\"\n",
    "\n",
    "prompt = f\"\"\"You are an expert in SEO. \n",
    "Give me the 20 best tags describing this website {url} \n",
    "The result should be as an array of elements format without any parent key\n",
    "\"\"\"\n"
   ]
  },
  {
   "cell_type": "code",
   "execution_count": null,
   "id": "7b7c59f5-7fd0-4266-830a-8eb41de00ca8",
   "metadata": {},
   "outputs": [
    {
     "data": {
      "text/plain": [
       "[\n",
       "  \"crochet\",\n",
       "  \"crochet patterns\",\n",
       "  \"crochet tutorial\",\n",
       "  \"crochet hat\",\n",
       "  \"crochet scarf\",\n",
       "  \"crochet blanket\",\n",
       "  \"crochet bag\",\n",
       "  \"crochet clothes\",\n",
       "  \"crochet accessories\",\n",
       "  \"crochet for beginners\",\n",
       "  \"crochet for kids\",\n",
       "  \"crochet for adults\",\n",
       "  \"crochet patterns free\",\n",
       "  \"crochet tutorial video\",\n",
       "  \"crochet blog\",\n",
       "  \"crochet shop\",\n",
       "  \"crochet pattern designer\",\n",
       "  \"crochet teacher\",\n",
       "  \"crochet artist\"\n",
       "]"
      ]
     },
     "execution_count": 44,
     "metadata": {},
     "output_type": "execute_result"
    }
   ],
   "source": [
    "llm(prompt)"
   ]
  },
  {
   "cell_type": "code",
   "execution_count": null,
   "id": "64642bba-b4b6-48a2-9208-2b9c4f975975",
   "metadata": {},
   "outputs": [],
   "source": []
  },
  {
   "cell_type": "code",
   "execution_count": null,
   "id": "feef90d1-513a-43dd-8286-1238a1522ae6",
   "metadata": {},
   "outputs": [],
   "source": [
    "\"\"\"You are a leading digital marketer working for a top retail organisation. \n",
    "You are an expert at generating high-performing Shopping ad titles and identifying the most important product attributes for influencing a buying decision. \n",
    "Given the \"\"Context\"\" information for a product, generate \"\"product attribute keys in original title\"\", \"\"product category\"\", \"\"product attribute keys\"\" and \"\"product attribute values\"\" in English. Sort the generated \"\"product attribute keys\"\" and \"\"product attribute values\"\" so that the most important attributes are listed first. You are not allowed to list an attribute in \"\"product attribute keys\"\" without a corresponding value in \"\"product attribute values\"\". If you encounter a size attribute with a value such as Small, Medium or Large, replace it with its abbreviation (S, M, L) and prefix it with \"\"Size\"\".\n",
    "\"\"\""
   ]
  },
  {
   "cell_type": "code",
   "execution_count": null,
   "id": "14d186a1-0ff2-46a5-be69-21b28d7c2a96",
   "metadata": {},
   "outputs": [],
   "source": []
  },
  {
   "cell_type": "code",
   "execution_count": null,
   "id": "ae7fbef8-4b8b-44ee-b7c0-d98e67ac8a2a",
   "metadata": {},
   "outputs": [
    {
     "data": {
      "text/plain": [
       "'https://hardrunning.hubside.es'"
      ]
     },
     "execution_count": 31,
     "metadata": {},
     "output_type": "execute_result"
    }
   ],
   "source": [
    "url"
   ]
  },
  {
   "cell_type": "code",
   "execution_count": null,
   "id": "4d29f6fa-3b74-4520-8a25-5a289c214607",
   "metadata": {},
   "outputs": [],
   "source": []
  },
  {
   "cell_type": "code",
   "execution_count": null,
   "id": "1afbd10c-cfa6-4a1a-ab5a-f6802e2f1872",
   "metadata": {},
   "outputs": [],
   "source": []
  },
  {
   "cell_type": "code",
   "execution_count": null,
   "id": "5b46630d-aca4-4b79-8b43-c1d1adf6d148",
   "metadata": {},
   "outputs": [
    {
     "name": "stdout",
     "output_type": "stream",
     "text": [
      "VALERIE_FILUNCROCHET\n",
      "\n",
      "ACCUEIL\n",
      "\n",
      "CONTACT\n",
      "\n",
      "KITS\n",
      "\n",
      "LIVRE\n",
      "\n",
      "LIVRE-FORET\n",
      "\n",
      "LIVRE-LUMIS\n",
      "\n",
      "LIVRE-NOEL\n",
      "\n",
      "LIVRES - hors France\n",
      "\n",
      "TUTORIELS\n",
      "\n",
      "TUTORIELS-LUMIS\n",
      "\n",
      "TUTORIELS-FLORAS-ET-MALIS\n",
      "\n",
      "TUTORIELS-Halloween\n",
      "\n",
      "TUTORIELS-POUPEES\n",
      "\n",
      "TUTORIELS-CALICES\n",
      "\n",
      "TUTORIELS-COMPAGNONS\n",
      "\n",
      "TUTORIELS-ANNEAUX\n",
      "\n",
      "TUTORIELS-ACCESSOIRES\n",
      "\n",
      "PATTERNS\n",
      "\n",
      "SACS et DECO\n",
      "\n",
      "Mes tutoriels gratuits\n",
      "\n",
      "shopping_bag\n",
      "\n",
      "Valérie_filuncrochet\n",
      "\n",
      "Créatrice de crochet _ crochet'designer\n",
      "\n",
      "AUTEURE DE TUTORIELS\n",
      "\n",
      "numériques et de livres en auto-édition\n",
      "\n",
      "BOUTIQUE DE TUTORIELS DE CROCHET\n",
      "\n",
      "PATTERN'S SHOP\n",
      "\n",
      "www.valerie-filuncrochet.com\n",
      "\n",
      "INFORMATIONS IMPORTANTES :\n",
      "\n",
      "TOUS LES LIVRES SONT EN STOCK !\n",
      "\n",
      "Sauf le livret \"5 LUMIS\" qui vous sera envoyé par email\n",
      "\n",
      "(pas de réimpression prévue pour ce livret).\n",
      "\n",
      "Valérie_filuncrochet\n",
      "\n",
      "facebook\n",
      "\n",
      "instagram\n",
      "\n",
      "pinterest\n",
      "\n",
      "22/06/2023\n",
      "\n",
      "Retrouvez la liste des points de vente où vous pouvez trouver mes livres\n",
      "\n",
      "Vous pouvez toujours leur demander de les commander pour vous.\n",
      "\n",
      "Tous mes livres (ou presque) sont sur la Base des Données des Libraires (DILICOM), vous pouvez donc les demander partout.\n",
      "\n",
      "CONTACTEZ-MOI et POINTS DE VENTE\n",
      "\n",
      "LES KITS REVIENNENT SONT DE RETOUR !\n",
      "\n",
      "La précommande DES KITS de Gaspard et Candice est réouverte !\n",
      "\n",
      "Retrouvez mon tout premier kit sur le thème de la Fête Foraine.\n",
      "\n",
      "Avec du matériel de qualité : coton Catania de Schachenmayr, colle et crochet (en option).\n",
      "\n",
      "LES KITS\n",
      "\n",
      "Un tutoriel cadeau exclusif dans chacun de vos colis !\n",
      "\n",
      "Un tutoriel papier de 4 pages pour créer une poupée au doux nom de Féelicia sera incluse dans chaque commande sur mon site !\n",
      "\n",
      "Ce tutoriel est exclusif et ne sera délivré autrement.\n",
      "\n",
      "Une façon de vous remercier de votre confiance ! 🥰\n",
      "\n",
      "NOUVEAU LIVRE et LIVRET DISPONIBLE\n",
      "\n",
      "Mon nouveau livre et livret sont disponibles depuis le 13 décembre 2022 !\n",
      "\n",
      "Allez voir ça de plus près sur la page concernant la Forêt ! Merci !!!\n",
      "\n",
      "EN SAVOIR PLUS !\n",
      "\n",
      "12/2020\n",
      "\n",
      "LE JARDIN FLEURI\n",
      "\n",
      "Retrouvez mon premier livre directement ici !\n",
      "\n",
      "LE JARDIN FLEURI\n",
      "\n",
      "07/2021\n",
      "\n",
      "LE FABULEUX OCEAN\n",
      "\n",
      "Retrouvez mon livre consacré au monde sous l'Océan\n",
      "\n",
      "LE FABULEUX OCEAN\n",
      "\n",
      "07/2021\n",
      "\n",
      "LA PLAGE ENSOLEILLEE\n",
      "\n",
      "Retrouvez la Plage ensoleillée avec mon Univers sur la plage\n",
      "\n",
      "LA PLAGE ENSOLEILLEE\n",
      "\n",
      "12/2020\n",
      "\n",
      "LE DOUX NOËL\n",
      "\n",
      "Retrouvez mon livre de Noël\n",
      "\n",
      "LE DOUX NOEL\n",
      "\n",
      "05/2022\n",
      "\n",
      "LES LUMIS ET LES FLORAS\n",
      "\n",
      "Retrouvez mon livre très fleuri avec 27 tutoriels\n",
      "\n",
      "LES LUMIS ET LES FLORAS\n",
      "\n",
      "12/2021\n",
      "\n",
      "LA CHASSE AUX OEUFS\n",
      "\n",
      "Retrouvez mon livre consacré au Printemps et à PÂQUES !\n",
      "\n",
      "LA CHASSE AUX OEUFS\n",
      "\n",
      "06/2022\n",
      "\n",
      "LE DOUDOU DE MONS\n",
      "\n",
      "Un livre consacré au Combat de St Georges et du Dragon.\n",
      "\n",
      "Une fabuleuse histoire !\n",
      "\n",
      "LE DOUDOU DE MONS\n",
      "\n",
      "12/2022\n",
      "\n",
      "LA FORET ENCHANTEE\n",
      "\n",
      "Retrouvez mon livre consacré à la Forêt où les arbres côtoient plein de personnages et d'animaux.\n",
      "\n",
      "LA FORET ENCHANTEE\n",
      "\n",
      "12/2021\n",
      "\n",
      "4 FEES POUR 4 SAISONS\n",
      "\n",
      "Retrouvez un livre avec 4 magnifiques Fées qui représentent les 4 saisons\n",
      "\n",
      "4 FEES POUR 4 SAISONS\n",
      "\n",
      "Crochetons le printemps et les fleurs !\n",
      "\n",
      "Bonjour à tous !\n",
      "\n",
      "C'est LE projet du printemps ! Crochetons des fleurs ! 19 fleurs vous attendent avec des personnages bonus : soit 27 tutoriels dans ce nouveau livre qui s'appelle \"Les Lumis et les Floras\".\n",
      "\n",
      "Et...\n",
      "\n",
      "Une chasse aux Œufs avec des personnages symbolisant Pâques !\n",
      "\n",
      "Allez voir la page du site consacrée à ces nouveaux livres.\n",
      "\n",
      "EN SAVOIR PLUS !\n",
      "\n",
      "LES LIVRES SONT EN STOCK !\n",
      "\n",
      "CLIQUEZ ICI POUR COMMANDER MES LIVRESsi vous habitez ailleurs qu'en France\n",
      "\n",
      "Vous pouvez commander mes livres via mon site internet.\n",
      "\n",
      "Des pages hautes en couleurs avec mon travail méticuleux pour 100% de réussite et des tutoriels inédits que vous ne trouverez jamais sur mon site web.\n",
      "\n",
      "Prenez part à ce projet qui me tient tant à cœur et commandez votre exemplaire.\n",
      "\n",
      "Je compte sur vous si vous appréciez mon travail.\n",
      "\n",
      "Merci pour votre enthousiasme !!!\n",
      "\n",
      "CLIQUEZ ICI POUR COMMANDER MES LIVRES ﻿si vous habitez un autre pays que la FRANCE\n",
      "\n",
      "Mon actualité !\n",
      "\n",
      "Voici les 2 tutoriels inédits\n",
      "\n",
      "Voici le Lumi de Noël et Rose : 2 tutoriels inédits\n",
      "\n",
      "Envoi d'un fascicule en fichier PDF de 16 pages.\n",
      "\n",
      "POUR COMMANDER CES 2 TUTORIELS, cliquez ici.\n",
      "\n",
      "Découvrez ma passion...soyez curieuxet bienvenue dans mon Univers!\n",
      "\n",
      "Bonjour et bienvenue sur mon site complétement dédié à mon nouveau métier : créatrice d'objets en crochet ou plus communément appelé \"Amigurumis\".\n",
      "\n",
      "Vous trouverez sur mon site tous les tutoriels que j'ai créé : j'espère apporter des idées nouvelles, originales et pleine de couleurs.\n",
      "\n",
      "Il y a beaucoup de tutoriels, rangées dans diverses rubriques, ce site est toujours en mouvement car il est ma passerelle officielle de vente et de communication avec vous.\n",
      "\n",
      "Vous pouvez aussi me suivre via Facebook ou Instagram où je suis très active et où l'échange écrit est très enrichissant. Les liens se trouvent en bas de page.\n",
      "\n",
      "Je vous souhaite une belle promenade sur ce site et espère déjà vite votre retour.\n",
      "\n",
      "Une question ? N'hésitez pas à me contacter.\n",
      "\n",
      "Retrouvez les Actualités,﻿les derniers tutoriels disponibles\n",
      "\n",
      "Mon entreprise, c'est environ 1 à 2 tutoriels par semaine. On peut dire que je vis crochet et que j'ai tellement d'idées que certains croquis sont encore en attente depuis des mois... Je suis passionnée et addict.\n",
      "\n",
      "La reconnaissance et les personnes qui me suivent dans cette aventure sont un vrai moteur pour moi, merci !\n",
      "\n",
      "Le 12 mars 2021\n",
      "\n",
      "Pâques en approche , découvrez Mélanie\n",
      "\n",
      "Un nouveau tutoriel est disponible en fichier numérique avec Mélanie...\n",
      "\n",
      "Poupée de 23 cm dans des couleurs pastels...\n",
      "\n",
      "Un lapin sur la tête et une besace avec une carotte...\n",
      "\n",
      "Comment ne pas fondre ?\n",
      "\n",
      "Si vous voulez la crocheter à votre tour, le tutoriel est disponible !\n",
      "\n",
      "CLIQUEZ ICI POUR RETROUVER LE TUTORIEL\n",
      "\n",
      "Le 06 janvier 2021\n",
      "\n",
      "LE 1er TUTORIEL DE L'ANNEE\n",
      "\n",
      "Retrouvez Lila de #lilasigneavecbébé\n",
      "\n",
      "Petite poupée adorable, héroïne du livre de Julie-Anne Karsenty et Mélissa Laurent.\n",
      "\n",
      "CLIQUEZ ICI POUR RETROUVER LE TUTORIEL\n",
      "\n",
      "Le 27 octobre 2020\n",
      "\n",
      "TUTORIEL GRATUIT ... Donnez une touche \"Halloween\" à Lucie ...\n",
      "\n",
      "Avec un tutoriel gratuit pour créer la cape ...\n",
      "\n",
      "Retrouvez Lucie\n",
      "\n",
      "CLIQUEZ ICI POUR LE TUTORIEL GRATUIT\n",
      "\n",
      "Le 23 octobre 2020\n",
      "\n",
      "... un peu de douceur avec Lucie ...\n",
      "\n",
      "Retrouvez Lucie , une danseuse en tutu de 29 cm de hauteur dont les bras articulés vous permettront de lui donner vie.\n",
      "\n",
      "Ses jambes se mettent en grand écart.\n",
      "\n",
      "Retrouvez Lucie\n",
      "\n",
      "CLIQUEZ ICI POUR RETROUVER LUCIE\n",
      "\n",
      "Le 17 octobre 2020\n",
      "\n",
      "C'est Halloween bientôt\n",
      "\n",
      "C'est bientôt Halloween et créer des modèles sur ce thème était d'une logique implacable.\n",
      "\n",
      "Retrouvez tous mes tutoriels sur ce thème dès maintenant :\n",
      "\n",
      "CLIQUEZ ICI POUR RETROUVER LE MONDE HALLOWEEN\n",
      "\n",
      "Le 09 octobre 2020\n",
      "\n",
      "C'est Halloween bientôt, voici Miss Potiron et tous les autres\n",
      "\n",
      "C'est bientôt Halloween et créer des modèles sur ce thème était d'une logique implacable.\n",
      "\n",
      "Retrouvez tous mes tutoriels sur ce thème dès maintenant :\n",
      "\n",
      "CLIQUEZ ICI POUR RETROUVER LE MONDE HALLOWEEN\n",
      "\n",
      "Le 16 septembre 2020\n",
      "\n",
      "Charlotte, poupée souris qui récolte les dents\n",
      "\n",
      "Mon imagination est en mode \"poupées\" depuis quelques semaines.\n",
      "\n",
      "Elles sont fleuries, de différentes tailles selon vos envies.\n",
      "\n",
      "Je vous les présente sur ma page dédiée aux FLORAS et aux MALIS.\n",
      "\n",
      "CLIQUEZ ICI POUR LES DECOUVRIR\n",
      "\n",
      "Le 26 septembre 2020\n",
      "\n",
      "Charly, poupée souris qui récolte les dents\n",
      "\n",
      "Mon imagination est en mode \"poupées\" depuis quelques semaines.\n",
      "\n",
      "Elles sont fleuries, de différentes tailles selon vos envies.\n",
      "\n",
      "Je vous les présente sur ma page dédiée aux FLORAS et aux MALIS.\n",
      "\n",
      "CLIQUEZ ICI POUR LES DECOUVRIR\n",
      "\n",
      "Le 23 septembre 2020\n",
      "\n",
      "Flora Marine et ses pieuvres\n",
      "\n",
      "J'ai eu envie de me tester aux pieuvres en traphilo, ça a donné naissance à une nouvelle FLORA.\n",
      "\n",
      "Les 3 tutoriels sont disponibles ! Allez voir la page...\n",
      "\n",
      "Je vous les présente sur ma page dédiée aux FLORAS et aux MALIS.\n",
      "\n",
      "CLIQUEZ ICI POUR LES DECOUVRIR\n",
      "\n",
      "Boutique de tutoriels _ Pattern's shop LES LIENS UTILES\n",
      "\n",
      "Boutique de tutoriels\n",
      "\n",
      "Retrouvez mes tutoriels dans ma boutique pour créer vous même mes créations.\n",
      "\n",
      "TUTORIELS FRANÇAIS\n",
      "\n",
      "Pattern's shop\n",
      "\n",
      "Find my tutorials in my shop to create my creations yourself.\n",
      "\n",
      "ENGLISH PATTERNS\n",
      "\n",
      "Boutique ETSY / ETSY shop\n",
      "\n",
      "Retrouvez mes tutoriels dans ma boutique ETSY.\n",
      "\n",
      "Find my tutorials in my ETSY'shop to create my creations yourself.\n",
      "\n",
      "Boutique ETSY shop\n",
      "\n",
      "Mon atelier\n",
      "\n",
      "Valérie_fil'un crochet est né en 2017.\n",
      "\n",
      "D'abord pour le plaisir, j'ai décidé en 2020 d'ouvrir mon entreprise autour du crochet.\n",
      "\n",
      "Je suis architecte, maman de 2 enfants et j'ai 40 ans.\n",
      "\n",
      "Le crochet est devenu une vraie passion.\n",
      "\n",
      "Mon plaisir est de vous créer des tutoriels.\n",
      "\n",
      "MA PASSION !\n",
      "\n",
      "Je crée des amigurumis\n",
      "\n",
      "(des personnages au crochet) :\n",
      "\n",
      "Je vends mes tutoriels. Les explications sont claires et précises, avec des photos, diagrammes et annotations.\n",
      "\n",
      "Mes créations\n",
      "\n",
      "Vous trouverez sur ce site :\n",
      "\n",
      "mes propres tutoriels de crochet\n",
      "\n",
      "mes réalisations\n",
      "\n",
      "de quoi me contacter ...\n",
      "\n",
      "Mes tutoriels\n",
      "\n",
      "Vous trouverez les tutoriels mis à votre disposition pour réaliser vous-même mes créations.\n",
      "\n",
      "TUTORIELS\n",
      "\n",
      "Mes tutoriels gratuits\n",
      "\n",
      "Vous trouverez les tutoriels mis à votre disposition gratuitement pour réaliser vous-même mes créations.\n",
      "\n",
      "TUTORIELS\n",
      "\n",
      "PATTERNS IN ENGLISH\n",
      "\n",
      "You will find the tutorials available to you to make my creations yourself.\n",
      "\n",
      "PATTERNS\n",
      "\n",
      "MA BOUTIQUE DE SACS ET DE DECORATION\n",
      "\n",
      "Vous trouverez ma collection de sacs à main et d'objets décoratifs pour votre maison entièrement fait par mes soins pour vous.\n",
      "\n",
      "Prenez le temps de découvrir ce que je fais et contactez moi si vous souhaitez vous faire plaisir ou faire plaisir.\n",
      "\n",
      "SACS et DECO\n",
      "\n",
      "CONTACT\n",
      "\n",
      "Vous avez une question ? Contactez-moi et je me ferai un plaisir de vous répondre le plus rapidement possible. A bientôt\n",
      "\n",
      "Valérie Moreau - créatrice en objets en crochet\n",
      "\n",
      "facebook\n",
      "\n",
      "twitter\n",
      "\n",
      "linkedin\n",
      "\n",
      "instagram\n",
      "\n",
      "pinterest\n",
      "\n",
      "ME CONTACTER\n",
      "\n",
      "VALERIE_FILUNCROCHET\n",
      "\n",
      "facebook\n",
      "\n",
      "twitter\n",
      "\n",
      "linkedin\n",
      "\n",
      "youtube\n",
      "\n",
      "instagram\n",
      "\n",
      "pinterest\n",
      "\n",
      "©Valerie_filuncrochet - tous droits réservés\n"
     ]
    }
   ],
   "source": [
    "from unstructured.partition.html import partition_html\n",
    "\n",
    "elements = partition_html(url=url)\n",
    "print(\"\\n\\n\".join([str(el) for el in elements]))"
   ]
  },
  {
   "cell_type": "code",
   "execution_count": null,
   "id": "8cdd568c-7ab4-45b2-b88a-4622b568194b",
   "metadata": {},
   "outputs": [
    {
     "name": "stdout",
     "output_type": "stream",
     "text": [
      "Does not exist\n",
      "VALERIE_FILUNCROCHETVALERIE_FILUNCROCHETACCUEILCONTACTKITSLIVRELIVRE-FORETLIVRE-LUMISLIVRE-NOELLIVRES - hors FranceTUTORIELSTUTORIELS-LUMISTUTORIELS-FLORAS-ET-MALISTUTORIELS-HalloweenTUTORIELS-POUPEESTUTORIELS-CALICESTUTORIELS-COMPAGNONSTUTORIELS-ANNEAUXTUTORIELS-ACCESSOIRESPATTERNSSACS et DECOMes tutoriels gratuitsshopping_bagValérie_filuncrochetCréatrice de crochet _ crochet'designerAUTEURE DE TUTORIELS numériques et de livres en auto-éditionBOUTIQUE DE TUTORIELS DE CROCHETPATTERN'S SHOPwww.valerie-filuncrochet.comINFORMATIONS IMPORTANTES :TOUS LES LIVRES SONT EN STOCK !Sauf le livret \"5 LUMIS\" qui vous sera envoyé par email (pas de réimpression prévue pour ce livret).Valérie_filuncrochetfacebookinstagrampinterest22/06/2023Retrouvez la liste des points de vente où vous pouvez trouver mes livresVous pouvez toujours leur demander de les commander pour vous.Tous mes livres (ou presque) sont sur la Base des Données des Libraires (DILICOM), vous pouvez donc les demander partout.CONTACTEZ-MOI et POINTS DE VENTELES KITS REVIENNENT SONT DE RETOUR ! La précommande DES KITS de Gaspard et Candice est réouverte ! Retrouvez mon tout premier kit sur le thème de la Fête Foraine.Avec du matériel de qualité : coton Catania de Schachenmayr, colle et crochet (en option).LES KITSUn tutoriel cadeau exclusif dans chacun de vos colis ! Un tutoriel papier de 4 pages pour créer une poupée au doux nom de Féelicia sera incluse dans chaque commande sur mon site !Ce tutoriel est exclusif et ne sera délivré autrement.Une façon de vous remercier de votre confiance ! 🥰NOUVEAU LIVRE et LIVRET DISPONIBLEMon nouveau livre et livret sont disponibles depuis le 13 décembre 2022 !Allez voir ça de plus près sur la page concernant la Forêt ! Merci !!!EN SAVOIR PLUS !12/2020LE JARDIN FLEURIRetrouvez mon premier livre directement ici ! LE JARDIN FLEURI07/2021LE FABULEUX OCEANRetrouvez mon livre consacré au monde sous l'OcéanLE FABULEUX OCEAN07/2021LA PLAGE ENSOLEILLEERetrouvez la Plage ensoleillée avec mon Univers sur la plageLA PLAGE ENSOLEILLEE12/2020LE DOUX NOËLRetrouvez mon livre de NoëlLE DOUX NOEL05/2022LES LUMIS ET LES FLORASRetrouvez mon livre très fleuri avec 27 tutoriels LES LUMIS ET LES FLORAS12/2021LA CHASSE AUX OEUFSRetrouvez mon livre consacré au Printemps et à PÂQUES !LA CHASSE AUX OEUFS06/2022LE DOUDOU DE MONSUn livre consacré au Combat de St Georges et du Dragon. Une fabuleuse histoire ! LE DOUDOU DE MONS12/2022LA FORET ENCHANTEERetrouvez mon livre consacré à la Forêt où les arbres côtoient plein de personnages et d'animaux.LA FORET ENCHANTEE12/20214 FEES POUR 4 SAISONSRetrouvez un livre avec 4 magnifiques Fées qui représentent les 4 saisons4 FEES POUR 4 SAISONSCrochetons le printemps et les fleurs ! Bonjour à tous !C'est LE projet du printemps ! Crochetons des fleurs ! 19 fleurs vous attendent avec des personnages bonus : soit 27 tutoriels dans ce nouveau livre qui s'appelle \"Les Lumis et les Floras\".Et...Une chasse aux Œufs avec des personnages symbolisant Pâques !Allez voir la page du site consacrée à ces nouveaux livres.EN SAVOIR PLUS !LES LIVRES SONT EN STOCK !CLIQUEZ ICI POUR COMMANDER MES LIVRESsi vous habitez ailleurs qu'en FranceVous pouvez commander mes livres via mon site internet.Des pages hautes en couleurs avec mon travail méticuleux pour 100% de réussite et des tutoriels inédits que vous ne trouverez jamais sur mon site web. Prenez part à ce projet qui me tient tant à cœur et commandez votre exemplaire.Je compte sur vous si vous appréciez mon travail.Merci pour votre enthousiasme !!!CLIQUEZ ICI POUR COMMANDER MES LIVRES ﻿si vous habitez un autre pays que la FRANCEMon actualité !Voici les 2 tutoriels inéditsVoici le Lumi de Noël et Rose : 2 tutoriels inéditsEnvoi d'un fascicule en fichier PDF de 16 pages.POUR COMMANDER CES 2 TUTORIELS, cliquez ici.Découvrez ma passion...soyez curieuxet bienvenue dans mon Univers!Bonjour et bienvenue sur mon site complétement dédié à mon nouveau métier : créatrice d'objets en crochet ou plus communément appelé \"Amigurumis\".Vous trouverez sur mon site tous les tutoriels que j'ai créé : j'espère apporter des idées nouvelles, originales et pleine de couleurs.Il y a beaucoup de tutoriels, rangées dans diverses rubriques, ce site est toujours en mouvement car il est ma passerelle officielle de vente et de communication avec vous.Vous pouvez aussi me suivre via Facebook ou Instagram où je suis très active et où l'échange écrit est très enrichissant. Les liens se trouvent en bas de page.Je vous souhaite une belle promenade sur ce site et espère déjà vite votre retour.Une question ? N'hésitez pas à me contacter.Retrouvez les Actualités,﻿les derniers tutoriels disponiblesMon entreprise, c'est environ 1 à 2 tutoriels par semaine. On peut dire que je vis crochet et que j'ai tellement d'idées que certains croquis sont encore en attente depuis des mois... Je suis passionnée et addict.La reconnaissance et les personnes qui me suivent dans cette aventure sont un vrai moteur pour moi, merci !Le 12 mars 2021Pâques en approche , découvrez Mélanie Un nouveau tutoriel est disponible en fichier numérique avec Mélanie...Poupée de 23 cm dans des couleurs pastels...Un lapin sur la tête et une besace avec une carotte...Comment ne pas fondre ?Si vous voulez la crocheter à votre tour, le tutoriel est disponible !CLIQUEZ ICI POUR RETROUVER LE TUTORIELLe 06 janvier 2021LE 1er TUTORIEL DE L'ANNEERetrouvez Lila de #lilasigneavecbébéPetite poupée adorable, héroïne du livre de Julie-Anne Karsenty et Mélissa Laurent.CLIQUEZ ICI POUR RETROUVER LE TUTORIELLe 27 octobre 2020TUTORIEL GRATUIT ... Donnez une touche \"Halloween\" à Lucie ...Avec un tutoriel gratuit pour créer la cape ...Retrouvez Lucie CLIQUEZ ICI POUR LE TUTORIEL GRATUITLe 23 octobre 2020... un peu de douceur avec Lucie ...Retrouvez Lucie , une danseuse en tutu de 29 cm de hauteur dont les bras articulés vous permettront de lui donner vie.Ses jambes se mettent en grand écart.Retrouvez Lucie CLIQUEZ ICI POUR RETROUVER LUCIELe 17 octobre 2020C'est Halloween bientôtC'est bientôt Halloween et créer des modèles sur ce thème était d'une logique implacable.Retrouvez tous mes tutoriels sur ce thème dès maintenant : CLIQUEZ ICI POUR RETROUVER LE MONDE HALLOWEENLe 09 octobre 2020C'est Halloween bientôt, voici Miss Potiron et tous les autresC'est bientôt Halloween et créer des modèles sur ce thème était d'une logique implacable.Retrouvez tous mes tutoriels sur ce thème dès maintenant : CLIQUEZ ICI POUR RETROUVER LE MONDE HALLOWEENLe 16 septembre 2020Charlotte, poupée souris qui récolte les dentsMon imagination est en mode \"poupées\" depuis quelques semaines.Elles sont fleuries, de différentes tailles selon vos envies.Je vous les présente sur ma page dédiée aux FLORAS et aux MALIS.CLIQUEZ ICI POUR LES DECOUVRIRLe 26 septembre 2020Charly, poupée souris qui récolte les dentsMon imagination est en mode \"poupées\" depuis quelques semaines.Elles sont fleuries, de différentes tailles selon vos envies.Je vous les présente sur ma page dédiée aux FLORAS et aux MALIS.CLIQUEZ ICI POUR LES DECOUVRIRLe 23 septembre 2020Flora Marine et ses pieuvresJ'ai eu envie de me tester aux pieuvres en traphilo, ça a donné naissance à une nouvelle FLORA.Les 3 tutoriels sont disponibles ! Allez voir la page...Je vous les présente sur ma page dédiée aux FLORAS et aux MALIS.CLIQUEZ ICI POUR LES DECOUVRIRBoutique de tutoriels _ Pattern's shop LES LIENS UTILESBoutique de tutorielsRetrouvez mes tutoriels dans ma boutique pour créer vous même mes créations.TUTORIELS FRANÇAISPattern's shopFind my tutorials in my shop to create my creations yourself.ENGLISH PATTERNSBoutique ETSY / ETSY shopRetrouvez mes tutoriels dans ma boutique ETSY.Find my tutorials in my ETSY'shop to create my creations yourself.Boutique ETSY shopstarMon atelierValérie_fil'un crochet est né en 2017.D'abord pour le plaisir, j'ai décidé en 2020 d'ouvrir mon entreprise autour du crochet.Je suis architecte, maman de 2 enfants et j'ai 40 ans.Le crochet est devenu une vraie passion.Mon plaisir est de vous créer des tutoriels.laptop_macMA PASSION ! Je crée des amigurumis(des personnages au crochet) :Je vends mes tutoriels. Les explications sont claires et précises, avec des photos, diagrammes et annotations.check_circleMes créationsVous trouverez sur ce site :mes propres tutoriels de crochetmes réalisationsde quoi me contacter ...Mes tutorielsVous trouverez les tutoriels mis à votre disposition pour réaliser vous-même mes créations.TUTORIELSMes tutoriels gratuitsVous trouverez les tutoriels mis à votre disposition gratuitement pour réaliser vous-même mes créations.TUTORIELSPATTERNS IN ENGLISHYou will find the tutorials available to you to make my creations yourself.PATTERNSMA BOUTIQUE DE SACS ET DE DECORATIONVous trouverez ma collection de sacs à main et d'objets décoratifs pour votre maison entièrement fait par mes soins pour vous. Prenez le temps de découvrir ce que je fais et contactez moi si vous souhaitez vous faire plaisir ou faire plaisir.SACS et DECOCONTACTVous avez une question ? Contactez-moi et je me ferai un plaisir de vous répondre le plus rapidement possible. A bientôtValérie Moreau - créatrice en objets en crochetfacebooktwitterlinkedininstagrampinterestME CONTACTERVALERIE_FILUNCROCHETfacebooktwitterlinkedinyoutubeinstagrampinterest©Valerie_filuncrochet - tous droits réservés\n"
     ]
    },
    {
     "ename": "FileNotFoundError",
     "evalue": "[Errno 2] No such file or directory: ''",
     "output_type": "error",
     "traceback": [
      "\u001b[0;31m---------------------------------------------------------------------------\u001b[0m",
      "\u001b[0;31mFileNotFoundError\u001b[0m                         Traceback (most recent call last)",
      "Cell \u001b[0;32mIn[56], line 9\u001b[0m\n\u001b[1;32m      1\u001b[0m url_dic \u001b[38;5;241m=\u001b[39m {}\n\u001b[1;32m      3\u001b[0m prompt \u001b[38;5;241m=\u001b[39m \u001b[38;5;124m\"\"\"\u001b[39m\u001b[38;5;124mYou are an expert in SEO. \u001b[39m\n\u001b[1;32m      4\u001b[0m \u001b[38;5;124mBased on data \u001b[39m\u001b[38;5;132;01m{url}\u001b[39;00m\u001b[38;5;124m \u001b[39m\n\u001b[1;32m      5\u001b[0m \u001b[38;5;124mGive me the 20 best tags describing this website.\u001b[39m\n\u001b[1;32m      6\u001b[0m \u001b[38;5;124mThe result should be as an array of elements format without any parent key\u001b[39m\n\u001b[1;32m      7\u001b[0m \u001b[38;5;124m\"\"\"\u001b[39m\n\u001b[0;32m----> 9\u001b[0m result \u001b[38;5;241m=\u001b[39m \u001b[43mchat_with_page\u001b[49m\u001b[43m(\u001b[49m\u001b[43mprompt\u001b[49m\u001b[43m,\u001b[49m\u001b[43m \u001b[49m\u001b[43murl\u001b[49m\u001b[43m,\u001b[49m\u001b[43m \u001b[49m\u001b[43mprompt\u001b[49m\u001b[43m)\u001b[49m\n\u001b[1;32m     10\u001b[0m \u001b[38;5;28mprint\u001b[39m(\u001b[38;5;124m\"\u001b[39m\u001b[38;5;124m\"\u001b[39m)\n\u001b[1;32m     11\u001b[0m \u001b[38;5;28mprint\u001b[39m(result[\u001b[38;5;124m\"\u001b[39m\u001b[38;5;124manswer\u001b[39m\u001b[38;5;124m\"\u001b[39m])\n",
      "Cell \u001b[0;32mIn[36], line 10\u001b[0m, in \u001b[0;36mchat_with_page\u001b[0;34m(query, url, template)\u001b[0m\n\u001b[1;32m      6\u001b[0m \u001b[38;5;28;01melse\u001b[39;00m:\n\u001b[1;32m      7\u001b[0m     \u001b[38;5;28mprint\u001b[39m(\u001b[38;5;124m\"\u001b[39m\u001b[38;5;124mDoes not exist\u001b[39m\u001b[38;5;124m\"\u001b[39m)\n\u001b[0;32m---> 10\u001b[0m     documents \u001b[38;5;241m=\u001b[39m \u001b[43mprepare_pages\u001b[49m\u001b[43m(\u001b[49m\u001b[43murl\u001b[49m\u001b[43m,\u001b[49m\u001b[43m \u001b[49m\u001b[38;5;28;43;01mFalse\u001b[39;49;00m\u001b[43m)\u001b[49m\n\u001b[1;32m     11\u001b[0m     \u001b[38;5;28;01mif\u001b[39;00m documents \u001b[38;5;241m==\u001b[39m \u001b[38;5;28;01mNone\u001b[39;00m:\n\u001b[1;32m     12\u001b[0m         \u001b[38;5;28mprint\u001b[39m(\u001b[38;5;124m\"\u001b[39m\u001b[38;5;124mLoad document fail\u001b[39m\u001b[38;5;124m\"\u001b[39m)\n",
      "Cell \u001b[0;32mIn[28], line 61\u001b[0m, in \u001b[0;36mprepare_pages\u001b[0;34m(url, recursive)\u001b[0m\n\u001b[1;32m     58\u001b[0m soup , urls \u001b[38;5;241m=\u001b[39mload_url(url)\n\u001b[1;32m     59\u001b[0m \u001b[38;5;28;01mif\u001b[39;00m soup \u001b[38;5;241m!=\u001b[39m \u001b[38;5;28;01mNone\u001b[39;00m:\n\u001b[0;32m---> 61\u001b[0m     docs \u001b[38;5;241m=\u001b[39m \u001b[43mload_text\u001b[49m\u001b[43m(\u001b[49m\u001b[43msoup\u001b[49m\u001b[38;5;241;43m.\u001b[39;49m\u001b[43mget_text\u001b[49m\u001b[43m(\u001b[49m\u001b[43m)\u001b[49m\u001b[43m)\u001b[49m\n\u001b[1;32m     62\u001b[0m     \u001b[38;5;28;01mfor\u001b[39;00m doc \u001b[38;5;129;01min\u001b[39;00m docs:\n\u001b[1;32m     63\u001b[0m         doc\u001b[38;5;241m.\u001b[39mmetadata[\u001b[38;5;124m\"\u001b[39m\u001b[38;5;124murl\u001b[39m\u001b[38;5;124m\"\u001b[39m] \u001b[38;5;241m=\u001b[39m url\n",
      "Cell \u001b[0;32mIn[55], line 15\u001b[0m, in \u001b[0;36mload_text\u001b[0;34m(html_text)\u001b[0m\n\u001b[1;32m     11\u001b[0m \u001b[38;5;28mprint\u001b[39m(html_text)\n\u001b[1;32m     12\u001b[0m loader \u001b[38;5;241m=\u001b[39m UnstructuredFileIOLoader(\n\u001b[1;32m     13\u001b[0m     BytesIO(\u001b[38;5;28mbytes\u001b[39m(html_text,encoding\u001b[38;5;241m=\u001b[39m\u001b[38;5;124m'\u001b[39m\u001b[38;5;124mutf-8\u001b[39m\u001b[38;5;124m'\u001b[39m))\u001b[38;5;66;03m#, mode=\"elements\", strategy=\"fast\"\u001b[39;00m\n\u001b[1;32m     14\u001b[0m )\n\u001b[0;32m---> 15\u001b[0m docs \u001b[38;5;241m=\u001b[39m \u001b[43mloader\u001b[49m\u001b[38;5;241;43m.\u001b[39;49m\u001b[43mload\u001b[49m\u001b[43m(\u001b[49m\u001b[43m)\u001b[49m\n\u001b[1;32m     16\u001b[0m \u001b[38;5;28;01mreturn\u001b[39;00m docs\n",
      "File \u001b[0;32m/opt/conda/lib/python3.10/site-packages/langchain/document_loaders/unstructured.py:71\u001b[0m, in \u001b[0;36mUnstructuredBaseLoader.load\u001b[0;34m(self)\u001b[0m\n\u001b[1;32m     69\u001b[0m \u001b[38;5;28;01mdef\u001b[39;00m \u001b[38;5;21mload\u001b[39m(\u001b[38;5;28mself\u001b[39m) \u001b[38;5;241m-\u001b[39m\u001b[38;5;241m>\u001b[39m List[Document]:\n\u001b[1;32m     70\u001b[0m \u001b[38;5;250m    \u001b[39m\u001b[38;5;124;03m\"\"\"Load file.\"\"\"\u001b[39;00m\n\u001b[0;32m---> 71\u001b[0m     elements \u001b[38;5;241m=\u001b[39m \u001b[38;5;28;43mself\u001b[39;49m\u001b[38;5;241;43m.\u001b[39;49m\u001b[43m_get_elements\u001b[49m\u001b[43m(\u001b[49m\u001b[43m)\u001b[49m\n\u001b[1;32m     72\u001b[0m     \u001b[38;5;28;01mif\u001b[39;00m \u001b[38;5;28mself\u001b[39m\u001b[38;5;241m.\u001b[39mmode \u001b[38;5;241m==\u001b[39m \u001b[38;5;124m\"\u001b[39m\u001b[38;5;124melements\u001b[39m\u001b[38;5;124m\"\u001b[39m:\n\u001b[1;32m     73\u001b[0m         docs: List[Document] \u001b[38;5;241m=\u001b[39m \u001b[38;5;28mlist\u001b[39m()\n",
      "File \u001b[0;32m/opt/conda/lib/python3.10/site-packages/langchain/document_loaders/unstructured.py:304\u001b[0m, in \u001b[0;36mUnstructuredFileIOLoader._get_elements\u001b[0;34m(self)\u001b[0m\n\u001b[1;32m    301\u001b[0m \u001b[38;5;28;01mdef\u001b[39;00m \u001b[38;5;21m_get_elements\u001b[39m(\u001b[38;5;28mself\u001b[39m) \u001b[38;5;241m-\u001b[39m\u001b[38;5;241m>\u001b[39m List:\n\u001b[1;32m    302\u001b[0m     \u001b[38;5;28;01mfrom\u001b[39;00m \u001b[38;5;21;01munstructured\u001b[39;00m\u001b[38;5;21;01m.\u001b[39;00m\u001b[38;5;21;01mpartition\u001b[39;00m\u001b[38;5;21;01m.\u001b[39;00m\u001b[38;5;21;01mauto\u001b[39;00m \u001b[38;5;28;01mimport\u001b[39;00m partition\n\u001b[0;32m--> 304\u001b[0m     \u001b[38;5;28;01mreturn\u001b[39;00m \u001b[43mpartition\u001b[49m\u001b[43m(\u001b[49m\u001b[43mfile\u001b[49m\u001b[38;5;241;43m=\u001b[39;49m\u001b[38;5;28;43mself\u001b[39;49m\u001b[38;5;241;43m.\u001b[39;49m\u001b[43mfile\u001b[49m\u001b[43m,\u001b[49m\u001b[43m \u001b[49m\u001b[38;5;241;43m*\u001b[39;49m\u001b[38;5;241;43m*\u001b[39;49m\u001b[38;5;28;43mself\u001b[39;49m\u001b[38;5;241;43m.\u001b[39;49m\u001b[43munstructured_kwargs\u001b[49m\u001b[43m)\u001b[49m\n",
      "File \u001b[0;32m/opt/conda/lib/python3.10/site-packages/unstructured/partition/auto.py:184\u001b[0m, in \u001b[0;36mpartition\u001b[0;34m(filename, content_type, file, file_filename, url, include_page_breaks, strategy, encoding, paragraph_grouper, headers, ssl_verify, ocr_languages, pdf_infer_table_structure, xml_keep_tags, data_source_metadata)\u001b[0m\n\u001b[1;32m    175\u001b[0m     elements \u001b[38;5;241m=\u001b[39m partition_image(\n\u001b[1;32m    176\u001b[0m         filename\u001b[38;5;241m=\u001b[39mfilename,  \u001b[38;5;66;03m# type: ignore\u001b[39;00m\n\u001b[1;32m    177\u001b[0m         file\u001b[38;5;241m=\u001b[39mfile,  \u001b[38;5;66;03m# type: ignore\u001b[39;00m\n\u001b[0;32m   (...)\u001b[0m\n\u001b[1;32m    181\u001b[0m         ocr_languages\u001b[38;5;241m=\u001b[39mocr_languages,\n\u001b[1;32m    182\u001b[0m     )\n\u001b[1;32m    183\u001b[0m \u001b[38;5;28;01melif\u001b[39;00m filetype \u001b[38;5;241m==\u001b[39m FileType\u001b[38;5;241m.\u001b[39mTXT:\n\u001b[0;32m--> 184\u001b[0m     elements \u001b[38;5;241m=\u001b[39m \u001b[43mpartition_text\u001b[49m\u001b[43m(\u001b[49m\n\u001b[1;32m    185\u001b[0m \u001b[43m        \u001b[49m\u001b[43mfilename\u001b[49m\u001b[38;5;241;43m=\u001b[39;49m\u001b[43mfilename\u001b[49m\u001b[43m,\u001b[49m\n\u001b[1;32m    186\u001b[0m \u001b[43m        \u001b[49m\u001b[43mfile\u001b[49m\u001b[38;5;241;43m=\u001b[39;49m\u001b[43mfile\u001b[49m\u001b[43m,\u001b[49m\n\u001b[1;32m    187\u001b[0m \u001b[43m        \u001b[49m\u001b[43mencoding\u001b[49m\u001b[38;5;241;43m=\u001b[39;49m\u001b[43mencoding\u001b[49m\u001b[43m,\u001b[49m\n\u001b[1;32m    188\u001b[0m \u001b[43m        \u001b[49m\u001b[43mparagraph_grouper\u001b[49m\u001b[38;5;241;43m=\u001b[39;49m\u001b[43mparagraph_grouper\u001b[49m\u001b[43m,\u001b[49m\n\u001b[1;32m    189\u001b[0m \u001b[43m    \u001b[49m\u001b[43m)\u001b[49m\n\u001b[1;32m    190\u001b[0m \u001b[38;5;28;01melif\u001b[39;00m filetype \u001b[38;5;241m==\u001b[39m FileType\u001b[38;5;241m.\u001b[39mRTF:\n\u001b[1;32m    191\u001b[0m     elements \u001b[38;5;241m=\u001b[39m partition_rtf(\n\u001b[1;32m    192\u001b[0m         filename\u001b[38;5;241m=\u001b[39mfilename,\n\u001b[1;32m    193\u001b[0m         file\u001b[38;5;241m=\u001b[39mfile,\n\u001b[1;32m    194\u001b[0m         include_page_breaks\u001b[38;5;241m=\u001b[39minclude_page_breaks,\n\u001b[1;32m    195\u001b[0m     )\n",
      "File \u001b[0;32m/opt/conda/lib/python3.10/site-packages/unstructured/file_utils/filetype.py:483\u001b[0m, in \u001b[0;36madd_metadata_with_filetype.<locals>.decorator.<locals>.wrapper\u001b[0;34m(*args, **kwargs)\u001b[0m\n\u001b[1;32m    481\u001b[0m \u001b[38;5;129m@wraps\u001b[39m(func)\n\u001b[1;32m    482\u001b[0m \u001b[38;5;28;01mdef\u001b[39;00m \u001b[38;5;21mwrapper\u001b[39m(\u001b[38;5;241m*\u001b[39margs, \u001b[38;5;241m*\u001b[39m\u001b[38;5;241m*\u001b[39mkwargs):\n\u001b[0;32m--> 483\u001b[0m     elements \u001b[38;5;241m=\u001b[39m \u001b[43mfunc\u001b[49m\u001b[43m(\u001b[49m\u001b[38;5;241;43m*\u001b[39;49m\u001b[43margs\u001b[49m\u001b[43m,\u001b[49m\u001b[43m \u001b[49m\u001b[38;5;241;43m*\u001b[39;49m\u001b[38;5;241;43m*\u001b[39;49m\u001b[43mkwargs\u001b[49m\u001b[43m)\u001b[49m\n\u001b[1;32m    484\u001b[0m     sig \u001b[38;5;241m=\u001b[39m inspect\u001b[38;5;241m.\u001b[39msignature(func)\n\u001b[1;32m    485\u001b[0m     params \u001b[38;5;241m=\u001b[39m \u001b[38;5;28mdict\u001b[39m(\u001b[38;5;241m*\u001b[39m\u001b[38;5;241m*\u001b[39m\u001b[38;5;28mdict\u001b[39m(\u001b[38;5;28mzip\u001b[39m(sig\u001b[38;5;241m.\u001b[39mparameters, args)), \u001b[38;5;241m*\u001b[39m\u001b[38;5;241m*\u001b[39mkwargs)\n",
      "File \u001b[0;32m/opt/conda/lib/python3.10/site-packages/unstructured/partition/text.py:67\u001b[0m, in \u001b[0;36mpartition_text\u001b[0;34m(filename, file, text, encoding, paragraph_grouper, metadata_filename, include_metadata)\u001b[0m\n\u001b[1;32m     64\u001b[0m     encoding, file_text \u001b[38;5;241m=\u001b[39m read_txt_file(filename\u001b[38;5;241m=\u001b[39mfilename, encoding\u001b[38;5;241m=\u001b[39mencoding)\n\u001b[1;32m     66\u001b[0m \u001b[38;5;28;01melif\u001b[39;00m file \u001b[38;5;129;01mis\u001b[39;00m \u001b[38;5;129;01mnot\u001b[39;00m \u001b[38;5;28;01mNone\u001b[39;00m:\n\u001b[0;32m---> 67\u001b[0m     encoding, file_text \u001b[38;5;241m=\u001b[39m \u001b[43mread_txt_file\u001b[49m\u001b[43m(\u001b[49m\u001b[43mfile\u001b[49m\u001b[38;5;241;43m=\u001b[39;49m\u001b[43mfile\u001b[49m\u001b[43m,\u001b[49m\u001b[43m \u001b[49m\u001b[43mencoding\u001b[49m\u001b[38;5;241;43m=\u001b[39;49m\u001b[43mencoding\u001b[49m\u001b[43m)\u001b[49m\n\u001b[1;32m     69\u001b[0m \u001b[38;5;28;01melif\u001b[39;00m text \u001b[38;5;129;01mis\u001b[39;00m \u001b[38;5;129;01mnot\u001b[39;00m \u001b[38;5;28;01mNone\u001b[39;00m:\n\u001b[1;32m     70\u001b[0m     file_text \u001b[38;5;241m=\u001b[39m \u001b[38;5;28mstr\u001b[39m(text)\n",
      "File \u001b[0;32m/opt/conda/lib/python3.10/site-packages/unstructured/file_utils/encoding.py:105\u001b[0m, in \u001b[0;36mread_txt_file\u001b[0;34m(filename, file, encoding)\u001b[0m\n\u001b[1;32m    103\u001b[0m             \u001b[38;5;28;01mraise\u001b[39;00m error\n\u001b[1;32m    104\u001b[0m     \u001b[38;5;28;01melse\u001b[39;00m:\n\u001b[0;32m--> 105\u001b[0m         encoding, file_text \u001b[38;5;241m=\u001b[39m \u001b[43mdetect_file_encoding\u001b[49m\u001b[43m(\u001b[49m\u001b[43mfile\u001b[49m\u001b[38;5;241;43m=\u001b[39;49m\u001b[43mfile\u001b[49m\u001b[43m)\u001b[49m\n\u001b[1;32m    106\u001b[0m \u001b[38;5;28;01melse\u001b[39;00m:\n\u001b[1;32m    107\u001b[0m     \u001b[38;5;28;01mraise\u001b[39;00m \u001b[38;5;167;01mFileNotFoundError\u001b[39;00m(\u001b[38;5;124m\"\u001b[39m\u001b[38;5;124mNo filename was specified\u001b[39m\u001b[38;5;124m\"\u001b[39m)\n",
      "File \u001b[0;32m/opt/conda/lib/python3.10/site-packages/unstructured/file_utils/encoding.py:57\u001b[0m, in \u001b[0;36mdetect_file_encoding\u001b[0;34m(filename, file)\u001b[0m\n\u001b[1;32m     55\u001b[0m \u001b[38;5;28;01mfor\u001b[39;00m enc \u001b[38;5;129;01min\u001b[39;00m COMMON_ENCODINGS:\n\u001b[1;32m     56\u001b[0m     \u001b[38;5;28;01mtry\u001b[39;00m:\n\u001b[0;32m---> 57\u001b[0m         \u001b[38;5;28;01mwith\u001b[39;00m \u001b[38;5;28;43mopen\u001b[39;49m\u001b[43m(\u001b[49m\u001b[43mfilename\u001b[49m\u001b[43m,\u001b[49m\u001b[43m \u001b[49m\u001b[43mencoding\u001b[49m\u001b[38;5;241;43m=\u001b[39;49m\u001b[43menc\u001b[49m\u001b[43m)\u001b[49m \u001b[38;5;28;01mas\u001b[39;00m f:\n\u001b[1;32m     58\u001b[0m             file_text \u001b[38;5;241m=\u001b[39m f\u001b[38;5;241m.\u001b[39mread()\n\u001b[1;32m     59\u001b[0m         encoding \u001b[38;5;241m=\u001b[39m enc\n",
      "\u001b[0;31mFileNotFoundError\u001b[0m: [Errno 2] No such file or directory: ''"
     ]
    }
   ],
   "source": [
    "url_dic = {}\n",
    "\n",
    "prompt = \"\"\"You are an expert in SEO. \n",
    "Based on data {url} \n",
    "Give me the 20 best tags describing this website.\n",
    "The result should be as an array of elements format without any parent key\n",
    "\"\"\"\n",
    "\n",
    "result = chat_with_page(prompt, url, prompt)\n",
    "print(\"\")\n",
    "print(result[\"answer\"])"
   ]
  },
  {
   "cell_type": "code",
   "execution_count": null,
   "id": "c588e256-902f-40f1-9ce8-eab3d46a3da7",
   "metadata": {},
   "outputs": [
    {
     "name": "stdout",
     "output_type": "stream",
     "text": [
      "Exists: https://valerie-filuncrochet.com\n",
      "********************************************************************************\n",
      "********************************************************************************\n",
      "{'question': 'You are an expert in SEO. \\nBased on data https://valerie-filuncrochet.com \\nGive me the 20 best tags describing this website.\\nThe result should be as an array of elements format without any parent key\\n', 'answer': '', 'sources': ''}\n",
      "********************************************************************************\n",
      "\n",
      "\n"
     ]
    }
   ],
   "source": [
    "\n",
    "prompt = \"\"\"You are an expert in SEO. \n",
    "Based on data {url} \n",
    "Give me the 20 best tags describing this website.\n",
    "The result should be as an array of elements format without any parent key\n",
    "\"\"\"\n",
    "\n",
    "result = chat_with_page(prompt, url, prompt)\n",
    "print(\"\")\n",
    "print(result[\"answer\"])"
   ]
  },
  {
   "cell_type": "code",
   "execution_count": null,
   "id": "08d878e3-a214-4739-97f3-b1137f8c2d62",
   "metadata": {},
   "outputs": [
    {
     "data": {
      "text/plain": [
       "'https://valerie-filuncrochet.com'"
      ]
     },
     "execution_count": 456,
     "metadata": {},
     "output_type": "execute_result"
    }
   ],
   "source": [
    "url"
   ]
  },
  {
   "cell_type": "code",
   "execution_count": null,
   "id": "c962df84-19e0-4543-814d-eb463c87e1c1",
   "metadata": {},
   "outputs": [],
   "source": [
    "context = \"\"\"\n",
    "VALERIE_FILUNCROCHET\n",
    "\n",
    "\n",
    "\n",
    "\n",
    "\n",
    "\n",
    "\n",
    "\n",
    "\n",
    "\n",
    "\n",
    "\n",
    "\n",
    "\n",
    "\n",
    "\n",
    "\n",
    "\n",
    "\n",
    "\n",
    "\n",
    "shopping_bag\n",
    "\n",
    "Valérie_filuncrochet\n",
    "\n",
    "Créatrice de crochet _ crochet'designer\n",
    "\n",
    "\n",
    "\n",
    "AUTEURE DE TUTORIELS\n",
    "\n",
    "numériques et de livres en auto-édition\n",
    "\n",
    "\n",
    "\n",
    "BOUTIQUE DE TUTORIELS DE CROCHET\n",
    "\n",
    "PATTERN'S SHOP\n",
    "\n",
    "\n",
    "\n",
    "www.valerie-filuncrochet.com\n",
    "\n",
    "\n",
    "\n",
    "Picture\n",
    "INFORMATIONS IMPORTANTES :\n",
    "\n",
    "TOUS LES LIVRES SONT EN STOCK !\n",
    "\n",
    "Sauf le livret \"5 LUMIS\" qui vous sera envoyé par email\n",
    "\n",
    "(pas de réimpression prévue pour ce livret).\n",
    "\n",
    "Valérie_filuncrochet\n",
    "\n",
    "facebook\n",
    "instagram\n",
    "pinterest\n",
    "\n",
    "22/06/2023\n",
    "\n",
    "Retrouvez la liste des points de vente où vous pouvez trouver mes livres\n",
    "\n",
    "Vous pouvez toujours leur demander de les commander pour vous.\n",
    "\n",
    "Tous mes livres (ou presque) sont sur la Base des Données des Libraires (DILICOM), vous pouvez donc les demander partout.\n",
    "\n",
    "CONTACTEZ-MOI et POINTS DE VENTE\n",
    "\n",
    "\n",
    "LES KITS REVIENNENT BIENTÔT\n",
    "\n",
    "La précommande DES KITS de Gaspard et Candice sont fermées et reviendront en août\n",
    "\n",
    "Retrouvez mon tout premier kit sur le thème de la Fête Foraine.\n",
    "\n",
    "Avec du matériel de qualité : coton Catania de Schachenmayr, colle et crochet (en option).\n",
    "\n",
    "LES KITS\n",
    "\n",
    "\n",
    "Un tutoriel cadeau exclusif dans chacun de vos colis !\n",
    "\n",
    "Un tutoriel papier de 4 pages pour créer une poupée au doux nom de Féelicia sera incluse dans chaque commande sur mon site !\n",
    "\n",
    "Ce tutoriel est exclusif et ne sera délivré autrement.\n",
    "\n",
    "Une façon de vous remercier de votre confiance ! 🥰\n",
    "\n",
    "\n",
    "\"\"\""
   ]
  },
  {
   "cell_type": "code",
   "execution_count": null,
   "id": "92439a24-6e56-48f9-8376-653111392e51",
   "metadata": {},
   "outputs": [
    {
     "data": {
      "text/plain": []
     },
     "execution_count": 482,
     "metadata": {},
     "output_type": "execute_result"
    }
   ],
   "source": [
    "prompt = f\"\"\"\n",
    "You are an expert in SEO. \n",
    "\n",
    "Give me the best meta description and add some CTA to it \n",
    "Based on \n",
    "CONTEXT:\n",
    "{context}\n",
    "\"\"\"\n",
    "\n",
    "llm(prompt)"
   ]
  },
  {
   "cell_type": "code",
   "execution_count": null,
   "id": "0ab06cf2-90f7-4f21-962d-d8204b6db7fd",
   "metadata": {},
   "outputs": [],
   "source": [
    "lang = \"The result should be in french.\""
   ]
  },
  {
   "cell_type": "code",
   "execution_count": null,
   "id": "5a4760f4-1e87-4056-a718-227e5fc422be",
   "metadata": {},
   "outputs": [
    {
     "data": {
      "text/plain": [
       "['crochet',\n",
       " 'tricot',\n",
       " 'modèles de crochet',\n",
       " 'tutoriels de crochet',\n",
       " 'loisirs créatifs',\n",
       " 'accessoires crochet',\n",
       " 'décoration crochet',\n",
       " 'cadeaux crochet',\n",
       " 'crochet fait main',\n",
       " 'fil à crochet',\n",
       " 'laine à tricoter',\n",
       " 'création de motifs crochet',\n",
       " 'passion crochet',\n",
       " 'artisanat crochet',\n",
       " 'sacs au crochet',\n",
       " 'bonnets au crochet',\n",
       " 'écharpes au crochet',\n",
       " 'gants au crochet',\n",
       " 'amigurumi',\n",
       " 'accessoires mode crochet']"
      ]
     },
     "execution_count": 459,
     "metadata": {},
     "output_type": "execute_result"
    }
   ],
   "source": [
    "[\"crochet\", \"tricot\", \"modèles de crochet\", \"tutoriels de crochet\", \"loisirs créatifs\", \"accessoires crochet\", \"décoration crochet\", \"cadeaux crochet\", \"crochet fait main\", \"fil à crochet\", \"laine à tricoter\", \"création de motifs crochet\", \"passion crochet\", \"artisanat crochet\", \"sacs au crochet\", \"bonnets au crochet\", \"écharpes au crochet\", \"gants au crochet\", \"amigurumi\", \"accessoires mode crochet\"]"
   ]
  },
  {
   "cell_type": "code",
   "execution_count": null,
   "id": "4f53e400-1e31-423b-adb9-cfbf981771af",
   "metadata": {},
   "outputs": [],
   "source": []
  },
  {
   "cell_type": "code",
   "execution_count": null,
   "id": "32871c4f-f022-47b7-8636-a1750983777a",
   "metadata": {},
   "outputs": [],
   "source": []
  },
  {
   "cell_type": "code",
   "execution_count": null,
   "id": "603977e8-f0dc-4c21-8cdb-04a59afd25a8",
   "metadata": {},
   "outputs": [],
   "source": []
  },
  {
   "cell_type": "code",
   "execution_count": null,
   "id": "6ce9e542-575a-418b-b550-084e9aecbc06",
   "metadata": {},
   "outputs": [],
   "source": []
  },
  {
   "cell_type": "code",
   "execution_count": null,
   "id": "8389a875-bc7d-4246-b47c-3e1f3359eb2c",
   "metadata": {},
   "outputs": [],
   "source": []
  },
  {
   "cell_type": "code",
   "execution_count": null,
   "id": "94739bc2-5734-4199-8397-0bc43c0b4677",
   "metadata": {},
   "outputs": [],
   "source": []
  },
  {
   "cell_type": "code",
   "execution_count": null,
   "id": "e4a32200-ee71-43fd-aa6e-60c087e22743",
   "metadata": {},
   "outputs": [],
   "source": []
  },
  {
   "cell_type": "code",
   "execution_count": null,
   "id": "dbfb3381-e1e7-428b-bc4d-cce1f53030a0",
   "metadata": {},
   "outputs": [],
   "source": []
  },
  {
   "cell_type": "code",
   "execution_count": null,
   "id": "d5a49612-0260-41c8-b21c-555a344a0ed3",
   "metadata": {},
   "outputs": [],
   "source": []
  },
  {
   "cell_type": "code",
   "execution_count": null,
   "id": "4995b7ed-45d5-4c90-94a1-d4972684b779",
   "metadata": {},
   "outputs": [],
   "source": [
    "prompt= \"\"\"\n",
    "Realize following actions:\n",
    "Give me 8 tags maximum describing this website {url}\n",
    "Summarize content {url}\n",
    "\n",
    "Choose one categories for this site between: \n",
    "ONLINE SHOP, \n",
    "SERVICES, \n",
    "FASHION & BEAUTY, \n",
    "LEISURE, \n",
    "BLOG, \n",
    "PORTFOLIO & CV, \n",
    "EVENTS, \n",
    "ART & CULTURE, \n",
    "GASTRONOMY, \n",
    "ASSOCIATIONS & INSTITUTION.\n",
    "\n",
    "The result in json format, parent keys are tags, description, category\n",
    "\"\"\""
   ]
  },
  {
   "cell_type": "code",
   "execution_count": null,
   "id": "d9bd3f78-b3df-4ef2-b2c5-e38d4626dfb0",
   "metadata": {},
   "outputs": [],
   "source": [
    "url = \"https://hardrunning.hubside.es\"\n"
   ]
  },
  {
   "cell_type": "code",
   "execution_count": null,
   "id": "21667e3b-2ac0-4b89-84f1-1bb4ff44d5d4",
   "metadata": {
    "collapsed": true,
    "jupyter": {
     "outputs_hidden": true
    },
    "tags": []
   },
   "outputs": [
    {
     "name": "stdout",
     "output_type": "stream",
     "text": [
      "Does not exist\n",
      "['https://hardrunning.hubside.es/articulos'\n",
      " 'https://hardrunning.hubside.es/el-club'\n",
      " 'https://hardrunning.hubside.es/eventos'\n",
      " 'https://hardrunning.hubside.es/unirse']\n",
      "You have 6 documents\n",
      "Waiting\n",
      ".********************************************************************************\n",
      "input_variables=['url'] output_parser=None partial_variables={} template='\\nRealize following actions:\\nGive me 8 tags maximum describing this website {url}\\nSummarize content {url}\\n\\nChoose one categories for this site between: \\nONLINE SHOP, \\nSERVICES, \\nFASHION & BEAUTY, \\nLEISURE, \\nBLOG, \\nPORTFOLIO & CV, \\nEVENTS, \\nART & CULTURE, \\nGASTRONOMY, \\nASSOCIATIONS & INSTITUTION.\\n\\nThe result in json format, parent keys are tags, description, category\\nIf you have no access to the webpage content, return 404\\n\\n' template_format='f-string' validate_template=True\n",
      "********************************************************************************\n",
      "\n",
      "\n",
      "\u001b[1m> Entering new  chain...\u001b[0m\n",
      "\n",
      "\u001b[1m> Finished chain.\u001b[0m\n",
      "********************************************************************************\n",
      "{'question': '\\nRealize following actions:\\nGive me 8 tags maximum describing this website https://hardrunning.hubside.es\\nSummarize content https://hardrunning.hubside.es\\n\\nChoose one categories for this site between: \\nONLINE SHOP, \\nSERVICES, \\nFASHION & BEAUTY, \\nLEISURE, \\nBLOG, \\nPORTFOLIO & CV, \\nEVENTS, \\nART & CULTURE, \\nGASTRONOMY, \\nASSOCIATIONS & INSTITUTION.\\n\\nThe result in json format, parent keys are tags, description, category\\nIf you have no access to the webpage content, return 404\\n\\n', 'answer': '{\\n  \"tags\": [\\n    \"carrera\",\\n    \"deporte\",\\n    \"running\",\\n    \"media maratón\",\\n    \"malaga\",\\n    \"evento\",\\n    \"eventos\"\\n  ],\\n  \"description\": \"HardRunning es una media maratón que se celebra en Málaga.\",\\n  \"category\": \"EVENTS\"\\n}', 'sources': '', 'source_documents': [Document(page_content='HardRunningInicioEl clubArtículosEventosUnirseBIENVENIDOS A HARD RUNNINGLa experiencia vivida en Málaga que hará que superes tus límites y cumplas un gran objetivoInscríbete en nuestra media maratón, una experiencia inolvidable que podrás realizar en compañía o luchando contra ti mismo. En cualquiera de los casos, no te arrepentirás.Anímate a cumplir un sueñoMe he inscrito porque quiero tener un objetivo de esta magnitud en mi vida y demostrarme a mí misma hasta donde puedo llegar y que nada puede pararmeÁnimo Próximos eventosCaritativoSunday RunningUna carrera caritativa organizada para recoger fondos para la asociación Sunday RunningMás informaciónRetoReto HardRunningCompletar todas las plazas disponibles y volver a organizar un evento de esta magnitud al año siguiente.Más informaciónTrail runningEl HardRunning TrainingLa empresa  organiza una sesión de running en plena naturaleza varios días previos a la media maratón para cualquiera que le guste asistir. Haz clic a continuación para conocer los detallesMás informaciónloading...Calle Miguel de Mérida, Málaga.+34 691 023 226¿Nos apuntamos ya? ¡Puedes hacerlo!Todos los campos son obligatoriosApellidos\\u2009*Apellidos\\xa0*Correo electrónico\\u2009*Correo electrónico\\xa0*Asunto\\u2009*Asunto\\xa0*Mensaje\\u2009*Mensaje\\xa0*Enviar©2019 Hubside', metadata={'filetype': 'text/plain', 'page_number': 1, 'category': 'NarrativeText', 'url': 'https://hardrunning.hubside.es', 'source': 'https://hardrunning.hubside.es'}), Document(page_content='Unirse | HardRunningInicioEl clubArtículosEventosUnirseUnirse al Globe Runner ClubCuando te apuntes, te pediremos un certificado médico, fotos de identidad, un formulario que deberás entregar en  secretaría y un cheque para el pago.Al apuntarte al club podrás beneficiarte de un seguro de responsabilidad civil y daños corporales, entrenamientos físicos supervisados por entrenadores profesionales y una licencia para participar en las competiciones oficiales.Elige una de nuestras tres tarifas en función de tu nivel y tus necesidades.Licencia Run competición: 90 €/mes*Licencia Run completa: 90 €/mes*Licencia Run Evol: 50 €/mes*loading...¿Dónde estamos?Plaça Reial, 108002 Barcelona, España931 123 456¡Deseo apuntarme!Todos los campos son obligatoriosApellidos\\u2009*Apellidos\\xa0*Correo electrónico\\u2009*Correo electrónico\\xa0*Asunto\\u2009*Asunto\\xa0*Mensaje\\u2009*Mensaje\\xa0*Enviar*La información disponible en este modelo de página web es ficticia y no debe ser considerada como una oferta o un compromiso reales. Esta información se utiliza únicamente con fines ilustrativos.©2019 Hubside', metadata={'filetype': 'text/plain', 'page_number': 1, 'category': 'NarrativeText', 'url': 'https://hardrunning.hubside.es/unirse', 'source': 'https://hardrunning.hubside.es/unirse'}), Document(page_content='El club | HardRunningInicioEl clubArtículosEventosUnirseUn club para reunirse y compartir la misma pasiónEl Globe Runner Club es un grupo de runners apasionados que ofrece sesiones para todos los niveles. El club organiza recorridos con una amplia gama de lugares y horarios, tres veces a la semana. Los beneficios del running para el cuerpo y la mente están más que demostrados. Al correr, se fortalece el corazón, se evitan los problemas de hipertensión y numerosas enfermedades y se reduce el estrés. En definitiva, seas novato o experto, ¡únete al Globe Runner Club!Programa de adhesiónschoolLicencia Run competiciónEsta licencia permite a los miembros participar en todas las sesiones de entrenamiento y en las competiciones.schoolLicencia Run completaLos miembros pueden participar en las sesiones de entrenamiento que elijan con un total de 7 horas como máximo por semana.schoolLicencia Run EvolPensada para los principiantes, la licencia Run Evol permite participar en 3 sesiones de entrenamiento a la semana.¡Quiero apuntarme!Todos los campos son obligatoriosApellidos\\u2009*Apellidos\\xa0*Correo electrónico\\u2009*Correo electrónico\\xa0*Asunto\\u2009*Asunto\\xa0*Mensaje\\u2009*Mensaje\\xa0*Enviar©2019 Hubside', metadata={'filetype': 'text/plain', 'page_number': 1, 'category': 'NarrativeText', 'url': 'https://hardrunning.hubside.es/el-club', 'source': 'https://hardrunning.hubside.es/el-club'}), Document(page_content='con calma. Para empezar, las sesiones de 15 minutos son más que suficientes.2/ Cambia de recorrido para cansarte menos.3/ No olvides beber agua.4/ Descansa. No entrenes si tienes agujetas.5/ Trabaja tus músculos, por ejemplo con sesiones de fortalecimiento muscular.Cómo recuperar mejorAcabas de pasar la línea de meta. Levantas los brazos hacia el cielo. Lo has conseguido, ¡enhorabuena! Crees que has acabado, pero no. El momento posterior a la carrera también forma parte de la carrera. Por eso, es importante cuidar del cuerpo después de un esfuerzo intenso.Para recuperar correctamente, hay dos reglas básicas: hidratarse y dormir.Además, al día siguiente, recomiendo volver a entrenar. Una carrera corta el día siguiente no puede hacer daño, siempre y cuando no se fuerce demasiado.Una alimentación sana también ayudará, para qué engañarnos. No se trata de dejarse llevar y comerse una pizza gigante, por ejemplo (es difícil, ¡pero hay que ser fuerte!).También puedes hacer una pequeña sesión de natación en lugar de un entrenamiento para cuidar tus articulaciones.©2019 Hubside', metadata={'filetype': 'text/plain', 'page_number': 1, 'category': 'NarrativeText', 'url': 'https://hardrunning.hubside.es/articulos', 'source': 'https://hardrunning.hubside.es/articulos'})]}\n",
      "********************************************************************************\n",
      "\n",
      "{\n",
      "  \"tags\": [\n",
      "    \"carrera\",\n",
      "    \"deporte\",\n",
      "    \"running\",\n",
      "    \"media maratón\",\n",
      "    \"malaga\",\n",
      "    \"evento\",\n",
      "    \"eventos\"\n",
      "  ],\n",
      "  \"description\": \"HardRunning es una media maratón que se celebra en Málaga.\",\n",
      "  \"category\": \"EVENTS\"\n",
      "}\n"
     ]
    }
   ],
   "source": [
    "#prompt= \"\"\" Summarize content {url}. \"\"\"\n",
    "\n",
    "result = chat_with_page(prompt, url, prompt)\n",
    "print(\"\")\n",
    "print(result['answer'])"
   ]
  },
  {
   "cell_type": "code",
   "execution_count": null,
   "id": "557b6deb-720b-4be4-b6da-3d637cd7eb6d",
   "metadata": {
    "collapsed": true,
    "jupyter": {
     "outputs_hidden": true
    },
    "tags": []
   },
   "outputs": [
    {
     "name": "stdout",
     "output_type": "stream",
     "text": [
      "\u001b[33mWARNING: Ignoring invalid distribution -oogle-auth (/opt/conda/lib/python3.10/site-packages)\u001b[0m\u001b[33m\n",
      "\u001b[0m\u001b[33mWARNING: Ignoring invalid distribution -oogleapis-common-protos (/opt/conda/lib/python3.10/site-packages)\u001b[0m\u001b[33m\n",
      "\u001b[0mCollecting chromedriver-py\n",
      "  Downloading chromedriver_py-114.0.5735.90-py3-none-any.whl (30.3 MB)\n",
      "\u001b[2K     \u001b[90m━━━━━━━━━━━━━━━━━━━━━━━━━━━━━━━━━━━━━━━━\u001b[0m \u001b[32m30.3/30.3 MB\u001b[0m \u001b[31m40.8 MB/s\u001b[0m eta \u001b[36m0:00:00\u001b[0m00:01\u001b[0m00:01\u001b[0m\n",
      "\u001b[?25h"
     ]
    }
   ],
   "source": []
  },
  {
   "cell_type": "raw",
   "id": "f75b8c7b-cf8e-42bb-a14f-7dc18a587faa",
   "metadata": {
    "tags": []
   },
   "source": [
    "#!pip install nest_asyncio\n",
    "\n",
    "# fixes a bug with asyncio and jupyter\n",
    "import nest_asyncio\n",
    "\n",
    "nest_asyncio.apply()"
   ]
  },
  {
   "cell_type": "code",
   "execution_count": null,
   "id": "e217b81f-676d-4e9a-abc9-d601a1eeb7e0",
   "metadata": {},
   "outputs": [
    {
     "name": "stdout",
     "output_type": "stream",
     "text": [
      "Found existing installation: nest-asyncio 1.5.6\n",
      "Uninstalling nest-asyncio-1.5.6:\n",
      "  Successfully uninstalled nest-asyncio-1.5.6\n"
     ]
    }
   ],
   "source": [
    "!pip uninstall -y nest_asyncio"
   ]
  },
  {
   "cell_type": "raw",
   "id": "1b163044-9360-423a-8701-76a7d316e958",
   "metadata": {
    "tags": []
   },
   "source": [
    "#pip install bs4 selenium\n",
    "#!sudo apt-get install chromium-chromedriver\n",
    "!pip install chromedriver-py\n"
   ]
  },
  {
   "cell_type": "raw",
   "id": "40b6a67b-b523-4d36-a10f-977bce943e53",
   "metadata": {
    "jupyter": {
     "outputs_hidden": true
    },
    "tags": []
   },
   "source": [
    "%%bash\n",
    "\n",
    "\n",
    "sudo apt-get install unzip &&\n",
    "a=$(uname -m) &&\n",
    "rm -r /tmp/chromedriver/\n",
    "mkdir /tmp/chromedriver/ &&\n",
    "wget -O /tmp/chromedriver/LATEST_RELEASE http://chromedriver.storage.googleapis.com/LATEST_RELEASE &&\n",
    "if [ $a == i686 ]; then b=32; elif [ $a == x86_64 ]; then b=64; fi &&\n",
    "latest=$(cat /tmp/chromedriver/LATEST_RELEASE) &&\n",
    "wget -O /tmp/chromedriver/chromedriver.zip 'http://chromedriver.storage.googleapis.com/'$latest'/chromedriver_linux'$b'.zip' &&\n",
    "sudo unzip /tmp/chromedriver/chromedriver.zip chromedriver -d /usr/local/bin/ &&\n",
    "echo 'success?'"
   ]
  },
  {
   "cell_type": "code",
   "execution_count": null,
   "id": "00c91750-2376-44f4-b604-02549bdaebfc",
   "metadata": {
    "collapsed": {
     "outputs_hidden": true
    },
    "jupyter": {
     "outputs_hidden": {
      "outputs_hidden": true
     }
    },
    "tags": []
   },
   "outputs": [
    {
     "name": "stdout",
     "output_type": "stream",
     "text": [
      "\u001b[33mWARNING: Ignoring invalid distribution -oogle-auth (/opt/conda/lib/python3.10/site-packages)\u001b[0m\u001b[33m\n",
      "\u001b[0m\u001b[33mWARNING: Ignoring invalid distribution -oogleapis-common-protos (/opt/conda/lib/python3.10/site-packages)\u001b[0m\u001b[33m\n",
      "\u001b[0mCollecting session-info\n",
      "  Downloading session_info-1.0.0.tar.gz (24 kB)\n",
      "  Preparing metadata (setup.py) ... \u001b[?25ldone\n",
      "\u001b[?25hCollecting stdlib_list (from session-info)\n",
      "  Downloading stdlib_list-0.9.0-py3-none-any.whl (75 kB)\n",
      "\u001b[2K     \u001b[90m━━━━━━━━━━━━━━━━━━━━━━━━━━━━━━━━━━━━━━━━\u001b[0m \u001b[32m75.6/75.6 kB\u001b[0m \u001b[31m11.2 MB/s\u001b[0m eta \u001b[36m0:00:00\u001b[0m\n",
      "\u001b[?25hBuilding wheels for collected packages: session-info\n",
      "  Building wheel for session-info (setup.py) ... \u001b[?25ldone\n",
      "\u001b[?25h  Created wheel for session-info: filename=session_info-1.0.0-py3-none-any.whl size=8026 sha256=5b9ee8d4967fd0cdefc64094b7c3aa8de99967d264ea9775f0fd16f2b3c5b8ff\n",
      "  Stored in directory: /home/jupyter/.cache/pip/wheels/6a/aa/b9/eb5d4031476ec10802795b97ccf937b9bd998d68a9b268765a\n",
      "Successfully built session-info\n",
      "\u001b[33mWARNING: Ignoring invalid distribution -oogle-auth (/opt/conda/lib/python3.10/site-packages)\u001b[0m\u001b[33m\n",
      "\u001b[0m\u001b[33mWARNING: Ignoring invalid distribution -oogleapis-common-protos (/opt/conda/lib/python3.10/site-packages)\u001b[0m\u001b[33m\n",
      "\u001b[0mInstalling collected packages: stdlib_list, session-info\n",
      "Successfully installed session-info-1.0.0 stdlib_list-0.9.0\n"
     ]
    }
   ],
   "source": [
    "!pip install session-info"
   ]
  },
  {
   "cell_type": "raw",
   "id": "15439f21-11e8-4a13-afa3-ea351ecd82d0",
   "metadata": {
    "jupyter": {
     "outputs_hidden": true
    },
    "tags": []
   },
   "source": [
    "from langchain.document_loaders import PlaywrightURLLoader\n",
    "\n",
    "\n",
    "\n",
    "loader = PlaywrightURLLoader(urls=urls, remove_selectors=[\"header\", \"footer\"])\n",
    "\n",
    "\n",
    "data = loader.lazy_load()"
   ]
  },
  {
   "cell_type": "raw",
   "id": "1a2899a5-81ec-43b7-b5c6-0b65a047f354",
   "metadata": {
    "jupyter": {
     "outputs_hidden": true
    },
    "tags": []
   },
   "source": [
    "from langchain.document_loaders.recursive_url_loader import RecursiveUrlLoader\n",
    "\n",
    "\n",
    "from langchain.document_loaders import SeleniumURLLoader\n",
    "\n",
    "\n",
    "\n",
    "loader = SeleniumURLLoader(urls=urls, browser= dri)\n",
    "\n",
    "data = loader.load()"
   ]
  },
  {
   "cell_type": "code",
   "execution_count": null,
   "id": "ea53b60c-6f98-43a7-b33f-cacbbb3f53a0",
   "metadata": {},
   "outputs": [],
   "source": []
  },
  {
   "cell_type": "raw",
   "id": "136d7bf9-979f-4bc3-a060-7c86edf91160",
   "metadata": {
    "jupyter": {
     "outputs_hidden": true
    },
    "tags": []
   },
   "source": [
    "#### This program scrapes naukri.com's page and gives our result as a\n",
    "#### list of all the job_profiles which are currently present there.\n",
    "\n",
    "import requests\n",
    "from bs4 import BeautifulSoup\n",
    "from selenium import webdriver\n",
    "from selenium.webdriver.common.keys import Keys\n",
    "import time\n",
    "\n",
    "#url of the page we want to scrape\n",
    "url = \"https://hardrunning.hubside.es\"\n",
    "\n",
    "\n",
    "# initiating the webdriver. Para`meter includes the path of the webdriver.\n",
    "#driver = webdriver.Chrome('/home/jupyter/hubside/chromedriver')\n",
    "driver = webdriver.Chrome()\n",
    "\n",
    "driver.get(url)\n",
    "\n",
    "# this is just to ensure that the page is loaded\n",
    "time.sleep(5)\n",
    "\n",
    "html = driver.page_source\n",
    "\n",
    "# this renders the JS code and stores all\n",
    "# of the information in static HTML code.\n",
    "\n",
    "# Now, we could simply apply bs4 to html variable\n",
    "soup = BeautifulSoup(html, \"html.parser\")\n",
    "all_divs = soup.find('div', {'id' : 'nameSearch'})\n",
    "job_profiles = all_divs.find_all('a')\n",
    "\n",
    "# printing top ten job profiles\n",
    "count = 0\n",
    "for job_profile in job_profiles :\n",
    "\tprint(job_profile.text)\n",
    "\tcount = count + 1\n",
    "\tif(count == 10) :\n",
    "\t\tbreak\n",
    "\n",
    "driver.close() # closing the webdriver\n"
   ]
  },
  {
   "cell_type": "code",
   "execution_count": null,
   "id": "adb445d4-f8bb-4dbf-80d3-5b7c6d95a2aa",
   "metadata": {},
   "outputs": [],
   "source": []
  },
  {
   "cell_type": "raw",
   "id": "dffcad3d-84ba-4d7a-8623-56f06d39ff87",
   "metadata": {
    "jupyter": {
     "outputs_hidden": true
    },
    "tags": []
   },
   "source": [
    "from langchain.document_loaders import UnstructuredURLLoader\n",
    "import session_info\n",
    "\n",
    "import logging\n",
    "\n",
    "logger = logging.getLogger(\"julien\")\n",
    "logger.setLevel(logging.DEBUG)\n",
    "\n",
    "\n",
    "session_info.show()\n",
    "\n",
    "#urls = [    \"https://www.understandingwar.org/backgrounder/russian-offensive-campaign-assessment-february-8-2023\",    \"https://www.understandingwar.org/backgrounder/russian-offensive-campaign-assessment-february-9-2023\",]\n",
    "\n",
    "print(urls)\n",
    "\n",
    "loader = UnstructuredURLLoader(urls=urls)\n",
    "\n",
    "print(loader)\n",
    "\n",
    "data = loader.load()\n",
    "\n",
    "print(data)"
   ]
  },
  {
   "cell_type": "code",
   "execution_count": null,
   "id": "10654377-8115-4275-af03-d7ec64866a33",
   "metadata": {},
   "outputs": [],
   "source": []
  },
  {
   "cell_type": "raw",
   "id": "214cc002-0c19-4473-8d1f-552a2ffb7fab",
   "metadata": {
    "tags": []
   },
   "source": [
    "#### This program scrapes naukri.com's page and gives our result as a\n",
    "#### list of all the job_profiles which are currently present there.\n",
    "\n",
    "import requests\n",
    "from bs4 import BeautifulSoup\n",
    "from selenium import webdriver\n",
    "from selenium.webdriver.common.keys import Keys\n",
    "import time\n",
    "\n",
    "#url of the page we want to scrape\n",
    "url = \"https://www.naukri.com/top-jobs-by-designations# desigtop600\"\n",
    "\n",
    "# initiating the webdriver. Parameter includes the path of the webdriver.\n",
    "driver = webdriver.Chrome('./chromedriver')\n",
    "driver.get(url)\n",
    "\n",
    "# this is just to ensure that the page is loaded\n",
    "time.sleep(5)\n",
    "\n",
    "html = driver.page_source\n",
    "\n",
    "# this renders the JS code and stores all\n",
    "# of the information in static HTML code.\n",
    "\n",
    "# Now, we could simply apply bs4 to html variable\n",
    "soup = BeautifulSoup(html, \"html.parser\")\n",
    "all_divs = soup.find('div', {'id' : 'nameSearch'})\n",
    "job_profiles = all_divs.find_all('a')\n",
    "\n",
    "# printing top ten job profiles\n",
    "count = 0\n",
    "for job_profile in job_profiles :\n",
    "\tprint(job_profile.text)\n",
    "\tcount = count + 1\n",
    "\tif(count == 10) :\n",
    "\t\tbreak\n",
    "\n",
    "driver.close() # closing the webdriver\n"
   ]
  },
  {
   "cell_type": "raw",
   "id": "019c0de9-72e5-4875-9b22-b219379e36bb",
   "metadata": {
    "tags": []
   },
   "source": [
    "import requests\n",
    "from requests.adapters import HTTPAdapter\n",
    "from urllib3.util.retry import Retry\n",
    "\n",
    "\n",
    "session = requests.Session()\n",
    "retry = Retry(connect=3, backoff_factor=0.5)\n",
    "adapter = HTTPAdapter(max_retries=retry)\n",
    "session.mount('http://', adapter)\n",
    "session.mount('https://', adapter)\n",
    "\n",
    "session.get(url)"
   ]
  },
  {
   "cell_type": "raw",
   "id": "c89ba458-4421-4fa5-877b-662c028f0db0",
   "metadata": {
    "jupyter": {
     "outputs_hidden": true
    },
    "tags": []
   },
   "source": [
    "from langchain.document_loaders.recursive_url_loader import RecursiveUrlLoader\n",
    "\n",
    "#url = 'https://js.langchain.com/docs/modules/memory/examples/'\n",
    "loader=RecursiveUrlLoader(url=url)\n",
    "docs=loader.load()"
   ]
  },
  {
   "cell_type": "code",
   "execution_count": null,
   "id": "0aa3bdda-6d9f-4b70-a409-c492e9a440d2",
   "metadata": {},
   "outputs": [],
   "source": []
  },
  {
   "cell_type": "code",
   "execution_count": null,
   "id": "d835a989-4976-45c8-bb4b-0ce154583f56",
   "metadata": {},
   "outputs": [
    {
     "name": "stdout",
     "output_type": "stream",
     "text": [
      "\n"
     ]
    }
   ],
   "source": [
    "print(result[\"answer\"])\n",
    "#print(result[\"error\"])"
   ]
  },
  {
   "cell_type": "code",
   "execution_count": null,
   "id": "55d78175-b8ff-4bd7-88a9-c7e478db89af",
   "metadata": {},
   "outputs": [
    {
     "data": {
      "text/plain": [
       "[Document(page_content='HardRunningInicioEl clubArtículosEventosUnirseBIENVENIDOS A HARD RUNNINGLa experiencia vivida en Málaga que hará que superes tus límites y cumplas un gran objetivoInscríbete en nuestra media maratón, una experiencia inolvidable que podrás realizar en compañía o luchando contra ti mismo. En cualquiera de los casos, no te arrepentirás.Anímate a cumplir un sueñoMe he inscrito porque quiero tener un objetivo de esta magnitud en mi vida y demostrarme a mí misma hasta donde puedo llegar y que nada puede pararmeÁnimo Próximos eventosCaritativoSunday RunningUna carrera caritativa organizada para recoger fondos para la asociación Sunday RunningMás informaciónRetoReto HardRunningCompletar todas las plazas disponibles y volver a organizar un evento de esta magnitud al año siguiente.Más informaciónTrail runningEl HardRunning TrainingLa empresa  organiza una sesión de running en plena naturaleza varios días previos a la media maratón para cualquiera que le guste asistir. Haz clic a continuación para conocer los detallesMás informaciónloading...Calle Miguel de Mérida, Málaga.+34 691 023 226¿Nos apuntamos ya? ¡Puedes hacerlo!Todos los campos son obligatoriosApellidos\\u2009*Apellidos\\xa0*Correo electrónico\\u2009*Correo electrónico\\xa0*Asunto\\u2009*Asunto\\xa0*Mensaje\\u2009*Mensaje\\xa0*Enviar©2019 Hubside', metadata={'filetype': 'text/plain', 'page_number': 1, 'category': 'NarrativeText', 'url': 'https://hardrunning.hubside.es', 'source': 'https://hardrunning.hubside.es'}),\n",
       " Document(page_content='El club | HardRunningInicioEl clubArtículosEventosUnirseUn club para reunirse y compartir la misma pasiónEl Globe Runner Club es un grupo de runners apasionados que ofrece sesiones para todos los niveles. El club organiza recorridos con una amplia gama de lugares y horarios, tres veces a la semana. Los beneficios del running para el cuerpo y la mente están más que demostrados. Al correr, se fortalece el corazón, se evitan los problemas de hipertensión y numerosas enfermedades y se reduce el estrés. En definitiva, seas novato o experto, ¡únete al Globe Runner Club!Programa de adhesiónschoolLicencia Run competiciónEsta licencia permite a los miembros participar en todas las sesiones de entrenamiento y en las competiciones.schoolLicencia Run completaLos miembros pueden participar en las sesiones de entrenamiento que elijan con un total de 7 horas como máximo por semana.schoolLicencia Run EvolPensada para los principiantes, la licencia Run Evol permite participar en 3 sesiones de entrenamiento a la semana.¡Quiero apuntarme!Todos los campos son obligatoriosApellidos\\u2009*Apellidos\\xa0*Correo electrónico\\u2009*Correo electrónico\\xa0*Asunto\\u2009*Asunto\\xa0*Mensaje\\u2009*Mensaje\\xa0*Enviar©2019 Hubside', metadata={'filetype': 'text/plain', 'page_number': 1, 'category': 'NarrativeText', 'url': 'https://hardrunning.hubside.es/el-club', 'source': 'https://hardrunning.hubside.es/el-club'}),\n",
       " Document(page_content='Unirse | HardRunningInicioEl clubArtículosEventosUnirseUnirse al Globe Runner ClubCuando te apuntes, te pediremos un certificado médico, fotos de identidad, un formulario que deberás entregar en  secretaría y un cheque para el pago.Al apuntarte al club podrás beneficiarte de un seguro de responsabilidad civil y daños corporales, entrenamientos físicos supervisados por entrenadores profesionales y una licencia para participar en las competiciones oficiales.Elige una de nuestras tres tarifas en función de tu nivel y tus necesidades.Licencia Run competición: 90 €/mes*Licencia Run completa: 90 €/mes*Licencia Run Evol: 50 €/mes*loading...¿Dónde estamos?Plaça Reial, 108002 Barcelona, España931 123 456¡Deseo apuntarme!Todos los campos son obligatoriosApellidos\\u2009*Apellidos\\xa0*Correo electrónico\\u2009*Correo electrónico\\xa0*Asunto\\u2009*Asunto\\xa0*Mensaje\\u2009*Mensaje\\xa0*Enviar*La información disponible en este modelo de página web es ficticia y no debe ser considerada como una oferta o un compromiso reales. Esta información se utiliza únicamente con fines ilustrativos.©2019 Hubside', metadata={'filetype': 'text/plain', 'page_number': 1, 'category': 'NarrativeText', 'url': 'https://hardrunning.hubside.es/unirse', 'source': 'https://hardrunning.hubside.es/unirse'}),\n",
       " Document(page_content='Eventos | HardRunningInicioEl clubArtículosEventosUnirseGlobe Runner Club – Próximas carreras y competicionesToda la agenda del clubSunday RunningUna carrera caritativa organizada para recoger fondos para la asociación Sunday Running. Los fondos recogidos permitirán a niños enfermos practicar su deporte favorito con total seguridad.La carrera tendrá lugar en el Camp Nou el próximo 23 de junio. Reto Globe Runner ClubCada año, los miembros del club que lo desean participan en el reto Globe Runner del mes de mayo. El club ha preparado un recorrido inédito en plena naturaleza. Además, está prevista una congregación por la tarde. Un programa de la carrera está disponible en la secretaría.La carrera tendrá lugar el 15 de mayo en el parque del Tibidabo.El Globe TrailEl club organiza una sesión de trail running en plena naturaleza a través de un recorrido atípico al que todos los miembros están invitados. 15 kilómetros de recorrido, buen humor y retos inesperados. Ya puedes inscribirte. Más tarde te enviaremos un programa.©2019 Hubside', metadata={'filetype': 'text/plain', 'page_number': 1, 'category': 'NarrativeText', 'url': 'https://hardrunning.hubside.es/eventos', 'source': 'https://hardrunning.hubside.es/eventos'})]"
      ]
     },
     "execution_count": 160,
     "metadata": {},
     "output_type": "execute_result"
    }
   ],
   "source": [
    "result[\"source_documents\"]"
   ]
  },
  {
   "cell_type": "code",
   "execution_count": null,
   "id": "c5f479ea-3cbb-47de-8d40-8b5c42b8bd10",
   "metadata": {},
   "outputs": [
    {
     "data": {
      "text/plain": [
       "''"
      ]
     },
     "execution_count": 163,
     "metadata": {},
     "output_type": "execute_result"
    }
   ],
   "source": [
    "result[\"sources\"]"
   ]
  },
  {
   "cell_type": "raw",
   "id": "fb5b6ef7-28ce-4e78-9e2d-f65ac6e59fa5",
   "metadata": {},
   "source": [
    "%pip install --upgrade langchain"
   ]
  },
  {
   "cell_type": "raw",
   "id": "85bbc146-99c2-444e-b2a4-0749b92e1dd7",
   "metadata": {
    "tags": []
   },
   "source": [
    "%%bash\n",
    "# Install playwright\n",
    "pip install \"playwright\"\n",
    "pip install \"unstructured\"\n",
    "playwright install"
   ]
  },
  {
   "cell_type": "code",
   "execution_count": null,
   "id": "a2da8468-6683-4f5d-bd8e-16360414be2f",
   "metadata": {},
   "outputs": [
    {
     "data": {
      "text/plain": [
       "'\\nsummurize\\n'"
      ]
     },
     "execution_count": 45,
     "metadata": {},
     "output_type": "execute_result"
    }
   ],
   "source": [
    "prompt"
   ]
  },
  {
   "cell_type": "code",
   "execution_count": null,
   "id": "37df19b0-278d-4136-a271-6302d02fb987",
   "metadata": {},
   "outputs": [],
   "source": []
  }
 ],
 "metadata": {
  "environment": {
   "kernel": "python3",
   "name": "common-cpu.m109",
   "type": "gcloud",
   "uri": "gcr.io/deeplearning-platform-release/base-cpu:m109"
  },
  "kernelspec": {
   "display_name": "Python 3",
   "language": "python",
   "name": "python3"
  },
  "language_info": {
   "codemirror_mode": {
    "name": "ipython",
    "version": 3
   },
   "file_extension": ".py",
   "mimetype": "text/x-python",
   "name": "python",
   "nbconvert_exporter": "python",
   "pygments_lexer": "ipython3",
   "version": "3.10.11"
  }
 },
 "nbformat": 4,
 "nbformat_minor": 5
}
