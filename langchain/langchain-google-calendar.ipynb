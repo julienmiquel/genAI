{
 "cells": [
  {
   "attachments": {},
   "cell_type": "markdown",
   "id": "613b5312",
   "metadata": {},
   "source": [
    "# Google Cloud with langchain\n"
   ]
  },
  {
   "attachments": {},
   "cell_type": "markdown",
   "id": "3615f1e2",
   "metadata": {},
   "source": [
    "<h3>Tracking LangChain Executions with Aim</h3>"
   ]
  },
  {
   "attachments": {},
   "cell_type": "markdown",
   "id": "5d271566",
   "metadata": {},
   "source": [
    "In this notebook we will explore three usage scenarios. To start off, we will install the necessary packages and import certain modules. Subsequently, we will configure two environment variables that can be established either within the Python script or through the terminal."
   ]
  },
  {
   "cell_type": "code",
   "execution_count": 2,
   "id": "d16e00da",
   "metadata": {
    "collapsed": true,
    "id": "mf88kuCJhbVu",
    "jupyter": {
     "outputs_hidden": true
    },
    "tags": []
   },
   "outputs": [
    {
     "name": "stdout",
     "output_type": "stream",
     "text": [
      "Requirement already satisfied: aim in /opt/homebrew/lib/python3.10/site-packages (3.17.5)\n",
      "Requirement already satisfied: aim-ui==3.17.5 in /opt/homebrew/lib/python3.10/site-packages (from aim) (3.17.5)\n",
      "Requirement already satisfied: aimrecords==0.0.7 in /opt/homebrew/lib/python3.10/site-packages (from aim) (0.0.7)\n",
      "Requirement already satisfied: aimrocks==0.4.0 in /opt/homebrew/lib/python3.10/site-packages (from aim) (0.4.0)\n",
      "Requirement already satisfied: cachetools>=4.0.0 in /opt/homebrew/lib/python3.10/site-packages (from aim) (5.2.0)\n",
      "Requirement already satisfied: click>=7.0 in /opt/homebrew/lib/python3.10/site-packages (from aim) (8.1.3)\n",
      "Requirement already satisfied: cryptography>=3.0 in /opt/homebrew/lib/python3.10/site-packages (from aim) (39.0.1)\n",
      "Requirement already satisfied: filelock<4,>=3.3.0 in /opt/homebrew/lib/python3.10/site-packages (from aim) (3.9.0)\n",
      "Requirement already satisfied: numpy<2,>=1.12.0 in /opt/homebrew/lib/python3.10/site-packages (from aim) (1.23.4)\n",
      "Requirement already satisfied: psutil>=5.6.7 in /opt/homebrew/lib/python3.10/site-packages (from aim) (5.9.3)\n",
      "Requirement already satisfied: py3nvml>=0.2.5 in /opt/homebrew/lib/python3.10/site-packages (from aim) (0.2.7)\n",
      "Requirement already satisfied: RestrictedPython>=5.1 in /opt/homebrew/lib/python3.10/site-packages (from aim) (6.0)\n",
      "Requirement already satisfied: tqdm>=4.20.0 in /opt/homebrew/lib/python3.10/site-packages (from aim) (4.64.1)\n",
      "Requirement already satisfied: aiofiles>=0.5.0 in /opt/homebrew/lib/python3.10/site-packages (from aim) (23.1.0)\n",
      "Requirement already satisfied: alembic<2,>=1.5.0 in /opt/homebrew/lib/python3.10/site-packages (from aim) (1.11.1)\n",
      "Requirement already satisfied: fastapi<1,>=0.69.0 in /opt/homebrew/lib/python3.10/site-packages (from aim) (0.95.1)\n",
      "Requirement already satisfied: jinja2<4,>=2.10.0 in /opt/homebrew/lib/python3.10/site-packages (from aim) (3.1.2)\n",
      "Requirement already satisfied: pytz>=2019.1 in /opt/homebrew/lib/python3.10/site-packages (from aim) (2023.3)\n",
      "Collecting SQLAlchemy<2,>=1.4.1 (from aim)\n",
      "  Using cached SQLAlchemy-1.4.48-cp310-cp310-macosx_12_0_arm64.whl\n",
      "Requirement already satisfied: uvicorn<1,>=0.12.0 in /opt/homebrew/lib/python3.10/site-packages (from aim) (0.22.0)\n",
      "Requirement already satisfied: Pillow>=8.0.0 in /opt/homebrew/lib/python3.10/site-packages (from aim) (9.4.0)\n",
      "Requirement already satisfied: protobuf<5,>=3.9.2 in /opt/homebrew/lib/python3.10/site-packages (from aim) (3.20.3)\n",
      "Requirement already satisfied: packaging>=15.0 in /opt/homebrew/lib/python3.10/site-packages (from aim) (21.3)\n",
      "Requirement already satisfied: python-dateutil in /opt/homebrew/lib/python3.10/site-packages (from aim) (2.8.2)\n",
      "Requirement already satisfied: requests in /opt/homebrew/lib/python3.10/site-packages (from aim) (2.28.2)\n",
      "Requirement already satisfied: segment-analytics-python in /opt/homebrew/lib/python3.10/site-packages (from aim) (2.2.3)\n",
      "Requirement already satisfied: base58==2.0.1 in /opt/homebrew/lib/python3.10/site-packages (from aimrecords==0.0.7->aim) (2.0.1)\n",
      "Requirement already satisfied: Mako in /opt/homebrew/lib/python3.10/site-packages (from alembic<2,>=1.5.0->aim) (1.2.4)\n",
      "Requirement already satisfied: typing-extensions>=4 in /opt/homebrew/lib/python3.10/site-packages (from alembic<2,>=1.5.0->aim) (4.5.0)\n",
      "Requirement already satisfied: cffi>=1.12 in /opt/homebrew/lib/python3.10/site-packages (from cryptography>=3.0->aim) (1.15.1)\n",
      "Requirement already satisfied: pydantic!=1.7,!=1.7.1,!=1.7.2,!=1.7.3,!=1.8,!=1.8.1,<2.0.0,>=1.6.2 in /opt/homebrew/lib/python3.10/site-packages (from fastapi<1,>=0.69.0->aim) (1.10.6)\n",
      "Requirement already satisfied: starlette<0.27.0,>=0.26.1 in /opt/homebrew/lib/python3.10/site-packages (from fastapi<1,>=0.69.0->aim) (0.26.1)\n",
      "Requirement already satisfied: MarkupSafe>=2.0 in /opt/homebrew/lib/python3.10/site-packages (from jinja2<4,>=2.10.0->aim) (2.1.3)\n",
      "Requirement already satisfied: pyparsing!=3.0.5,>=2.0.2 in /opt/homebrew/lib/python3.10/site-packages (from packaging>=15.0->aim) (3.0.9)\n",
      "Requirement already satisfied: xmltodict in /opt/homebrew/lib/python3.10/site-packages (from py3nvml>=0.2.5->aim) (0.13.0)\n",
      "Requirement already satisfied: h11>=0.8 in /opt/homebrew/lib/python3.10/site-packages (from uvicorn<1,>=0.12.0->aim) (0.14.0)\n",
      "Requirement already satisfied: six>=1.5 in /opt/homebrew/lib/python3.10/site-packages (from python-dateutil->aim) (1.16.0)\n",
      "Requirement already satisfied: charset-normalizer<4,>=2 in /opt/homebrew/lib/python3.10/site-packages (from requests->aim) (2.1.1)\n",
      "Requirement already satisfied: idna<4,>=2.5 in /opt/homebrew/lib/python3.10/site-packages (from requests->aim) (3.4)\n",
      "Requirement already satisfied: urllib3<1.27,>=1.21.1 in /opt/homebrew/lib/python3.10/site-packages (from requests->aim) (1.26.12)\n",
      "Requirement already satisfied: certifi>=2017.4.17 in /opt/homebrew/lib/python3.10/site-packages (from requests->aim) (2022.9.24)\n",
      "Requirement already satisfied: monotonic~=1.5 in /opt/homebrew/lib/python3.10/site-packages (from segment-analytics-python->aim) (1.6)\n",
      "Requirement already satisfied: backoff~=2.1 in /opt/homebrew/lib/python3.10/site-packages (from segment-analytics-python->aim) (2.2.1)\n",
      "Requirement already satisfied: pycparser in /opt/homebrew/lib/python3.10/site-packages (from cffi>=1.12->cryptography>=3.0->aim) (2.21)\n",
      "Requirement already satisfied: anyio<5,>=3.4.0 in /opt/homebrew/lib/python3.10/site-packages (from starlette<0.27.0,>=0.26.1->fastapi<1,>=0.69.0->aim) (3.6.2)\n",
      "Requirement already satisfied: sniffio>=1.1 in /opt/homebrew/lib/python3.10/site-packages (from anyio<5,>=3.4.0->starlette<0.27.0,>=0.26.1->fastapi<1,>=0.69.0->aim) (1.3.0)\n",
      "Installing collected packages: SQLAlchemy\n",
      "  Attempting uninstall: SQLAlchemy\n",
      "    Found existing installation: SQLAlchemy 2.0.16\n",
      "    Uninstalling SQLAlchemy-2.0.16:\n",
      "      Successfully uninstalled SQLAlchemy-2.0.16\n",
      "\u001b[31mERROR: pip's dependency resolver does not currently take into account all the packages that are installed. This behaviour is the source of the following dependency conflicts.\n",
      "llama-index 0.6.28 requires sqlalchemy>=2.0.15, but you have sqlalchemy 1.4.48 which is incompatible.\u001b[0m\u001b[31m\n",
      "\u001b[0mSuccessfully installed SQLAlchemy-1.4.48\n",
      "Note: you may need to restart the kernel to use updated packages.\n",
      "Requirement already satisfied: langchain in /opt/homebrew/lib/python3.10/site-packages (0.0.205)\n",
      "Requirement already satisfied: PyYAML>=5.4.1 in /opt/homebrew/lib/python3.10/site-packages (from langchain) (5.4.1)\n",
      "Requirement already satisfied: SQLAlchemy<3,>=1.4 in /opt/homebrew/lib/python3.10/site-packages (from langchain) (1.4.48)\n",
      "Requirement already satisfied: aiohttp<4.0.0,>=3.8.3 in /opt/homebrew/lib/python3.10/site-packages (from langchain) (3.8.4)\n",
      "Requirement already satisfied: async-timeout<5.0.0,>=4.0.0 in /opt/homebrew/lib/python3.10/site-packages (from langchain) (4.0.2)\n",
      "Requirement already satisfied: dataclasses-json<0.6.0,>=0.5.7 in /opt/homebrew/lib/python3.10/site-packages (from langchain) (0.5.8)\n",
      "Requirement already satisfied: langchainplus-sdk>=0.0.9 in /opt/homebrew/lib/python3.10/site-packages (from langchain) (0.0.11)\n",
      "Requirement already satisfied: numexpr<3.0.0,>=2.8.4 in /opt/homebrew/lib/python3.10/site-packages (from langchain) (2.8.4)\n",
      "Requirement already satisfied: numpy<2,>=1 in /opt/homebrew/lib/python3.10/site-packages (from langchain) (1.23.4)\n",
      "Requirement already satisfied: openapi-schema-pydantic<2.0,>=1.2 in /opt/homebrew/lib/python3.10/site-packages (from langchain) (1.2.4)\n",
      "Requirement already satisfied: pydantic<2,>=1 in /opt/homebrew/lib/python3.10/site-packages (from langchain) (1.10.6)\n",
      "Requirement already satisfied: requests<3,>=2 in /opt/homebrew/lib/python3.10/site-packages (from langchain) (2.28.2)\n",
      "Requirement already satisfied: tenacity<9.0.0,>=8.1.0 in /opt/homebrew/lib/python3.10/site-packages (from langchain) (8.2.1)\n",
      "Requirement already satisfied: attrs>=17.3.0 in /opt/homebrew/lib/python3.10/site-packages (from aiohttp<4.0.0,>=3.8.3->langchain) (22.1.0)\n",
      "Requirement already satisfied: charset-normalizer<4.0,>=2.0 in /opt/homebrew/lib/python3.10/site-packages (from aiohttp<4.0.0,>=3.8.3->langchain) (2.1.1)\n",
      "Requirement already satisfied: multidict<7.0,>=4.5 in /opt/homebrew/lib/python3.10/site-packages (from aiohttp<4.0.0,>=3.8.3->langchain) (6.0.4)\n",
      "Requirement already satisfied: yarl<2.0,>=1.0 in /opt/homebrew/lib/python3.10/site-packages (from aiohttp<4.0.0,>=3.8.3->langchain) (1.9.2)\n",
      "Requirement already satisfied: frozenlist>=1.1.1 in /opt/homebrew/lib/python3.10/site-packages (from aiohttp<4.0.0,>=3.8.3->langchain) (1.3.3)\n",
      "Requirement already satisfied: aiosignal>=1.1.2 in /opt/homebrew/lib/python3.10/site-packages (from aiohttp<4.0.0,>=3.8.3->langchain) (1.3.1)\n",
      "Requirement already satisfied: marshmallow<4.0.0,>=3.3.0 in /opt/homebrew/lib/python3.10/site-packages (from dataclasses-json<0.6.0,>=0.5.7->langchain) (3.19.0)\n",
      "Requirement already satisfied: marshmallow-enum<2.0.0,>=1.5.1 in /opt/homebrew/lib/python3.10/site-packages (from dataclasses-json<0.6.0,>=0.5.7->langchain) (1.5.1)\n",
      "Requirement already satisfied: typing-inspect>=0.4.0 in /opt/homebrew/lib/python3.10/site-packages (from dataclasses-json<0.6.0,>=0.5.7->langchain) (0.8.0)\n",
      "Requirement already satisfied: typing-extensions>=4.2.0 in /opt/homebrew/lib/python3.10/site-packages (from pydantic<2,>=1->langchain) (4.5.0)\n",
      "Requirement already satisfied: idna<4,>=2.5 in /opt/homebrew/lib/python3.10/site-packages (from requests<3,>=2->langchain) (3.4)\n",
      "Requirement already satisfied: urllib3<1.27,>=1.21.1 in /opt/homebrew/lib/python3.10/site-packages (from requests<3,>=2->langchain) (1.26.12)\n",
      "Requirement already satisfied: certifi>=2017.4.17 in /opt/homebrew/lib/python3.10/site-packages (from requests<3,>=2->langchain) (2022.9.24)\n",
      "Requirement already satisfied: packaging>=17.0 in /opt/homebrew/lib/python3.10/site-packages (from marshmallow<4.0.0,>=3.3.0->dataclasses-json<0.6.0,>=0.5.7->langchain) (21.3)\n",
      "Requirement already satisfied: mypy-extensions>=0.3.0 in /opt/homebrew/lib/python3.10/site-packages (from typing-inspect>=0.4.0->dataclasses-json<0.6.0,>=0.5.7->langchain) (1.0.0)\n",
      "Requirement already satisfied: pyparsing!=3.0.5,>=2.0.2 in /opt/homebrew/lib/python3.10/site-packages (from packaging>=17.0->marshmallow<4.0.0,>=3.3.0->dataclasses-json<0.6.0,>=0.5.7->langchain) (3.0.9)\n",
      "Note: you may need to restart the kernel to use updated packages.\n",
      "Requirement already satisfied: VertexAI in /opt/homebrew/lib/python3.10/site-packages (0.0.1)\n",
      "Note: you may need to restart the kernel to use updated packages.\n",
      "Requirement already satisfied: google-search-results in /opt/homebrew/lib/python3.10/site-packages (2.4.2)\n",
      "Requirement already satisfied: requests in /opt/homebrew/lib/python3.10/site-packages (from google-search-results) (2.28.2)\n",
      "Requirement already satisfied: charset-normalizer<4,>=2 in /opt/homebrew/lib/python3.10/site-packages (from requests->google-search-results) (2.1.1)\n",
      "Requirement already satisfied: idna<4,>=2.5 in /opt/homebrew/lib/python3.10/site-packages (from requests->google-search-results) (3.4)\n",
      "Requirement already satisfied: urllib3<1.27,>=1.21.1 in /opt/homebrew/lib/python3.10/site-packages (from requests->google-search-results) (1.26.12)\n",
      "Requirement already satisfied: certifi>=2017.4.17 in /opt/homebrew/lib/python3.10/site-packages (from requests->google-search-results) (2022.9.24)\n",
      "Note: you may need to restart the kernel to use updated packages.\n",
      "Requirement already satisfied: google-cloud-secret-manager==2.16.1 in /opt/homebrew/lib/python3.10/site-packages (2.16.1)\n",
      "Requirement already satisfied: google-crc32c==1.5.0 in /opt/homebrew/lib/python3.10/site-packages (1.5.0)\n",
      "Requirement already satisfied: google-api-core[grpc]!=2.0.*,!=2.1.*,!=2.10.*,!=2.2.*,!=2.3.*,!=2.4.*,!=2.5.*,!=2.6.*,!=2.7.*,!=2.8.*,!=2.9.*,<3.0.0dev,>=1.34.0 in /opt/homebrew/lib/python3.10/site-packages (from google-cloud-secret-manager==2.16.1) (1.34.0)\n",
      "Requirement already satisfied: proto-plus<2.0.0dev,>=1.22.0 in /opt/homebrew/lib/python3.10/site-packages (from google-cloud-secret-manager==2.16.1) (1.22.1)\n",
      "Requirement already satisfied: protobuf!=3.20.0,!=3.20.1,!=4.21.0,!=4.21.1,!=4.21.2,!=4.21.3,!=4.21.4,!=4.21.5,<5.0.0dev,>=3.19.5 in /opt/homebrew/lib/python3.10/site-packages (from google-cloud-secret-manager==2.16.1) (3.20.3)\n",
      "Requirement already satisfied: grpc-google-iam-v1<1.0.0dev,>=0.12.4 in /opt/homebrew/lib/python3.10/site-packages (from google-cloud-secret-manager==2.16.1) (0.12.4)\n",
      "Requirement already satisfied: googleapis-common-protos<2.0dev,>=1.56.2 in /opt/homebrew/lib/python3.10/site-packages (from google-api-core[grpc]!=2.0.*,!=2.1.*,!=2.10.*,!=2.2.*,!=2.3.*,!=2.4.*,!=2.5.*,!=2.6.*,!=2.7.*,!=2.8.*,!=2.9.*,<3.0.0dev,>=1.34.0->google-cloud-secret-manager==2.16.1) (1.57.0)\n",
      "Requirement already satisfied: google-auth<3.0dev,>=1.25.0 in /opt/homebrew/lib/python3.10/site-packages (from google-api-core[grpc]!=2.0.*,!=2.1.*,!=2.10.*,!=2.2.*,!=2.3.*,!=2.4.*,!=2.5.*,!=2.6.*,!=2.7.*,!=2.8.*,!=2.9.*,<3.0.0dev,>=1.34.0->google-cloud-secret-manager==2.16.1) (2.15.0)\n",
      "Requirement already satisfied: requests<3.0.0dev,>=2.18.0 in /opt/homebrew/lib/python3.10/site-packages (from google-api-core[grpc]!=2.0.*,!=2.1.*,!=2.10.*,!=2.2.*,!=2.3.*,!=2.4.*,!=2.5.*,!=2.6.*,!=2.7.*,!=2.8.*,!=2.9.*,<3.0.0dev,>=1.34.0->google-cloud-secret-manager==2.16.1) (2.28.2)\n",
      "Requirement already satisfied: grpcio<2.0dev,>=1.33.2 in /opt/homebrew/lib/python3.10/site-packages (from google-api-core[grpc]!=2.0.*,!=2.1.*,!=2.10.*,!=2.2.*,!=2.3.*,!=2.4.*,!=2.5.*,!=2.6.*,!=2.7.*,!=2.8.*,!=2.9.*,<3.0.0dev,>=1.34.0->google-cloud-secret-manager==2.16.1) (1.51.1)\n",
      "Requirement already satisfied: grpcio-status<2.0dev,>=1.33.2 in /opt/homebrew/lib/python3.10/site-packages (from google-api-core[grpc]!=2.0.*,!=2.1.*,!=2.10.*,!=2.2.*,!=2.3.*,!=2.4.*,!=2.5.*,!=2.6.*,!=2.7.*,!=2.8.*,!=2.9.*,<3.0.0dev,>=1.34.0->google-cloud-secret-manager==2.16.1) (1.48.2)\n",
      "Requirement already satisfied: cachetools<6.0,>=2.0.0 in /opt/homebrew/lib/python3.10/site-packages (from google-auth<3.0dev,>=1.25.0->google-api-core[grpc]!=2.0.*,!=2.1.*,!=2.10.*,!=2.2.*,!=2.3.*,!=2.4.*,!=2.5.*,!=2.6.*,!=2.7.*,!=2.8.*,!=2.9.*,<3.0.0dev,>=1.34.0->google-cloud-secret-manager==2.16.1) (5.2.0)\n",
      "Requirement already satisfied: pyasn1-modules>=0.2.1 in /opt/homebrew/lib/python3.10/site-packages (from google-auth<3.0dev,>=1.25.0->google-api-core[grpc]!=2.0.*,!=2.1.*,!=2.10.*,!=2.2.*,!=2.3.*,!=2.4.*,!=2.5.*,!=2.6.*,!=2.7.*,!=2.8.*,!=2.9.*,<3.0.0dev,>=1.34.0->google-cloud-secret-manager==2.16.1) (0.2.8)\n",
      "Requirement already satisfied: six>=1.9.0 in /opt/homebrew/lib/python3.10/site-packages (from google-auth<3.0dev,>=1.25.0->google-api-core[grpc]!=2.0.*,!=2.1.*,!=2.10.*,!=2.2.*,!=2.3.*,!=2.4.*,!=2.5.*,!=2.6.*,!=2.7.*,!=2.8.*,!=2.9.*,<3.0.0dev,>=1.34.0->google-cloud-secret-manager==2.16.1) (1.16.0)\n",
      "Requirement already satisfied: rsa<5,>=3.1.4 in /opt/homebrew/lib/python3.10/site-packages (from google-auth<3.0dev,>=1.25.0->google-api-core[grpc]!=2.0.*,!=2.1.*,!=2.10.*,!=2.2.*,!=2.3.*,!=2.4.*,!=2.5.*,!=2.6.*,!=2.7.*,!=2.8.*,!=2.9.*,<3.0.0dev,>=1.34.0->google-cloud-secret-manager==2.16.1) (4.9)\n",
      "Requirement already satisfied: charset-normalizer<4,>=2 in /opt/homebrew/lib/python3.10/site-packages (from requests<3.0.0dev,>=2.18.0->google-api-core[grpc]!=2.0.*,!=2.1.*,!=2.10.*,!=2.2.*,!=2.3.*,!=2.4.*,!=2.5.*,!=2.6.*,!=2.7.*,!=2.8.*,!=2.9.*,<3.0.0dev,>=1.34.0->google-cloud-secret-manager==2.16.1) (2.1.1)\n",
      "Requirement already satisfied: idna<4,>=2.5 in /opt/homebrew/lib/python3.10/site-packages (from requests<3.0.0dev,>=2.18.0->google-api-core[grpc]!=2.0.*,!=2.1.*,!=2.10.*,!=2.2.*,!=2.3.*,!=2.4.*,!=2.5.*,!=2.6.*,!=2.7.*,!=2.8.*,!=2.9.*,<3.0.0dev,>=1.34.0->google-cloud-secret-manager==2.16.1) (3.4)\n",
      "Requirement already satisfied: urllib3<1.27,>=1.21.1 in /opt/homebrew/lib/python3.10/site-packages (from requests<3.0.0dev,>=2.18.0->google-api-core[grpc]!=2.0.*,!=2.1.*,!=2.10.*,!=2.2.*,!=2.3.*,!=2.4.*,!=2.5.*,!=2.6.*,!=2.7.*,!=2.8.*,!=2.9.*,<3.0.0dev,>=1.34.0->google-cloud-secret-manager==2.16.1) (1.26.12)\n",
      "Requirement already satisfied: certifi>=2017.4.17 in /opt/homebrew/lib/python3.10/site-packages (from requests<3.0.0dev,>=2.18.0->google-api-core[grpc]!=2.0.*,!=2.1.*,!=2.10.*,!=2.2.*,!=2.3.*,!=2.4.*,!=2.5.*,!=2.6.*,!=2.7.*,!=2.8.*,!=2.9.*,<3.0.0dev,>=1.34.0->google-cloud-secret-manager==2.16.1) (2022.9.24)\n",
      "Requirement already satisfied: pyasn1<0.5.0,>=0.4.6 in /opt/homebrew/lib/python3.10/site-packages (from pyasn1-modules>=0.2.1->google-auth<3.0dev,>=1.25.0->google-api-core[grpc]!=2.0.*,!=2.1.*,!=2.10.*,!=2.2.*,!=2.3.*,!=2.4.*,!=2.5.*,!=2.6.*,!=2.7.*,!=2.8.*,!=2.9.*,<3.0.0dev,>=1.34.0->google-cloud-secret-manager==2.16.1) (0.4.8)\n",
      "Note: you may need to restart the kernel to use updated packages.\n",
      "Collecting wikipedia\n",
      "  Downloading wikipedia-1.4.0.tar.gz (27 kB)\n",
      "  Preparing metadata (setup.py) ... \u001b[?25ldone\n",
      "\u001b[?25hRequirement already satisfied: beautifulsoup4 in /opt/homebrew/lib/python3.10/site-packages (from wikipedia) (4.11.1)\n",
      "Requirement already satisfied: requests<3.0.0,>=2.0.0 in /opt/homebrew/lib/python3.10/site-packages (from wikipedia) (2.28.2)\n",
      "Requirement already satisfied: charset-normalizer<4,>=2 in /opt/homebrew/lib/python3.10/site-packages (from requests<3.0.0,>=2.0.0->wikipedia) (2.1.1)\n",
      "Requirement already satisfied: idna<4,>=2.5 in /opt/homebrew/lib/python3.10/site-packages (from requests<3.0.0,>=2.0.0->wikipedia) (3.4)\n",
      "Requirement already satisfied: urllib3<1.27,>=1.21.1 in /opt/homebrew/lib/python3.10/site-packages (from requests<3.0.0,>=2.0.0->wikipedia) (1.26.12)\n",
      "Requirement already satisfied: certifi>=2017.4.17 in /opt/homebrew/lib/python3.10/site-packages (from requests<3.0.0,>=2.0.0->wikipedia) (2022.9.24)\n",
      "Requirement already satisfied: soupsieve>1.2 in /opt/homebrew/lib/python3.10/site-packages (from beautifulsoup4->wikipedia) (2.3.2.post1)\n",
      "Building wheels for collected packages: wikipedia\n",
      "  Building wheel for wikipedia (setup.py) ... \u001b[?25ldone\n",
      "\u001b[?25h  Created wheel for wikipedia: filename=wikipedia-1.4.0-py3-none-any.whl size=11680 sha256=15df8e15730af145a9d31b9bd38926c3801343ebdf8808ad8bfa2e11d22c8bdc\n",
      "  Stored in directory: /Users/julienmiquel/Library/Caches/pip/wheels/5e/b6/c5/93f3dec388ae76edc830cb42901bb0232504dfc0df02fc50de\n",
      "Successfully built wikipedia\n",
      "Installing collected packages: wikipedia\n",
      "Successfully installed wikipedia-1.4.0\n",
      "Note: you may need to restart the kernel to use updated packages.\n"
     ]
    }
   ],
   "source": [
    "%pip install -U aim --upgrade\n",
    "%pip install -U langchain\n",
    "%pip install -U VertexAI\n",
    "%pip install -U google-search-results\n",
    "%pip install -U google-cloud-secret-manager==2.16.1 google-crc32c==1.5.0\n",
    "%pip install -U wikipedia"
   ]
  },
  {
   "cell_type": "code",
   "execution_count": 1,
   "id": "cb2f0766",
   "metadata": {},
   "outputs": [],
   "source": [
    "PROJECT_ID=\"ml-demo-384110\""
   ]
  },
  {
   "cell_type": "code",
   "execution_count": null,
   "id": "49260b71",
   "metadata": {},
   "outputs": [],
   "source": [
    "PROJECT_ID=!gcloud config get-value project\n",
    "\n",
    "print(f\"PROJECT_ID: {PROJECT_ID}\")"
   ]
  },
  {
   "cell_type": "code",
   "execution_count": 2,
   "id": "c970cda9",
   "metadata": {
    "id": "g4eTuajwfl6L"
   },
   "outputs": [],
   "source": [
    "import os\n",
    "from datetime import datetime\n",
    "\n",
    "from langchain.llms import VertexAI\n",
    "from langchain.callbacks import AimCallbackHandler, StdOutCallbackHandler"
   ]
  },
  {
   "attachments": {},
   "cell_type": "markdown",
   "id": "426ecf0d",
   "metadata": {},
   "source": []
  },
  {
   "cell_type": "code",
   "execution_count": 3,
   "id": "2037eba9",
   "metadata": {},
   "outputs": [
    {
     "name": "stdout",
     "output_type": "stream",
     "text": [
      "ml-demo-384110\n"
     ]
    }
   ],
   "source": [
    "from google.cloud import secretmanager\n",
    "import google_crc32c\n",
    "\n",
    "\n",
    "def access_secret_version(\n",
    "    project_id: str, secret_id: str, version_id: str\n",
    ") -> str:\n",
    "    \"\"\"\n",
    "    Access the payload for the given secret version if one exists. The version\n",
    "    can be a version number as a string (e.g. \"5\") or an alias (e.g. \"latest\").\n",
    "    \"\"\"\n",
    "    VERBOSE = False\n",
    "    \n",
    "    # Import the Secret Manager client library.\n",
    "    from google.cloud import secretmanager\n",
    "\n",
    "    # Create the Secret Manager client.\n",
    "    client = secretmanager.SecretManagerServiceClient()\n",
    "\n",
    "    # Build the resource name of the secret version.\n",
    "    name = f\"projects/{project_id}/secrets/{secret_id}/versions/{version_id}\"\n",
    "\n",
    "    # Access the secret version.\n",
    "    response = client.access_secret_version(request={\"name\": name})\n",
    "\n",
    "    # Verify payload checksum.\n",
    "    crc32c = google_crc32c.Checksum()\n",
    "    crc32c.update(response.payload.data)\n",
    "    if response.payload.data_crc32c != int(crc32c.hexdigest(), 16):\n",
    "        print(\"Data corruption detected.\")\n",
    "        return response\n",
    "\n",
    "    # Print the secret payload.\n",
    "    #\n",
    "    # WARNING: Do not print the secret in a production environment - this\n",
    "    # snippet is showing how to access the secret material.\n",
    "    payload = response.payload.data.decode(\"UTF-8\")\n",
    "    if VERBOSE == True:\n",
    "        print(f\"Plaintext: {payload}\")\n",
    "    \n",
    "    return payload\n",
    "\n",
    "print(PROJECT_ID)\n",
    "\n",
    "CSE_ID = access_secret_version(PROJECT_ID, \"CSE_ID\", \"latest\")\n",
    "GOOGLE_API_KEY = access_secret_version(PROJECT_ID, \"GOOGLE_API_KEY\", \"latest\")\n"
   ]
  },
  {
   "cell_type": "code",
   "execution_count": 4,
   "id": "b2b1cfc2",
   "metadata": {
    "id": "T1bSmKd6V2If"
   },
   "outputs": [],
   "source": [
    "import os\n",
    "\n",
    "os.environ[\"GOOGLE_API_KEY\"]= GOOGLE_API_KEY\n",
    "os.environ[\"GPLACES_API_KEY\"] = GOOGLE_API_KEY\n",
    "os.environ[\"GOOGLE_CSE_ID\"] = CSE_ID"
   ]
  },
  {
   "attachments": {},
   "cell_type": "markdown",
   "id": "53070869",
   "metadata": {
    "id": "QenUYuBZjIzc"
   },
   "source": [
    "The event methods of `AimCallbackHandler` accept the LangChain module or agent as input and log at least the prompts and generated results, as well as the serialized version of the LangChain module, to the designated Aim run."
   ]
  },
  {
   "cell_type": "code",
   "execution_count": 5,
   "id": "3a30e90d",
   "metadata": {
    "id": "KAz8weWuUeXF"
   },
   "outputs": [],
   "source": [
    "session_group = datetime.now().strftime(\"%m.%d.%Y_%H.%M.%S\")\n",
    "aim_callback = AimCallbackHandler(\n",
    "    repo=\".\",\n",
    "    experiment_name=\"scenario 1:  LLM\",\n",
    ")\n",
    "\n",
    "callbacks = [StdOutCallbackHandler(), aim_callback]\n",
    "llm = VertexAI( callbacks=callbacks)"
   ]
  },
  {
   "attachments": {},
   "cell_type": "markdown",
   "id": "1f591582",
   "metadata": {
    "id": "b8WfByB4fl6N"
   },
   "source": [
    "The `flush_tracker` function is used to record LangChain assets on Aim. By default, the session is reset rather than being terminated outright."
   ]
  },
  {
   "attachments": {},
   "cell_type": "markdown",
   "id": "8a425743",
   "metadata": {},
   "source": [
    "<h3>Scenario 1</h3> In the first scenario, we will use VertexAI LLM."
   ]
  },
  {
   "cell_type": "code",
   "execution_count": null,
   "id": "795cda48",
   "metadata": {
    "id": "o_VmneyIUyx8"
   },
   "outputs": [],
   "source": []
  },
  {
   "attachments": {},
   "cell_type": "markdown",
   "id": "f18e2d10",
   "metadata": {},
   "source": [
    "<h3>Scenario 2</h3> The third scenario involves an agent with tools."
   ]
  },
  {
   "cell_type": "code",
   "execution_count": 26,
   "id": "9de08db4",
   "metadata": {
    "id": "_jN73xcPVEpI"
   },
   "outputs": [],
   "source": [
    "from langchain.agents import initialize_agent, load_tools\n",
    "from langchain.agents import AgentType"
   ]
  },
  {
   "cell_type": "code",
   "execution_count": null,
   "id": "a23a8c23-6eed-48c3-b90d-ccda4b339dde",
   "metadata": {},
   "outputs": [],
   "source": [
    "from langchain.tools import GooglePlacesTool\n",
    "\n",
    "places = GooglePlacesTool()"
   ]
  },
  {
   "cell_type": "code",
   "execution_count": null,
   "id": "0992df94",
   "metadata": {
    "colab": {
     "base_uri": "https://localhost:8080/"
    },
    "id": "Gpq4rk6VT9cu",
    "outputId": "68ae261e-d0a2-4229-83c4-762562263b66"
   },
   "outputs": [],
   "source": []
  },
  {
   "cell_type": "code",
   "execution_count": null,
   "id": "ba2ef183-dfd8-49bd-99dc-8282cf2f8c05",
   "metadata": {},
   "outputs": [],
   "source": [
    "%pip install llama_index"
   ]
  },
  {
   "cell_type": "code",
   "execution_count": null,
   "id": "835cb461-c29d-4894-a4c8-07e60f10d1ac",
   "metadata": {},
   "outputs": [],
   "source": [
    "from llama_index import download_loader\n",
    "\n",
    "GoogleCalendarReader = download_loader('GoogleCalendarReader')\n",
    "\n",
    "loader = GoogleCalendarReader()\n",
    "documents = loader.load_data()"
   ]
  },
  {
   "cell_type": "code",
   "execution_count": 8,
   "id": "ef1c52fb-6ca9-4537-8a69-3a901631cd50",
   "metadata": {},
   "outputs": [
    {
     "name": "stdout",
     "output_type": "stream",
     "text": [
      "Please visit this URL to authorize this application: https://accounts.google.com/o/oauth2/auth?response_type=code&client_id=1008225662928-qione7umqccts4i3r7rdiph8nksjh17k.apps.googleusercontent.com&redirect_uri=http%3A%2F%2Flocalhost%3A51289%2F&scope=https%3A%2F%2Fwww.googleapis.com%2Fauth%2Fcalendar.readonly&state=TUvFxegOpIhbnPBHEyvEKlm4uAigsT&access_type=offline\n"
     ]
    },
    {
     "ename": "KeyboardInterrupt",
     "evalue": "",
     "output_type": "error",
     "traceback": [
      "\u001b[0;31m---------------------------------------------------------------------------\u001b[0m",
      "\u001b[0;31mKeyboardInterrupt\u001b[0m                         Traceback (most recent call last)",
      "\u001b[1;32m/Users/julienmiquel/dev/github-genAI/genAI/langchain/langchain-google-calendar.ipynb Cell 22\u001b[0m in \u001b[0;36m6\n\u001b[1;32m      <a href='vscode-notebook-cell:/Users/julienmiquel/dev/github-genAI/genAI/langchain/langchain-google-calendar.ipynb#X30sZmlsZQ%3D%3D?line=2'>3</a>\u001b[0m GoogleCalendarReader \u001b[39m=\u001b[39m download_loader(\u001b[39m'\u001b[39m\u001b[39mGoogleCalendarReader\u001b[39m\u001b[39m'\u001b[39m)\n\u001b[1;32m      <a href='vscode-notebook-cell:/Users/julienmiquel/dev/github-genAI/genAI/langchain/langchain-google-calendar.ipynb#X30sZmlsZQ%3D%3D?line=4'>5</a>\u001b[0m loader \u001b[39m=\u001b[39m GoogleCalendarReader()\n\u001b[0;32m----> <a href='vscode-notebook-cell:/Users/julienmiquel/dev/github-genAI/genAI/langchain/langchain-google-calendar.ipynb#X30sZmlsZQ%3D%3D?line=5'>6</a>\u001b[0m documents \u001b[39m=\u001b[39m loader\u001b[39m.\u001b[39;49mload_data()\n\u001b[1;32m      <a href='vscode-notebook-cell:/Users/julienmiquel/dev/github-genAI/genAI/langchain/langchain-google-calendar.ipynb#X30sZmlsZQ%3D%3D?line=6'>7</a>\u001b[0m index \u001b[39m=\u001b[39m GPTVectorStoreIndex\u001b[39m.\u001b[39mfrom_documents(documents)\n\u001b[1;32m      <a href='vscode-notebook-cell:/Users/julienmiquel/dev/github-genAI/genAI/langchain/langchain-google-calendar.ipynb#X30sZmlsZQ%3D%3D?line=7'>8</a>\u001b[0m index\u001b[39m.\u001b[39mquery(\u001b[39m'\u001b[39m\u001b[39mWhen am I meeting Gordon?\u001b[39m\u001b[39m'\u001b[39m)\n",
      "File \u001b[0;32m/opt/homebrew/lib/python3.10/site-packages/llama_index/readers/llamahub_modules/google_calendar/base.py:49\u001b[0m, in \u001b[0;36mGoogleCalendarReader.load_data\u001b[0;34m(self, number_of_results, start_date)\u001b[0m\n\u001b[1;32m     40\u001b[0m \u001b[39m\u001b[39m\u001b[39m\"\"\"Load data from user's calendar.\u001b[39;00m\n\u001b[1;32m     41\u001b[0m \n\u001b[1;32m     42\u001b[0m \u001b[39mArgs:\u001b[39;00m\n\u001b[1;32m     43\u001b[0m \u001b[39m    number_of_results (Optional[int]): the number of events to return. Defaults to 100.\u001b[39;00m\n\u001b[1;32m     44\u001b[0m \u001b[39m    start_date (Optional[Union[str, datetime.date]]): the start date to return events from. Defaults to today.\u001b[39;00m\n\u001b[1;32m     45\u001b[0m \u001b[39m\"\"\"\u001b[39;00m\n\u001b[1;32m     47\u001b[0m \u001b[39mfrom\u001b[39;00m \u001b[39mgoogleapiclient\u001b[39;00m\u001b[39m.\u001b[39;00m\u001b[39mdiscovery\u001b[39;00m \u001b[39mimport\u001b[39;00m build\n\u001b[0;32m---> 49\u001b[0m credentials \u001b[39m=\u001b[39m \u001b[39mself\u001b[39;49m\u001b[39m.\u001b[39;49m_get_credentials()\n\u001b[1;32m     50\u001b[0m service \u001b[39m=\u001b[39m build(\u001b[39m\"\u001b[39m\u001b[39mcalendar\u001b[39m\u001b[39m\"\u001b[39m, \u001b[39m\"\u001b[39m\u001b[39mv3\u001b[39m\u001b[39m\"\u001b[39m, credentials\u001b[39m=\u001b[39mcredentials)\n\u001b[1;32m     52\u001b[0m \u001b[39mif\u001b[39;00m start_date \u001b[39mis\u001b[39;00m \u001b[39mNone\u001b[39;00m:\n",
      "File \u001b[0;32m/opt/homebrew/lib/python3.10/site-packages/llama_index/readers/llamahub_modules/google_calendar/base.py:131\u001b[0m, in \u001b[0;36mGoogleCalendarReader._get_credentials\u001b[0;34m(self)\u001b[0m\n\u001b[1;32m    127\u001b[0m \u001b[39melse\u001b[39;00m:\n\u001b[1;32m    128\u001b[0m     flow \u001b[39m=\u001b[39m InstalledAppFlow\u001b[39m.\u001b[39mfrom_client_secrets_file(\n\u001b[1;32m    129\u001b[0m         \u001b[39m\"\u001b[39m\u001b[39mcredentials.json\u001b[39m\u001b[39m\"\u001b[39m, SCOPES\n\u001b[1;32m    130\u001b[0m     )\n\u001b[0;32m--> 131\u001b[0m     creds \u001b[39m=\u001b[39m flow\u001b[39m.\u001b[39;49mrun_local_server(port\u001b[39m=\u001b[39;49m\u001b[39m0\u001b[39;49m)\n\u001b[1;32m    132\u001b[0m \u001b[39m# Save the credentials for the next run\u001b[39;00m\n\u001b[1;32m    133\u001b[0m \u001b[39mwith\u001b[39;00m \u001b[39mopen\u001b[39m(\u001b[39m\"\u001b[39m\u001b[39mtoken.json\u001b[39m\u001b[39m\"\u001b[39m, \u001b[39m\"\u001b[39m\u001b[39mw\u001b[39m\u001b[39m\"\u001b[39m) \u001b[39mas\u001b[39;00m token:\n",
      "File \u001b[0;32m/opt/homebrew/lib/python3.10/site-packages/google_auth_oauthlib/flow.py:512\u001b[0m, in \u001b[0;36mInstalledAppFlow.run_local_server\u001b[0;34m(self, host, bind_addr, port, authorization_prompt_message, success_message, open_browser, redirect_uri_trailing_slash, timeout_seconds, **kwargs)\u001b[0m\n\u001b[1;32m    509\u001b[0m \u001b[39mprint\u001b[39m(authorization_prompt_message\u001b[39m.\u001b[39mformat(url\u001b[39m=\u001b[39mauth_url))\n\u001b[1;32m    511\u001b[0m local_server\u001b[39m.\u001b[39mtimeout \u001b[39m=\u001b[39m timeout_seconds\n\u001b[0;32m--> 512\u001b[0m local_server\u001b[39m.\u001b[39;49mhandle_request()\n\u001b[1;32m    514\u001b[0m \u001b[39m# Note: using https here because oauthlib is very picky that\u001b[39;00m\n\u001b[1;32m    515\u001b[0m \u001b[39m# OAuth 2.0 should only occur over https.\u001b[39;00m\n\u001b[1;32m    516\u001b[0m authorization_response \u001b[39m=\u001b[39m wsgi_app\u001b[39m.\u001b[39mlast_request_uri\u001b[39m.\u001b[39mreplace(\u001b[39m\"\u001b[39m\u001b[39mhttp\u001b[39m\u001b[39m\"\u001b[39m, \u001b[39m\"\u001b[39m\u001b[39mhttps\u001b[39m\u001b[39m\"\u001b[39m)\n",
      "File \u001b[0;32m/opt/homebrew/Cellar/python@3.10/3.10.8/Frameworks/Python.framework/Versions/3.10/lib/python3.10/socketserver.py:294\u001b[0m, in \u001b[0;36mBaseServer.handle_request\u001b[0;34m(self)\u001b[0m\n\u001b[1;32m    291\u001b[0m selector\u001b[39m.\u001b[39mregister(\u001b[39mself\u001b[39m, selectors\u001b[39m.\u001b[39mEVENT_READ)\n\u001b[1;32m    293\u001b[0m \u001b[39mwhile\u001b[39;00m \u001b[39mTrue\u001b[39;00m:\n\u001b[0;32m--> 294\u001b[0m     ready \u001b[39m=\u001b[39m selector\u001b[39m.\u001b[39;49mselect(timeout)\n\u001b[1;32m    295\u001b[0m     \u001b[39mif\u001b[39;00m ready:\n\u001b[1;32m    296\u001b[0m         \u001b[39mreturn\u001b[39;00m \u001b[39mself\u001b[39m\u001b[39m.\u001b[39m_handle_request_noblock()\n",
      "File \u001b[0;32m/opt/homebrew/Cellar/python@3.10/3.10.8/Frameworks/Python.framework/Versions/3.10/lib/python3.10/selectors.py:416\u001b[0m, in \u001b[0;36m_PollLikeSelector.select\u001b[0;34m(self, timeout)\u001b[0m\n\u001b[1;32m    414\u001b[0m ready \u001b[39m=\u001b[39m []\n\u001b[1;32m    415\u001b[0m \u001b[39mtry\u001b[39;00m:\n\u001b[0;32m--> 416\u001b[0m     fd_event_list \u001b[39m=\u001b[39m \u001b[39mself\u001b[39;49m\u001b[39m.\u001b[39;49m_selector\u001b[39m.\u001b[39;49mpoll(timeout)\n\u001b[1;32m    417\u001b[0m \u001b[39mexcept\u001b[39;00m \u001b[39mInterruptedError\u001b[39;00m:\n\u001b[1;32m    418\u001b[0m     \u001b[39mreturn\u001b[39;00m ready\n",
      "\u001b[0;31mKeyboardInterrupt\u001b[0m: "
     ]
    }
   ],
   "source": [
    "from llama_index import GPTVectorStoreIndex, download_loader\n",
    "\n",
    "GoogleCalendarReader = download_loader('GoogleCalendarReader')\n",
    "\n",
    "loader = GoogleCalendarReader()\n",
    "documents = loader.load_data()\n",
    "index = GPTVectorStoreIndex.from_documents(documents)\n",
    "index.query('When am I meeting Gordon?')"
   ]
  },
  {
   "cell_type": "code",
   "execution_count": 9,
   "id": "2bb8e7ad",
   "metadata": {},
   "outputs": [
    {
     "name": "stdout",
     "output_type": "stream",
     "text": [
      "Please visit this URL to authorize this application: https://accounts.google.com/o/oauth2/auth?response_type=code&client_id=1008225662928-qione7umqccts4i3r7rdiph8nksjh17k.apps.googleusercontent.com&redirect_uri=http%3A%2F%2Flocalhost%3A51320%2F&scope=https%3A%2F%2Fwww.googleapis.com%2Fauth%2Fcalendar.readonly&state=8CoxfDHJOJoe0uCvMTP3MarXO6hfEa&access_type=offline\n"
     ]
    },
    {
     "ename": "KeyboardInterrupt",
     "evalue": "",
     "output_type": "error",
     "traceback": [
      "\u001b[0;31m---------------------------------------------------------------------------\u001b[0m",
      "\u001b[0;31mKeyboardInterrupt\u001b[0m                         Traceback (most recent call last)",
      "\u001b[1;32m/Users/julienmiquel/dev/github-genAI/genAI/langchain/langchain-google-calendar.ipynb Cell 23\u001b[0m in \u001b[0;36m1\n\u001b[1;32m    <a href='vscode-notebook-cell:/Users/julienmiquel/dev/github-genAI/genAI/langchain/langchain-google-calendar.ipynb#X31sZmlsZQ%3D%3D?line=133'>134</a>\u001b[0m \u001b[39mif\u001b[39;00m \u001b[39m__name__\u001b[39m \u001b[39m==\u001b[39m \u001b[39m\"\u001b[39m\u001b[39m__main__\u001b[39m\u001b[39m\"\u001b[39m:\n\u001b[1;32m    <a href='vscode-notebook-cell:/Users/julienmiquel/dev/github-genAI/genAI/langchain/langchain-google-calendar.ipynb#X31sZmlsZQ%3D%3D?line=134'>135</a>\u001b[0m     reader \u001b[39m=\u001b[39m GoogleCalendarReader()\n\u001b[0;32m--> <a href='vscode-notebook-cell:/Users/julienmiquel/dev/github-genAI/genAI/langchain/langchain-google-calendar.ipynb#X31sZmlsZQ%3D%3D?line=135'>136</a>\u001b[0m     \u001b[39mprint\u001b[39m(reader\u001b[39m.\u001b[39;49mload_data())\n",
      "\u001b[1;32m/Users/julienmiquel/dev/github-genAI/genAI/langchain/langchain-google-calendar.ipynb Cell 23\u001b[0m in \u001b[0;36m4\n\u001b[1;32m     <a href='vscode-notebook-cell:/Users/julienmiquel/dev/github-genAI/genAI/langchain/langchain-google-calendar.ipynb#X31sZmlsZQ%3D%3D?line=37'>38</a>\u001b[0m \u001b[39m\u001b[39m\u001b[39m\"\"\"Load data from user's calendar.\u001b[39;00m\n\u001b[1;32m     <a href='vscode-notebook-cell:/Users/julienmiquel/dev/github-genAI/genAI/langchain/langchain-google-calendar.ipynb#X31sZmlsZQ%3D%3D?line=38'>39</a>\u001b[0m \u001b[39mArgs:\u001b[39;00m\n\u001b[1;32m     <a href='vscode-notebook-cell:/Users/julienmiquel/dev/github-genAI/genAI/langchain/langchain-google-calendar.ipynb#X31sZmlsZQ%3D%3D?line=39'>40</a>\u001b[0m \u001b[39m    number_of_results (Optional[int]): the number of events to return. Defaults to 100.\u001b[39;00m\n\u001b[1;32m     <a href='vscode-notebook-cell:/Users/julienmiquel/dev/github-genAI/genAI/langchain/langchain-google-calendar.ipynb#X31sZmlsZQ%3D%3D?line=40'>41</a>\u001b[0m \u001b[39m    start_date (Optional[Union[str, datetime.date]]): the start date to return events from. Defaults to today.\u001b[39;00m\n\u001b[1;32m     <a href='vscode-notebook-cell:/Users/julienmiquel/dev/github-genAI/genAI/langchain/langchain-google-calendar.ipynb#X31sZmlsZQ%3D%3D?line=41'>42</a>\u001b[0m \u001b[39m\"\"\"\u001b[39;00m\n\u001b[1;32m     <a href='vscode-notebook-cell:/Users/julienmiquel/dev/github-genAI/genAI/langchain/langchain-google-calendar.ipynb#X31sZmlsZQ%3D%3D?line=43'>44</a>\u001b[0m \u001b[39mfrom\u001b[39;00m \u001b[39mgoogleapiclient\u001b[39;00m\u001b[39m.\u001b[39;00m\u001b[39mdiscovery\u001b[39;00m \u001b[39mimport\u001b[39;00m build\n\u001b[0;32m---> <a href='vscode-notebook-cell:/Users/julienmiquel/dev/github-genAI/genAI/langchain/langchain-google-calendar.ipynb#X31sZmlsZQ%3D%3D?line=45'>46</a>\u001b[0m credentials \u001b[39m=\u001b[39m \u001b[39mself\u001b[39;49m\u001b[39m.\u001b[39;49m_get_credentials()\n\u001b[1;32m     <a href='vscode-notebook-cell:/Users/julienmiquel/dev/github-genAI/genAI/langchain/langchain-google-calendar.ipynb#X31sZmlsZQ%3D%3D?line=46'>47</a>\u001b[0m service \u001b[39m=\u001b[39m build(\u001b[39m\"\u001b[39m\u001b[39mcalendar\u001b[39m\u001b[39m\"\u001b[39m, \u001b[39m\"\u001b[39m\u001b[39mv3\u001b[39m\u001b[39m\"\u001b[39m, credentials\u001b[39m=\u001b[39mcredentials)\n\u001b[1;32m     <a href='vscode-notebook-cell:/Users/julienmiquel/dev/github-genAI/genAI/langchain/langchain-google-calendar.ipynb#X31sZmlsZQ%3D%3D?line=48'>49</a>\u001b[0m \u001b[39mif\u001b[39;00m start_date \u001b[39mis\u001b[39;00m \u001b[39mNone\u001b[39;00m:\n",
      "\u001b[1;32m/Users/julienmiquel/dev/github-genAI/genAI/langchain/langchain-google-calendar.ipynb Cell 23\u001b[0m in \u001b[0;36m1\n\u001b[1;32m    <a href='vscode-notebook-cell:/Users/julienmiquel/dev/github-genAI/genAI/langchain/langchain-google-calendar.ipynb#X31sZmlsZQ%3D%3D?line=121'>122</a>\u001b[0m \u001b[39melse\u001b[39;00m:\n\u001b[1;32m    <a href='vscode-notebook-cell:/Users/julienmiquel/dev/github-genAI/genAI/langchain/langchain-google-calendar.ipynb#X31sZmlsZQ%3D%3D?line=122'>123</a>\u001b[0m     flow \u001b[39m=\u001b[39m InstalledAppFlow\u001b[39m.\u001b[39mfrom_client_secrets_file(\n\u001b[1;32m    <a href='vscode-notebook-cell:/Users/julienmiquel/dev/github-genAI/genAI/langchain/langchain-google-calendar.ipynb#X31sZmlsZQ%3D%3D?line=123'>124</a>\u001b[0m         \u001b[39m\"\u001b[39m\u001b[39mcredentials.json\u001b[39m\u001b[39m\"\u001b[39m, SCOPES\n\u001b[1;32m    <a href='vscode-notebook-cell:/Users/julienmiquel/dev/github-genAI/genAI/langchain/langchain-google-calendar.ipynb#X31sZmlsZQ%3D%3D?line=124'>125</a>\u001b[0m     )\n\u001b[0;32m--> <a href='vscode-notebook-cell:/Users/julienmiquel/dev/github-genAI/genAI/langchain/langchain-google-calendar.ipynb#X31sZmlsZQ%3D%3D?line=125'>126</a>\u001b[0m     creds \u001b[39m=\u001b[39m flow\u001b[39m.\u001b[39;49mrun_local_server(port\u001b[39m=\u001b[39;49m\u001b[39m0\u001b[39;49m)\n\u001b[1;32m    <a href='vscode-notebook-cell:/Users/julienmiquel/dev/github-genAI/genAI/langchain/langchain-google-calendar.ipynb#X31sZmlsZQ%3D%3D?line=126'>127</a>\u001b[0m \u001b[39m# Save the credentials for the next run\u001b[39;00m\n\u001b[1;32m    <a href='vscode-notebook-cell:/Users/julienmiquel/dev/github-genAI/genAI/langchain/langchain-google-calendar.ipynb#X31sZmlsZQ%3D%3D?line=127'>128</a>\u001b[0m \u001b[39mwith\u001b[39;00m \u001b[39mopen\u001b[39m(\u001b[39m\"\u001b[39m\u001b[39mtoken.json\u001b[39m\u001b[39m\"\u001b[39m, \u001b[39m\"\u001b[39m\u001b[39mw\u001b[39m\u001b[39m\"\u001b[39m) \u001b[39mas\u001b[39;00m token:\n",
      "File \u001b[0;32m/opt/homebrew/lib/python3.10/site-packages/google_auth_oauthlib/flow.py:512\u001b[0m, in \u001b[0;36mInstalledAppFlow.run_local_server\u001b[0;34m(self, host, bind_addr, port, authorization_prompt_message, success_message, open_browser, redirect_uri_trailing_slash, timeout_seconds, **kwargs)\u001b[0m\n\u001b[1;32m    509\u001b[0m \u001b[39mprint\u001b[39m(authorization_prompt_message\u001b[39m.\u001b[39mformat(url\u001b[39m=\u001b[39mauth_url))\n\u001b[1;32m    511\u001b[0m local_server\u001b[39m.\u001b[39mtimeout \u001b[39m=\u001b[39m timeout_seconds\n\u001b[0;32m--> 512\u001b[0m local_server\u001b[39m.\u001b[39;49mhandle_request()\n\u001b[1;32m    514\u001b[0m \u001b[39m# Note: using https here because oauthlib is very picky that\u001b[39;00m\n\u001b[1;32m    515\u001b[0m \u001b[39m# OAuth 2.0 should only occur over https.\u001b[39;00m\n\u001b[1;32m    516\u001b[0m authorization_response \u001b[39m=\u001b[39m wsgi_app\u001b[39m.\u001b[39mlast_request_uri\u001b[39m.\u001b[39mreplace(\u001b[39m\"\u001b[39m\u001b[39mhttp\u001b[39m\u001b[39m\"\u001b[39m, \u001b[39m\"\u001b[39m\u001b[39mhttps\u001b[39m\u001b[39m\"\u001b[39m)\n",
      "File \u001b[0;32m/opt/homebrew/Cellar/python@3.10/3.10.8/Frameworks/Python.framework/Versions/3.10/lib/python3.10/socketserver.py:294\u001b[0m, in \u001b[0;36mBaseServer.handle_request\u001b[0;34m(self)\u001b[0m\n\u001b[1;32m    291\u001b[0m selector\u001b[39m.\u001b[39mregister(\u001b[39mself\u001b[39m, selectors\u001b[39m.\u001b[39mEVENT_READ)\n\u001b[1;32m    293\u001b[0m \u001b[39mwhile\u001b[39;00m \u001b[39mTrue\u001b[39;00m:\n\u001b[0;32m--> 294\u001b[0m     ready \u001b[39m=\u001b[39m selector\u001b[39m.\u001b[39;49mselect(timeout)\n\u001b[1;32m    295\u001b[0m     \u001b[39mif\u001b[39;00m ready:\n\u001b[1;32m    296\u001b[0m         \u001b[39mreturn\u001b[39;00m \u001b[39mself\u001b[39m\u001b[39m.\u001b[39m_handle_request_noblock()\n",
      "File \u001b[0;32m/opt/homebrew/Cellar/python@3.10/3.10.8/Frameworks/Python.framework/Versions/3.10/lib/python3.10/selectors.py:416\u001b[0m, in \u001b[0;36m_PollLikeSelector.select\u001b[0;34m(self, timeout)\u001b[0m\n\u001b[1;32m    414\u001b[0m ready \u001b[39m=\u001b[39m []\n\u001b[1;32m    415\u001b[0m \u001b[39mtry\u001b[39;00m:\n\u001b[0;32m--> 416\u001b[0m     fd_event_list \u001b[39m=\u001b[39m \u001b[39mself\u001b[39;49m\u001b[39m.\u001b[39;49m_selector\u001b[39m.\u001b[39;49mpoll(timeout)\n\u001b[1;32m    417\u001b[0m \u001b[39mexcept\u001b[39;00m \u001b[39mInterruptedError\u001b[39;00m:\n\u001b[1;32m    418\u001b[0m     \u001b[39mreturn\u001b[39;00m ready\n",
      "\u001b[0;31mKeyboardInterrupt\u001b[0m: "
     ]
    }
   ],
   "source": [
    "\"\"\"Google Calendar reader.\"\"\"\n",
    "\n",
    "import datetime\n",
    "import os\n",
    "from typing import Any, List, Optional, Union\n",
    "\n",
    "from llama_index.readers.base import BaseReader\n",
    "from llama_index.readers.schema.base import Document\n",
    "\n",
    "SCOPES = [\"https://www.googleapis.com/auth/calendar.readonly\"]\n",
    "\n",
    "# Copyright 2018 Google LLC\n",
    "#\n",
    "# Licensed under the Apache License, Version 2.0 (the \"License\");\n",
    "# you may not use this file except in compliance with the License.\n",
    "# You may obtain a copy of the License at\n",
    "#\n",
    "#     http://www.apache.org/licenses/LICENSE-2.0\n",
    "#\n",
    "# Unless required by applicable law or agreed to in writing, software\n",
    "# distributed under the License is distributed on an \"AS IS\" BASIS,\n",
    "# WITHOUT WARRANTIES OR CONDITIONS OF ANY KIND, either express or implied.\n",
    "# See the License for the specific language governing permissions and\n",
    "# limitations under the License.\n",
    "\n",
    "\n",
    "class GoogleCalendarReader(BaseReader):\n",
    "    \"\"\"Google Calendar reader.\n",
    "    Reads events from Google Calendar\n",
    "    \"\"\"\n",
    "\n",
    "    def load_data(\n",
    "        self,\n",
    "        number_of_results: Optional[int] = 100,\n",
    "        start_date: Optional[Union[str, datetime.date]] = None,\n",
    "    ) -> List[Document]:\n",
    "\n",
    "        \"\"\"Load data from user's calendar.\n",
    "        Args:\n",
    "            number_of_results (Optional[int]): the number of events to return. Defaults to 100.\n",
    "            start_date (Optional[Union[str, datetime.date]]): the start date to return events from. Defaults to today.\n",
    "        \"\"\"\n",
    "\n",
    "        from googleapiclient.discovery import build\n",
    "\n",
    "        credentials = self._get_credentials()\n",
    "        service = build(\"calendar\", \"v3\", credentials=credentials)\n",
    "\n",
    "        if start_date is None:\n",
    "            start_date = datetime.date.today()\n",
    "        elif isinstance(start_date, str):\n",
    "            start_date = datetime.date.fromisoformat(start_date)\n",
    "\n",
    "        start_datetime = datetime.datetime.combine(start_date, datetime.time.min)\n",
    "        start_datetime_utc = start_datetime.strftime(\"%Y-%m-%dT%H:%M:%S.%fZ\")\n",
    "\n",
    "        events_result = (\n",
    "            service.events()\n",
    "            .list(\n",
    "                calendarId=\"primary\",\n",
    "                timeMin=start_datetime_utc,\n",
    "                maxResults=number_of_results,\n",
    "                singleEvents=True,\n",
    "                orderBy=\"startTime\",\n",
    "            )\n",
    "            .execute()\n",
    "        )\n",
    "\n",
    "        events = events_result.get(\"items\", [])\n",
    "\n",
    "        if not events:\n",
    "            return []\n",
    "\n",
    "        results = []\n",
    "        for event in events:\n",
    "            if \"dateTime\" in event[\"start\"]:\n",
    "                start_time = event[\"start\"][\"dateTime\"]\n",
    "            else:\n",
    "                start_time = event[\"start\"][\"date\"]\n",
    "\n",
    "            if \"dateTime\" in event[\"end\"]:\n",
    "                end_time = event[\"end\"][\"dateTime\"]\n",
    "            else:\n",
    "                end_time = event[\"end\"][\"date\"]\n",
    "\n",
    "            event_string = f\"Status: {event['status']}, \"\n",
    "            event_string += f\"Summary: {event['summary']}, \"\n",
    "            event_string += f\"Start time: {start_time}, \"\n",
    "            event_string += f\"End time: {end_time}, \"\n",
    "\n",
    "            organizer = event.get(\"organizer\", {})\n",
    "            display_name = organizer.get(\"displayName\", \"N/A\")\n",
    "            email = organizer.get(\"email\", \"N/A\")\n",
    "            if display_name != \"N/A\":\n",
    "                event_string += f\"Organizer: {display_name} ({email})\"\n",
    "            else:\n",
    "                event_string += f\"Organizer: {email}\"\n",
    "\n",
    "            results.append(Document(event_string))\n",
    "\n",
    "        return results\n",
    "\n",
    "    def _get_credentials(self) -> Any:\n",
    "        \"\"\"Get valid user credentials from storage.\n",
    "        The file token.json stores the user's access and refresh tokens, and is\n",
    "        created automatically when the authorization flow completes for the first\n",
    "        time.\n",
    "        Returns:\n",
    "            Credentials, the obtained credential.\n",
    "        \"\"\"\n",
    "        from google.auth.transport.requests import Request\n",
    "        from google.oauth2.credentials import Credentials\n",
    "        from google_auth_oauthlib.flow import InstalledAppFlow\n",
    "\n",
    "        creds = None\n",
    "        if os.path.exists(\"token.json\"):\n",
    "            creds = Credentials.from_authorized_user_file(\"token.json\", SCOPES)\n",
    "        # If there are no (valid) credentials available, let the user log in.\n",
    "        if not creds or not creds.valid:\n",
    "            if creds and creds.expired and creds.refresh_token:\n",
    "                creds.refresh(Request())\n",
    "            else:\n",
    "                flow = InstalledAppFlow.from_client_secrets_file(\n",
    "                    \"credentials.json\", SCOPES\n",
    "                )\n",
    "                creds = flow.run_local_server(port=0)\n",
    "            # Save the credentials for the next run\n",
    "            with open(\"token.json\", \"w\") as token:\n",
    "                token.write(creds.to_json())\n",
    "\n",
    "        return creds\n",
    "\n",
    "\n",
    "if __name__ == \"__main__\":\n",
    "    reader = GoogleCalendarReader()\n",
    "    print(reader.load_data())"
   ]
  },
  {
   "cell_type": "code",
   "execution_count": null,
   "id": "be147dd6",
   "metadata": {},
   "outputs": [],
   "source": []
  }
 ],
 "metadata": {
  "accelerator": "GPU",
  "colab": {
   "provenance": []
  },
  "environment": {
   "kernel": "python3",
   "name": "common-cpu.m108",
   "type": "gcloud",
   "uri": "gcr.io/deeplearning-platform-release/base-cpu:m108"
  },
  "gpuClass": "standard",
  "kernelspec": {
   "display_name": "Python 3",
   "language": "python",
   "name": "python3"
  },
  "language_info": {
   "codemirror_mode": {
    "name": "ipython",
    "version": 3
   },
   "file_extension": ".py",
   "mimetype": "text/x-python",
   "name": "python",
   "nbconvert_exporter": "python",
   "pygments_lexer": "ipython3",
   "version": "3.10.8"
  }
 },
 "nbformat": 4,
 "nbformat_minor": 5
}
