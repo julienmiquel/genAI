{
 "cells": [
  {
   "attachments": {},
   "cell_type": "markdown",
   "id": "613b5312",
   "metadata": {},
   "source": [
    "# Google Cloud with langchain\n"
   ]
  },
  {
   "attachments": {},
   "cell_type": "markdown",
   "id": "3615f1e2",
   "metadata": {},
   "source": [
    "<h3>Tracking LangChain Executions with Aim</h3>"
   ]
  },
  {
   "attachments": {},
   "cell_type": "markdown",
   "id": "5d271566",
   "metadata": {},
   "source": [
    "In this notebook we will explore three usage scenarios. To start off, we will install the necessary packages and import certain modules. Subsequently, we will configure two environment variables that can be established either within the Python script or through the terminal."
   ]
  },
  {
   "cell_type": "code",
   "execution_count": null,
   "id": "d16e00da",
   "metadata": {
    "collapsed": true,
    "id": "mf88kuCJhbVu",
    "jupyter": {
     "outputs_hidden": true
    },
    "tags": []
   },
   "outputs": [],
   "source": [
    "%pip install -U aim\n",
    "%pip install -U langchain\n",
    "%pip install -U VertexAI\n",
    "%pip install -U google-search-results\n",
    "%pip install -U google-cloud-secret-manager==2.16.1 google-crc32c==1.5.0\n",
    "%pip install -U wikipedia"
   ]
  },
  {
   "cell_type": "code",
   "execution_count": null,
   "id": "49260b71",
   "metadata": {},
   "outputs": [],
   "source": [
    "PROJECT_ID=!gcloud config get-value project\n",
    "\n",
    "print(f\"PROJECT_ID: {PROJECT_ID}\")"
   ]
  },
  {
   "cell_type": "code",
   "execution_count": 7,
   "id": "c970cda9",
   "metadata": {
    "id": "g4eTuajwfl6L"
   },
   "outputs": [],
   "source": [
    "import os\n",
    "from datetime import datetime\n",
    "\n",
    "from langchain.llms import VertexAI\n",
    "from langchain.callbacks import AimCallbackHandler, StdOutCallbackHandler"
   ]
  },
  {
   "attachments": {},
   "cell_type": "markdown",
   "id": "426ecf0d",
   "metadata": {},
   "source": []
  },
  {
   "cell_type": "code",
   "execution_count": null,
   "id": "2037eba9",
   "metadata": {},
   "outputs": [],
   "source": [
    "from google.cloud import secretmanager\n",
    "import google_crc32c\n",
    "\n",
    "\n",
    "def access_secret_version(\n",
    "    project_id: str, secret_id: str, version_id: str\n",
    ") -> str:\n",
    "    \"\"\"\n",
    "    Access the payload for the given secret version if one exists. The version\n",
    "    can be a version number as a string (e.g. \"5\") or an alias (e.g. \"latest\").\n",
    "    \"\"\"\n",
    "    VERBOSE = False\n",
    "    \n",
    "    # Import the Secret Manager client library.\n",
    "    from google.cloud import secretmanager\n",
    "\n",
    "    # Create the Secret Manager client.\n",
    "    client = secretmanager.SecretManagerServiceClient()\n",
    "\n",
    "    # Build the resource name of the secret version.\n",
    "    name = f\"projects/{project_id}/secrets/{secret_id}/versions/{version_id}\"\n",
    "\n",
    "    # Access the secret version.\n",
    "    response = client.access_secret_version(request={\"name\": name})\n",
    "\n",
    "    # Verify payload checksum.\n",
    "    crc32c = google_crc32c.Checksum()\n",
    "    crc32c.update(response.payload.data)\n",
    "    if response.payload.data_crc32c != int(crc32c.hexdigest(), 16):\n",
    "        print(\"Data corruption detected.\")\n",
    "        return response\n",
    "\n",
    "    # Print the secret payload.\n",
    "    #\n",
    "    # WARNING: Do not print the secret in a production environment - this\n",
    "    # snippet is showing how to access the secret material.\n",
    "    payload = response.payload.data.decode(\"UTF-8\")\n",
    "    if VERBOSE == True:\n",
    "        print(f\"Plaintext: {payload}\")\n",
    "    \n",
    "    return payload\n",
    "\n",
    "print(PROJECT_ID)\n",
    "\n",
    "CSE_ID = access_secret_version(PROJECT_ID, \"CSE_ID\", \"latest\")\n",
    "GOOGLE_API_KEY = access_secret_version(PROJECT_ID, \"GOOGLE_API_KEY\", \"latest\")\n"
   ]
  },
  {
   "cell_type": "code",
   "execution_count": 19,
   "id": "b2b1cfc2",
   "metadata": {
    "id": "T1bSmKd6V2If"
   },
   "outputs": [],
   "source": [
    "import os\n",
    "\n",
    "os.environ[\"GOOGLE_API_KEY\"]= GOOGLE_API_KEY\n",
    "os.environ[\"GPLACES_API_KEY\"] = GOOGLE_API_KEY\n",
    "os.environ[\"GOOGLE_CSE_ID\"] = CSE_ID"
   ]
  },
  {
   "attachments": {},
   "cell_type": "markdown",
   "id": "53070869",
   "metadata": {
    "id": "QenUYuBZjIzc"
   },
   "source": [
    "The event methods of `AimCallbackHandler` accept the LangChain module or agent as input and log at least the prompts and generated results, as well as the serialized version of the LangChain module, to the designated Aim run."
   ]
  },
  {
   "cell_type": "code",
   "execution_count": null,
   "id": "3a30e90d",
   "metadata": {
    "id": "KAz8weWuUeXF"
   },
   "outputs": [],
   "source": [
    "session_group = datetime.now().strftime(\"%m.%d.%Y_%H.%M.%S\")\n",
    "aim_callback = AimCallbackHandler(\n",
    "    repo=\".\",\n",
    "    experiment_name=\"scenario 1:  LLM\",\n",
    ")\n",
    "\n",
    "callbacks = [StdOutCallbackHandler(), aim_callback]\n",
    "llm = VertexAI( callbacks=callbacks)"
   ]
  },
  {
   "attachments": {},
   "cell_type": "markdown",
   "id": "1f591582",
   "metadata": {
    "id": "b8WfByB4fl6N"
   },
   "source": [
    "The `flush_tracker` function is used to record LangChain assets on Aim. By default, the session is reset rather than being terminated outright."
   ]
  },
  {
   "attachments": {},
   "cell_type": "markdown",
   "id": "8a425743",
   "metadata": {},
   "source": [
    "<h3>Scenario 1</h3> In the first scenario, we will use VertexAI LLM."
   ]
  },
  {
   "cell_type": "code",
   "execution_count": 24,
   "id": "795cda48",
   "metadata": {
    "id": "o_VmneyIUyx8"
   },
   "outputs": [
    {
     "data": {
      "text/plain": [
       "[[Generation(text='What do you call a fish with no eyes? Fsh!', generation_info=None)],\n",
       " [Generation(text=\"**The World is a Beautiful Place**\\n\\nThe world is a beautiful place,\\nFull of wonder and grace.\\nFrom the mountains to the sea,\\nThere's beauty for all to see.\\n\\nThe trees stand tall and proud,\\nTheir leaves a verdant shroud.\\nThe flowers bloom in the sun,\\nTheir petals a rainbow of fun.\\n\\nThe animals roam free,\\nIn harmony with the sea.\\nThe birds sing in the trees,\\nTheir songs a symphony of peace.\\n\\nThe world is a beautiful place,\\nFull of wonder and grace.\\nLet us all take a moment\", generation_info=None)],\n",
       " [Generation(text='What do you call a fish with no eyes? Fsh!', generation_info=None)],\n",
       " [Generation(text=\"**The World is a Beautiful Place**\\n\\nThe world is a beautiful place,\\nFull of wonder and grace.\\nFrom the mountains to the sea,\\nThere's beauty for all to see.\\n\\nThe trees stand tall and proud,\\nTheir leaves a verdant shroud.\\nThe flowers bloom in the sun,\\nTheir petals a rainbow of fun.\\n\\nThe animals roam free,\\nIn harmony with the sea.\\nThe birds sing in the trees,\\nTheir songs a symphony of peace.\\n\\nThe world is a beautiful place,\\nFull of wonder and grace.\\nLet us all take a moment\", generation_info=None)],\n",
       " [Generation(text='What do you call a fish with no eyes? Fsh!', generation_info=None)],\n",
       " [Generation(text=\"**The World is a Beautiful Place**\\n\\nThe world is a beautiful place,\\nFull of wonder and grace.\\nFrom the mountains to the sea,\\nThere's beauty for all to see.\\n\\nThe trees stand tall and proud,\\nTheir leaves a verdant shroud.\\nThe flowers bloom in the sun,\\nTheir petals a rainbow of fun.\\n\\nThe animals roam free,\\nIn harmony with the sea.\\nThe birds sing in the trees,\\nTheir songs a symphony of peace.\\n\\nThe world is a beautiful place,\\nFull of wonder and grace.\\nLet us all take a moment\", generation_info=None)]]"
      ]
     },
     "execution_count": 24,
     "metadata": {},
     "output_type": "execute_result"
    }
   ],
   "source": [
    "# scenario 1 - VertexAI LLM\n",
    "llm_result = llm.generate([\"Tell me a joke\", \"Tell me a poem\"] * 3)\n",
    "aim_callback.flush_tracker(\n",
    "    langchain_asset=llm,\n",
    "    experiment_name=\"scenario 1: Chain with multiple SubChains on multiple generations\",\n",
    ")\n",
    "\n",
    "llm_result.generations"
   ]
  },
  {
   "attachments": {},
   "cell_type": "markdown",
   "id": "f18e2d10",
   "metadata": {},
   "source": [
    "<h3>Scenario 2</h3> The third scenario involves an agent with tools."
   ]
  },
  {
   "cell_type": "code",
   "execution_count": 26,
   "id": "9de08db4",
   "metadata": {
    "id": "_jN73xcPVEpI"
   },
   "outputs": [],
   "source": [
    "from langchain.agents import initialize_agent, load_tools\n",
    "from langchain.agents import AgentType"
   ]
  },
  {
   "cell_type": "code",
   "execution_count": null,
   "id": "a23a8c23-6eed-48c3-b90d-ccda4b339dde",
   "metadata": {},
   "outputs": [],
   "source": [
    "from langchain.tools import GooglePlacesTool\n",
    "\n",
    "places = GooglePlacesTool()"
   ]
  },
  {
   "cell_type": "code",
   "execution_count": 36,
   "id": "0992df94",
   "metadata": {
    "colab": {
     "base_uri": "https://localhost:8080/"
    },
    "id": "Gpq4rk6VT9cu",
    "outputId": "68ae261e-d0a2-4229-83c4-762562263b66"
   },
   "outputs": [
    {
     "name": "stdout",
     "output_type": "stream",
     "text": [
      "\n",
      "\n",
      "\u001b[1m> Entering new  chain...\u001b[0m\n",
      "\u001b[32;1m\u001b[1;3mI need to know the birth place of Zinedine zidane \n",
      "Action: google_search\n",
      "Action Input: Zinedine zidane birth place\u001b[0m\n",
      "Observation: \u001b[33;1m\u001b[1;3mZidane is of Algerian Kabyle descent and has described himself as a \"non-practising Muslim\". His parents, Smaïl and Malika, immigrated to Paris from the village ... 6 days ago ... Zinedine Zidane, byname Zizou, (born June 23, 1972, Marseille, France), French football (soccer) player who led his country to victories in ... Zidane, of Algerian origin, was raised in Marseille. He began playing with the youth teams of his native city, from where he went to Cannes, with whom he made ... Apr 2, 2014 ... Zinedine Yazid Zidane was born on June 23, 1972, in Marseille, France. The son of Algerian immigrants, Zidane learned to play soccer in the ... Zinedine Zidane was born in Marseille, France, on June 23, 1972. At the tender age of five, young Zidane was introduced to the football game. Together with his ... Personal information ; Full name, Zinedine Yazid Zidane ; Date of birth, (1972-06-23) 23 June 1972 (age 50) ; Place of birth, Marseille, France ; Height, 1.85 m (6 ... Born on 23 June 1972, Zidane is of Algerian origin but was raised in Marseille, France. He began playing for the local club, US Saint Henri, at the age of nine. Zinédine Zidane Biography ... Zinédine Zidane (born 1972) was the toast of France after leading that country to its only World Cup soccer championship in 1998. Zinedine Zidane was born on 23 June 1972, in Marseille, France, to Smaïl and Malika. He has four older siblings. His family, which is of Algerian Kabyle Berber ... Zinédine Zidane 2023 - Biography at Wikipedia (Wiki, Age, Birthday). Zinédine Zidane - soccer player. Zinédine Zidane was born on June 23, 1972 in Marseille.\u001b[0m\n",
      "Thought:\u001b[32;1m\u001b[1;3mI now know that Zinedine zidane was born in Marseille, France \n",
      "Action: google_search\n",
      "Action Input: most expensive restaurant in Marseille, France\u001b[0m\n",
      "Observation: \u001b[33;1m\u001b[1;3mMarseille Fine Dining Restaurants‎ ; 1. La Table de l'Ours. (293) · Excellent ; 2. AM par Alexandre Mazzia. (1,051) · Spectacular experience at a spectacular... ; 3. Aug 5, 2019 ... MARSEILLE, France — In this ancient port city on the ... was never meant to be served in restaurants on demand; the dish is too expensive ... La Table du Fort Restaurant Marseille Vieux-Port · Bubo · Le Petit Nice Passedat - Gérald Passedat · L'Escapade Marseillaise · Alcyone · Chez Fonfon · Les Délices du ... Nov 16, 2017 ... In this port city of southern France, seafood plays an important role in the ... The port-side restaurant makes the most of the views with ... Sep 7, 2022 ... Best Restaurants in Cassis, France: most chic to most authentic. Between Michelin starred restaurants nestled in the creeks and Provencal ... Feb 17, 2023 ... Over time, bouillabaisse evolved into one of the most luxurious seafood dishes in the world: it is found in every upscale restaurant in the ... Nov 14, 2022 ... No city in France has a more intimate relationship with the cooking of North Africa. That's clear at this simple Tunisian restaurant in one ... Anse de Maldormé, Marseille, 13007, France; €€€€ · Seafood ... Discover more: Paris · The Least Expensive Michelin-starred Restaurants in Paris. Ludovic Turac, the chef at Une Table Au Sud, has appeared on France's Top Chef TV program. His restaurant in Marseille overlooks the sea and has views of the ... Jul 30, 2021 ... They are quite fancy and among the most traditional. They have Haussmanian buildings where you will spend your stay in a very French-like ...\u001b[0m\n",
      "Thought:\u001b[32;1m\u001b[1;3mI found that the most expensive restaurant in Marseille, France is La Table de l'Ours \n",
      "Action: google_places\n",
      "Action Input: La Table de l'Ours\u001b[0m\u001b[32;1m\u001b[1;3mI found that there are 3 restaurants named La Table de l'Ours \n",
      "Action: google_places\n",
      "Action Input: La Table de l'Ours Marseille\u001b[0m\u001b[32;1m\u001b[1;3mI found that the most expensive restaurant in Marseille, France is La Table de l'Ours in Marseille \n",
      "Thought: I now know the final answer\n",
      "Final Answer: La Table de l'Ours in Marseille\u001b[0m\n",
      "\n",
      "\u001b[1m> Finished chain.\u001b[0m\n"
     ]
    }
   ],
   "source": [
    "# scenario 2 - Agent with Tools\n",
    "tools_std = load_tools([\"google-search\",  \"wikipedia\", \"llm-math\"], llm=llm, callbacks=callbacks)\n",
    "\n",
    "tools = [places]+tools_std\n",
    "\n",
    "\n",
    "agent = initialize_agent(\n",
    "    tools,\n",
    "    llm,\n",
    "    agent=AgentType.ZERO_SHOT_REACT_DESCRIPTION,\n",
    "    callbacks=callbacks,\n",
    ")\n",
    "agent.run(\n",
    "    \"What is the more expensive restaurant in the birth place of Zinedine zidane ? \"\n",
    ")\n",
    "aim_callback.flush_tracker(langchain_asset=agent, reset=False, finish=True)\n"
   ]
  }
 ],
 "metadata": {
  "accelerator": "GPU",
  "colab": {
   "provenance": []
  },
  "environment": {
   "kernel": "python3",
   "name": "common-cpu.m108",
   "type": "gcloud",
   "uri": "gcr.io/deeplearning-platform-release/base-cpu:m108"
  },
  "gpuClass": "standard",
  "kernelspec": {
   "display_name": "Python 3",
   "language": "python",
   "name": "python3"
  },
  "language_info": {
   "codemirror_mode": {
    "name": "ipython",
    "version": 3
   },
   "file_extension": ".py",
   "mimetype": "text/x-python",
   "name": "python",
   "nbconvert_exporter": "python",
   "pygments_lexer": "ipython3",
   "version": "3.10.8"
  }
 },
 "nbformat": 4,
 "nbformat_minor": 5
}
