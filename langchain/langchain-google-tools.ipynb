{
 "cells": [
  {
   "attachments": {},
   "cell_type": "markdown",
   "id": "613b5312",
   "metadata": {},
   "source": [
    "# Google Cloud with langchain\n"
   ]
  },
  {
   "attachments": {},
   "cell_type": "markdown",
   "id": "3615f1e2",
   "metadata": {},
   "source": [
    "<h3>Tracking LangChain Executions with Aim</h3>"
   ]
  },
  {
   "attachments": {},
   "cell_type": "markdown",
   "id": "5d271566",
   "metadata": {},
   "source": [
    "In this notebook we will explore three usage scenarios. To start off, we will install the necessary packages and import certain modules. Subsequently, we will configure two environment variables that can be established either within the Python script or through the terminal."
   ]
  },
  {
   "cell_type": "code",
   "execution_count": null,
   "id": "d16e00da",
   "metadata": {
    "collapsed": true,
    "id": "mf88kuCJhbVu",
    "jupyter": {
     "outputs_hidden": true
    },
    "tags": []
   },
   "outputs": [],
   "source": [
    "%pip install -U aim\n",
    "%pip install -U langchain\n",
    "%pip install -U VertexAI\n",
    "%pip install -U google-AppBuilder-results\n",
    "%pip install -U google-cloud-secret-manager==2.16.1 google-crc32c==1.5.0\n",
    "%pip install -U wikipedia"
   ]
  },
  {
   "cell_type": "code",
   "execution_count": 24,
   "id": "f4b785f1",
   "metadata": {},
   "outputs": [],
   "source": [
    "PROJECT_ID=\"ml-demo-384110\""
   ]
  },
  {
   "cell_type": "code",
   "execution_count": null,
   "id": "49260b71",
   "metadata": {},
   "outputs": [],
   "source": [
    "PROJECT_ID=!gcloud config get-value project\n",
    "\n",
    "print(f\"PROJECT_ID: {PROJECT_ID}\")"
   ]
  },
  {
   "cell_type": "code",
   "execution_count": 25,
   "id": "c970cda9",
   "metadata": {
    "id": "g4eTuajwfl6L"
   },
   "outputs": [],
   "source": [
    "import os\n",
    "from datetime import datetime\n",
    "\n",
    "from langchain.llms import VertexAI\n",
    "from langchain.callbacks import AimCallbackHandler, StdOutCallbackHandler"
   ]
  },
  {
   "attachments": {},
   "cell_type": "markdown",
   "id": "426ecf0d",
   "metadata": {},
   "source": []
  },
  {
   "cell_type": "code",
   "execution_count": 26,
   "id": "2037eba9",
   "metadata": {},
   "outputs": [
    {
     "name": "stdout",
     "output_type": "stream",
     "text": [
      "ml-demo-384110\n"
     ]
    }
   ],
   "source": [
    "from google.cloud import secretmanager\n",
    "import google_crc32c\n",
    "\n",
    "\n",
    "def access_secret_version(\n",
    "    project_id: str, secret_id: str, version_id: str\n",
    ") -> str:\n",
    "    \"\"\"\n",
    "    Access the payload for the given secret version if one exists. The version\n",
    "    can be a version number as a string (e.g. \"5\") or an alias (e.g. \"latest\").\n",
    "    \"\"\"\n",
    "    VERBOSE = False\n",
    "    \n",
    "    # Import the Secret Manager client library.\n",
    "    from google.cloud import secretmanager\n",
    "\n",
    "    # Create the Secret Manager client.\n",
    "    client = secretmanager.SecretManagerServiceClient()\n",
    "\n",
    "    # Build the resource name of the secret version.\n",
    "    name = f\"projects/{project_id}/secrets/{secret_id}/versions/{version_id}\"\n",
    "\n",
    "    # Access the secret version.\n",
    "    response = client.access_secret_version(request={\"name\": name})\n",
    "\n",
    "    # Verify payload checksum.\n",
    "    crc32c = google_crc32c.Checksum()\n",
    "    crc32c.update(response.payload.data)\n",
    "    if response.payload.data_crc32c != int(crc32c.hexdigest(), 16):\n",
    "        print(\"Data corruption detected.\")\n",
    "        return response\n",
    "\n",
    "    # Print the secret payload.\n",
    "    #\n",
    "    # WARNING: Do not print the secret in a production environment - this\n",
    "    # snippet is showing how to access the secret material.\n",
    "    payload = response.payload.data.decode(\"UTF-8\")\n",
    "    if VERBOSE == True:\n",
    "        print(f\"Plaintext: {payload}\")\n",
    "    \n",
    "    return payload\n",
    "\n",
    "print(PROJECT_ID)\n",
    "\n",
    "CSE_ID = access_secret_version(PROJECT_ID, \"CSE_ID\", \"latest\")\n",
    "GOOGLE_API_KEY = access_secret_version(PROJECT_ID, \"GOOGLE_API_KEY\", \"latest\")\n"
   ]
  },
  {
   "cell_type": "code",
   "execution_count": 27,
   "id": "b2b1cfc2",
   "metadata": {
    "id": "T1bSmKd6V2If"
   },
   "outputs": [],
   "source": [
    "import os\n",
    "\n",
    "os.environ[\"GOOGLE_API_KEY\"]= GOOGLE_API_KEY\n",
    "os.environ[\"GPLACES_API_KEY\"] = GOOGLE_API_KEY\n",
    "os.environ[\"GOOGLE_CSE_ID\"] = CSE_ID"
   ]
  },
  {
   "cell_type": "code",
   "execution_count": null,
   "id": "c6382bb1",
   "metadata": {},
   "outputs": [],
   "source": []
  },
  {
   "attachments": {},
   "cell_type": "markdown",
   "id": "53070869",
   "metadata": {
    "id": "QenUYuBZjIzc"
   },
   "source": [
    "The event methods of `AimCallbackHandler` accept the LangChain module or agent as input and log at least the prompts and generated results, as well as the serialized version of the LangChain module, to the designated Aim run."
   ]
  },
  {
   "cell_type": "code",
   "execution_count": 28,
   "id": "3a30e90d",
   "metadata": {
    "id": "KAz8weWuUeXF"
   },
   "outputs": [],
   "source": [
    "session_group = datetime.now().strftime(\"%m.%d.%Y_%H.%M.%S\")\n",
    "aim_callback = AimCallbackHandler(\n",
    "    repo=\".\",\n",
    "    experiment_name=\"scenario 1:  LLM\",\n",
    ")\n",
    "\n",
    "callbacks = [StdOutCallbackHandler(), aim_callback]\n",
    "llm = VertexAI( callbacks=callbacks)"
   ]
  },
  {
   "attachments": {},
   "cell_type": "markdown",
   "id": "1f591582",
   "metadata": {
    "id": "b8WfByB4fl6N"
   },
   "source": [
    "The `flush_tracker` function is used to record LangChain assets on Aim. By default, the session is reset rather than being terminated outright."
   ]
  },
  {
   "attachments": {},
   "cell_type": "markdown",
   "id": "8a425743",
   "metadata": {},
   "source": [
    "<h3>Scenario 1</h3> In the first scenario, we will use VertexAI LLM."
   ]
  },
  {
   "cell_type": "code",
   "execution_count": 29,
   "id": "795cda48",
   "metadata": {
    "id": "o_VmneyIUyx8"
   },
   "outputs": [
    {
     "data": {
      "text/plain": [
       "[[Generation(text='What do you call a fish with no eyes? Fsh!', generation_info=None)],\n",
       " [Generation(text=\"**The World is a Beautiful Place**\\n\\nThe world is a beautiful place,\\nFull of wonder and grace.\\nFrom the mountains to the sea,\\nThere's beauty for all to see.\\n\\nThe trees stand tall and proud,\\nTheir leaves a verdant shroud.\\nThe flowers bloom in the sun,\\nTheir petals a rainbow of fun.\\n\\nThe animals roam free,\\nIn harmony with the sea.\\nThe birds sing in the trees,\\nTheir songs a symphony of peace.\\n\\nThe world is a beautiful place,\\nFull of wonder and grace.\\nLet us all take a moment\", generation_info=None)],\n",
       " [Generation(text='What do you call a fish with no eyes? Fsh!', generation_info=None)],\n",
       " [Generation(text=\"**The World is a Beautiful Place**\\n\\nThe world is a beautiful place,\\nFull of wonder and grace.\\nFrom the mountains to the sea,\\nThere's beauty for all to see.\\n\\nThe trees stand tall and proud,\\nTheir leaves a verdant shroud.\\nThe flowers bloom in the sun,\\nTheir petals a rainbow of fun.\\n\\nThe animals roam free,\\nIn harmony with the sea.\\nThe birds sing in the trees,\\nTheir songs a symphony of peace.\\n\\nThe world is a beautiful place,\\nFull of wonder and grace.\\nLet us all take a moment\", generation_info=None)],\n",
       " [Generation(text='What do you call a fish with no eyes? Fsh!', generation_info=None)],\n",
       " [Generation(text=\"**The World is a Beautiful Place**\\n\\nThe world is a beautiful place,\\nFull of wonder and grace.\\nFrom the mountains to the sea,\\nThere's beauty for all to see.\\n\\nThe trees stand tall and proud,\\nTheir leaves a verdant shroud.\\nThe flowers bloom in the sun,\\nTheir petals a rainbow of fun.\\n\\nThe animals roam free,\\nIn harmony with the sea.\\nThe birds sing in the trees,\\nTheir songs a symphony of peace.\\n\\nThe world is a beautiful place,\\nFull of wonder and grace.\\nLet us all take a moment\", generation_info=None)]]"
      ]
     },
     "execution_count": 29,
     "metadata": {},
     "output_type": "execute_result"
    }
   ],
   "source": [
    "# scenario 1 - VertexAI LLM\n",
    "llm_result = llm.generate([\"Tell me a joke\", \"Tell me a poem\"] * 3)\n",
    "aim_callback.flush_tracker(\n",
    "    langchain_asset=llm,\n",
    "    experiment_name=\"scenario 1: Chain with multiple SubChains on multiple generations\",\n",
    ")\n",
    "\n",
    "llm_result.generations"
   ]
  },
  {
   "attachments": {},
   "cell_type": "markdown",
   "id": "f18e2d10",
   "metadata": {},
   "source": [
    "<h3>Scenario 2</h3> The third scenario involves an agent with tools."
   ]
  },
  {
   "cell_type": "code",
   "execution_count": 30,
   "id": "9de08db4",
   "metadata": {
    "id": "_jN73xcPVEpI"
   },
   "outputs": [],
   "source": [
    "from langchain.agents import initialize_agent, load_tools\n",
    "from langchain.agents import AgentType"
   ]
  },
  {
   "cell_type": "code",
   "execution_count": 31,
   "id": "3b5fe8e3",
   "metadata": {},
   "outputs": [],
   "source": [
    "from langchain.tools import PythonREPLTool\n",
    "\n",
    "p = PythonREPLTool()\n"
   ]
  },
  {
   "cell_type": "code",
   "execution_count": null,
   "id": "4de12643",
   "metadata": {},
   "outputs": [],
   "source": []
  },
  {
   "cell_type": "code",
   "execution_count": 32,
   "id": "88db5107",
   "metadata": {},
   "outputs": [
    {
     "name": "stdout",
     "output_type": "stream",
     "text": [
      "\n",
      "\n",
      "\u001b[1m> Entering new  chain...\u001b[0m\n",
      "\u001b[32;1m\u001b[1;3mI need to write a python function to calculate the fibonacci number\n",
      "Action: Python_REPL\n",
      "Action Input: ```\n",
      "def fibonacci(n):\n",
      "    if n == 0:\n",
      "        return 0\n",
      "    elif n == 1:\n",
      "        return 1\n",
      "    else:\n",
      "        return fibonacci(n - 1) + fibonacci(n - 2)\n",
      "```\u001b[0m\n",
      "Observation: \u001b[36;1m\u001b[1;3m\u001b[0m\n",
      "Thought:\u001b[32;1m\u001b[1;3mI need to call the function with n = 10\n",
      "Action: Python_REPL\n",
      "Action Input: ```\n",
      "print(fibonacci(10))\n",
      "```\u001b[0m\n",
      "Observation: \u001b[36;1m\u001b[1;3m55\n",
      "\u001b[0m\n",
      "Thought:\u001b[32;1m\u001b[1;3mI now know the final answer\n",
      "Final Answer: 55\u001b[0m\n",
      "\n",
      "\u001b[1m> Finished chain.\u001b[0m\n"
     ]
    },
    {
     "data": {
      "text/plain": [
       "'55'"
      ]
     },
     "execution_count": 32,
     "metadata": {},
     "output_type": "execute_result"
    }
   ],
   "source": [
    "from langchain.agents.agent_toolkits import create_python_agent\n",
    "from langchain.tools.python.tool import PythonREPLTool\n",
    "from langchain.python import PythonREPL\n",
    "from langchain.agents.agent_types import AgentType\n",
    "from langchain.llms import VertexAI\n",
    "\n",
    "agent_executor = create_python_agent(\n",
    "    llm=VertexAI(temperature=0, max_tokens=1000),\n",
    "    tool=PythonREPLTool(),\n",
    "    verbose=True,\n",
    "    agent_type=AgentType.ZERO_SHOT_REACT_DESCRIPTION,\n",
    "    agent_executor_kwargs={\"handle_parsing_errors\": True},\n",
    "\n",
    ")\n",
    "agent_executor.run(\n",
    "    \"What is the 10th fibonacci number?\"\n",
    "    )\n",
    "\n"
   ]
  },
  {
   "cell_type": "code",
   "execution_count": 23,
   "id": "2beaf0e6",
   "metadata": {},
   "outputs": [],
   "source": [
    "import requests\n",
    "import json\n",
    "import time\n",
    "\n",
    "\n",
    "def genAppBuilder(query ):\n",
    "    \n",
    "\n",
    "    gcloud_token = !gcloud auth print-access-token\n",
    "    gcloud_tokeninfo = requests.get('https://www.googleapis.com/oauth2/v3/tokeninfo?access_token=' + gcloud_token[0]).json()\n",
    "\n",
    "    ACCESS_TOKEN = gcloud_token[0]\n",
    "    headers = {\n",
    "        'Authorization': f'Bearer {ACCESS_TOKEN}',\n",
    "        'Content-Type': 'application/json; charset=UTF-8'\n",
    "    }\n",
    "    \n",
    "    data = {\"query\": query, \"page_size\": \"5\", \"offset\": 0 }\n",
    "    engine_id = \"\"\n",
    "    project_number = \"210552312048\"\n",
    "    version = \"v1alpha\"\n",
    "    #print(data)\n",
    "    url = f\"https://discoveryengine.googleapis.com/{version}/projects/{project_number}/locations/global/collections/default_collection/dataStores/{engine_id}/servingConfigs/default_search:search\" \n",
    "    response = requests.post(url, data=json.dumps(data), headers=headers)\n",
    "    \n",
    "    #print(response)\n",
    "    json_response = json.loads(response.text)\n",
    "    print(json_response)\n",
    "    \n",
    "    title, link, snippet, description = \"\", \"\", \"\", \"\"\n",
    "    try:\n",
    "      predictions = json_response['results']\n",
    "            \n",
    "      link = predictions[0][\"document\"][\"derivedStructData\"][\"link\"]\n",
    "      title = predictions[0][\"document\"][\"derivedStructData\"][\"title\"]\n",
    "      snippet = predictions[0][\"document\"][\"derivedStructData\"][\"snippets\"][0]['snippet']\n",
    "      description = predictions[0][\"document\"][\"derivedStructData\"]['pagemap']['metatags'][0][\"twitter:description\"]\n",
    "      image = predictions[0][\"document\"][\"derivedStructData\"]['pagemap']['cse_image'][0][\"src\"]\n",
    "\n",
    "\n",
    "\n",
    "    except:\n",
    "      print(\"An error occured calling the API.\")\n",
    "      print(\"1. Check if response was not blocked based on policy violation, check if the UI behaves the same way...\")\n",
    "      print(\"2. Try a different prompt to see if that was the problem.\\n\")\n",
    "      print(response.text)\n",
    "      # print(dir(response))\n",
    "\n",
    "    return title, link, snippet, description, image\n",
    "    \n"
   ]
  },
  {
   "cell_type": "code",
   "execution_count": null,
   "id": "c9ee953e",
   "metadata": {},
   "outputs": [],
   "source": [
    "title, link, snippet, description, image = genAppBuilder(\"fleur de mariage\")\n",
    "print(\"Title: \", title)\n",
    "print(\"Link: \", link)\n",
    "print(\"Description: \", description)\n",
    "print(\"Snippet: \", snippet)\n",
    "print(\"Image: \", image)\n"
   ]
  },
  {
   "cell_type": "code",
   "execution_count": null,
   "id": "80f35c86",
   "metadata": {},
   "outputs": [],
   "source": [
    "\"\"\"Util that calls Google AppBuilder.\"\"\"\n",
    "from typing import Any, Dict, List, Optional\n",
    "\n",
    "from pydantic import BaseModel, Extra, root_validator\n",
    "\n",
    "from langchain.utils import get_from_dict_or_env\n",
    "\n",
    "\n",
    "class GoogleAppBuilderAPIWrapper(BaseModel):\n",
    "    \"\"\"Wrapper for Google AppBuilder API.\n",
    "\n",
    "    TODO: DOCS for using it\n",
    "    1. Install google-api-python-client\n",
    "    - If you don't already have a Google account, sign up.\n",
    "    - If you have never created a Google APIs Console project,\n",
    "    read the Managing Projects page and create a project in the Google API Console.\n",
    "\n",
    "    2. To create an API key:\n",
    "    - Navigate to the APIs & Services→Credentials panel in Cloud Console.\n",
    "    TODO\n",
    "\n",
    "    3. Setup Custom AppBuilder Engine so you can AppBuilder the entire web\n",
    "    - Create a custom AppBuilder engine in this link.\n",
    "    - In Sites to AppBuilder, add any valid URL (i.e. www.stackoverflow.com).\n",
    "\n",
    "    4. Enable the Custom AppBuilder API\n",
    "    - Navigate to the APIs & Services→Dashboard panel in Cloud Console.\n",
    "    - Click Enable APIs and Services.\n",
    "    \"\"\"\n",
    "\n",
    "    AppBuilder_engine: Any  #: :meta private:\n",
    "    google_api_key: Optional[str] = None\n",
    "    google_cse_id: Optional[str] = None\n",
    "    k: int = 10\n",
    "    siterestrict: bool = False\n",
    "\n",
    "    class Config:\n",
    "        \"\"\"Configuration for this pydantic object.\"\"\"\n",
    "\n",
    "        extra = Extra.forbid\n",
    "\n",
    "    def _google_AppBuilder_results(self, AppBuilder_term: str, **kwargs: Any) -> List[dict]:\n",
    "        cse = self.AppBuilder_engine.cse()\n",
    "        if self.siterestrict:\n",
    "            cse = cse.siterestrict()\n",
    "        res = cse.list(q=AppBuilder_term, cx=self.google_cse_id, **kwargs).execute()\n",
    "        return res.get(\"items\", [])\n",
    "\n",
    "    @root_validator()\n",
    "    def validate_environment(cls, values: Dict) -> Dict:\n",
    "        \"\"\"Validate that api key and python package exists in environment.\"\"\"\n",
    "        google_api_key = get_from_dict_or_env(\n",
    "            values, \"google_api_key\", \"GOOGLE_API_KEY\"\n",
    "        )\n",
    "        values[\"google_api_key\"] = google_api_key\n",
    "\n",
    "        try:\n",
    "            from googleapiclient.discovery import build\n",
    "\n",
    "        except ImportError:\n",
    "            raise ImportError(\n",
    "                \"google-api-python-client is not installed. \"\n",
    "                \"Please install it with `pip install google-api-python-client`\"\n",
    "            )\n",
    "\n",
    "        service = build(\"customAppBuilder\", \"v1\", developerKey=google_api_key)\n",
    "        values[\"AppBuilder_engine\"] = service\n",
    "\n",
    "        return values\n",
    "\n",
    "    def run(self, query: str) -> str:\n",
    "        \"\"\"Run query through GoogleSearch and parse result.\"\"\"\n",
    "        snippets = []\n",
    "        results = self._google_AppBuilder_results(query, num=self.k)\n",
    "        if len(results) == 0:\n",
    "            return \"No good Google AppBuilder Result was found\"\n",
    "        for result in results:\n",
    "            if \"snippet\" in result:\n",
    "                snippets.append(result[\"snippet\"])\n",
    "\n",
    "        return \" \".join(snippets)\n",
    "\n",
    "    def results(self, query: str, num_results: int) -> List[Dict]:\n",
    "        \"\"\"Run query through GoogleAppBuilder and return metadata.\n",
    "\n",
    "        Args:\n",
    "            query: The query to AppBuilder for.\n",
    "            num_results: The number of results to return.\n",
    "\n",
    "        Returns:\n",
    "            A list of dictionaries with the following keys:\n",
    "                snippet - The description of the result.\n",
    "                title - The title of the result.\n",
    "                link - The link to the result.\n",
    "        \"\"\"\n",
    "        metadata_results = []\n",
    "        results = self._google_AppBuilder_results(query, num=num_results)\n",
    "        if len(results) == 0:\n",
    "            return [{\"Result\": \"No good Google AppBuilder Result was found\"}]\n",
    "        for result in results:\n",
    "            metadata_result = {\n",
    "                \"title\": result[\"title\"],\n",
    "                \"link\": result[\"link\"],\n",
    "            }\n",
    "            if \"snippet\" in result:\n",
    "                metadata_result[\"snippet\"] = result[\"snippet\"]\n",
    "            metadata_results.append(metadata_result)\n",
    "\n",
    "        return metadata_results\n"
   ]
  },
  {
   "cell_type": "code",
   "execution_count": null,
   "id": "e732aed9",
   "metadata": {},
   "outputs": [],
   "source": [
    "\"\"\"Tool for the Google AppBuilder API.\"\"\"\n",
    "\n",
    "from typing import Optional\n",
    "\n",
    "from langchain.callbacks.manager import (\n",
    "    AsyncCallbackManagerForToolRun,\n",
    "    CallbackManagerForToolRun,\n",
    ")\n",
    "from langchain.tools.base import BaseTool\n",
    "from langchain.utilities.google_AppBuilder import GoogleSearchAPIWrapper\n",
    "\n",
    "\n",
    "class GoogleGenAppBuilder(BaseTool):\n",
    "    \"\"\"Tool that adds the capability to query the Google AppBuilder API.\"\"\"\n",
    "\n",
    "    name = \"google_genappbuilder\"\n",
    "    description = (\n",
    "        \"A wrapper around Gen App Builder. \"\n",
    "        \"Useful for when you need to answer questions about documents / indexes indexed with your AppBuilder engine. \"\n",
    "        \"Input should be a AppBuilder query.\"\n",
    "    )\n",
    "    api_wrapper: GoogleAppBuilderAPIWrapper\n",
    "\n",
    "    def _run(\n",
    "        self,\n",
    "        query: str,\n",
    "        run_manager: Optional[CallbackManagerForToolRun] = None,\n",
    "    ) -> str:\n",
    "        \"\"\"Use the tool.\"\"\"\n",
    "        return self.api_wrapper.run(query)\n",
    "\n",
    "    async def _arun(\n",
    "        self,\n",
    "        query: str,\n",
    "        run_manager: Optional[AsyncCallbackManagerForToolRun] = None,\n",
    "    ) -> str:\n",
    "        \"\"\"Use the tool asynchronously.\"\"\"\n",
    "        raise NotImplementedError(\"GoogleAppBuilderRun does not support async\")\n",
    "\n",
    "\n",
    "class GoogleAppBuilderResults(BaseTool):\n",
    "    \"\"\"Tool that has capability to query the Google AppBuilder API and get back json.\"\"\"\n",
    "\n",
    "    name = \"Google AppBuilder Results JSON\"\n",
    "    description = (\n",
    "        \"A wrapper around Google AppBuilder. \"\n",
    "        \"Useful for when you need to answer questions about current events. \"\n",
    "        \"Input should be a AppBuilder query. Output is a JSON array of the query results\"\n",
    "    )\n",
    "    num_results: int = 4\n",
    "    api_wrapper: GoogleAppBuilderAPIWrapper\n",
    "\n",
    "    def _run(\n",
    "        self,\n",
    "        query: str,\n",
    "        run_manager: Optional[CallbackManagerForToolRun] = None,\n",
    "    ) -> str:\n",
    "        \"\"\"Use the tool.\"\"\"\n",
    "        return str(self.api_wrapper.results(query, self.num_results))\n",
    "\n",
    "    async def _arun(\n",
    "        self,\n",
    "        query: str,\n",
    "        run_manager: Optional[AsyncCallbackManagerForToolRun] = None,\n",
    "    ) -> str:\n",
    "        \"\"\"Use the tool asynchronously.\"\"\"\n",
    "        raise NotImplementedError(\"GoogleAppBuilderRun does not support async\")"
   ]
  },
  {
   "cell_type": "code",
   "execution_count": null,
   "id": "147377aa",
   "metadata": {},
   "outputs": [],
   "source": []
  },
  {
   "cell_type": "code",
   "execution_count": null,
   "id": "d00ae18d",
   "metadata": {},
   "outputs": [],
   "source": []
  },
  {
   "cell_type": "code",
   "execution_count": 35,
   "id": "a23a8c23-6eed-48c3-b90d-ccda4b339dde",
   "metadata": {},
   "outputs": [
    {
     "ename": "ValidationError",
     "evalue": "1 validation error for GooglePlacesAPIWrapper\n__root__\n  Invalid API key provided. (type=value_error)",
     "output_type": "error",
     "traceback": [
      "\u001b[0;31m---------------------------------------------------------------------------\u001b[0m",
      "\u001b[0;31mValidationError\u001b[0m                           Traceback (most recent call last)",
      "\u001b[1;32m/Users/julienmiquel/dev/github-genAI/genAI/langchain/langchain-google-tools.ipynb Cell 27\u001b[0m in \u001b[0;36m3\n\u001b[1;32m      <a href='vscode-notebook-cell:/Users/julienmiquel/dev/github-genAI/genAI/langchain/langchain-google-tools.ipynb#X23sZmlsZQ%3D%3D?line=0'>1</a>\u001b[0m \u001b[39mfrom\u001b[39;00m \u001b[39mlangchain\u001b[39;00m\u001b[39m.\u001b[39;00m\u001b[39mtools\u001b[39;00m \u001b[39mimport\u001b[39;00m GooglePlacesTool\n\u001b[0;32m----> <a href='vscode-notebook-cell:/Users/julienmiquel/dev/github-genAI/genAI/langchain/langchain-google-tools.ipynb#X23sZmlsZQ%3D%3D?line=2'>3</a>\u001b[0m places \u001b[39m=\u001b[39m GooglePlacesTool()\n",
      "File \u001b[0;32m/opt/homebrew/lib/python3.10/site-packages/pydantic/main.py:339\u001b[0m, in \u001b[0;36mpydantic.main.BaseModel.__init__\u001b[0;34m()\u001b[0m\n",
      "File \u001b[0;32m/opt/homebrew/lib/python3.10/site-packages/pydantic/main.py:1066\u001b[0m, in \u001b[0;36mpydantic.main.validate_model\u001b[0;34m()\u001b[0m\n",
      "File \u001b[0;32m/opt/homebrew/lib/python3.10/site-packages/pydantic/fields.py:439\u001b[0m, in \u001b[0;36mpydantic.fields.ModelField.get_default\u001b[0;34m()\u001b[0m\n",
      "File \u001b[0;32m/opt/homebrew/lib/python3.10/site-packages/pydantic/main.py:341\u001b[0m, in \u001b[0;36mpydantic.main.BaseModel.__init__\u001b[0;34m()\u001b[0m\n",
      "\u001b[0;31mValidationError\u001b[0m: 1 validation error for GooglePlacesAPIWrapper\n__root__\n  Invalid API key provided. (type=value_error)"
     ]
    }
   ],
   "source": [
    "from langchain.tools import GooglePlacesTool\n",
    "\n",
    "places = GooglePlacesTool()"
   ]
  },
  {
   "cell_type": "code",
   "execution_count": 34,
   "id": "0992df94",
   "metadata": {
    "colab": {
     "base_uri": "https://localhost:8080/"
    },
    "id": "Gpq4rk6VT9cu",
    "outputId": "68ae261e-d0a2-4229-83c4-762562263b66"
   },
   "outputs": [
    {
     "ename": "NameError",
     "evalue": "name 'places' is not defined",
     "output_type": "error",
     "traceback": [
      "\u001b[0;31m---------------------------------------------------------------------------\u001b[0m",
      "\u001b[0;31mNameError\u001b[0m                                 Traceback (most recent call last)",
      "\u001b[1;32m/Users/julienmiquel/dev/github-genAI/genAI/langchain/langchain-google-tools.ipynb Cell 28\u001b[0m in \u001b[0;36m4\n\u001b[1;32m      <a href='vscode-notebook-cell:/Users/julienmiquel/dev/github-genAI/genAI/langchain/langchain-google-tools.ipynb#X24sZmlsZQ%3D%3D?line=0'>1</a>\u001b[0m \u001b[39m# scenario 2 - Agent with Tools\u001b[39;00m\n\u001b[1;32m      <a href='vscode-notebook-cell:/Users/julienmiquel/dev/github-genAI/genAI/langchain/langchain-google-tools.ipynb#X24sZmlsZQ%3D%3D?line=1'>2</a>\u001b[0m tools_std \u001b[39m=\u001b[39m load_tools([\u001b[39m\"\u001b[39m\u001b[39mgoogle-search\u001b[39m\u001b[39m\"\u001b[39m,  \u001b[39m\"\u001b[39m\u001b[39mwikipedia\u001b[39m\u001b[39m\"\u001b[39m, \u001b[39m\"\u001b[39m\u001b[39mllm-math\u001b[39m\u001b[39m\"\u001b[39m], llm\u001b[39m=\u001b[39mllm, callbacks\u001b[39m=\u001b[39mcallbacks)\n\u001b[0;32m----> <a href='vscode-notebook-cell:/Users/julienmiquel/dev/github-genAI/genAI/langchain/langchain-google-tools.ipynb#X24sZmlsZQ%3D%3D?line=3'>4</a>\u001b[0m tools \u001b[39m=\u001b[39m [places]\u001b[39m+\u001b[39mtools_std\n\u001b[1;32m      <a href='vscode-notebook-cell:/Users/julienmiquel/dev/github-genAI/genAI/langchain/langchain-google-tools.ipynb#X24sZmlsZQ%3D%3D?line=6'>7</a>\u001b[0m agent \u001b[39m=\u001b[39m initialize_agent(\n\u001b[1;32m      <a href='vscode-notebook-cell:/Users/julienmiquel/dev/github-genAI/genAI/langchain/langchain-google-tools.ipynb#X24sZmlsZQ%3D%3D?line=7'>8</a>\u001b[0m     tools,\n\u001b[1;32m      <a href='vscode-notebook-cell:/Users/julienmiquel/dev/github-genAI/genAI/langchain/langchain-google-tools.ipynb#X24sZmlsZQ%3D%3D?line=8'>9</a>\u001b[0m     llm,\n\u001b[1;32m     <a href='vscode-notebook-cell:/Users/julienmiquel/dev/github-genAI/genAI/langchain/langchain-google-tools.ipynb#X24sZmlsZQ%3D%3D?line=9'>10</a>\u001b[0m     agent\u001b[39m=\u001b[39mAgentType\u001b[39m.\u001b[39mZERO_SHOT_REACT_DESCRIPTION,\n\u001b[1;32m     <a href='vscode-notebook-cell:/Users/julienmiquel/dev/github-genAI/genAI/langchain/langchain-google-tools.ipynb#X24sZmlsZQ%3D%3D?line=10'>11</a>\u001b[0m     callbacks\u001b[39m=\u001b[39mcallbacks,\n\u001b[1;32m     <a href='vscode-notebook-cell:/Users/julienmiquel/dev/github-genAI/genAI/langchain/langchain-google-tools.ipynb#X24sZmlsZQ%3D%3D?line=11'>12</a>\u001b[0m )\n\u001b[1;32m     <a href='vscode-notebook-cell:/Users/julienmiquel/dev/github-genAI/genAI/langchain/langchain-google-tools.ipynb#X24sZmlsZQ%3D%3D?line=12'>13</a>\u001b[0m agent\u001b[39m.\u001b[39mrun(\n\u001b[1;32m     <a href='vscode-notebook-cell:/Users/julienmiquel/dev/github-genAI/genAI/langchain/langchain-google-tools.ipynb#X24sZmlsZQ%3D%3D?line=13'>14</a>\u001b[0m    \u001b[39m# \"What is the more expensive restaurant in the birth place of Zinedine zidane ? \"\u001b[39;00m\n\u001b[1;32m     <a href='vscode-notebook-cell:/Users/julienmiquel/dev/github-genAI/genAI/langchain/langchain-google-tools.ipynb#X24sZmlsZQ%3D%3D?line=14'>15</a>\u001b[0m    \u001b[39m\"\u001b[39m\u001b[39mJ’aimerais réserver un bureau jeudi prochain et une salle de réunion dans 3 jours \u001b[39m\u001b[39m\"\u001b[39m\n\u001b[1;32m     <a href='vscode-notebook-cell:/Users/julienmiquel/dev/github-genAI/genAI/langchain/langchain-google-tools.ipynb#X24sZmlsZQ%3D%3D?line=15'>16</a>\u001b[0m )\n",
      "\u001b[0;31mNameError\u001b[0m: name 'places' is not defined"
     ]
    }
   ],
   "source": [
    "# scenario 2 - Agent with Tools\n",
    "tools_std = load_tools([\"google-search\",  \"wikipedia\", \"llm-math\"], llm=llm, callbacks=callbacks)\n",
    "\n",
    "tools = [places]+tools_std\n",
    "\n",
    "\n",
    "agent = initialize_agent(\n",
    "    tools,\n",
    "    llm,\n",
    "    agent=AgentType.ZERO_SHOT_REACT_DESCRIPTION,\n",
    "    callbacks=callbacks,\n",
    ")\n",
    "agent.run(\n",
    "   # \"What is the more expensive restaurant in the birth place of Zinedine zidane ? \"\n",
    "   \"J’aimerais réserver un bureau jeudi prochain et une salle de réunion dans 3 jours \"\n",
    ")\n",
    "aim_callback.flush_tracker(langchain_asset=agent, reset=False, finish=True)\n"
   ]
  },
  {
   "cell_type": "code",
   "execution_count": null,
   "id": "2bfd1573",
   "metadata": {},
   "outputs": [],
   "source": []
  }
 ],
 "metadata": {
  "accelerator": "GPU",
  "colab": {
   "provenance": []
  },
  "environment": {
   "kernel": "python3",
   "name": "common-cpu.m108",
   "type": "gcloud",
   "uri": "gcr.io/deeplearning-platform-release/base-cpu:m108"
  },
  "gpuClass": "standard",
  "kernelspec": {
   "display_name": "Python 3",
   "language": "python",
   "name": "python3"
  },
  "language_info": {
   "codemirror_mode": {
    "name": "ipython",
    "version": 3
   },
   "file_extension": ".py",
   "mimetype": "text/x-python",
   "name": "python",
   "nbconvert_exporter": "python",
   "pygments_lexer": "ipython3",
   "version": "3.10.8"
  }
 },
 "nbformat": 4,
 "nbformat_minor": 5
}
